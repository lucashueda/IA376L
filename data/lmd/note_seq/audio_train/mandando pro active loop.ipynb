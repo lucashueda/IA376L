{
 "cells": [
  {
   "cell_type": "code",
   "execution_count": 1,
   "id": "86c0186c",
   "metadata": {},
   "outputs": [],
   "source": [
    "import hub\n",
    "from tqdm import tqdm\n",
    "import os"
   ]
  },
  {
   "cell_type": "code",
   "execution_count": null,
   "id": "599dc060",
   "metadata": {},
   "outputs": [],
   "source": [
    "!activateloop begin"
   ]
  },
  {
   "cell_type": "code",
   "execution_count": 2,
   "id": "e926943d",
   "metadata": {},
   "outputs": [
    {
     "name": "stdout",
     "output_type": "stream",
     "text": [
      "Your Hub dataset has been successfully created!\n",
      "The dataset is private so make sure you are logged in!\n",
      "This dataset can be visualized in Jupyter Notebook by ds.visualize() or at https://app.activeloop.ai/lucashueda/lmd_processed\n"
     ]
    }
   ],
   "source": [
    "# Create local dataset\n",
    "# ds = hub.empty('./lmd_processed') # Creates the dataset\n",
    "ds = hub.empty('hub://lucashueda/lmd_processed')"
   ]
  },
  {
   "cell_type": "code",
   "execution_count": 3,
   "id": "4c1e90a0",
   "metadata": {},
   "outputs": [],
   "source": [
    "filenames = []\n",
    "\n",
    "for folder in os.listdir('wav_16khz'):\n",
    "    for file in os.listdir('wav_16khz/' + folder):\n",
    "        filenames.append('wav_16khz/' + folder + '/' + file)"
   ]
  },
  {
   "cell_type": "code",
   "execution_count": 4,
   "id": "fe518bdd",
   "metadata": {},
   "outputs": [
    {
     "data": {
      "text/plain": [
       "239040"
      ]
     },
     "execution_count": 4,
     "metadata": {},
     "output_type": "execute_result"
    }
   ],
   "source": [
    "len(filenames)"
   ]
  },
  {
   "cell_type": "code",
   "execution_count": null,
   "id": "8454106e",
   "metadata": {},
   "outputs": [],
   "source": [
    "# Check sanity (check if file exists and if it ends in .wav)\n",
    "for file in filenames:\n",
    "    if(not os.path.isfile(file)):\n",
    "        print('erro arquivo n existe')\n",
    "        break\n",
    "    if(file[-4:] != '.wav'):\n",
    "        print('erro, nao termina em .wav')\n",
    "        break"
   ]
  },
  {
   "cell_type": "code",
   "execution_count": 5,
   "id": "d652c25c",
   "metadata": {},
   "outputs": [],
   "source": [
    "with ds:\n",
    "  # Create the tensors with names of your choice.\n",
    "    ds.create_tensor('audio', htype = 'audio', sample_compression = 'wav')\n",
    "#     ds.create_tensor('audio', htype = 'audio', sample_compression = 'wav')\n",
    "    \n",
    "#     images = ds.create_tensor(\"images\", htype=\"image\", sample_compression=\"jpg\")\n",
    "    \n",
    "  # Add arbitrary metadata - Optional\n",
    "    ds.info.update(description = 'Processed LMD dataset in wav format')"
   ]
  },
  {
   "cell_type": "code",
   "execution_count": 6,
   "id": "8e80aced",
   "metadata": {
    "scrolled": true
   },
   "outputs": [
    {
     "name": "stderr",
     "output_type": "stream",
     "text": [
      "  0%|▏                                                                          | 668/239040 [00:15<1:15:30, 52.62it/s]"
     ]
    },
    {
     "name": "stdout",
     "output_type": "stream",
     "text": [
      "Cannot check for SPDIF\n",
      "Cannot check for SPDIF\n",
      "Cannot check for SPDIF\n",
      "Cannot check for SPDIF\n"
     ]
    },
    {
     "name": "stderr",
     "output_type": "stream",
     "text": [
      "  0%|▏                                                                         | 751/239040 [01:02<37:00:23,  1.79it/s]"
     ]
    },
    {
     "name": "stdout",
     "output_type": "stream",
     "text": [
      "Cannot check for SPDIF\n",
      "Cannot check for SPDIF\n",
      "Cannot check for SPDIF\n",
      "Cannot check for SPDIF\n"
     ]
    },
    {
     "name": "stderr",
     "output_type": "stream",
     "text": [
      "  1%|▍                                                                         | 1472/239040 [10:20<2:54:01, 22.75it/s]"
     ]
    },
    {
     "name": "stdout",
     "output_type": "stream",
     "text": [
      "Cannot check for SPDIF\n",
      "Cannot check for SPDIF\n",
      "Cannot check for SPDIF\n",
      "Cannot check for SPDIF\n"
     ]
    },
    {
     "name": "stderr",
     "output_type": "stream",
     "text": [
      "  1%|▍                                                                         | 1563/239040 [10:27<2:46:05, 23.83it/s]"
     ]
    },
    {
     "name": "stdout",
     "output_type": "stream",
     "text": [
      "Cannot check for SPDIF\n",
      "Cannot check for SPDIF\n",
      "Cannot check for SPDIF\n",
      "Cannot check for SPDIF\n"
     ]
    },
    {
     "name": "stderr",
     "output_type": "stream",
     "text": [
      "  1%|▋                                                                         | 2128/239040 [11:07<7:39:41,  8.59it/s]"
     ]
    },
    {
     "name": "stdout",
     "output_type": "stream",
     "text": [
      "Cannot check for SPDIF\n",
      "Cannot check for SPDIF\n",
      "Cannot check for SPDIF\n",
      "Cannot check for SPDIF\n"
     ]
    },
    {
     "name": "stderr",
     "output_type": "stream",
     "text": [
      "  1%|▋                                                                         | 2324/239040 [11:18<2:27:10, 26.81it/s]"
     ]
    },
    {
     "name": "stdout",
     "output_type": "stream",
     "text": [
      "Cannot check for SPDIF\n",
      "Cannot check for SPDIF\n",
      "Cannot check for SPDIF\n",
      "Cannot check for SPDIF\n"
     ]
    },
    {
     "name": "stderr",
     "output_type": "stream",
     "text": [
      "  1%|▋                                                                         | 2391/239040 [11:25<5:08:22, 12.79it/s]"
     ]
    },
    {
     "name": "stdout",
     "output_type": "stream",
     "text": [
      "Cannot check for SPDIF\n",
      "Cannot check for SPDIF\n",
      "Cannot check for SPDIF\n",
      "Cannot check for SPDIF\n"
     ]
    },
    {
     "name": "stderr",
     "output_type": "stream",
     "text": [
      "  1%|▊                                                                         | 2720/239040 [11:48<2:06:50, 31.05it/s]"
     ]
    },
    {
     "name": "stdout",
     "output_type": "stream",
     "text": [
      "Cannot check for SPDIF\n",
      "Cannot check for SPDIF\n"
     ]
    },
    {
     "name": "stderr",
     "output_type": "stream",
     "text": [
      "\r",
      "  1%|▊                                                                        | 2725/239040 [11:51<11:59:24,  5.47it/s]"
     ]
    },
    {
     "name": "stdout",
     "output_type": "stream",
     "text": [
      "Cannot check for SPDIF\n",
      "Cannot check for SPDIF\n"
     ]
    },
    {
     "name": "stderr",
     "output_type": "stream",
     "text": [
      "  1%|▉                                                                         | 2966/239040 [12:10<2:46:48, 23.59it/s]"
     ]
    },
    {
     "name": "stdout",
     "output_type": "stream",
     "text": [
      "Cannot check for SPDIF\n",
      "Cannot check for SPDIF\n",
      "Cannot check for SPDIF\n",
      "Cannot check for SPDIF\n"
     ]
    },
    {
     "name": "stderr",
     "output_type": "stream",
     "text": [
      "  1%|█                                                                         | 3322/239040 [12:38<9:49:43,  6.66it/s]"
     ]
    },
    {
     "name": "stdout",
     "output_type": "stream",
     "text": [
      "Cannot check for SPDIF\n",
      "Cannot check for SPDIF\n",
      "Cannot check for SPDIF\n",
      "Cannot check for SPDIF\n"
     ]
    },
    {
     "name": "stderr",
     "output_type": "stream",
     "text": [
      "  1%|█                                                                         | 3554/239040 [12:55<5:13:26, 12.52it/s]"
     ]
    },
    {
     "name": "stdout",
     "output_type": "stream",
     "text": [
      "Cannot check for SPDIF\n",
      "Cannot check for SPDIF\n",
      "Cannot check for SPDIF\n",
      "Cannot check for SPDIF\n"
     ]
    },
    {
     "name": "stderr",
     "output_type": "stream",
     "text": [
      "  1%|█                                                                         | 3577/239040 [12:56<2:23:01, 27.44it/s]"
     ]
    },
    {
     "name": "stdout",
     "output_type": "stream",
     "text": [
      "Cannot check for SPDIF\n",
      "Cannot check for SPDIF\n",
      "Cannot check for SPDIF\n",
      "Cannot check for SPDIF\n"
     ]
    },
    {
     "name": "stderr",
     "output_type": "stream",
     "text": [
      "  2%|█                                                                         | 3586/239040 [12:58<7:44:14,  8.45it/s]"
     ]
    },
    {
     "name": "stdout",
     "output_type": "stream",
     "text": [
      "Cannot check for SPDIF\n",
      "Cannot check for SPDIF\n",
      "Cannot check for SPDIF\n",
      "Cannot check for SPDIF\n"
     ]
    },
    {
     "name": "stderr",
     "output_type": "stream",
     "text": [
      "  2%|█▏                                                                        | 4035/239040 [13:31<2:37:28, 24.87it/s]"
     ]
    },
    {
     "name": "stdout",
     "output_type": "stream",
     "text": [
      "Cannot check for SPDIF\n",
      "Cannot check for SPDIF\n",
      "Cannot check for SPDIF\n",
      "Cannot check for SPDIF\n"
     ]
    },
    {
     "name": "stderr",
     "output_type": "stream",
     "text": [
      "  2%|█▎                                                                       | 4176/239040 [13:46<12:37:26,  5.17it/s]"
     ]
    },
    {
     "name": "stdout",
     "output_type": "stream",
     "text": [
      "Cannot check for SPDIF\n",
      "Cannot check for SPDIF\n",
      "Cannot check for SPDIF\n",
      "Cannot check for SPDIF\n"
     ]
    },
    {
     "name": "stderr",
     "output_type": "stream",
     "text": [
      "  2%|█▎                                                                       | 4471/239040 [14:12<13:44:34,  4.74it/s]"
     ]
    },
    {
     "name": "stdout",
     "output_type": "stream",
     "text": [
      "Cannot check for SPDIF\n",
      "Cannot check for SPDIF\n",
      "Cannot check for SPDIF\n",
      "Cannot check for SPDIF\n"
     ]
    },
    {
     "name": "stderr",
     "output_type": "stream",
     "text": [
      "  2%|█▍                                                                        | 4524/239040 [14:16<7:01:39,  9.27it/s]"
     ]
    },
    {
     "name": "stdout",
     "output_type": "stream",
     "text": [
      "Cannot check for SPDIF\n",
      "Cannot check for SPDIF\n",
      "Cannot check for SPDIF\n",
      "Cannot check for SPDIF\n"
     ]
    },
    {
     "name": "stderr",
     "output_type": "stream",
     "text": [
      "  2%|█▍                                                                       | 4688/239040 [14:32<14:35:04,  4.46it/s]"
     ]
    },
    {
     "name": "stdout",
     "output_type": "stream",
     "text": [
      "Cannot check for SPDIF\n",
      "Cannot check for SPDIF\n",
      "Cannot check for SPDIF\n",
      "Cannot check for SPDIF\n"
     ]
    },
    {
     "name": "stderr",
     "output_type": "stream",
     "text": [
      "  2%|█▍                                                                        | 4813/239040 [14:41<2:37:44, 24.75it/s]"
     ]
    },
    {
     "name": "stdout",
     "output_type": "stream",
     "text": [
      "Cannot check for SPDIF\n",
      "Cannot check for SPDIF\n",
      "Cannot check for SPDIF\n",
      "Cannot check for SPDIF\n"
     ]
    },
    {
     "name": "stderr",
     "output_type": "stream",
     "text": [
      "  2%|█▌                                                                        | 5093/239040 [15:10<4:11:36, 15.50it/s]"
     ]
    },
    {
     "name": "stdout",
     "output_type": "stream",
     "text": [
      "Cannot check for SPDIF\n",
      "Cannot check for SPDIF\n"
     ]
    },
    {
     "name": "stderr",
     "output_type": "stream",
     "text": [
      "\r",
      "  2%|█▌                                                                        | 5097/239040 [15:10<3:29:54, 18.57it/s]"
     ]
    },
    {
     "name": "stdout",
     "output_type": "stream",
     "text": [
      "Cannot check for SPDIF\n",
      "Cannot check for SPDIF\n"
     ]
    },
    {
     "name": "stderr",
     "output_type": "stream",
     "text": [
      "  2%|█▌                                                                        | 5106/239040 [15:10<2:30:14, 25.95it/s]"
     ]
    },
    {
     "name": "stdout",
     "output_type": "stream",
     "text": [
      "Cannot check for SPDIF\n",
      "Cannot check for SPDIF\n",
      "Cannot check for SPDIF\n",
      "Cannot check for SPDIF\n"
     ]
    },
    {
     "name": "stderr",
     "output_type": "stream",
     "text": [
      "  2%|█▌                                                                        | 5130/239040 [15:14<8:03:23,  8.06it/s]"
     ]
    },
    {
     "name": "stdout",
     "output_type": "stream",
     "text": [
      "Cannot check for SPDIF\n",
      "Cannot check for SPDIF\n"
     ]
    },
    {
     "name": "stderr",
     "output_type": "stream",
     "text": [
      "  2%|█▌                                                                        | 5151/239040 [15:14<2:50:43, 22.83it/s]"
     ]
    },
    {
     "name": "stdout",
     "output_type": "stream",
     "text": [
      "Cannot check for SPDIF\n",
      "Cannot check for SPDIF\n",
      "Cannot check for SPDIF\n",
      "Cannot check for SPDIF\n"
     ]
    },
    {
     "name": "stderr",
     "output_type": "stream",
     "text": [
      "  2%|█▊                                                                       | 5936/239040 [22:35<69:15:03,  1.07s/it]"
     ]
    },
    {
     "name": "stdout",
     "output_type": "stream",
     "text": [
      "Cannot check for SPDIF\n",
      "Cannot check for SPDIF\n",
      "Cannot check for SPDIF\n",
      "Cannot check for SPDIF\n"
     ]
    },
    {
     "name": "stderr",
     "output_type": "stream",
     "text": [
      "  3%|█▊                                                                       | 6024/239040 [24:03<69:16:54,  1.07s/it]"
     ]
    },
    {
     "name": "stdout",
     "output_type": "stream",
     "text": [
      "Cannot check for SPDIF\n",
      "Cannot check for SPDIF\n"
     ]
    },
    {
     "name": "stderr",
     "output_type": "stream",
     "text": [
      "\r",
      "  3%|█▊                                                                       | 6027/239040 [24:03<49:06:43,  1.32it/s]"
     ]
    },
    {
     "name": "stdout",
     "output_type": "stream",
     "text": [
      "Cannot check for SPDIF\n",
      "Cannot check for SPDIF\n"
     ]
    },
    {
     "name": "stderr",
     "output_type": "stream",
     "text": [
      "  3%|█▉                                                                        | 6302/239040 [26:31<3:07:06, 20.73it/s]"
     ]
    },
    {
     "name": "stdout",
     "output_type": "stream",
     "text": [
      "Cannot check for SPDIF\n",
      "Cannot check for SPDIF\n",
      "Cannot check for SPDIF\n",
      "Cannot check for SPDIF\n"
     ]
    },
    {
     "name": "stderr",
     "output_type": "stream",
     "text": [
      "  3%|██                                                                        | 6710/239040 [27:06<5:39:38, 11.40it/s]"
     ]
    },
    {
     "name": "stdout",
     "output_type": "stream",
     "text": [
      "Cannot check for SPDIF\n",
      "Cannot check for SPDIF\n",
      "Cannot check for SPDIF\n",
      "Cannot check for SPDIF\n"
     ]
    },
    {
     "name": "stderr",
     "output_type": "stream",
     "text": [
      "  3%|██▏                                                                       | 6897/239040 [27:22<3:20:41, 19.28it/s]"
     ]
    },
    {
     "name": "stdout",
     "output_type": "stream",
     "text": [
      "Cannot check for SPDIF\n",
      "Cannot check for SPDIF\n",
      "Cannot check for SPDIF\n",
      "Cannot check for SPDIF\n"
     ]
    },
    {
     "name": "stderr",
     "output_type": "stream",
     "text": [
      "  3%|██                                                                       | 6955/239040 [27:30<11:48:28,  5.46it/s]"
     ]
    },
    {
     "name": "stdout",
     "output_type": "stream",
     "text": [
      "Cannot check for SPDIF\n",
      "Cannot check for SPDIF\n",
      "Cannot check for SPDIF\n",
      "Cannot check for SPDIF\n"
     ]
    },
    {
     "name": "stderr",
     "output_type": "stream",
     "text": [
      "  3%|██▏                                                                       | 7091/239040 [27:43<6:57:19,  9.26it/s]"
     ]
    },
    {
     "name": "stdout",
     "output_type": "stream",
     "text": [
      "Cannot check for SPDIF\n",
      "Cannot check for SPDIF\n"
     ]
    },
    {
     "name": "stderr",
     "output_type": "stream",
     "text": [
      "\r",
      "  3%|██▏                                                                       | 7095/239040 [27:43<5:21:39, 12.02it/s]"
     ]
    },
    {
     "name": "stdout",
     "output_type": "stream",
     "text": [
      "Cannot check for SPDIF\n",
      "Cannot check for SPDIF\n"
     ]
    },
    {
     "name": "stderr",
     "output_type": "stream",
     "text": [
      "  3%|██▎                                                                       | 7435/239040 [28:19<5:19:57, 12.06it/s]"
     ]
    },
    {
     "name": "stdout",
     "output_type": "stream",
     "text": [
      "Cannot check for SPDIF\n",
      "Cannot check for SPDIF\n",
      "Cannot check for SPDIF\n",
      "Cannot check for SPDIF\n"
     ]
    },
    {
     "name": "stderr",
     "output_type": "stream",
     "text": [
      "  3%|██▍                                                                       | 7748/239040 [28:46<3:14:41, 19.80it/s]"
     ]
    },
    {
     "name": "stdout",
     "output_type": "stream",
     "text": [
      "Cannot check for SPDIF\n",
      "Cannot check for SPDIF\n"
     ]
    },
    {
     "name": "stderr",
     "output_type": "stream",
     "text": [
      "\r",
      "  3%|██▍                                                                       | 7753/239040 [28:46<2:27:22, 26.16it/s]"
     ]
    },
    {
     "name": "stdout",
     "output_type": "stream",
     "text": [
      "Cannot check for SPDIF\n",
      "Cannot check for SPDIF\n"
     ]
    },
    {
     "name": "stderr",
     "output_type": "stream",
     "text": [
      "  4%|██▌                                                                       | 8391/239040 [29:45<3:08:25, 20.40it/s]"
     ]
    },
    {
     "name": "stdout",
     "output_type": "stream",
     "text": [
      "Cannot check for SPDIF\n",
      "Cannot check for SPDIF\n",
      "Cannot check for SPDIF\n",
      "Cannot check for SPDIF\n"
     ]
    },
    {
     "name": "stderr",
     "output_type": "stream",
     "text": [
      "  4%|██▋                                                                       | 8674/239040 [30:13<9:37:54,  6.64it/s]"
     ]
    },
    {
     "name": "stdout",
     "output_type": "stream",
     "text": [
      "Cannot check for SPDIF\n",
      "Cannot check for SPDIF\n",
      "Cannot check for SPDIF\n",
      "Cannot check for SPDIF\n"
     ]
    },
    {
     "name": "stderr",
     "output_type": "stream",
     "text": [
      "  4%|██▊                                                                       | 9053/239040 [30:48<6:01:51, 10.59it/s]"
     ]
    },
    {
     "name": "stdout",
     "output_type": "stream",
     "text": [
      "Cannot check for SPDIF\n",
      "Cannot check for SPDIF\n",
      "Cannot check for SPDIF\n",
      "Cannot check for SPDIF\n"
     ]
    },
    {
     "name": "stderr",
     "output_type": "stream",
     "text": [
      "  4%|██▊                                                                       | 9091/239040 [30:51<9:47:17,  6.53it/s]"
     ]
    },
    {
     "name": "stdout",
     "output_type": "stream",
     "text": [
      "Cannot check for SPDIF\n",
      "Cannot check for SPDIF\n",
      "Cannot check for SPDIF\n",
      "Cannot check for SPDIF\n"
     ]
    },
    {
     "name": "stderr",
     "output_type": "stream",
     "text": [
      "  4%|██▊                                                                      | 9176/239040 [30:58<11:47:41,  5.41it/s]"
     ]
    },
    {
     "name": "stdout",
     "output_type": "stream",
     "text": [
      "Cannot check for SPDIF\n",
      "Cannot check for SPDIF\n",
      "Cannot check for SPDIF\n",
      "Cannot check for SPDIF\n"
     ]
    },
    {
     "name": "stderr",
     "output_type": "stream",
     "text": [
      "  4%|███                                                                     | 10003/239040 [32:51<24:50:19,  2.56it/s]"
     ]
    },
    {
     "name": "stdout",
     "output_type": "stream",
     "text": [
      "Cannot check for SPDIF\n",
      "Cannot check for SPDIF\n",
      "Cannot check for SPDIF\n",
      "Cannot check for SPDIF\n"
     ]
    },
    {
     "name": "stderr",
     "output_type": "stream",
     "text": [
      "  4%|███                                                                     | 10264/239040 [37:10<23:13:05,  2.74it/s]"
     ]
    },
    {
     "name": "stdout",
     "output_type": "stream",
     "text": [
      "Cannot check for SPDIF\n",
      "Cannot check for SPDIF\n"
     ]
    },
    {
     "name": "stderr",
     "output_type": "stream",
     "text": [
      "\r",
      "  4%|███                                                                     | 10267/239040 [37:10<17:24:48,  3.65it/s]"
     ]
    },
    {
     "name": "stdout",
     "output_type": "stream",
     "text": [
      "Cannot check for SPDIF\n",
      "Cannot check for SPDIF\n"
     ]
    },
    {
     "name": "stderr",
     "output_type": "stream",
     "text": [
      "  4%|███▏                                                                     | 10278/239040 [37:10<7:05:46,  8.95it/s]"
     ]
    },
    {
     "name": "stdout",
     "output_type": "stream",
     "text": [
      "Cannot check for SPDIF\n",
      "Cannot check for SPDIF\n",
      "Cannot check for SPDIF\n",
      "Cannot check for SPDIF\n"
     ]
    },
    {
     "name": "stderr",
     "output_type": "stream",
     "text": [
      "  4%|███▏                                                                    | 10610/239040 [42:57<13:36:32,  4.66it/s]"
     ]
    },
    {
     "name": "stdout",
     "output_type": "stream",
     "text": [
      "Cannot check for SPDIF\n",
      "Cannot check for SPDIF\n",
      "Cannot check for SPDIF\n",
      "Cannot check for SPDIF\n"
     ]
    },
    {
     "name": "stderr",
     "output_type": "stream",
     "text": [
      "  4%|███▎                                                                     | 10699/239040 [44:24<9:34:15,  6.63it/s]"
     ]
    },
    {
     "name": "stdout",
     "output_type": "stream",
     "text": [
      "Cannot check for SPDIF\n",
      "Cannot check for SPDIF\n",
      "Cannot check for SPDIF\n",
      "Cannot check for SPDIF\n"
     ]
    },
    {
     "name": "stderr",
     "output_type": "stream",
     "text": [
      "  5%|███▏                                                                   | 10801/239040 [46:31<122:07:44,  1.93s/it]"
     ]
    },
    {
     "name": "stdout",
     "output_type": "stream",
     "text": [
      "Cannot check for SPDIF\n",
      "Cannot check for SPDIF\n",
      "Cannot check for SPDIF\n",
      "Cannot check for SPDIF\n"
     ]
    },
    {
     "name": "stderr",
     "output_type": "stream",
     "text": [
      "  5%|███▎                                                                     | 10962/239040 [48:43<5:07:26, 12.36it/s]"
     ]
    },
    {
     "name": "stdout",
     "output_type": "stream",
     "text": [
      "Cannot check for SPDIF\n",
      "Cannot check for SPDIF\n",
      "Cannot check for SPDIF\n",
      "Cannot check for SPDIF\n"
     ]
    },
    {
     "name": "stderr",
     "output_type": "stream",
     "text": [
      "  5%|███▌                                                                    | 11731/239040 [53:27<10:07:34,  6.24it/s]"
     ]
    },
    {
     "name": "stdout",
     "output_type": "stream",
     "text": [
      "Cannot check for SPDIF\n",
      "Cannot check for SPDIF\n",
      "Cannot check for SPDIF\n",
      "Cannot check for SPDIF\n"
     ]
    },
    {
     "name": "stderr",
     "output_type": "stream",
     "text": [
      "  5%|███▊                                                                     | 12414/239040 [54:36<6:40:17,  9.44it/s]"
     ]
    },
    {
     "name": "stdout",
     "output_type": "stream",
     "text": [
      "Cannot check for SPDIF\n",
      "Cannot check for SPDIF\n"
     ]
    },
    {
     "name": "stderr",
     "output_type": "stream",
     "text": [
      "\r",
      "  5%|███▊                                                                     | 12417/239040 [54:36<6:08:27, 10.25it/s]"
     ]
    },
    {
     "name": "stdout",
     "output_type": "stream",
     "text": [
      "Cannot check for SPDIF\n",
      "Cannot check for SPDIF\n"
     ]
    },
    {
     "name": "stderr",
     "output_type": "stream",
     "text": [
      "\r",
      "  5%|███▊                                                                     | 12421/239040 [54:36<4:49:35, 13.04it/s]"
     ]
    },
    {
     "name": "stdout",
     "output_type": "stream",
     "text": [
      "Cannot check for SPDIF\n",
      "Cannot check for SPDIF\n",
      "Cannot check for SPDIF\n",
      "Cannot check for SPDIF\n"
     ]
    },
    {
     "name": "stderr",
     "output_type": "stream",
     "text": [
      "  5%|███▊                                                                     | 12519/239040 [54:45<3:40:43, 17.10it/s]"
     ]
    },
    {
     "name": "stdout",
     "output_type": "stream",
     "text": [
      "Cannot check for SPDIF\n",
      "Cannot check for SPDIF\n",
      "Cannot check for SPDIF\n",
      "Cannot check for SPDIF\n"
     ]
    },
    {
     "name": "stderr",
     "output_type": "stream",
     "text": [
      "  5%|███▉                                                                     | 12808/239040 [55:14<4:02:33, 15.54it/s]"
     ]
    },
    {
     "name": "stdout",
     "output_type": "stream",
     "text": [
      "Cannot check for SPDIF\n",
      "Cannot check for SPDIF\n",
      "Cannot check for SPDIF\n",
      "Cannot check for SPDIF\n"
     ]
    },
    {
     "name": "stderr",
     "output_type": "stream",
     "text": [
      "  5%|███▉                                                                     | 12830/239040 [55:15<3:13:27, 19.49it/s]"
     ]
    },
    {
     "name": "stdout",
     "output_type": "stream",
     "text": [
      "Cannot check for SPDIF\n",
      "Cannot check for SPDIF\n",
      "Cannot check for SPDIF\n",
      "Cannot check for SPDIF\n"
     ]
    },
    {
     "name": "stderr",
     "output_type": "stream",
     "text": [
      "  6%|███▉                                                                    | 13221/239040 [55:54<11:07:15,  5.64it/s]"
     ]
    },
    {
     "name": "stdout",
     "output_type": "stream",
     "text": [
      "Cannot check for SPDIF\n",
      "Cannot check for SPDIF\n",
      "Cannot check for SPDIF\n",
      "Cannot check for SPDIF\n"
     ]
    },
    {
     "name": "stderr",
     "output_type": "stream",
     "text": [
      "  6%|████                                                                     | 13237/239040 [55:54<4:05:37, 15.32it/s]"
     ]
    },
    {
     "name": "stdout",
     "output_type": "stream",
     "text": [
      "Cannot check for SPDIF\n",
      "Cannot check for SPDIF\n",
      "Cannot check for SPDIF\n",
      "Cannot check for SPDIF\n"
     ]
    },
    {
     "name": "stderr",
     "output_type": "stream",
     "text": [
      "  6%|███▉                                                                    | 13266/239040 [55:58<14:09:00,  4.43it/s]"
     ]
    },
    {
     "name": "stdout",
     "output_type": "stream",
     "text": [
      "Cannot check for SPDIF\n",
      "Cannot check for SPDIF\n",
      "Cannot check for SPDIF\n",
      "Cannot check for SPDIF\n"
     ]
    },
    {
     "name": "stderr",
     "output_type": "stream",
     "text": [
      "  6%|████▎                                                                    | 14003/239040 [57:12<4:55:10, 12.71it/s]"
     ]
    },
    {
     "name": "stdout",
     "output_type": "stream",
     "text": [
      "Cannot check for SPDIF\n",
      "Cannot check for SPDIF\n"
     ]
    },
    {
     "name": "stderr",
     "output_type": "stream",
     "text": [
      "\r",
      "  6%|████▎                                                                    | 14007/239040 [57:12<3:46:45, 16.54it/s]"
     ]
    },
    {
     "name": "stdout",
     "output_type": "stream",
     "text": [
      "Cannot check for SPDIF\n",
      "Cannot check for SPDIF\n"
     ]
    },
    {
     "name": "stderr",
     "output_type": "stream",
     "text": [
      "  6%|████▎                                                                    | 14108/239040 [57:22<3:17:59, 18.93it/s]"
     ]
    },
    {
     "name": "stdout",
     "output_type": "stream",
     "text": [
      "Cannot check for SPDIF\n",
      "Cannot check for SPDIF\n"
     ]
    },
    {
     "name": "stderr",
     "output_type": "stream",
     "text": [
      "\r",
      "  6%|████▎                                                                    | 14111/239040 [57:22<3:03:00, 20.48it/s]"
     ]
    },
    {
     "name": "stdout",
     "output_type": "stream",
     "text": [
      "Cannot check for SPDIF\n",
      "Cannot check for SPDIF\n"
     ]
    },
    {
     "name": "stderr",
     "output_type": "stream",
     "text": [
      "  6%|████▎                                                                   | 14160/239040 [57:30<21:12:05,  2.95it/s]"
     ]
    },
    {
     "name": "stdout",
     "output_type": "stream",
     "text": [
      "Cannot check for SPDIF\n",
      "Cannot check for SPDIF\n",
      "Cannot check for SPDIF\n",
      "Cannot check for SPDIF\n"
     ]
    },
    {
     "name": "stderr",
     "output_type": "stream",
     "text": [
      "  6%|████▎                                                                    | 14304/239040 [57:43<6:33:04,  9.53it/s]"
     ]
    },
    {
     "name": "stdout",
     "output_type": "stream",
     "text": [
      "Cannot check for SPDIF\n",
      "Cannot check for SPDIF\n",
      "Cannot check for SPDIF\n",
      "Cannot check for SPDIF\n"
     ]
    },
    {
     "name": "stderr",
     "output_type": "stream",
     "text": [
      "  6%|████▍                                                                    | 14441/239040 [57:58<4:22:41, 14.25it/s]"
     ]
    },
    {
     "name": "stdout",
     "output_type": "stream",
     "text": [
      "Cannot check for SPDIF\n",
      "Cannot check for SPDIF\n",
      "Cannot check for SPDIF\n",
      "Cannot check for SPDIF\n"
     ]
    },
    {
     "name": "stderr",
     "output_type": "stream",
     "text": [
      "  6%|████▌                                                                    | 15013/239040 [59:03<3:14:58, 19.15it/s]"
     ]
    },
    {
     "name": "stdout",
     "output_type": "stream",
     "text": [
      "Cannot check for SPDIF\n",
      "Cannot check for SPDIF\n",
      "Cannot check for SPDIF\n",
      "Cannot check for SPDIF\n"
     ]
    },
    {
     "name": "stderr",
     "output_type": "stream",
     "text": [
      "  6%|████▌                                                                    | 15126/239040 [59:16<4:05:26, 15.20it/s]"
     ]
    },
    {
     "name": "stdout",
     "output_type": "stream",
     "text": [
      "Cannot check for SPDIF\n",
      "Cannot check for SPDIF\n"
     ]
    },
    {
     "name": "stderr",
     "output_type": "stream",
     "text": [
      "\r",
      "  6%|████▌                                                                    | 15129/239040 [59:17<3:44:06, 16.65it/s]"
     ]
    },
    {
     "name": "stdout",
     "output_type": "stream",
     "text": [
      "Cannot check for SPDIF\n",
      "Cannot check for SPDIF\n"
     ]
    },
    {
     "name": "stderr",
     "output_type": "stream",
     "text": [
      "  6%|████▋                                                                    | 15197/239040 [59:25<9:48:41,  6.34it/s]"
     ]
    },
    {
     "name": "stdout",
     "output_type": "stream",
     "text": [
      "Cannot check for SPDIF\n",
      "Cannot check for SPDIF\n",
      "Cannot check for SPDIF\n",
      "Cannot check for SPDIF\n"
     ]
    },
    {
     "name": "stderr",
     "output_type": "stream",
     "text": [
      "  6%|████▋                                                                    | 15313/239040 [59:35<2:16:39, 27.29it/s]"
     ]
    },
    {
     "name": "stdout",
     "output_type": "stream",
     "text": [
      "Cannot check for SPDIF\n",
      "Cannot check for SPDIF\n",
      "Cannot check for SPDIF\n",
      "Cannot check for SPDIF\n"
     ]
    },
    {
     "name": "stderr",
     "output_type": "stream",
     "text": [
      "  6%|████▋                                                                    | 15418/239040 [59:47<6:10:01, 10.07it/s]"
     ]
    },
    {
     "name": "stdout",
     "output_type": "stream",
     "text": [
      "Cannot check for SPDIF\n",
      "Cannot check for SPDIF\n",
      "Cannot check for SPDIF\n",
      "Cannot check for SPDIF\n"
     ]
    },
    {
     "name": "stderr",
     "output_type": "stream",
     "text": [
      "  6%|████▋                                                                    | 15458/239040 [59:51<8:48:16,  7.05it/s]"
     ]
    },
    {
     "name": "stdout",
     "output_type": "stream",
     "text": [
      "Cannot check for SPDIF\n",
      "Cannot check for SPDIF\n",
      "Cannot check for SPDIF\n",
      "Cannot check for SPDIF\n"
     ]
    },
    {
     "name": "stderr",
     "output_type": "stream",
     "text": [
      "  7%|████▋                                                                  | 15687/239040 [1:00:16<3:43:39, 16.64it/s]"
     ]
    },
    {
     "name": "stdout",
     "output_type": "stream",
     "text": [
      "Cannot check for SPDIF\n",
      "Cannot check for SPDIF\n",
      "Cannot check for SPDIF\n",
      "Cannot check for SPDIF\n"
     ]
    },
    {
     "name": "stderr",
     "output_type": "stream",
     "text": [
      "  7%|████▋                                                                  | 15824/239040 [1:00:30<2:52:39, 21.55it/s]"
     ]
    },
    {
     "name": "stdout",
     "output_type": "stream",
     "text": [
      "Cannot check for SPDIF\n",
      "Cannot check for SPDIF\n",
      "Cannot check for SPDIF\n",
      "Cannot check for SPDIF\n"
     ]
    },
    {
     "name": "stderr",
     "output_type": "stream",
     "text": [
      "  7%|████▋                                                                  | 15976/239040 [1:00:47<7:32:58,  8.21it/s]"
     ]
    },
    {
     "name": "stdout",
     "output_type": "stream",
     "text": [
      "Cannot check for SPDIF\n",
      "Cannot check for SPDIF\n",
      "Cannot check for SPDIF\n",
      "Cannot check for SPDIF\n"
     ]
    },
    {
     "name": "stderr",
     "output_type": "stream",
     "text": [
      "  7%|████▊                                                                  | 16077/239040 [1:00:57<3:55:35, 15.77it/s]"
     ]
    },
    {
     "name": "stdout",
     "output_type": "stream",
     "text": [
      "Cannot check for SPDIF\n",
      "Cannot check for SPDIF\n",
      "Cannot check for SPDIF\n",
      "Cannot check for SPDIF\n"
     ]
    },
    {
     "name": "stderr",
     "output_type": "stream",
     "text": [
      "  7%|████▊                                                                  | 16121/239040 [1:01:02<4:25:58, 13.97it/s]"
     ]
    },
    {
     "name": "stdout",
     "output_type": "stream",
     "text": [
      "Cannot check for SPDIF\n",
      "Cannot check for SPDIF\n",
      "Cannot check for SPDIF\n",
      "Cannot check for SPDIF\n"
     ]
    },
    {
     "name": "stderr",
     "output_type": "stream",
     "text": [
      "  7%|████▊                                                                  | 16297/239040 [1:01:20<2:27:58, 25.09it/s]"
     ]
    },
    {
     "name": "stdout",
     "output_type": "stream",
     "text": [
      "Cannot check for SPDIF\n",
      "Cannot check for SPDIF\n",
      "Cannot check for SPDIF\n",
      "Cannot check for SPDIF\n"
     ]
    },
    {
     "name": "stderr",
     "output_type": "stream",
     "text": [
      "  7%|████▊                                                                  | 16408/239040 [1:01:32<5:59:53, 10.31it/s]"
     ]
    },
    {
     "name": "stdout",
     "output_type": "stream",
     "text": [
      "Cannot check for SPDIF\n",
      "Cannot check for SPDIF\n",
      "Cannot check for SPDIF\n",
      "Cannot check for SPDIF\n"
     ]
    },
    {
     "name": "stderr",
     "output_type": "stream",
     "text": [
      "  7%|████▉                                                                  | 16754/239040 [1:02:09<4:06:23, 15.04it/s]"
     ]
    },
    {
     "name": "stdout",
     "output_type": "stream",
     "text": [
      "Cannot check for SPDIF\n",
      "Cannot check for SPDIF\n",
      "Cannot check for SPDIF\n",
      "Cannot check for SPDIF\n"
     ]
    },
    {
     "name": "stderr",
     "output_type": "stream",
     "text": [
      "  7%|█████                                                                  | 16841/239040 [1:02:19<4:44:20, 13.02it/s]"
     ]
    },
    {
     "name": "stdout",
     "output_type": "stream",
     "text": [
      "Cannot check for SPDIF\n",
      "Cannot check for SPDIF\n"
     ]
    },
    {
     "name": "stderr",
     "output_type": "stream",
     "text": [
      "\r",
      "  7%|█████                                                                  | 16845/239040 [1:02:19<3:37:31, 17.02it/s]"
     ]
    },
    {
     "name": "stdout",
     "output_type": "stream",
     "text": [
      "Cannot check for SPDIF\n",
      "Cannot check for SPDIF\n"
     ]
    },
    {
     "name": "stderr",
     "output_type": "stream",
     "text": [
      "  7%|█████                                                                  | 17021/239040 [1:02:36<3:11:36, 19.31it/s]"
     ]
    },
    {
     "name": "stdout",
     "output_type": "stream",
     "text": [
      "Cannot check for SPDIF\n",
      "Cannot check for SPDIF\n",
      "Cannot check for SPDIF\n",
      "Cannot check for SPDIF\n"
     ]
    },
    {
     "name": "stderr",
     "output_type": "stream",
     "text": [
      "  7%|█████                                                                  | 17175/239040 [1:02:54<7:13:07,  8.54it/s]"
     ]
    },
    {
     "name": "stdout",
     "output_type": "stream",
     "text": [
      "Cannot check for SPDIF\n",
      "Cannot check for SPDIF\n"
     ]
    },
    {
     "name": "stderr",
     "output_type": "stream",
     "text": [
      "\r",
      "  7%|█████                                                                  | 17179/239040 [1:02:54<5:25:08, 11.37it/s]"
     ]
    },
    {
     "name": "stdout",
     "output_type": "stream",
     "text": [
      "Cannot check for SPDIF\n",
      "Cannot check for SPDIF\n"
     ]
    },
    {
     "name": "stderr",
     "output_type": "stream",
     "text": [
      "  7%|█████▏                                                                 | 17354/239040 [1:03:13<3:56:34, 15.62it/s]"
     ]
    },
    {
     "name": "stdout",
     "output_type": "stream",
     "text": [
      "Cannot check for SPDIF\n",
      "Cannot check for SPDIF\n",
      "Cannot check for SPDIF\n",
      "Cannot check for SPDIF\n"
     ]
    },
    {
     "name": "stderr",
     "output_type": "stream",
     "text": [
      "  7%|█████▏                                                                 | 17426/239040 [1:03:22<9:16:04,  6.64it/s]"
     ]
    },
    {
     "name": "stdout",
     "output_type": "stream",
     "text": [
      "Cannot check for SPDIF\n",
      "Cannot check for SPDIF\n"
     ]
    },
    {
     "name": "stderr",
     "output_type": "stream",
     "text": [
      "\r",
      "  7%|█████▏                                                                 | 17429/239040 [1:03:22<7:21:44,  8.36it/s]"
     ]
    },
    {
     "name": "stdout",
     "output_type": "stream",
     "text": [
      "Cannot check for SPDIF\n",
      "Cannot check for SPDIF\n"
     ]
    },
    {
     "name": "stderr",
     "output_type": "stream",
     "text": [
      "  7%|█████▏                                                                 | 17489/239040 [1:03:27<3:26:16, 17.90it/s]"
     ]
    },
    {
     "name": "stdout",
     "output_type": "stream",
     "text": [
      "Cannot check for SPDIF\n",
      "Cannot check for SPDIF\n",
      "Cannot check for SPDIF\n",
      "Cannot check for SPDIF\n"
     ]
    },
    {
     "name": "stderr",
     "output_type": "stream",
     "text": [
      "  7%|█████▎                                                                 | 17756/239040 [1:03:55<3:29:51, 17.57it/s]"
     ]
    },
    {
     "name": "stdout",
     "output_type": "stream",
     "text": [
      "Cannot check for SPDIF\n",
      "Cannot check for SPDIF\n",
      "Cannot check for SPDIF\n",
      "Cannot check for SPDIF\n"
     ]
    },
    {
     "name": "stderr",
     "output_type": "stream",
     "text": [
      "  8%|█████▍                                                                 | 18333/239040 [1:05:03<4:21:22, 14.07it/s]"
     ]
    },
    {
     "name": "stdout",
     "output_type": "stream",
     "text": [
      "Cannot check for SPDIF\n",
      "Cannot check for SPDIF\n",
      "Cannot check for SPDIF\n",
      "Cannot check for SPDIF\n"
     ]
    },
    {
     "name": "stderr",
     "output_type": "stream",
     "text": [
      "  8%|█████▍                                                                 | 18462/239040 [1:05:17<4:17:37, 14.27it/s]"
     ]
    },
    {
     "name": "stdout",
     "output_type": "stream",
     "text": [
      "Cannot check for SPDIF\n",
      "Cannot check for SPDIF\n",
      "Cannot check for SPDIF\n",
      "Cannot check for SPDIF\n"
     ]
    },
    {
     "name": "stderr",
     "output_type": "stream",
     "text": [
      "  8%|█████▍                                                                | 18581/239040 [1:05:32<12:31:30,  4.89it/s]"
     ]
    },
    {
     "name": "stdout",
     "output_type": "stream",
     "text": [
      "Cannot check for SPDIF\n",
      "Cannot check for SPDIF\n",
      "Cannot check for SPDIF\n",
      "Cannot check for SPDIF\n"
     ]
    },
    {
     "name": "stderr",
     "output_type": "stream",
     "text": [
      "  8%|█████▌                                                                 | 18655/239040 [1:05:37<2:39:22, 23.05it/s]"
     ]
    },
    {
     "name": "stdout",
     "output_type": "stream",
     "text": [
      "Cannot check for SPDIF\n",
      "Cannot check for SPDIF\n",
      "Cannot check for SPDIF\n",
      "Cannot check for SPDIF\n"
     ]
    },
    {
     "name": "stderr",
     "output_type": "stream",
     "text": [
      "  9%|██████▍                                                                | 21563/239040 [1:11:28<3:49:27, 15.80it/s]"
     ]
    },
    {
     "name": "stdout",
     "output_type": "stream",
     "text": [
      "Cannot check for SPDIF\n",
      "Cannot check for SPDIF\n"
     ]
    },
    {
     "name": "stderr",
     "output_type": "stream",
     "text": [
      "\r",
      "  9%|██████▍                                                                | 21567/239040 [1:11:28<3:00:27, 20.08it/s]"
     ]
    },
    {
     "name": "stdout",
     "output_type": "stream",
     "text": [
      "Cannot check for SPDIF\n",
      "Cannot check for SPDIF\n"
     ]
    },
    {
     "name": "stderr",
     "output_type": "stream",
     "text": [
      "  9%|██████▌                                                                | 21975/239040 [1:12:38<6:34:12,  9.18it/s]"
     ]
    },
    {
     "name": "stdout",
     "output_type": "stream",
     "text": [
      "Cannot check for SPDIF\n",
      "Cannot check for SPDIF\n",
      "Cannot check for SPDIF\n",
      "Cannot check for SPDIF\n"
     ]
    },
    {
     "name": "stderr",
     "output_type": "stream",
     "text": [
      "  9%|██████▍                                                               | 22136/239040 [1:13:06<12:57:02,  4.65it/s]"
     ]
    },
    {
     "name": "stdout",
     "output_type": "stream",
     "text": [
      "Cannot check for SPDIF\n",
      "Cannot check for SPDIF\n"
     ]
    },
    {
     "name": "stderr",
     "output_type": "stream",
     "text": [
      "\r",
      "  9%|██████▌                                                                | 22139/239040 [1:13:06<9:47:22,  6.15it/s]"
     ]
    },
    {
     "name": "stdout",
     "output_type": "stream",
     "text": [
      "Cannot check for SPDIF\n",
      "Cannot check for SPDIF\n"
     ]
    },
    {
     "name": "stderr",
     "output_type": "stream",
     "text": [
      "  9%|██████▌                                                               | 22303/239040 [1:13:32<19:12:34,  3.13it/s]"
     ]
    },
    {
     "name": "stdout",
     "output_type": "stream",
     "text": [
      "Cannot check for SPDIF\n",
      "Cannot check for SPDIF\n",
      "Cannot check for SPDIF\n",
      "Cannot check for SPDIF\n"
     ]
    },
    {
     "name": "stderr",
     "output_type": "stream",
     "text": [
      "  9%|██████▋                                                                | 22404/239040 [1:13:47<4:58:27, 12.10it/s]"
     ]
    },
    {
     "name": "stdout",
     "output_type": "stream",
     "text": [
      "Cannot check for SPDIF\n",
      "Cannot check for SPDIF\n",
      "Cannot check for SPDIF\n",
      "Cannot check for SPDIF\n"
     ]
    },
    {
     "name": "stderr",
     "output_type": "stream",
     "text": [
      "  9%|██████▋                                                                | 22598/239040 [1:14:16<3:33:23, 16.90it/s]"
     ]
    },
    {
     "name": "stdout",
     "output_type": "stream",
     "text": [
      "Cannot check for SPDIF\n",
      "Cannot check for SPDIF\n",
      "Cannot check for SPDIF\n",
      "Cannot check for SPDIF\n"
     ]
    },
    {
     "name": "stderr",
     "output_type": "stream",
     "text": [
      " 10%|██████▊                                                                | 22752/239040 [1:14:39<3:13:43, 18.61it/s]"
     ]
    },
    {
     "name": "stdout",
     "output_type": "stream",
     "text": [
      "Cannot check for SPDIF\n",
      "Cannot check for SPDIF\n",
      "Cannot check for SPDIF\n",
      "Cannot check for SPDIF\n"
     ]
    },
    {
     "name": "stderr",
     "output_type": "stream",
     "text": [
      " 10%|███████                                                                | 23635/239040 [1:16:27<4:27:12, 13.44it/s]"
     ]
    },
    {
     "name": "stdout",
     "output_type": "stream",
     "text": [
      "Cannot check for SPDIF\n",
      "Cannot check for SPDIF\n",
      "Cannot check for SPDIF\n",
      "Cannot check for SPDIF\n"
     ]
    },
    {
     "name": "stderr",
     "output_type": "stream",
     "text": [
      " 10%|███████                                                                | 23823/239040 [1:16:46<2:35:05, 23.13it/s]"
     ]
    },
    {
     "name": "stdout",
     "output_type": "stream",
     "text": [
      "Cannot check for SPDIF\n",
      "Cannot check for SPDIF\n",
      "Cannot check for SPDIF\n",
      "Cannot check for SPDIF\n"
     ]
    },
    {
     "name": "stderr",
     "output_type": "stream",
     "text": [
      " 10%|███████                                                                | 23948/239040 [1:16:58<3:15:49, 18.31it/s]"
     ]
    },
    {
     "name": "stdout",
     "output_type": "stream",
     "text": [
      "Cannot check for SPDIF\n",
      "Cannot check for SPDIF\n"
     ]
    },
    {
     "name": "stderr",
     "output_type": "stream",
     "text": [
      "\r",
      " 10%|███████                                                                | 23951/239040 [1:16:58<2:52:45, 20.75it/s]"
     ]
    },
    {
     "name": "stdout",
     "output_type": "stream",
     "text": [
      "Cannot check for SPDIF\n",
      "Cannot check for SPDIF\n"
     ]
    },
    {
     "name": "stderr",
     "output_type": "stream",
     "text": [
      " 10%|███████▏                                                               | 23999/239040 [1:17:02<2:48:30, 21.27it/s]"
     ]
    },
    {
     "name": "stdout",
     "output_type": "stream",
     "text": [
      "Cannot check for SPDIF\n",
      "Cannot check for SPDIF\n",
      "Cannot check for SPDIF\n",
      "Cannot check for SPDIF\n"
     ]
    },
    {
     "name": "stderr",
     "output_type": "stream",
     "text": [
      " 10%|███████▎                                                               | 24581/239040 [1:17:57<3:42:30, 16.06it/s]"
     ]
    },
    {
     "name": "stdout",
     "output_type": "stream",
     "text": [
      "Cannot check for SPDIF\n",
      "Cannot check for SPDIF\n",
      "Cannot check for SPDIF\n",
      "Cannot check for SPDIF\n"
     ]
    },
    {
     "name": "stderr",
     "output_type": "stream",
     "text": [
      " 10%|███████▏                                                              | 24649/239040 [1:18:06<15:03:43,  3.95it/s]"
     ]
    },
    {
     "name": "stdout",
     "output_type": "stream",
     "text": [
      "Cannot check for SPDIF\n",
      "Cannot check for SPDIF\n",
      "Cannot check for SPDIF\n",
      "Cannot check for SPDIF\n"
     ]
    },
    {
     "name": "stderr",
     "output_type": "stream",
     "text": [
      " 11%|███████▌                                                               | 25613/239040 [1:19:56<3:16:40, 18.09it/s]"
     ]
    },
    {
     "name": "stdout",
     "output_type": "stream",
     "text": [
      "Cannot check for SPDIF\n",
      "Cannot check for SPDIF\n",
      "Cannot check for SPDIF\n",
      "Cannot check for SPDIF\n"
     ]
    },
    {
     "name": "stderr",
     "output_type": "stream",
     "text": [
      "\r",
      " 11%|███████▌                                                               | 25617/239040 [1:19:56<2:49:41, 20.96it/s]"
     ]
    },
    {
     "name": "stdout",
     "output_type": "stream",
     "text": [
      "Cannot check for SPDIF\n",
      "Cannot check for SPDIF\n"
     ]
    },
    {
     "name": "stderr",
     "output_type": "stream",
     "text": [
      " 11%|███████▌                                                               | 25667/239040 [1:20:01<3:44:20, 15.85it/s]"
     ]
    },
    {
     "name": "stdout",
     "output_type": "stream",
     "text": [
      "Cannot check for SPDIF\n",
      "Cannot check for SPDIF\n",
      "Cannot check for SPDIF\n",
      "Cannot check for SPDIF\n"
     ]
    },
    {
     "name": "stderr",
     "output_type": "stream",
     "text": [
      " 11%|███████▌                                                              | 25933/239040 [1:20:35<11:00:13,  5.38it/s]"
     ]
    },
    {
     "name": "stdout",
     "output_type": "stream",
     "text": [
      "Cannot check for SPDIF\n",
      "Cannot check for SPDIF\n",
      "Cannot check for SPDIF\n",
      "Cannot check for SPDIF\n"
     ]
    },
    {
     "name": "stderr",
     "output_type": "stream",
     "text": [
      " 11%|███████▋                                                              | 26187/239040 [1:21:05<18:55:09,  3.13it/s]"
     ]
    },
    {
     "name": "stdout",
     "output_type": "stream",
     "text": [
      "Cannot check for SPDIF\n",
      "Cannot check for SPDIF\n"
     ]
    },
    {
     "name": "stderr",
     "output_type": "stream",
     "text": [
      "\r",
      " 11%|███████▋                                                              | 26191/239040 [1:21:06<11:53:46,  4.97it/s]"
     ]
    },
    {
     "name": "stdout",
     "output_type": "stream",
     "text": [
      "Cannot check for SPDIF\n",
      "Cannot check for SPDIF\n"
     ]
    },
    {
     "name": "stderr",
     "output_type": "stream",
     "text": [
      " 11%|███████▊                                                               | 26202/239040 [1:21:06<4:54:25, 12.05it/s]"
     ]
    },
    {
     "name": "stdout",
     "output_type": "stream",
     "text": [
      "Cannot check for SPDIF\n",
      "Cannot check for SPDIF\n"
     ]
    },
    {
     "name": "stderr",
     "output_type": "stream",
     "text": [
      "\r",
      " 11%|███████▊                                                               | 26205/239040 [1:21:06<4:10:00, 14.19it/s]"
     ]
    },
    {
     "name": "stdout",
     "output_type": "stream",
     "text": [
      "Cannot check for SPDIF\n",
      "Cannot check for SPDIF\n"
     ]
    },
    {
     "name": "stderr",
     "output_type": "stream",
     "text": [
      " 11%|███████▉                                                               | 26550/239040 [1:21:46<4:15:10, 13.88it/s]"
     ]
    },
    {
     "name": "stdout",
     "output_type": "stream",
     "text": [
      "Cannot check for SPDIF\n",
      "Cannot check for SPDIF\n",
      "Cannot check for SPDIF\n",
      "Cannot check for SPDIF\n"
     ]
    },
    {
     "name": "stderr",
     "output_type": "stream",
     "text": [
      " 11%|███████▉                                                              | 27091/239040 [1:26:09<59:50:00,  1.02s/it]"
     ]
    },
    {
     "name": "stdout",
     "output_type": "stream",
     "text": [
      "Cannot check for SPDIF\n",
      "Cannot check for SPDIF\n",
      "Cannot check for SPDIF\n",
      "Cannot check for SPDIF\n"
     ]
    },
    {
     "name": "stderr",
     "output_type": "stream",
     "text": [
      " 11%|███████▉                                                              | 27138/239040 [1:26:54<46:35:08,  1.26it/s]"
     ]
    },
    {
     "name": "stdout",
     "output_type": "stream",
     "text": [
      "Cannot check for SPDIF\n",
      "Cannot check for SPDIF\n",
      "Cannot check for SPDIF\n",
      "Cannot check for SPDIF\n"
     ]
    },
    {
     "name": "stderr",
     "output_type": "stream",
     "text": [
      " 11%|███████▉                                                             | 27462/239040 [1:32:49<233:05:02,  3.97s/it]"
     ]
    },
    {
     "name": "stdout",
     "output_type": "stream",
     "text": [
      "Cannot check for SPDIF\n",
      "Cannot check for SPDIF\n"
     ]
    },
    {
     "name": "stderr",
     "output_type": "stream",
     "text": [
      "\r",
      " 11%|███████▉                                                             | 27465/239040 [1:32:50<150:01:21,  2.55s/it]"
     ]
    },
    {
     "name": "stdout",
     "output_type": "stream",
     "text": [
      "Cannot check for SPDIF\n",
      "Cannot check for SPDIF\n"
     ]
    },
    {
     "name": "stderr",
     "output_type": "stream",
     "text": [
      " 12%|████████▎                                                              | 27992/239040 [1:33:43<4:32:45, 12.90it/s]"
     ]
    },
    {
     "name": "stdout",
     "output_type": "stream",
     "text": [
      "Cannot check for SPDIF\n",
      "Cannot check for SPDIF\n",
      "Cannot check for SPDIF\n",
      "Cannot check for SPDIF\n"
     ]
    },
    {
     "name": "stderr",
     "output_type": "stream",
     "text": [
      " 12%|████████▎                                                              | 28089/239040 [1:33:51<2:56:51, 19.88it/s]"
     ]
    },
    {
     "name": "stdout",
     "output_type": "stream",
     "text": [
      "Cannot check for SPDIF\n",
      "Cannot check for SPDIF\n"
     ]
    },
    {
     "name": "stderr",
     "output_type": "stream",
     "text": [
      "\r",
      " 12%|████████▎                                                              | 28093/239040 [1:33:51<2:25:49, 24.11it/s]"
     ]
    },
    {
     "name": "stdout",
     "output_type": "stream",
     "text": [
      "Cannot check for SPDIF\n",
      "Cannot check for SPDIF\n"
     ]
    },
    {
     "name": "stderr",
     "output_type": "stream",
     "text": [
      " 12%|████████▎                                                              | 28159/239040 [1:33:58<7:00:27,  8.36it/s]"
     ]
    },
    {
     "name": "stdout",
     "output_type": "stream",
     "text": [
      "Cannot check for SPDIF\n",
      "Cannot check for SPDIF\n",
      "Cannot check for SPDIF\n",
      "Cannot check for SPDIF\n"
     ]
    },
    {
     "name": "stderr",
     "output_type": "stream",
     "text": [
      " 12%|████████▎                                                              | 28188/239040 [1:33:59<2:43:23, 21.51it/s]"
     ]
    },
    {
     "name": "stdout",
     "output_type": "stream",
     "text": [
      "Cannot check for SPDIF\n",
      "Cannot check for SPDIF\n",
      "Cannot check for SPDIF\n",
      "Cannot check for SPDIF\n"
     ]
    },
    {
     "name": "stderr",
     "output_type": "stream",
     "text": [
      " 12%|████████▍                                                              | 28552/239040 [1:34:34<3:29:59, 16.71it/s]"
     ]
    },
    {
     "name": "stdout",
     "output_type": "stream",
     "text": [
      "Cannot check for SPDIF\n",
      "Cannot check for SPDIF\n"
     ]
    },
    {
     "name": "stderr",
     "output_type": "stream",
     "text": [
      "\r",
      " 12%|████████▍                                                              | 28555/239040 [1:34:34<3:06:59, 18.76it/s]"
     ]
    },
    {
     "name": "stdout",
     "output_type": "stream",
     "text": [
      "Cannot check for SPDIF\n",
      "Cannot check for SPDIF\n"
     ]
    },
    {
     "name": "stderr",
     "output_type": "stream",
     "text": [
      " 12%|████████▌                                                             | 29041/239040 [1:35:23<12:56:28,  4.51it/s]"
     ]
    },
    {
     "name": "stdout",
     "output_type": "stream",
     "text": [
      "Cannot check for SPDIF\n",
      "Cannot check for SPDIF\n",
      "Cannot check for SPDIF\n",
      "Cannot check for SPDIF\n"
     ]
    },
    {
     "name": "stderr",
     "output_type": "stream",
     "text": [
      " 12%|████████▊                                                              | 29567/239040 [1:36:14<4:09:06, 14.01it/s]"
     ]
    },
    {
     "name": "stdout",
     "output_type": "stream",
     "text": [
      "Cannot check for SPDIF\n",
      "Cannot check for SPDIF\n",
      "Cannot check for SPDIF\n",
      "Cannot check for SPDIF\n"
     ]
    },
    {
     "name": "stderr",
     "output_type": "stream",
     "text": [
      " 12%|████████▊                                                              | 29855/239040 [1:36:46<5:38:13, 10.31it/s]"
     ]
    },
    {
     "name": "stdout",
     "output_type": "stream",
     "text": [
      "Cannot check for SPDIF\n",
      "Cannot check for SPDIF\n"
     ]
    },
    {
     "name": "stderr",
     "output_type": "stream",
     "text": [
      "\r",
      " 12%|████████▊                                                              | 29859/239040 [1:36:46<4:08:04, 14.05it/s]"
     ]
    },
    {
     "name": "stdout",
     "output_type": "stream",
     "text": [
      "Cannot check for SPDIF\n",
      "Cannot check for SPDIF\n"
     ]
    },
    {
     "name": "stderr",
     "output_type": "stream",
     "text": [
      " 13%|████████▉                                                              | 30004/239040 [1:37:00<3:22:43, 17.19it/s]"
     ]
    },
    {
     "name": "stdout",
     "output_type": "stream",
     "text": [
      "Cannot check for SPDIF\n",
      "Cannot check for SPDIF\n",
      "Cannot check for SPDIF\n",
      "Cannot check for SPDIF\n"
     ]
    },
    {
     "name": "stderr",
     "output_type": "stream",
     "text": [
      " 13%|████████▉                                                              | 30126/239040 [1:37:14<3:36:17, 16.10it/s]"
     ]
    },
    {
     "name": "stdout",
     "output_type": "stream",
     "text": [
      "Cannot check for SPDIF\n",
      "Cannot check for SPDIF\n",
      "Cannot check for SPDIF\n",
      "Cannot check for SPDIF\n"
     ]
    },
    {
     "name": "stderr",
     "output_type": "stream",
     "text": [
      " 13%|█████████                                                              | 30337/239040 [1:37:37<3:19:40, 17.42it/s]"
     ]
    },
    {
     "name": "stdout",
     "output_type": "stream",
     "text": [
      "Cannot check for SPDIF\n",
      "Cannot check for SPDIF\n",
      "Cannot check for SPDIF\n",
      "Cannot check for SPDIF\n"
     ]
    },
    {
     "name": "stderr",
     "output_type": "stream",
     "text": [
      " 13%|█████████                                                              | 30598/239040 [1:38:04<2:57:57, 19.52it/s]"
     ]
    },
    {
     "name": "stdout",
     "output_type": "stream",
     "text": [
      "Cannot check for SPDIF\n",
      "Cannot check for SPDIF\n",
      "Cannot check for SPDIF\n",
      "Cannot check for SPDIF\n"
     ]
    },
    {
     "name": "stderr",
     "output_type": "stream",
     "text": [
      " 13%|█████████▏                                                            | 31557/239040 [1:40:26<11:14:46,  5.12it/s]"
     ]
    },
    {
     "name": "stdout",
     "output_type": "stream",
     "text": [
      "Cannot check for SPDIF\n",
      "Cannot check for SPDIF\n",
      "Cannot check for SPDIF\n",
      "Cannot check for SPDIF\n"
     ]
    },
    {
     "name": "stderr",
     "output_type": "stream",
     "text": [
      " 13%|█████████▎                                                            | 31597/239040 [1:40:32<21:13:18,  2.72it/s]"
     ]
    },
    {
     "name": "stdout",
     "output_type": "stream",
     "text": [
      "Cannot check for SPDIF\n",
      "Cannot check for SPDIF\n",
      "Cannot check for SPDIF\n",
      "Cannot check for SPDIF\n"
     ]
    },
    {
     "name": "stderr",
     "output_type": "stream",
     "text": [
      " 13%|█████████▍                                                             | 31704/239040 [1:40:46<4:07:56, 13.94it/s]"
     ]
    },
    {
     "name": "stdout",
     "output_type": "stream",
     "text": [
      "Cannot check for SPDIF\n",
      "Cannot check for SPDIF\n"
     ]
    },
    {
     "name": "stderr",
     "output_type": "stream",
     "text": [
      "\r",
      " 13%|█████████▍                                                             | 31707/239040 [1:40:46<4:01:05, 14.33it/s]"
     ]
    },
    {
     "name": "stdout",
     "output_type": "stream",
     "text": [
      "Cannot check for SPDIF\n",
      "Cannot check for SPDIF\n"
     ]
    },
    {
     "name": "stderr",
     "output_type": "stream",
     "text": [
      " 13%|█████████▌                                                             | 32169/239040 [1:41:57<4:34:18, 12.57it/s]"
     ]
    },
    {
     "name": "stdout",
     "output_type": "stream",
     "text": [
      "Cannot check for SPDIF\n",
      "Cannot check for SPDIF\n"
     ]
    },
    {
     "name": "stderr",
     "output_type": "stream",
     "text": [
      "\r",
      " 13%|█████████▌                                                             | 32173/239040 [1:41:57<3:36:54, 15.90it/s]"
     ]
    },
    {
     "name": "stdout",
     "output_type": "stream",
     "text": [
      "Cannot check for SPDIF\n",
      "Cannot check for SPDIF\n"
     ]
    },
    {
     "name": "stderr",
     "output_type": "stream",
     "text": [
      " 14%|█████████▋                                                             | 32455/239040 [1:42:40<9:25:44,  6.09it/s]"
     ]
    },
    {
     "name": "stdout",
     "output_type": "stream",
     "text": [
      "Cannot check for SPDIF\n",
      "Cannot check for SPDIF\n",
      "Cannot check for SPDIF\n",
      "Cannot check for SPDIF\n"
     ]
    },
    {
     "name": "stderr",
     "output_type": "stream",
     "text": [
      " 14%|█████████▌                                                            | 32788/239040 [1:43:29<15:20:41,  3.73it/s]"
     ]
    },
    {
     "name": "stdout",
     "output_type": "stream",
     "text": [
      "Cannot check for SPDIF\n",
      "Cannot check for SPDIF\n"
     ]
    },
    {
     "name": "stderr",
     "output_type": "stream",
     "text": [
      "\r",
      " 14%|█████████▌                                                            | 32791/239040 [1:43:29<11:20:30,  5.05it/s]"
     ]
    },
    {
     "name": "stdout",
     "output_type": "stream",
     "text": [
      "Cannot check for SPDIF\n",
      "Cannot check for SPDIF\n"
     ]
    },
    {
     "name": "stderr",
     "output_type": "stream",
     "text": [
      " 14%|█████████▊                                                            | 33608/239040 [1:50:15<29:52:23,  1.91it/s]"
     ]
    },
    {
     "name": "stdout",
     "output_type": "stream",
     "text": [
      "Cannot check for SPDIF\n",
      "Cannot check for SPDIF\n",
      "Cannot check for SPDIF\n",
      "Cannot check for SPDIF\n"
     ]
    },
    {
     "name": "stderr",
     "output_type": "stream",
     "text": [
      " 14%|█████████▊                                                            | 33646/239040 [1:50:58<60:58:23,  1.07s/it]"
     ]
    },
    {
     "name": "stdout",
     "output_type": "stream",
     "text": [
      "Cannot check for SPDIF\n",
      "Cannot check for SPDIF\n",
      "Cannot check for SPDIF\n",
      "Cannot check for SPDIF\n"
     ]
    },
    {
     "name": "stderr",
     "output_type": "stream",
     "text": [
      " 14%|█████████▉                                                            | 33740/239040 [1:52:25<37:19:24,  1.53it/s]"
     ]
    },
    {
     "name": "stdout",
     "output_type": "stream",
     "text": [
      "Cannot check for SPDIF\n",
      "Cannot check for SPDIF\n"
     ]
    },
    {
     "name": "stderr",
     "output_type": "stream",
     "text": [
      "\r",
      " 14%|█████████▉                                                            | 33743/239040 [1:52:25<28:06:49,  2.03it/s]"
     ]
    },
    {
     "name": "stdout",
     "output_type": "stream",
     "text": [
      "Cannot check for SPDIF\n",
      "Cannot check for SPDIF\n"
     ]
    },
    {
     "name": "stderr",
     "output_type": "stream",
     "text": [
      " 15%|██████████                                                           | 34789/239040 [2:11:03<107:34:24,  1.90s/it]"
     ]
    },
    {
     "name": "stdout",
     "output_type": "stream",
     "text": [
      "Cannot check for SPDIF\n",
      "Cannot check for SPDIF\n",
      "Cannot check for SPDIF\n",
      "Cannot check for SPDIF\n"
     ]
    },
    {
     "name": "stderr",
     "output_type": "stream",
     "text": [
      " 15%|██████████▌                                                            | 35415/239040 [2:21:57<6:12:25,  9.11it/s]"
     ]
    },
    {
     "name": "stdout",
     "output_type": "stream",
     "text": [
      "Cannot check for SPDIF\n",
      "Cannot check for SPDIF\n",
      "Cannot check for SPDIF\n",
      "Cannot check for SPDIF\n"
     ]
    },
    {
     "name": "stderr",
     "output_type": "stream",
     "text": [
      " 15%|██████████▌                                                            | 35583/239040 [2:25:10<8:01:54,  7.04it/s]"
     ]
    },
    {
     "name": "stdout",
     "output_type": "stream",
     "text": [
      "Cannot check for SPDIF\n",
      "Cannot check for SPDIF\n",
      "Cannot check for SPDIF\n",
      "Cannot check for SPDIF\n"
     ]
    },
    {
     "name": "stderr",
     "output_type": "stream",
     "text": [
      " 15%|██████████▌                                                           | 36162/239040 [2:35:04<41:16:10,  1.37it/s]"
     ]
    },
    {
     "name": "stdout",
     "output_type": "stream",
     "text": [
      "Cannot check for SPDIF\n",
      "Cannot check for SPDIF\n",
      "Cannot check for SPDIF\n",
      "Cannot check for SPDIF\n"
     ]
    },
    {
     "name": "stderr",
     "output_type": "stream",
     "text": [
      " 15%|██████████▋                                                           | 36460/239040 [2:39:49<44:09:32,  1.27it/s]"
     ]
    },
    {
     "name": "stdout",
     "output_type": "stream",
     "text": [
      "Cannot check for SPDIF\n",
      "Cannot check for SPDIF\n",
      "Cannot check for SPDIF\n",
      "Cannot check for SPDIF\n"
     ]
    },
    {
     "name": "stderr",
     "output_type": "stream",
     "text": [
      " 15%|██████████▊                                                            | 36610/239040 [2:42:04<5:47:21,  9.71it/s]"
     ]
    },
    {
     "name": "stdout",
     "output_type": "stream",
     "text": [
      "Cannot check for SPDIF\n",
      "Cannot check for SPDIF\n",
      "Cannot check for SPDIF\n",
      "Cannot check for SPDIF\n"
     ]
    },
    {
     "name": "stderr",
     "output_type": "stream",
     "text": [
      " 15%|██████████▊                                                           | 36759/239040 [2:44:59<41:09:21,  1.37it/s]"
     ]
    },
    {
     "name": "stdout",
     "output_type": "stream",
     "text": [
      "Cannot check for SPDIF\n",
      "Cannot check for SPDIF\n",
      "Cannot check for SPDIF\n",
      "Cannot check for SPDIF\n"
     ]
    },
    {
     "name": "stderr",
     "output_type": "stream",
     "text": [
      " 16%|██████████▊                                                          | 37258/239040 [2:53:43<122:36:10,  2.19s/it]"
     ]
    },
    {
     "name": "stdout",
     "output_type": "stream",
     "text": [
      "Cannot check for SPDIF\n",
      "Cannot check for SPDIF\n",
      "Cannot check for SPDIF\n",
      "Cannot check for SPDIF\n"
     ]
    },
    {
     "name": "stderr",
     "output_type": "stream",
     "text": [
      " 16%|███████████▏                                                           | 37464/239040 [2:56:36<4:51:43, 11.52it/s]"
     ]
    },
    {
     "name": "stdout",
     "output_type": "stream",
     "text": [
      "Cannot check for SPDIF\n",
      "Cannot check for SPDIF\n",
      "Cannot check for SPDIF\n",
      "Cannot check for SPDIF\n"
     ]
    },
    {
     "name": "stderr",
     "output_type": "stream",
     "text": [
      " 16%|███████████▍                                                           | 38424/239040 [3:00:41<2:44:33, 20.32it/s]"
     ]
    },
    {
     "name": "stdout",
     "output_type": "stream",
     "text": [
      "Cannot check for SPDIF\n",
      "Cannot check for SPDIF\n",
      "Cannot check for SPDIF\n",
      "Cannot check for SPDIF\n"
     ]
    },
    {
     "name": "stderr",
     "output_type": "stream",
     "text": [
      " 16%|███████████▍                                                           | 38549/239040 [3:00:57<3:46:01, 14.78it/s]"
     ]
    },
    {
     "name": "stdout",
     "output_type": "stream",
     "text": [
      "Cannot check for SPDIF\n",
      "Cannot check for SPDIF\n",
      "Cannot check for SPDIF\n",
      "Cannot check for SPDIF\n"
     ]
    },
    {
     "name": "stderr",
     "output_type": "stream",
     "text": [
      " 16%|███████████▍                                                           | 38711/239040 [3:01:18<6:18:24,  8.82it/s]"
     ]
    },
    {
     "name": "stdout",
     "output_type": "stream",
     "text": [
      "Cannot check for SPDIF\n",
      "Cannot check for SPDIF\n",
      "Cannot check for SPDIF\n",
      "Cannot check for SPDIF\n"
     ]
    },
    {
     "name": "stderr",
     "output_type": "stream",
     "text": [
      " 16%|███████████▌                                                           | 38860/239040 [3:01:34<3:05:46, 17.96it/s]"
     ]
    },
    {
     "name": "stdout",
     "output_type": "stream",
     "text": [
      "Cannot check for SPDIF\n",
      "Cannot check for SPDIF\n",
      "Cannot check for SPDIF\n",
      "Cannot check for SPDIF\n"
     ]
    },
    {
     "name": "stderr",
     "output_type": "stream",
     "text": [
      " 16%|███████████▋                                                           | 39289/239040 [3:02:27<2:52:49, 19.26it/s]"
     ]
    },
    {
     "name": "stdout",
     "output_type": "stream",
     "text": [
      "Cannot check for SPDIF\n",
      "Cannot check for SPDIF\n"
     ]
    },
    {
     "name": "stderr",
     "output_type": "stream",
     "text": [
      "\r",
      " 16%|███████████▋                                                           | 39293/239040 [3:02:27<2:27:33, 22.56it/s]"
     ]
    },
    {
     "name": "stdout",
     "output_type": "stream",
     "text": [
      "Cannot check for SPDIF\n",
      "Cannot check for SPDIF\n"
     ]
    },
    {
     "name": "stderr",
     "output_type": "stream",
     "text": [
      " 16%|███████████▋                                                           | 39307/239040 [3:02:31<6:51:38,  8.09it/s]"
     ]
    },
    {
     "name": "stdout",
     "output_type": "stream",
     "text": [
      "Cannot check for SPDIF\n",
      "Cannot check for SPDIF\n",
      "Cannot check for SPDIF\n",
      "Cannot check for SPDIF\n"
     ]
    },
    {
     "name": "stderr",
     "output_type": "stream",
     "text": [
      " 17%|███████████▋                                                           | 39548/239040 [3:02:57<2:56:24, 18.85it/s]"
     ]
    },
    {
     "name": "stdout",
     "output_type": "stream",
     "text": [
      "Cannot check for SPDIF\n",
      "Cannot check for SPDIF\n"
     ]
    },
    {
     "name": "stderr",
     "output_type": "stream",
     "text": [
      "\r",
      " 17%|███████████▋                                                           | 39551/239040 [3:02:57<2:34:37, 21.50it/s]"
     ]
    },
    {
     "name": "stdout",
     "output_type": "stream",
     "text": [
      "Cannot check for SPDIF\n",
      "Cannot check for SPDIF\n"
     ]
    },
    {
     "name": "stderr",
     "output_type": "stream",
     "text": [
      " 17%|███████████▉                                                           | 40197/239040 [3:04:18<9:38:30,  5.73it/s]"
     ]
    },
    {
     "name": "stdout",
     "output_type": "stream",
     "text": [
      "Cannot check for SPDIF\n",
      "Cannot check for SPDIF\n"
     ]
    },
    {
     "name": "stderr",
     "output_type": "stream",
     "text": [
      "\r",
      " 17%|███████████▉                                                           | 40201/239040 [3:04:18<6:58:59,  7.91it/s]"
     ]
    },
    {
     "name": "stdout",
     "output_type": "stream",
     "text": [
      "Cannot check for SPDIF\n",
      "Cannot check for SPDIF\n"
     ]
    },
    {
     "name": "stderr",
     "output_type": "stream",
     "text": [
      " 17%|███████████▉                                                           | 40226/239040 [3:04:19<2:25:30, 22.77it/s]"
     ]
    },
    {
     "name": "stdout",
     "output_type": "stream",
     "text": [
      "Cannot check for SPDIF\n",
      "Cannot check for SPDIF\n",
      "Cannot check for SPDIF\n",
      "Cannot check for SPDIF\n"
     ]
    },
    {
     "name": "stderr",
     "output_type": "stream",
     "text": [
      " 17%|████████████                                                           | 40485/239040 [3:04:49<3:24:21, 16.19it/s]"
     ]
    },
    {
     "name": "stdout",
     "output_type": "stream",
     "text": [
      "Cannot check for SPDIF\n",
      "Cannot check for SPDIF\n",
      "Cannot check for SPDIF\n",
      "Cannot check for SPDIF\n"
     ]
    },
    {
     "name": "stderr",
     "output_type": "stream",
     "text": [
      " 17%|████████████                                                           | 40595/239040 [3:05:05<4:43:47, 11.65it/s]"
     ]
    },
    {
     "name": "stdout",
     "output_type": "stream",
     "text": [
      "Cannot check for SPDIF\n",
      "Cannot check for SPDIF\n",
      "Cannot check for SPDIF\n",
      "Cannot check for SPDIF\n"
     ]
    },
    {
     "name": "stderr",
     "output_type": "stream",
     "text": [
      " 17%|████████████                                                           | 40715/239040 [3:05:19<8:32:48,  6.45it/s]"
     ]
    },
    {
     "name": "stdout",
     "output_type": "stream",
     "text": [
      "Cannot check for SPDIF\n",
      "Cannot check for SPDIF\n",
      "Cannot check for SPDIF\n",
      "Cannot check for SPDIF\n"
     ]
    },
    {
     "name": "stderr",
     "output_type": "stream",
     "text": [
      " 17%|████████████▎                                                          | 41318/239040 [3:06:26<4:12:16, 13.06it/s]"
     ]
    },
    {
     "name": "stdout",
     "output_type": "stream",
     "text": [
      "Cannot check for SPDIF\n",
      "Cannot check for SPDIF\n",
      "Cannot check for SPDIF\n",
      "Cannot check for SPDIF\n"
     ]
    },
    {
     "name": "stderr",
     "output_type": "stream",
     "text": [
      " 17%|████████████▏                                                         | 41469/239040 [3:06:44<18:10:49,  3.02it/s]"
     ]
    },
    {
     "name": "stdout",
     "output_type": "stream",
     "text": [
      "Cannot check for SPDIF\n",
      "Cannot check for SPDIF\n",
      "Cannot check for SPDIF\n",
      "Cannot check for SPDIF\n"
     ]
    },
    {
     "name": "stderr",
     "output_type": "stream",
     "text": [
      " 17%|████████████▎                                                          | 41575/239040 [3:06:55<3:28:44, 15.77it/s]"
     ]
    },
    {
     "name": "stdout",
     "output_type": "stream",
     "text": [
      "Cannot check for SPDIF\n",
      "Cannot check for SPDIF\n",
      "Cannot check for SPDIF\n",
      "Cannot check for SPDIF\n"
     ]
    },
    {
     "name": "stderr",
     "output_type": "stream",
     "text": [
      " 18%|████████████▌                                                          | 42184/239040 [3:08:02<2:29:27, 21.95it/s]"
     ]
    },
    {
     "name": "stdout",
     "output_type": "stream",
     "text": [
      "Cannot check for SPDIF\n",
      "Cannot check for SPDIF\n",
      "Cannot check for SPDIF\n",
      "Cannot check for SPDIF\n"
     ]
    },
    {
     "name": "stderr",
     "output_type": "stream",
     "text": [
      " 18%|████████████▌                                                          | 42194/239040 [3:08:05<9:11:50,  5.95it/s]"
     ]
    },
    {
     "name": "stdout",
     "output_type": "stream",
     "text": [
      "Cannot check for SPDIF\n",
      "Cannot check for SPDIF\n",
      "Cannot check for SPDIF\n",
      "Cannot check for SPDIF\n"
     ]
    },
    {
     "name": "stderr",
     "output_type": "stream",
     "text": [
      " 18%|████████████▍                                                         | 42321/239040 [3:08:20<16:16:05,  3.36it/s]"
     ]
    },
    {
     "name": "stdout",
     "output_type": "stream",
     "text": [
      "Cannot check for SPDIF\n",
      "Cannot check for SPDIF\n",
      "Cannot check for SPDIF\n",
      "Cannot check for SPDIF\n"
     ]
    },
    {
     "name": "stderr",
     "output_type": "stream",
     "text": [
      " 18%|████████████▍                                                         | 42619/239040 [3:08:51<11:58:43,  4.55it/s]"
     ]
    },
    {
     "name": "stdout",
     "output_type": "stream",
     "text": [
      "Cannot check for SPDIF\n",
      "Cannot check for SPDIF\n"
     ]
    },
    {
     "name": "stderr",
     "output_type": "stream",
     "text": [
      "\r",
      " 18%|████████████▍                                                         | 42621/239040 [3:08:52<10:46:10,  5.07it/s]"
     ]
    },
    {
     "name": "stdout",
     "output_type": "stream",
     "text": [
      "Cannot check for SPDIF\n",
      "Cannot check for SPDIF\n"
     ]
    },
    {
     "name": "stderr",
     "output_type": "stream",
     "text": [
      " 18%|████████████▊                                                          | 43179/239040 [3:09:52<4:58:36, 10.93it/s]"
     ]
    },
    {
     "name": "stdout",
     "output_type": "stream",
     "text": [
      "Cannot check for SPDIF\n",
      "Cannot check for SPDIF\n"
     ]
    },
    {
     "name": "stderr",
     "output_type": "stream",
     "text": [
      "\r",
      " 18%|████████████▊                                                          | 43183/239040 [3:09:52<3:41:32, 14.73it/s]"
     ]
    },
    {
     "name": "stdout",
     "output_type": "stream",
     "text": [
      "Cannot check for SPDIF\n",
      "Cannot check for SPDIF\n"
     ]
    },
    {
     "name": "stderr",
     "output_type": "stream",
     "text": [
      " 18%|████████████▉                                                          | 43567/239040 [3:10:25<3:32:29, 15.33it/s]"
     ]
    },
    {
     "name": "stdout",
     "output_type": "stream",
     "text": [
      "Cannot check for SPDIF\n",
      "Cannot check for SPDIF\n",
      "Cannot check for SPDIF\n",
      "Cannot check for SPDIF\n"
     ]
    },
    {
     "name": "stderr",
     "output_type": "stream",
     "text": [
      " 18%|████████████▉                                                          | 43676/239040 [3:10:35<7:38:45,  7.10it/s]"
     ]
    },
    {
     "name": "stdout",
     "output_type": "stream",
     "text": [
      "Cannot check for SPDIF\n",
      "Cannot check for SPDIF\n",
      "Cannot check for SPDIF\n",
      "Cannot check for SPDIF\n"
     ]
    },
    {
     "name": "stderr",
     "output_type": "stream",
     "text": [
      " 18%|█████████████                                                          | 44024/239040 [3:11:10<8:04:33,  6.71it/s]"
     ]
    },
    {
     "name": "stdout",
     "output_type": "stream",
     "text": [
      "Cannot check for SPDIF\n",
      "Cannot check for SPDIF\n",
      "Cannot check for SPDIF\n",
      "Cannot check for SPDIF\n"
     ]
    },
    {
     "name": "stderr",
     "output_type": "stream",
     "text": [
      " 19%|█████████████▎                                                         | 44637/239040 [3:12:38<4:26:17, 12.17it/s]"
     ]
    },
    {
     "name": "stdout",
     "output_type": "stream",
     "text": [
      "Cannot check for SPDIF\n",
      "Cannot check for SPDIF\n",
      "Cannot check for SPDIF\n",
      "Cannot check for SPDIF\n"
     ]
    },
    {
     "name": "stderr",
     "output_type": "stream",
     "text": [
      " 19%|█████████████                                                         | 44750/239040 [3:12:55<13:35:54,  3.97it/s]"
     ]
    },
    {
     "name": "stdout",
     "output_type": "stream",
     "text": [
      "Cannot check for SPDIF\n",
      "Cannot check for SPDIF\n"
     ]
    },
    {
     "name": "stderr",
     "output_type": "stream",
     "text": [
      "\r",
      " 19%|█████████████                                                         | 44753/239040 [3:12:55<10:26:13,  5.17it/s]"
     ]
    },
    {
     "name": "stdout",
     "output_type": "stream",
     "text": [
      "Cannot check for SPDIF\n",
      "Cannot check for SPDIF\n"
     ]
    },
    {
     "name": "stderr",
     "output_type": "stream",
     "text": [
      " 19%|█████████████▍                                                         | 45163/239040 [3:13:58<2:39:11, 20.30it/s]"
     ]
    },
    {
     "name": "stdout",
     "output_type": "stream",
     "text": [
      "Cannot check for SPDIF\n",
      "Cannot check for SPDIF\n",
      "Cannot check for SPDIF\n",
      "Cannot check for SPDIF\n"
     ]
    },
    {
     "name": "stderr",
     "output_type": "stream",
     "text": [
      " 19%|█████████████▌                                                         | 45698/239040 [3:15:23<4:58:14, 10.80it/s]"
     ]
    },
    {
     "name": "stdout",
     "output_type": "stream",
     "text": [
      "Cannot check for SPDIF\n",
      "Cannot check for SPDIF\n",
      "Cannot check for SPDIF\n",
      "Cannot check for SPDIF\n"
     ]
    },
    {
     "name": "stderr",
     "output_type": "stream",
     "text": [
      " 19%|█████████████▋                                                         | 46133/239040 [3:16:25<3:10:03, 16.92it/s]"
     ]
    },
    {
     "name": "stdout",
     "output_type": "stream",
     "text": [
      "Cannot check for SPDIF\n",
      "Cannot check for SPDIF\n",
      "Cannot check for SPDIF\n",
      "Cannot check for SPDIF\n"
     ]
    },
    {
     "name": "stderr",
     "output_type": "stream",
     "text": [
      " 19%|█████████████▋                                                         | 46292/239040 [3:16:49<6:17:24,  8.51it/s]"
     ]
    },
    {
     "name": "stdout",
     "output_type": "stream",
     "text": [
      "Cannot check for SPDIF\n",
      "Cannot check for SPDIF\n"
     ]
    },
    {
     "name": "stderr",
     "output_type": "stream",
     "text": [
      "\r",
      " 19%|█████████████▊                                                         | 46295/239040 [3:16:49<5:10:51, 10.33it/s]"
     ]
    },
    {
     "name": "stdout",
     "output_type": "stream",
     "text": [
      "Cannot check for SPDIF\n",
      "Cannot check for SPDIF\n"
     ]
    },
    {
     "name": "stderr",
     "output_type": "stream",
     "text": [
      " 19%|█████████████▌                                                        | 46410/239040 [3:17:08<18:20:49,  2.92it/s]"
     ]
    },
    {
     "name": "stdout",
     "output_type": "stream",
     "text": [
      "Cannot check for SPDIF\n",
      "Cannot check for SPDIF\n"
     ]
    },
    {
     "name": "stderr",
     "output_type": "stream",
     "text": [
      "\r",
      " 19%|█████████████▌                                                        | 46413/239040 [3:17:08<13:27:39,  3.97it/s]"
     ]
    },
    {
     "name": "stdout",
     "output_type": "stream",
     "text": [
      "Cannot check for SPDIF\n",
      "Cannot check for SPDIF\n"
     ]
    },
    {
     "name": "stderr",
     "output_type": "stream",
     "text": [
      " 20%|█████████████▉                                                         | 46906/239040 [3:17:52<2:00:52, 26.49it/s]"
     ]
    },
    {
     "name": "stdout",
     "output_type": "stream",
     "text": [
      "Cannot check for SPDIF\n",
      "Cannot check for SPDIF\n",
      "Cannot check for SPDIF\n",
      "Cannot check for SPDIF\n"
     ]
    },
    {
     "name": "stderr",
     "output_type": "stream",
     "text": [
      " 20%|██████████████▏                                                        | 47886/239040 [3:19:21<2:20:28, 22.68it/s]"
     ]
    },
    {
     "name": "stdout",
     "output_type": "stream",
     "text": [
      "Cannot check for SPDIF\n",
      "Cannot check for SPDIF\n",
      "Cannot check for SPDIF\n",
      "Cannot check for SPDIF\n"
     ]
    },
    {
     "name": "stderr",
     "output_type": "stream",
     "text": [
      " 20%|██████████████▍                                                        | 48406/239040 [3:20:14<7:12:24,  7.35it/s]"
     ]
    },
    {
     "name": "stdout",
     "output_type": "stream",
     "text": [
      "Cannot check for SPDIF\n",
      "Cannot check for SPDIF\n",
      "Cannot check for SPDIF\n",
      "Cannot check for SPDIF\n"
     ]
    },
    {
     "name": "stderr",
     "output_type": "stream",
     "text": [
      " 20%|██████████████▍                                                        | 48643/239040 [3:20:36<3:04:49, 17.17it/s]"
     ]
    },
    {
     "name": "stdout",
     "output_type": "stream",
     "text": [
      "Cannot check for SPDIF\n",
      "Cannot check for SPDIF\n",
      "Cannot check for SPDIF\n",
      "Cannot check for SPDIF\n"
     ]
    },
    {
     "name": "stderr",
     "output_type": "stream",
     "text": [
      " 20%|██████████████▍                                                        | 48662/239040 [3:20:39<7:30:44,  7.04it/s]"
     ]
    },
    {
     "name": "stdout",
     "output_type": "stream",
     "text": [
      "Cannot check for SPDIF\n",
      "Cannot check for SPDIF\n"
     ]
    },
    {
     "name": "stderr",
     "output_type": "stream",
     "text": [
      "\r",
      " 20%|██████████████▍                                                        | 48665/239040 [3:20:39<5:59:34,  8.82it/s]"
     ]
    },
    {
     "name": "stdout",
     "output_type": "stream",
     "text": [
      "Cannot check for SPDIF\n",
      "Cannot check for SPDIF\n"
     ]
    },
    {
     "name": "stderr",
     "output_type": "stream",
     "text": [
      " 20%|██████████████▌                                                        | 48900/239040 [3:21:02<3:32:23, 14.92it/s]"
     ]
    },
    {
     "name": "stdout",
     "output_type": "stream",
     "text": [
      "Cannot check for SPDIF\n",
      "Cannot check for SPDIF\n",
      "Cannot check for SPDIF\n",
      "Cannot check for SPDIF\n"
     ]
    },
    {
     "name": "stderr",
     "output_type": "stream",
     "text": [
      " 21%|██████████████▌                                                        | 49018/239040 [3:21:13<3:08:41, 16.78it/s]"
     ]
    },
    {
     "name": "stdout",
     "output_type": "stream",
     "text": [
      "Cannot check for SPDIF\n",
      "Cannot check for SPDIF\n",
      "Cannot check for SPDIF\n",
      "Cannot check for SPDIF\n"
     ]
    },
    {
     "name": "stderr",
     "output_type": "stream",
     "text": [
      " 21%|██████████████▌                                                        | 49157/239040 [3:21:28<2:57:50, 17.80it/s]"
     ]
    },
    {
     "name": "stdout",
     "output_type": "stream",
     "text": [
      "Cannot check for SPDIF\n",
      "Cannot check for SPDIF\n"
     ]
    },
    {
     "name": "stderr",
     "output_type": "stream",
     "text": [
      "\r",
      " 21%|██████████████▌                                                        | 49161/239040 [3:21:28<2:23:03, 22.12it/s]"
     ]
    },
    {
     "name": "stdout",
     "output_type": "stream",
     "text": [
      "Cannot check for SPDIF\n",
      "Cannot check for SPDIF\n"
     ]
    },
    {
     "name": "stderr",
     "output_type": "stream",
     "text": [
      " 21%|██████████████▊                                                        | 50068/239040 [3:22:36<5:52:59,  8.92it/s]"
     ]
    },
    {
     "name": "stdout",
     "output_type": "stream",
     "text": [
      "Cannot check for SPDIF\n",
      "Cannot check for SPDIF\n",
      "Cannot check for SPDIF\n",
      "Cannot check for SPDIF\n"
     ]
    },
    {
     "name": "stderr",
     "output_type": "stream",
     "text": [
      " 22%|███████████████▎                                                       | 51537/239040 [3:24:36<2:02:57, 25.42it/s]"
     ]
    },
    {
     "name": "stdout",
     "output_type": "stream",
     "text": [
      "Cannot check for SPDIF\n",
      "Cannot check for SPDIF\n",
      "Cannot check for SPDIF\n",
      "Cannot check for SPDIF\n"
     ]
    },
    {
     "name": "stderr",
     "output_type": "stream",
     "text": [
      " 22%|███████████████▍                                                      | 52567/239040 [3:35:04<65:07:25,  1.26s/it]"
     ]
    },
    {
     "name": "stdout",
     "output_type": "stream",
     "text": [
      "Cannot check for SPDIF\n",
      "Cannot check for SPDIF\n"
     ]
    },
    {
     "name": "stderr",
     "output_type": "stream",
     "text": [
      "\r",
      " 22%|███████████████▍                                                      | 52571/239040 [3:35:04<43:52:07,  1.18it/s]"
     ]
    },
    {
     "name": "stdout",
     "output_type": "stream",
     "text": [
      "Cannot check for SPDIF\n",
      "Cannot check for SPDIF\n"
     ]
    },
    {
     "name": "stderr",
     "output_type": "stream",
     "text": [
      " 22%|███████████████▋                                                       | 52844/239040 [3:39:23<6:24:07,  8.08it/s]"
     ]
    },
    {
     "name": "stdout",
     "output_type": "stream",
     "text": [
      "Cannot check for SPDIF\n",
      "Cannot check for SPDIF\n",
      "Cannot check for SPDIF\n",
      "Cannot check for SPDIF\n"
     ]
    },
    {
     "name": "stderr",
     "output_type": "stream",
     "text": [
      " 22%|███████████████▎                                                     | 53153/239040 [3:45:09<162:44:56,  3.15s/it]"
     ]
    },
    {
     "name": "stdout",
     "output_type": "stream",
     "text": [
      "Cannot check for SPDIF\n",
      "Cannot check for SPDIF\n",
      "Cannot check for SPDIF\n",
      "Cannot check for SPDIF\n"
     ]
    },
    {
     "name": "stderr",
     "output_type": "stream",
     "text": [
      " 22%|███████████████▋                                                      | 53422/239040 [3:49:04<41:29:23,  1.24it/s]"
     ]
    },
    {
     "name": "stdout",
     "output_type": "stream",
     "text": [
      "Cannot check for SPDIF\n",
      "Cannot check for SPDIF\n",
      "Cannot check for SPDIF\n",
      "Cannot check for SPDIF\n"
     ]
    },
    {
     "name": "stderr",
     "output_type": "stream",
     "text": [
      " 22%|███████████████▋                                                      | 53478/239040 [3:49:43<11:28:49,  4.49it/s]"
     ]
    },
    {
     "name": "stdout",
     "output_type": "stream",
     "text": [
      "Cannot check for SPDIF\n",
      "Cannot check for SPDIF\n",
      "Cannot check for SPDIF\n",
      "Cannot check for SPDIF\n"
     ]
    },
    {
     "name": "stderr",
     "output_type": "stream",
     "text": [
      " 23%|███████████████▊                                                      | 54010/239040 [3:58:20<78:23:14,  1.53s/it]"
     ]
    },
    {
     "name": "stdout",
     "output_type": "stream",
     "text": [
      "Cannot check for SPDIF\n",
      "Cannot check for SPDIF\n"
     ]
    },
    {
     "name": "stderr",
     "output_type": "stream",
     "text": [
      "\r",
      " 23%|███████████████▊                                                      | 54013/239040 [3:58:20<55:07:40,  1.07s/it]"
     ]
    },
    {
     "name": "stdout",
     "output_type": "stream",
     "text": [
      "Cannot check for SPDIF\n",
      "Cannot check for SPDIF\n"
     ]
    },
    {
     "name": "stderr",
     "output_type": "stream",
     "text": [
      " 24%|████████████████▊                                                      | 56695/239040 [4:13:05<2:22:33, 21.32it/s]"
     ]
    },
    {
     "name": "stdout",
     "output_type": "stream",
     "text": [
      "Cannot check for SPDIF\n",
      "Cannot check for SPDIF\n",
      "Cannot check for SPDIF\n",
      "Cannot check for SPDIF\n"
     ]
    },
    {
     "name": "stderr",
     "output_type": "stream",
     "text": [
      "\r",
      " 24%|████████████████▊                                                      | 56700/239040 [4:13:05<1:53:55, 26.68it/s]"
     ]
    },
    {
     "name": "stdout",
     "output_type": "stream",
     "text": [
      "Cannot check for SPDIF\n",
      "Cannot check for SPDIF\n",
      "Cannot check for SPDIF\n",
      "Cannot check for SPDIF\n"
     ]
    },
    {
     "name": "stderr",
     "output_type": "stream",
     "text": [
      " 24%|████████████████▉                                                      | 56861/239040 [4:13:26<3:38:43, 13.88it/s]"
     ]
    },
    {
     "name": "stdout",
     "output_type": "stream",
     "text": [
      "Cannot check for SPDIF\n",
      "Cannot check for SPDIF\n"
     ]
    },
    {
     "name": "stderr",
     "output_type": "stream",
     "text": [
      "\r",
      " 24%|████████████████▉                                                      | 56865/239040 [4:13:26<2:53:43, 17.48it/s]"
     ]
    },
    {
     "name": "stdout",
     "output_type": "stream",
     "text": [
      "Cannot check for SPDIF\n",
      "Cannot check for SPDIF\n"
     ]
    },
    {
     "name": "stderr",
     "output_type": "stream",
     "text": [
      " 24%|████████████████▉                                                      | 57128/239040 [4:14:01<2:37:58, 19.19it/s]"
     ]
    },
    {
     "name": "stdout",
     "output_type": "stream",
     "text": [
      "Cannot check for SPDIF\n",
      "Cannot check for SPDIF\n",
      "Cannot check for SPDIF\n",
      "Cannot check for SPDIF\n"
     ]
    },
    {
     "name": "stderr",
     "output_type": "stream",
     "text": [
      " 24%|█████████████████                                                      | 57441/239040 [4:14:41<8:01:56,  6.28it/s]"
     ]
    },
    {
     "name": "stdout",
     "output_type": "stream",
     "text": [
      "Cannot check for SPDIF\n",
      "Cannot check for SPDIF\n"
     ]
    },
    {
     "name": "stderr",
     "output_type": "stream",
     "text": [
      "\r",
      " 24%|█████████████████                                                      | 57445/239040 [4:14:42<5:13:12,  9.66it/s]"
     ]
    },
    {
     "name": "stdout",
     "output_type": "stream",
     "text": [
      "Cannot check for SPDIF\n",
      "Cannot check for SPDIF\n"
     ]
    },
    {
     "name": "stderr",
     "output_type": "stream",
     "text": [
      " 24%|█████████████████▏                                                     | 57668/239040 [4:15:08<4:14:33, 11.88it/s]"
     ]
    },
    {
     "name": "stdout",
     "output_type": "stream",
     "text": [
      "Cannot check for SPDIF\n",
      "Cannot check for SPDIF\n",
      "Cannot check for SPDIF\n",
      "Cannot check for SPDIF\n"
     ]
    },
    {
     "name": "stderr",
     "output_type": "stream",
     "text": [
      " 24%|█████████████████▏                                                     | 57772/239040 [4:15:19<2:36:51, 19.26it/s]"
     ]
    },
    {
     "name": "stdout",
     "output_type": "stream",
     "text": [
      "Cannot check for SPDIF\n",
      "Cannot check for SPDIF\n",
      "Cannot check for SPDIF\n",
      "Cannot check for SPDIF\n"
     ]
    },
    {
     "name": "stderr",
     "output_type": "stream",
     "text": [
      " 24%|█████████████████▏                                                     | 57794/239040 [4:15:24<6:20:32,  7.94it/s]"
     ]
    },
    {
     "name": "stdout",
     "output_type": "stream",
     "text": [
      "Cannot check for SPDIF\n",
      "Cannot check for SPDIF\n",
      "Cannot check for SPDIF\n",
      "Cannot check for SPDIF\n"
     ]
    },
    {
     "name": "stderr",
     "output_type": "stream",
     "text": [
      " 24%|████████████████▉                                                     | 57826/239040 [4:15:28<18:01:15,  2.79it/s]"
     ]
    },
    {
     "name": "stdout",
     "output_type": "stream",
     "text": [
      "Cannot check for SPDIF\n",
      "Cannot check for SPDIF\n",
      "Cannot check for SPDIF\n",
      "Cannot check for SPDIF\n"
     ]
    },
    {
     "name": "stderr",
     "output_type": "stream",
     "text": [
      " 24%|█████████████████▎                                                     | 58113/239040 [4:16:04<2:55:25, 17.19it/s]"
     ]
    },
    {
     "name": "stdout",
     "output_type": "stream",
     "text": [
      "Cannot check for SPDIF\n",
      "Cannot check for SPDIF\n"
     ]
    },
    {
     "name": "stderr",
     "output_type": "stream",
     "text": [
      " 24%|█████████████████▎                                                     | 58307/239040 [4:16:21<3:45:57, 13.33it/s]"
     ]
    },
    {
     "name": "stdout",
     "output_type": "stream",
     "text": [
      "Cannot check for SPDIF\n",
      "Cannot check for SPDIF\n",
      "Cannot check for SPDIF\n",
      "Cannot check for SPDIF\n"
     ]
    },
    {
     "name": "stderr",
     "output_type": "stream",
     "text": [
      "\r",
      " 24%|█████████████████▎                                                     | 58310/239040 [4:16:21<3:11:39, 15.72it/s]"
     ]
    },
    {
     "name": "stdout",
     "output_type": "stream",
     "text": [
      "Cannot check for SPDIF\n",
      "Cannot check for SPDIF\n",
      "Cannot check for SPDIF\n",
      "Cannot check for SPDIF\n"
     ]
    },
    {
     "name": "stderr",
     "output_type": "stream",
     "text": [
      " 24%|█████████████████▎                                                     | 58416/239040 [4:16:28<2:49:58, 17.71it/s]"
     ]
    },
    {
     "name": "stdout",
     "output_type": "stream",
     "text": [
      "Cannot check for SPDIF\n",
      "Cannot check for SPDIF\n",
      "Cannot check for SPDIF\n",
      "Cannot check for SPDIF\n"
     ]
    },
    {
     "name": "stderr",
     "output_type": "stream",
     "text": [
      " 24%|█████████████████▍                                                     | 58525/239040 [4:16:38<4:39:30, 10.76it/s]"
     ]
    },
    {
     "name": "stdout",
     "output_type": "stream",
     "text": [
      "Cannot check for SPDIF\n",
      "Cannot check for SPDIF\n",
      "Cannot check for SPDIF\n",
      "Cannot check for SPDIF\n"
     ]
    },
    {
     "name": "stderr",
     "output_type": "stream",
     "text": [
      " 25%|█████████████████▍                                                     | 58643/239040 [4:16:48<6:07:08,  8.19it/s]"
     ]
    },
    {
     "name": "stdout",
     "output_type": "stream",
     "text": [
      "Cannot check for SPDIF\n",
      "Cannot check for SPDIF\n",
      "Cannot check for SPDIF\n",
      "Cannot check for SPDIF\n"
     ]
    },
    {
     "name": "stderr",
     "output_type": "stream",
     "text": [
      " 25%|█████████████████▌                                                     | 58932/239040 [4:17:11<2:00:45, 24.86it/s]"
     ]
    },
    {
     "name": "stdout",
     "output_type": "stream",
     "text": [
      "Cannot check for SPDIF\n",
      "Cannot check for SPDIF\n",
      "Cannot check for SPDIF\n",
      "Cannot check for SPDIF\n"
     ]
    },
    {
     "name": "stderr",
     "output_type": "stream",
     "text": [
      " 25%|█████████████████▎                                                    | 59307/239040 [4:18:25<10:50:18,  4.61it/s]"
     ]
    },
    {
     "name": "stdout",
     "output_type": "stream",
     "text": [
      "Cannot check for SPDIF\n",
      "Cannot check for SPDIF\n",
      "Cannot check for SPDIF\n",
      "Cannot check for SPDIF\n"
     ]
    },
    {
     "name": "stderr",
     "output_type": "stream",
     "text": [
      " 25%|█████████████████▏                                                   | 59536/239040 [4:22:46<156:58:20,  3.15s/it]"
     ]
    },
    {
     "name": "stdout",
     "output_type": "stream",
     "text": [
      "Cannot check for SPDIF\n",
      "Cannot check for SPDIF\n",
      "Cannot check for SPDIF\n",
      "Cannot check for SPDIF\n"
     ]
    },
    {
     "name": "stderr",
     "output_type": "stream",
     "text": [
      " 25%|█████████████████▌                                                    | 59777/239040 [4:26:25<12:43:05,  3.92it/s]"
     ]
    },
    {
     "name": "stdout",
     "output_type": "stream",
     "text": [
      "Cannot check for SPDIF\n",
      "Cannot check for SPDIF\n",
      "Cannot check for SPDIF\n",
      "Cannot check for SPDIF\n"
     ]
    },
    {
     "name": "stderr",
     "output_type": "stream",
     "text": [
      " 25%|█████████████████▉                                                     | 60410/239040 [4:28:38<2:28:50, 20.00it/s]"
     ]
    },
    {
     "name": "stdout",
     "output_type": "stream",
     "text": [
      "Cannot check for SPDIF\n",
      "Cannot check for SPDIF\n"
     ]
    },
    {
     "name": "stderr",
     "output_type": "stream",
     "text": [
      "\r",
      " 25%|█████████████████▉                                                     | 60413/239040 [4:28:38<2:16:02, 21.88it/s]"
     ]
    },
    {
     "name": "stdout",
     "output_type": "stream",
     "text": [
      "Cannot check for SPDIF\n",
      "Cannot check for SPDIF\n"
     ]
    },
    {
     "name": "stderr",
     "output_type": "stream",
     "text": [
      " 25%|█████████████████▉                                                     | 60592/239040 [4:28:51<2:09:19, 23.00it/s]"
     ]
    },
    {
     "name": "stdout",
     "output_type": "stream",
     "text": [
      "Cannot check for SPDIF\n",
      "Cannot check for SPDIF\n"
     ]
    },
    {
     "name": "stderr",
     "output_type": "stream",
     "text": [
      "\r",
      " 25%|█████████████████▉                                                     | 60595/239040 [4:28:51<2:03:40, 24.05it/s]"
     ]
    },
    {
     "name": "stdout",
     "output_type": "stream",
     "text": [
      "Cannot check for SPDIF\n",
      "Cannot check for SPDIF\n"
     ]
    },
    {
     "name": "stderr",
     "output_type": "stream",
     "text": [
      " 25%|█████████████████▊                                                    | 60729/239040 [4:29:03<10:17:25,  4.81it/s]"
     ]
    },
    {
     "name": "stdout",
     "output_type": "stream",
     "text": [
      "Cannot check for SPDIF\n",
      "Cannot check for SPDIF\n",
      "Cannot check for SPDIF\n",
      "Cannot check for SPDIF\n"
     ]
    },
    {
     "name": "stderr",
     "output_type": "stream",
     "text": [
      " 25%|██████████████████                                                     | 60759/239040 [4:29:04<1:58:54, 24.99it/s]"
     ]
    },
    {
     "name": "stdout",
     "output_type": "stream",
     "text": [
      "Cannot check for SPDIF\n",
      "Cannot check for SPDIF\n",
      "Cannot check for SPDIF\n",
      "Cannot check for SPDIF\n"
     ]
    },
    {
     "name": "stderr",
     "output_type": "stream",
     "text": [
      " 25%|██████████████████                                                     | 60814/239040 [4:29:07<2:16:21, 21.78it/s]"
     ]
    },
    {
     "name": "stdout",
     "output_type": "stream",
     "text": [
      "Cannot check for SPDIF\n",
      "Cannot check for SPDIF\n"
     ]
    },
    {
     "name": "stderr",
     "output_type": "stream",
     "text": [
      "\r",
      " 25%|██████████████████                                                     | 60817/239040 [4:29:08<8:40:02,  5.71it/s]"
     ]
    },
    {
     "name": "stdout",
     "output_type": "stream",
     "text": [
      "Cannot check for SPDIF\n",
      "Cannot check for SPDIF\n"
     ]
    },
    {
     "name": "stderr",
     "output_type": "stream",
     "text": [
      " 26%|██████████████████▎                                                    | 61612/239040 [4:30:06<2:28:21, 19.93it/s]"
     ]
    },
    {
     "name": "stdout",
     "output_type": "stream",
     "text": [
      "Cannot check for SPDIF\n",
      "Cannot check for SPDIF\n",
      "Cannot check for SPDIF\n",
      "Cannot check for SPDIF\n"
     ]
    },
    {
     "name": "stderr",
     "output_type": "stream",
     "text": [
      " 26%|██████████████████▎                                                    | 61769/239040 [4:30:19<3:11:19, 15.44it/s]"
     ]
    },
    {
     "name": "stdout",
     "output_type": "stream",
     "text": [
      "Cannot check for SPDIF\n",
      "Cannot check for SPDIF\n",
      "Cannot check for SPDIF\n",
      "Cannot check for SPDIF\n"
     ]
    },
    {
     "name": "stderr",
     "output_type": "stream",
     "text": [
      " 26%|██████████████████▋                                                    | 62714/239040 [4:31:29<2:36:09, 18.82it/s]"
     ]
    },
    {
     "name": "stdout",
     "output_type": "stream",
     "text": [
      "Cannot check for SPDIF\n",
      "Cannot check for SPDIF\n",
      "Cannot check for SPDIF\n",
      "Cannot check for SPDIF\n"
     ]
    },
    {
     "name": "stderr",
     "output_type": "stream",
     "text": [
      " 26%|██████████████████▋                                                    | 62724/239040 [4:31:30<8:08:49,  6.01it/s]"
     ]
    },
    {
     "name": "stdout",
     "output_type": "stream",
     "text": [
      "Cannot check for SPDIF\n",
      "Cannot check for SPDIF\n",
      "Cannot check for SPDIF\n",
      "Cannot check for SPDIF\n"
     ]
    },
    {
     "name": "stderr",
     "output_type": "stream",
     "text": [
      " 26%|██████████████████▋                                                    | 63106/239040 [4:31:59<7:03:35,  6.92it/s]"
     ]
    },
    {
     "name": "stdout",
     "output_type": "stream",
     "text": [
      "Cannot check for SPDIF\n",
      "Cannot check for SPDIF\n",
      "Cannot check for SPDIF\n",
      "Cannot check for SPDIF\n"
     ]
    },
    {
     "name": "stderr",
     "output_type": "stream",
     "text": [
      " 26%|██████████████████▊                                                    | 63323/239040 [4:32:15<5:10:22,  9.44it/s]"
     ]
    },
    {
     "name": "stdout",
     "output_type": "stream",
     "text": [
      "Cannot check for SPDIF\n",
      "Cannot check for SPDIF\n",
      "Cannot check for SPDIF\n",
      "Cannot check for SPDIF\n"
     ]
    },
    {
     "name": "stderr",
     "output_type": "stream",
     "text": [
      " 27%|███████████████████                                                    | 64182/239040 [4:33:26<4:01:01, 12.09it/s]"
     ]
    },
    {
     "name": "stdout",
     "output_type": "stream",
     "text": [
      "Cannot check for SPDIF\n",
      "Cannot check for SPDIF\n",
      "Cannot check for SPDIF\n",
      "Cannot check for SPDIF\n"
     ]
    },
    {
     "name": "stderr",
     "output_type": "stream",
     "text": [
      " 27%|███████████████████                                                    | 64208/239040 [4:33:27<2:19:09, 20.94it/s]"
     ]
    },
    {
     "name": "stdout",
     "output_type": "stream",
     "text": [
      "Cannot check for SPDIF\n",
      "Cannot check for SPDIF\n",
      "Cannot check for SPDIF\n",
      "Cannot check for SPDIF\n"
     ]
    },
    {
     "name": "stderr",
     "output_type": "stream",
     "text": [
      " 27%|███████████████████▏                                                   | 64467/239040 [4:33:49<2:16:49, 21.26it/s]"
     ]
    },
    {
     "name": "stdout",
     "output_type": "stream",
     "text": [
      "Cannot check for SPDIF\n",
      "Cannot check for SPDIF\n",
      "Cannot check for SPDIF\n",
      "Cannot check for SPDIF\n"
     ]
    },
    {
     "name": "stderr",
     "output_type": "stream",
     "text": [
      " 27%|███████████████████▏                                                   | 64755/239040 [4:34:16<3:00:53, 16.06it/s]"
     ]
    },
    {
     "name": "stdout",
     "output_type": "stream",
     "text": [
      "Cannot check for SPDIF\n",
      "Cannot check for SPDIF\n"
     ]
    },
    {
     "name": "stderr",
     "output_type": "stream",
     "text": [
      "\r",
      " 27%|███████████████████▏                                                   | 64759/239040 [4:34:16<2:30:13, 19.34it/s]"
     ]
    },
    {
     "name": "stdout",
     "output_type": "stream",
     "text": [
      "Cannot check for SPDIF\n",
      "Cannot check for SPDIF\n",
      "Cannot check for SPDIF\n",
      "Cannot check for SPDIF\n",
      "Cannot check for SPDIF\n",
      "Cannot check for SPDIF\n"
     ]
    },
    {
     "name": "stderr",
     "output_type": "stream",
     "text": [
      " 27%|███████████████████▎                                                   | 64871/239040 [4:34:25<4:40:51, 10.34it/s]"
     ]
    },
    {
     "name": "stdout",
     "output_type": "stream",
     "text": [
      "Cannot check for SPDIF\n",
      "Cannot check for SPDIF\n"
     ]
    },
    {
     "name": "stderr",
     "output_type": "stream",
     "text": [
      "\r",
      " 27%|███████████████████▎                                                   | 64875/239040 [4:34:25<3:30:53, 13.76it/s]"
     ]
    },
    {
     "name": "stdout",
     "output_type": "stream",
     "text": [
      "Cannot check for SPDIF\n",
      "Cannot check for SPDIF\n"
     ]
    },
    {
     "name": "stderr",
     "output_type": "stream",
     "text": [
      " 27%|███████████████████                                                   | 64951/239040 [4:34:32<11:21:21,  4.26it/s]"
     ]
    },
    {
     "name": "stdout",
     "output_type": "stream",
     "text": [
      "Cannot check for SPDIF\n",
      "Cannot check for SPDIF\n",
      "Cannot check for SPDIF\n",
      "Cannot check for SPDIF\n"
     ]
    },
    {
     "name": "stderr",
     "output_type": "stream",
     "text": [
      " 27%|███████████████████▎                                                   | 65028/239040 [4:34:37<2:14:00, 21.64it/s]"
     ]
    },
    {
     "name": "stdout",
     "output_type": "stream",
     "text": [
      "Cannot check for SPDIF\n",
      "Cannot check for SPDIF\n",
      "Cannot check for SPDIF\n",
      "Cannot check for SPDIF\n"
     ]
    },
    {
     "name": "stderr",
     "output_type": "stream",
     "text": [
      " 28%|███████████████████▎                                                  | 65942/239040 [4:37:07<19:33:53,  2.46it/s]"
     ]
    },
    {
     "name": "stdout",
     "output_type": "stream",
     "text": [
      "Cannot check for SPDIF\n",
      "Cannot check for SPDIF\n"
     ]
    },
    {
     "name": "stderr",
     "output_type": "stream",
     "text": [
      "\r",
      " 28%|███████████████████▎                                                  | 65945/239040 [4:37:07<14:55:24,  3.22it/s]"
     ]
    },
    {
     "name": "stdout",
     "output_type": "stream",
     "text": [
      "Cannot check for SPDIF\n",
      "Cannot check for SPDIF\n"
     ]
    },
    {
     "name": "stderr",
     "output_type": "stream",
     "text": [
      " 28%|███████████████████▊                                                   | 66605/239040 [4:46:26<4:32:05, 10.56it/s]"
     ]
    },
    {
     "name": "stdout",
     "output_type": "stream",
     "text": [
      "Cannot check for SPDIF\n",
      "Cannot check for SPDIF\n",
      "Cannot check for SPDIF\n",
      "Cannot check for SPDIF\n"
     ]
    },
    {
     "name": "stderr",
     "output_type": "stream",
     "text": [
      " 28%|████████████████████                                                   | 67756/239040 [4:48:26<2:55:25, 16.27it/s]"
     ]
    },
    {
     "name": "stdout",
     "output_type": "stream",
     "text": [
      "Cannot check for SPDIF\n",
      "Cannot check for SPDIF\n"
     ]
    },
    {
     "name": "stderr",
     "output_type": "stream",
     "text": [
      "\r",
      " 28%|████████████████████▏                                                  | 67759/239040 [4:48:26<2:35:52, 18.31it/s]"
     ]
    },
    {
     "name": "stdout",
     "output_type": "stream",
     "text": [
      "Cannot check for SPDIF\n",
      "Cannot check for SPDIF\n"
     ]
    },
    {
     "name": "stderr",
     "output_type": "stream",
     "text": [
      " 28%|███████████████████▊                                                  | 67818/239040 [4:48:35<17:54:37,  2.66it/s]"
     ]
    },
    {
     "name": "stdout",
     "output_type": "stream",
     "text": [
      "Cannot check for SPDIF\n",
      "Cannot check for SPDIF\n"
     ]
    },
    {
     "name": "stderr",
     "output_type": "stream",
     "text": [
      "\r",
      " 28%|███████████████████▊                                                  | 67821/239040 [4:48:35<13:08:54,  3.62it/s]"
     ]
    },
    {
     "name": "stdout",
     "output_type": "stream",
     "text": [
      "Cannot check for SPDIF\n",
      "Cannot check for SPDIF\n"
     ]
    },
    {
     "name": "stderr",
     "output_type": "stream",
     "text": [
      " 29%|████████████████████▎                                                  | 68234/239040 [4:49:23<3:05:26, 15.35it/s]"
     ]
    },
    {
     "name": "stdout",
     "output_type": "stream",
     "text": [
      "Cannot check for SPDIF\n",
      "Cannot check for SPDIF\n",
      "Cannot check for SPDIF\n",
      "Cannot check for SPDIF\n"
     ]
    },
    {
     "name": "stderr",
     "output_type": "stream",
     "text": [
      " 29%|████████████████████▎                                                  | 68587/239040 [4:50:04<3:01:36, 15.64it/s]"
     ]
    },
    {
     "name": "stdout",
     "output_type": "stream",
     "text": [
      "Cannot check for SPDIF\n",
      "Cannot check for SPDIF\n",
      "Cannot check for SPDIF\n",
      "Cannot check for SPDIF\n"
     ]
    },
    {
     "name": "stderr",
     "output_type": "stream",
     "text": [
      " 29%|████████████████████▍                                                  | 68918/239040 [4:50:43<2:47:58, 16.88it/s]"
     ]
    },
    {
     "name": "stdout",
     "output_type": "stream",
     "text": [
      "Cannot check for SPDIF\n",
      "Cannot check for SPDIF\n",
      "Cannot check for SPDIF\n",
      "Cannot check for SPDIF\n"
     ]
    },
    {
     "name": "stderr",
     "output_type": "stream",
     "text": [
      " 29%|████████████████████▌                                                  | 69224/239040 [4:51:18<2:05:59, 22.46it/s]"
     ]
    },
    {
     "name": "stdout",
     "output_type": "stream",
     "text": [
      "Cannot check for SPDIF\n",
      "Cannot check for SPDIF\n",
      "Cannot check for SPDIF\n",
      "Cannot check for SPDIF\n"
     ]
    },
    {
     "name": "stderr",
     "output_type": "stream",
     "text": [
      " 29%|████████████████████▋                                                  | 69803/239040 [4:52:24<3:18:15, 14.23it/s]"
     ]
    },
    {
     "name": "stdout",
     "output_type": "stream",
     "text": [
      "Cannot check for SPDIF\n",
      "Cannot check for SPDIF\n",
      "Cannot check for SPDIF\n",
      "Cannot check for SPDIF\n"
     ]
    },
    {
     "name": "stderr",
     "output_type": "stream",
     "text": [
      " 29%|████████████████████▊                                                  | 70047/239040 [4:52:52<6:24:52,  7.32it/s]"
     ]
    },
    {
     "name": "stdout",
     "output_type": "stream",
     "text": [
      "Cannot check for SPDIF\n",
      "Cannot check for SPDIF\n",
      "Cannot check for SPDIF\n",
      "Cannot check for SPDIF\n"
     ]
    },
    {
     "name": "stderr",
     "output_type": "stream",
     "text": [
      " 29%|████████████████████▊                                                  | 70134/239040 [4:53:01<5:47:39,  8.10it/s]"
     ]
    },
    {
     "name": "stdout",
     "output_type": "stream",
     "text": [
      "Cannot check for SPDIF\n",
      "Cannot check for SPDIF\n"
     ]
    },
    {
     "name": "stderr",
     "output_type": "stream",
     "text": [
      "\r",
      " 29%|████████████████████▊                                                  | 70137/239040 [4:53:01<5:40:32,  8.27it/s]"
     ]
    },
    {
     "name": "stdout",
     "output_type": "stream",
     "text": [
      "Cannot check for SPDIF\n",
      "Cannot check for SPDIF\n"
     ]
    },
    {
     "name": "stderr",
     "output_type": "stream",
     "text": [
      " 29%|████████████████████▊                                                  | 70185/239040 [4:53:06<3:50:01, 12.23it/s]"
     ]
    },
    {
     "name": "stdout",
     "output_type": "stream",
     "text": [
      "Cannot check for SPDIF\n",
      "Cannot check for SPDIF\n",
      "Cannot check for SPDIF\n",
      "Cannot check for SPDIF\n"
     ]
    },
    {
     "name": "stderr",
     "output_type": "stream",
     "text": [
      " 29%|████████████████████▉                                                  | 70302/239040 [4:53:20<6:50:36,  6.85it/s]"
     ]
    },
    {
     "name": "stdout",
     "output_type": "stream",
     "text": [
      "Cannot check for SPDIF\n",
      "Cannot check for SPDIF\n"
     ]
    },
    {
     "name": "stderr",
     "output_type": "stream",
     "text": [
      "\r",
      " 29%|████████████████████▉                                                  | 70305/239040 [4:53:20<5:31:03,  8.49it/s]"
     ]
    },
    {
     "name": "stdout",
     "output_type": "stream",
     "text": [
      "Cannot check for SPDIF\n",
      "Cannot check for SPDIF\n"
     ]
    },
    {
     "name": "stderr",
     "output_type": "stream",
     "text": [
      " 30%|████████████████████▉                                                 | 71323/239040 [4:55:10<10:03:48,  4.63it/s]"
     ]
    },
    {
     "name": "stdout",
     "output_type": "stream",
     "text": [
      "Cannot check for SPDIF\n",
      "Cannot check for SPDIF\n",
      "Cannot check for SPDIF\n",
      "Cannot check for SPDIF\n"
     ]
    },
    {
     "name": "stderr",
     "output_type": "stream",
     "text": [
      " 30%|████████████████████▊                                                | 72088/239040 [5:01:45<139:11:07,  3.00s/it]"
     ]
    },
    {
     "name": "stdout",
     "output_type": "stream",
     "text": [
      "Cannot check for SPDIF\n",
      "Cannot check for SPDIF\n",
      "Cannot check for SPDIF\n",
      "Cannot check for SPDIF\n"
     ]
    },
    {
     "name": "stderr",
     "output_type": "stream",
     "text": [
      " 30%|█████████████████████▌                                                 | 72403/239040 [5:06:15<6:07:37,  7.55it/s]"
     ]
    },
    {
     "name": "stdout",
     "output_type": "stream",
     "text": [
      "Cannot check for SPDIF\n",
      "Cannot check for SPDIF\n",
      "Cannot check for SPDIF\n",
      "Cannot check for SPDIF\n"
     ]
    },
    {
     "name": "stderr",
     "output_type": "stream",
     "text": [
      " 30%|█████████████████████▌                                                 | 72422/239040 [5:06:16<2:49:41, 16.37it/s]"
     ]
    },
    {
     "name": "stdout",
     "output_type": "stream",
     "text": [
      "Cannot check for SPDIF\n",
      "Cannot check for SPDIF\n",
      "Cannot check for SPDIF\n",
      "Cannot check for SPDIF\n"
     ]
    },
    {
     "name": "stderr",
     "output_type": "stream",
     "text": [
      " 30%|█████████████████████▌                                                 | 72630/239040 [5:06:32<2:16:38, 20.30it/s]"
     ]
    },
    {
     "name": "stdout",
     "output_type": "stream",
     "text": [
      "Cannot check for SPDIF\n",
      "Cannot check for SPDIF\n",
      "Cannot check for SPDIF\n",
      "Cannot check for SPDIF\n"
     ]
    },
    {
     "name": "stderr",
     "output_type": "stream",
     "text": [
      " 30%|█████████████████████▌                                                 | 72660/239040 [5:06:35<3:40:58, 12.55it/s]"
     ]
    },
    {
     "name": "stdout",
     "output_type": "stream",
     "text": [
      "Cannot check for SPDIF\n",
      "Cannot check for SPDIF\n",
      "Cannot check for SPDIF\n",
      "Cannot check for SPDIF\n"
     ]
    },
    {
     "name": "stderr",
     "output_type": "stream",
     "text": [
      "\r",
      " 30%|█████████████████████▌                                                 | 72664/239040 [5:06:35<2:57:07, 15.66it/s]"
     ]
    },
    {
     "name": "stdout",
     "output_type": "stream",
     "text": [
      "Cannot check for SPDIF\n",
      "Cannot check for SPDIF\n",
      "Cannot check for SPDIF\n",
      "Cannot check for SPDIF\n"
     ]
    },
    {
     "name": "stderr",
     "output_type": "stream",
     "text": [
      " 31%|█████████████████████▉                                                 | 73664/239040 [5:07:53<7:07:31,  6.45it/s]"
     ]
    },
    {
     "name": "stdout",
     "output_type": "stream",
     "text": [
      "Cannot check for SPDIF\n",
      "Cannot check for SPDIF\n"
     ]
    },
    {
     "name": "stderr",
     "output_type": "stream",
     "text": [
      "\r",
      " 31%|█████████████████████▉                                                 | 73667/239040 [5:07:53<5:29:28,  8.37it/s]"
     ]
    },
    {
     "name": "stdout",
     "output_type": "stream",
     "text": [
      "Cannot check for SPDIF\n",
      "Cannot check for SPDIF\n"
     ]
    },
    {
     "name": "stderr",
     "output_type": "stream",
     "text": [
      " 31%|█████████████████████▉                                                 | 73818/239040 [5:08:07<1:50:35, 24.90it/s]"
     ]
    },
    {
     "name": "stdout",
     "output_type": "stream",
     "text": [
      "Cannot check for SPDIF\n",
      "Cannot check for SPDIF\n",
      "Cannot check for SPDIF\n",
      "Cannot check for SPDIF\n"
     ]
    },
    {
     "name": "stderr",
     "output_type": "stream",
     "text": [
      " 31%|█████████████████████▉                                                 | 73846/239040 [5:08:10<4:32:05, 10.12it/s]"
     ]
    },
    {
     "name": "stdout",
     "output_type": "stream",
     "text": [
      "Cannot check for SPDIF\n",
      "Cannot check for SPDIF\n"
     ]
    },
    {
     "name": "stderr",
     "output_type": "stream",
     "text": [
      "\r",
      " 31%|█████████████████████▉                                                 | 73849/239040 [5:08:10<3:49:36, 11.99it/s]"
     ]
    },
    {
     "name": "stdout",
     "output_type": "stream",
     "text": [
      "Cannot check for SPDIF\n",
      "Cannot check for SPDIF\n"
     ]
    },
    {
     "name": "stderr",
     "output_type": "stream",
     "text": [
      " 31%|██████████████████████                                                 | 74135/239040 [5:08:38<6:39:57,  6.87it/s]"
     ]
    },
    {
     "name": "stdout",
     "output_type": "stream",
     "text": [
      "Cannot check for SPDIF\n",
      "Cannot check for SPDIF\n",
      "Cannot check for SPDIF\n",
      "Cannot check for SPDIF\n"
     ]
    },
    {
     "name": "stderr",
     "output_type": "stream",
     "text": [
      " 31%|██████████████████████                                                 | 74455/239040 [5:09:10<2:36:22, 17.54it/s]"
     ]
    },
    {
     "name": "stdout",
     "output_type": "stream",
     "text": [
      "Cannot check for SPDIF\n",
      "Cannot check for SPDIF\n",
      "Cannot check for SPDIF\n",
      "Cannot check for SPDIF\n"
     ]
    },
    {
     "name": "stderr",
     "output_type": "stream",
     "text": [
      " 31%|██████████████████████▏                                                | 74551/239040 [5:09:19<2:10:16, 21.04it/s]"
     ]
    },
    {
     "name": "stdout",
     "output_type": "stream",
     "text": [
      "Cannot check for SPDIF\n",
      "Cannot check for SPDIF\n",
      "Cannot check for SPDIF\n",
      "Cannot check for SPDIF\n"
     ]
    },
    {
     "name": "stderr",
     "output_type": "stream",
     "text": [
      " 31%|██████████████████████▏                                                | 74845/239040 [5:09:46<2:07:47, 21.41it/s]"
     ]
    },
    {
     "name": "stdout",
     "output_type": "stream",
     "text": [
      "Cannot check for SPDIF\n",
      "Cannot check for SPDIF\n",
      "Cannot check for SPDIF\n",
      "Cannot check for SPDIF\n"
     ]
    },
    {
     "name": "stderr",
     "output_type": "stream",
     "text": [
      " 31%|██████████████████████▎                                                | 74912/239040 [5:09:53<3:51:56, 11.79it/s]"
     ]
    },
    {
     "name": "stdout",
     "output_type": "stream",
     "text": [
      "Cannot check for SPDIF\n",
      "Cannot check for SPDIF\n"
     ]
    },
    {
     "name": "stderr",
     "output_type": "stream",
     "text": [
      "\r",
      " 31%|██████████████████████▎                                                | 74915/239040 [5:09:54<3:26:00, 13.28it/s]"
     ]
    },
    {
     "name": "stdout",
     "output_type": "stream",
     "text": [
      "Cannot check for SPDIF\n",
      "Cannot check for SPDIF\n"
     ]
    },
    {
     "name": "stderr",
     "output_type": "stream",
     "text": [
      " 31%|██████████████████████▎                                                | 75264/239040 [5:10:31<2:40:49, 16.97it/s]"
     ]
    },
    {
     "name": "stdout",
     "output_type": "stream",
     "text": [
      "Cannot check for SPDIF\n",
      "Cannot check for SPDIF\n",
      "Cannot check for SPDIF\n",
      "Cannot check for SPDIF\n"
     ]
    },
    {
     "name": "stderr",
     "output_type": "stream",
     "text": [
      " 32%|██████████████████████▍                                                | 75527/239040 [5:10:59<2:36:58, 17.36it/s]"
     ]
    },
    {
     "name": "stdout",
     "output_type": "stream",
     "text": [
      "Cannot check for SPDIF\n",
      "Cannot check for SPDIF\n",
      "Cannot check for SPDIF\n",
      "Cannot check for SPDIF\n"
     ]
    },
    {
     "name": "stderr",
     "output_type": "stream",
     "text": [
      " 32%|██████████████████████▎                                               | 76115/239040 [5:14:16<16:22:22,  2.76it/s]"
     ]
    },
    {
     "name": "stdout",
     "output_type": "stream",
     "text": [
      "Cannot check for SPDIF\n",
      "Cannot check for SPDIF\n",
      "Cannot check for SPDIF\n",
      "Cannot check for SPDIF\n"
     ]
    },
    {
     "name": "stderr",
     "output_type": "stream",
     "text": [
      " 32%|██████████████████████▊                                                | 76702/239040 [5:22:41<3:47:40, 11.88it/s]"
     ]
    },
    {
     "name": "stdout",
     "output_type": "stream",
     "text": [
      "Cannot check for SPDIF\n",
      "Cannot check for SPDIF\n"
     ]
    },
    {
     "name": "stderr",
     "output_type": "stream",
     "text": [
      "\r",
      " 32%|██████████████████████▊                                                | 76705/239040 [5:22:41<3:14:48, 13.89it/s]"
     ]
    },
    {
     "name": "stdout",
     "output_type": "stream",
     "text": [
      "Cannot check for SPDIF\n",
      "Cannot check for SPDIF\n"
     ]
    },
    {
     "name": "stderr",
     "output_type": "stream",
     "text": [
      " 32%|██████████████████████▉                                                | 77320/239040 [5:23:34<2:23:13, 18.82it/s]"
     ]
    },
    {
     "name": "stdout",
     "output_type": "stream",
     "text": [
      "Cannot check for SPDIF\n",
      "Cannot check for SPDIF\n"
     ]
    },
    {
     "name": "stderr",
     "output_type": "stream",
     "text": [
      "\r",
      " 32%|██████████████████████▉                                                | 77323/239040 [5:23:35<2:27:20, 18.29it/s]"
     ]
    },
    {
     "name": "stdout",
     "output_type": "stream",
     "text": [
      "Cannot check for SPDIF\n",
      "Cannot check for SPDIF\n"
     ]
    },
    {
     "name": "stderr",
     "output_type": "stream",
     "text": [
      " 33%|███████████████████████                                                | 77789/239040 [5:25:38<5:19:20,  8.42it/s]"
     ]
    },
    {
     "name": "stdout",
     "output_type": "stream",
     "text": [
      "Cannot check for SPDIF\n",
      "Cannot check for SPDIF\n",
      "Cannot check for SPDIF\n",
      "Cannot check for SPDIF\n"
     ]
    },
    {
     "name": "stderr",
     "output_type": "stream",
     "text": [
      " 33%|███████████████████████                                               | 78641/239040 [5:38:36<10:32:51,  4.22it/s]"
     ]
    },
    {
     "name": "stdout",
     "output_type": "stream",
     "text": [
      "Cannot check for SPDIF\n",
      "Cannot check for SPDIF\n"
     ]
    },
    {
     "name": "stderr",
     "output_type": "stream",
     "text": [
      "\r",
      " 33%|███████████████████████▎                                               | 78645/239040 [5:38:36<7:14:05,  6.16it/s]"
     ]
    },
    {
     "name": "stdout",
     "output_type": "stream",
     "text": [
      "Cannot check for SPDIF\n",
      "Cannot check for SPDIF\n"
     ]
    },
    {
     "name": "stderr",
     "output_type": "stream",
     "text": [
      " 33%|███████████████████████▎                                               | 78674/239040 [5:38:37<2:30:45, 17.73it/s]"
     ]
    },
    {
     "name": "stdout",
     "output_type": "stream",
     "text": [
      "Cannot check for SPDIF\n",
      "Cannot check for SPDIF\n",
      "Cannot check for SPDIF\n",
      "Cannot check for SPDIF\n"
     ]
    },
    {
     "name": "stderr",
     "output_type": "stream",
     "text": [
      " 33%|███████████████████████▍                                               | 78802/239040 [5:38:47<2:03:26, 21.63it/s]"
     ]
    },
    {
     "name": "stdout",
     "output_type": "stream",
     "text": [
      "Cannot check for SPDIF\n",
      "Cannot check for SPDIF\n",
      "Cannot check for SPDIF\n",
      "Cannot check for SPDIF\n"
     ]
    },
    {
     "name": "stderr",
     "output_type": "stream",
     "text": [
      " 33%|███████████████████████▍                                               | 78892/239040 [5:38:54<2:46:00, 16.08it/s]"
     ]
    },
    {
     "name": "stdout",
     "output_type": "stream",
     "text": [
      "Cannot check for SPDIF\n",
      "Cannot check for SPDIF\n",
      "Cannot check for SPDIF\n",
      "Cannot check for SPDIF\n"
     ]
    },
    {
     "name": "stderr",
     "output_type": "stream",
     "text": [
      " 33%|███████████████████████▋                                               | 79784/239040 [5:40:17<2:20:06, 18.94it/s]"
     ]
    },
    {
     "name": "stdout",
     "output_type": "stream",
     "text": [
      "Cannot check for SPDIF\n",
      "Cannot check for SPDIF\n",
      "Cannot check for SPDIF\n",
      "Cannot check for SPDIF\n"
     ]
    },
    {
     "name": "stderr",
     "output_type": "stream",
     "text": [
      " 33%|███████████████████████▋                                               | 79934/239040 [5:40:32<4:43:46,  9.34it/s]"
     ]
    },
    {
     "name": "stdout",
     "output_type": "stream",
     "text": [
      "Cannot check for SPDIF\n",
      "Cannot check for SPDIF\n",
      "Cannot check for SPDIF\n",
      "Cannot check for SPDIF\n"
     ]
    },
    {
     "name": "stderr",
     "output_type": "stream",
     "text": [
      " 34%|███████████████████████▊                                               | 80126/239040 [5:40:49<2:06:24, 20.95it/s]"
     ]
    },
    {
     "name": "stdout",
     "output_type": "stream",
     "text": [
      "Cannot check for SPDIF\n",
      "Cannot check for SPDIF\n",
      "Cannot check for SPDIF\n",
      "Cannot check for SPDIF\n"
     ]
    },
    {
     "name": "stderr",
     "output_type": "stream",
     "text": [
      " 34%|████████████████████████▏                                              | 81274/239040 [5:43:07<2:49:04, 15.55it/s]"
     ]
    },
    {
     "name": "stdout",
     "output_type": "stream",
     "text": [
      "Cannot check for SPDIF\n",
      "Cannot check for SPDIF\n",
      "Cannot check for SPDIF\n",
      "Cannot check for SPDIF\n"
     ]
    },
    {
     "name": "stderr",
     "output_type": "stream",
     "text": [
      " 34%|████████████████████████▏                                              | 81599/239040 [5:43:55<7:03:10,  6.20it/s]"
     ]
    },
    {
     "name": "stdout",
     "output_type": "stream",
     "text": [
      "Cannot check for SPDIF\n",
      "Cannot check for SPDIF\n",
      "Cannot check for SPDIF\n",
      "Cannot check for SPDIF\n"
     ]
    },
    {
     "name": "stderr",
     "output_type": "stream",
     "text": [
      " 34%|████████████████████████▍                                              | 82124/239040 [5:45:07<3:36:31, 12.08it/s]"
     ]
    },
    {
     "name": "stdout",
     "output_type": "stream",
     "text": [
      "Cannot check for SPDIF\n",
      "Cannot check for SPDIF\n",
      "Cannot check for SPDIF\n",
      "Cannot check for SPDIF\n"
     ]
    },
    {
     "name": "stderr",
     "output_type": "stream",
     "text": [
      " 35%|████████████████████████▏                                             | 82532/239040 [5:46:04<12:16:04,  3.54it/s]"
     ]
    },
    {
     "name": "stdout",
     "output_type": "stream",
     "text": [
      "Cannot check for SPDIF\n",
      "Cannot check for SPDIF\n",
      "Cannot check for SPDIF\n",
      "Cannot check for SPDIF\n"
     ]
    },
    {
     "name": "stderr",
     "output_type": "stream",
     "text": [
      " 35%|████████████████████████▋                                              | 83008/239040 [5:47:07<5:35:11,  7.76it/s]"
     ]
    },
    {
     "name": "stdout",
     "output_type": "stream",
     "text": [
      "Cannot check for SPDIF\n",
      "Cannot check for SPDIF\n",
      "Cannot check for SPDIF\n",
      "Cannot check for SPDIF\n"
     ]
    },
    {
     "name": "stderr",
     "output_type": "stream",
     "text": [
      " 35%|████████████████████████▊                                              | 83359/239040 [5:47:52<3:17:55, 13.11it/s]"
     ]
    },
    {
     "name": "stdout",
     "output_type": "stream",
     "text": [
      "Cannot check for SPDIF\n",
      "Cannot check for SPDIF\n"
     ]
    },
    {
     "name": "stderr",
     "output_type": "stream",
     "text": [
      "\r",
      " 35%|████████████████████████▊                                              | 83363/239040 [5:47:52<2:34:52, 16.75it/s]"
     ]
    },
    {
     "name": "stdout",
     "output_type": "stream",
     "text": [
      "Cannot check for SPDIF\n",
      "Cannot check for SPDIF\n"
     ]
    },
    {
     "name": "stderr",
     "output_type": "stream",
     "text": [
      " 35%|████████████████████████▊                                              | 83392/239040 [5:47:57<7:28:43,  5.78it/s]"
     ]
    },
    {
     "name": "stdout",
     "output_type": "stream",
     "text": [
      "Cannot check for SPDIF\n",
      "Cannot check for SPDIF\n",
      "Cannot check for SPDIF\n",
      "Cannot check for SPDIF\n"
     ]
    },
    {
     "name": "stderr",
     "output_type": "stream",
     "text": [
      " 35%|████████████████████████▍                                             | 83475/239040 [5:48:08<13:01:19,  3.32it/s]"
     ]
    },
    {
     "name": "stdout",
     "output_type": "stream",
     "text": [
      "Cannot check for SPDIF\n",
      "Cannot check for SPDIF\n"
     ]
    },
    {
     "name": "stderr",
     "output_type": "stream",
     "text": [
      " 35%|████████████████████████▊                                              | 83548/239040 [5:48:15<1:49:49, 23.60it/s]"
     ]
    },
    {
     "name": "stdout",
     "output_type": "stream",
     "text": [
      "Cannot check for SPDIF\n",
      "Cannot check for SPDIF\n",
      "Cannot check for SPDIF\n",
      "Cannot check for SPDIF\n"
     ]
    },
    {
     "name": "stderr",
     "output_type": "stream",
     "text": [
      " 35%|████████████████████████▊                                              | 83599/239040 [5:48:57<3:46:18, 11.45it/s]"
     ]
    },
    {
     "name": "stdout",
     "output_type": "stream",
     "text": [
      "Cannot check for SPDIF\n",
      "Cannot check for SPDIF\n",
      "Cannot check for SPDIF\n",
      "Cannot check for SPDIF\n"
     ]
    },
    {
     "name": "stderr",
     "output_type": "stream",
     "text": [
      " 35%|████████████████████████▏                                            | 83648/239040 [5:50:19<102:49:02,  2.38s/it]"
     ]
    },
    {
     "name": "stdout",
     "output_type": "stream",
     "text": [
      "Cannot check for SPDIF\n",
      "Cannot check for SPDIF\n",
      "Cannot check for SPDIF\n",
      "Cannot check for SPDIF\n"
     ]
    },
    {
     "name": "stderr",
     "output_type": "stream",
     "text": [
      " 35%|████████████████████████▉                                              | 83937/239040 [5:54:30<5:57:11,  7.24it/s]"
     ]
    },
    {
     "name": "stdout",
     "output_type": "stream",
     "text": [
      "Cannot check for SPDIF\n",
      "Cannot check for SPDIF\n"
     ]
    },
    {
     "name": "stderr",
     "output_type": "stream",
     "text": [
      "\r",
      " 35%|████████████████████████▉                                              | 83941/239040 [5:54:30<4:22:56,  9.83it/s]"
     ]
    },
    {
     "name": "stdout",
     "output_type": "stream",
     "text": [
      "Cannot check for SPDIF\n",
      "Cannot check for SPDIF\n"
     ]
    },
    {
     "name": "stderr",
     "output_type": "stream",
     "text": [
      " 35%|█████████████████████████                                              | 84370/239040 [5:58:56<1:46:20, 24.24it/s]"
     ]
    },
    {
     "name": "stdout",
     "output_type": "stream",
     "text": [
      "Cannot check for SPDIF\n",
      "Cannot check for SPDIF\n",
      "Cannot check for SPDIF\n",
      "Cannot check for SPDIF\n"
     ]
    },
    {
     "name": "stderr",
     "output_type": "stream",
     "text": [
      " 35%|█████████████████████████▏                                             | 84793/239040 [5:59:32<1:53:48, 22.59it/s]"
     ]
    },
    {
     "name": "stdout",
     "output_type": "stream",
     "text": [
      "Cannot check for SPDIF\n",
      "Cannot check for SPDIF\n",
      "Cannot check for SPDIF\n",
      "Cannot check for SPDIF\n"
     ]
    },
    {
     "name": "stderr",
     "output_type": "stream",
     "text": [
      " 36%|█████████████████████████▍                                             | 85455/239040 [6:00:34<3:21:03, 12.73it/s]"
     ]
    },
    {
     "name": "stdout",
     "output_type": "stream",
     "text": [
      "Cannot check for SPDIF\n",
      "Cannot check for SPDIF\n"
     ]
    },
    {
     "name": "stderr",
     "output_type": "stream",
     "text": [
      "\r",
      " 36%|█████████████████████████▍                                             | 85459/239040 [6:00:34<2:38:51, 16.11it/s]"
     ]
    },
    {
     "name": "stdout",
     "output_type": "stream",
     "text": [
      "Cannot check for SPDIF\n",
      "Cannot check for SPDIF\n"
     ]
    },
    {
     "name": "stderr",
     "output_type": "stream",
     "text": [
      " 36%|█████████████████████████▌                                             | 86108/239040 [6:01:39<1:55:04, 22.15it/s]"
     ]
    },
    {
     "name": "stdout",
     "output_type": "stream",
     "text": [
      "Cannot check for SPDIF\n",
      "Cannot check for SPDIF\n",
      "Cannot check for SPDIF\n",
      "Cannot check for SPDIF\n"
     ]
    },
    {
     "name": "stderr",
     "output_type": "stream",
     "text": [
      " 36%|█████████████████████████▌                                             | 86192/239040 [6:01:47<2:18:21, 18.41it/s]"
     ]
    },
    {
     "name": "stdout",
     "output_type": "stream",
     "text": [
      "Cannot check for SPDIF\n",
      "Cannot check for SPDIF\n",
      "Cannot check for SPDIF\n",
      "Cannot check for SPDIF\n"
     ]
    },
    {
     "name": "stderr",
     "output_type": "stream",
     "text": [
      " 36%|█████████████████████████▌                                             | 86273/239040 [6:01:55<2:32:58, 16.64it/s]"
     ]
    },
    {
     "name": "stdout",
     "output_type": "stream",
     "text": [
      "Cannot check for SPDIF\n",
      "Cannot check for SPDIF\n",
      "Cannot check for SPDIF\n",
      "Cannot check for SPDIF\n"
     ]
    },
    {
     "name": "stderr",
     "output_type": "stream",
     "text": [
      " 36%|█████████████████████████▍                                            | 86973/239040 [6:03:05<13:01:58,  3.24it/s]"
     ]
    },
    {
     "name": "stdout",
     "output_type": "stream",
     "text": [
      "Cannot check for SPDIF\n",
      "Cannot check for SPDIF\n"
     ]
    },
    {
     "name": "stderr",
     "output_type": "stream",
     "text": [
      "\r",
      " 36%|█████████████████████████▊                                             | 86977/239040 [6:03:05<8:29:44,  4.97it/s]"
     ]
    },
    {
     "name": "stdout",
     "output_type": "stream",
     "text": [
      "Cannot check for SPDIF\n",
      "Cannot check for SPDIF\n"
     ]
    },
    {
     "name": "stderr",
     "output_type": "stream",
     "text": [
      " 37%|█████████████████████████▉                                             | 87402/239040 [6:03:48<9:29:25,  4.44it/s]"
     ]
    },
    {
     "name": "stdout",
     "output_type": "stream",
     "text": [
      "Cannot check for SPDIF\n",
      "Cannot check for SPDIF\n",
      "Cannot check for SPDIF\n",
      "Cannot check for SPDIF\n"
     ]
    },
    {
     "name": "stderr",
     "output_type": "stream",
     "text": [
      " 37%|█████████████████████████▊                                            | 88039/239040 [6:04:48<11:20:43,  3.70it/s]"
     ]
    },
    {
     "name": "stdout",
     "output_type": "stream",
     "text": [
      "Cannot check for SPDIF\n",
      "Cannot check for SPDIF\n",
      "Cannot check for SPDIF\n",
      "Cannot check for SPDIF\n"
     ]
    },
    {
     "name": "stderr",
     "output_type": "stream",
     "text": [
      " 37%|██████████████████████████▏                                            | 88126/239040 [6:04:57<9:20:11,  4.49it/s]"
     ]
    },
    {
     "name": "stdout",
     "output_type": "stream",
     "text": [
      "Cannot check for SPDIF\n",
      "Cannot check for SPDIF\n",
      "Cannot check for SPDIF\n",
      "Cannot check for SPDIF\n"
     ]
    },
    {
     "name": "stderr",
     "output_type": "stream",
     "text": [
      " 37%|██████████████████████████▍                                            | 88826/239040 [6:06:03<3:05:52, 13.47it/s]"
     ]
    },
    {
     "name": "stdout",
     "output_type": "stream",
     "text": [
      "Cannot check for SPDIF\n",
      "Cannot check for SPDIF\n",
      "Cannot check for SPDIF\n",
      "Cannot check for SPDIF\n"
     ]
    },
    {
     "name": "stderr",
     "output_type": "stream",
     "text": [
      " 37%|██████████████████████████▍                                            | 88884/239040 [6:06:07<1:49:46, 22.80it/s]"
     ]
    },
    {
     "name": "stdout",
     "output_type": "stream",
     "text": [
      "Cannot check for SPDIF\n",
      "Cannot check for SPDIF\n",
      "Cannot check for SPDIF\n",
      "Cannot check for SPDIF\n"
     ]
    },
    {
     "name": "stderr",
     "output_type": "stream",
     "text": [
      " 37%|██████████████████████████▍                                            | 89013/239040 [6:06:19<1:49:01, 22.93it/s]"
     ]
    },
    {
     "name": "stdout",
     "output_type": "stream",
     "text": [
      "Cannot check for SPDIF\n",
      "Cannot check for SPDIF\n",
      "Cannot check for SPDIF\n",
      "Cannot check for SPDIF\n"
     ]
    },
    {
     "name": "stderr",
     "output_type": "stream",
     "text": [
      " 37%|██████████████████████████▌                                            | 89376/239040 [6:06:52<2:47:31, 14.89it/s]"
     ]
    },
    {
     "name": "stdout",
     "output_type": "stream",
     "text": [
      "Cannot check for SPDIF\n",
      "Cannot check for SPDIF\n",
      "Cannot check for SPDIF\n",
      "Cannot check for SPDIF\n"
     ]
    },
    {
     "name": "stderr",
     "output_type": "stream",
     "text": [
      " 38%|██████████████████████████▋                                            | 89655/239040 [6:07:11<1:46:59, 23.27it/s]"
     ]
    },
    {
     "name": "stdout",
     "output_type": "stream",
     "text": [
      "Cannot check for SPDIF\n",
      "Cannot check for SPDIF\n",
      "Cannot check for SPDIF\n",
      "Cannot check for SPDIF\n"
     ]
    },
    {
     "name": "stderr",
     "output_type": "stream",
     "text": [
      " 38%|██████████████████████████▋                                            | 89963/239040 [6:07:36<5:26:48,  7.60it/s]"
     ]
    },
    {
     "name": "stdout",
     "output_type": "stream",
     "text": [
      "Cannot check for SPDIF\n",
      "Cannot check for SPDIF\n",
      "Cannot check for SPDIF\n",
      "Cannot check for SPDIF\n"
     ]
    },
    {
     "name": "stderr",
     "output_type": "stream",
     "text": [
      " 38%|██████████████████████████▊                                            | 90122/239040 [6:07:47<2:00:46, 20.55it/s]"
     ]
    },
    {
     "name": "stdout",
     "output_type": "stream",
     "text": [
      "Cannot check for SPDIF\n",
      "Cannot check for SPDIF\n",
      "Cannot check for SPDIF\n",
      "Cannot check for SPDIF\n"
     ]
    },
    {
     "name": "stderr",
     "output_type": "stream",
     "text": [
      " 38%|██████████████████████████▊                                            | 90283/239040 [6:08:01<2:30:02, 16.52it/s]"
     ]
    },
    {
     "name": "stdout",
     "output_type": "stream",
     "text": [
      "Cannot check for SPDIF\n",
      "Cannot check for SPDIF\n",
      "Cannot check for SPDIF\n",
      "Cannot check for SPDIF\n"
     ]
    },
    {
     "name": "stderr",
     "output_type": "stream",
     "text": [
      " 38%|██████████████████████████▊                                            | 90402/239040 [6:08:13<4:11:05,  9.87it/s]"
     ]
    },
    {
     "name": "stdout",
     "output_type": "stream",
     "text": [
      "Cannot check for SPDIF\n",
      "Cannot check for SPDIF\n"
     ]
    },
    {
     "name": "stderr",
     "output_type": "stream",
     "text": [
      "\r",
      " 38%|██████████████████████████▊                                            | 90405/239040 [6:08:13<3:19:29, 12.42it/s]"
     ]
    },
    {
     "name": "stdout",
     "output_type": "stream",
     "text": [
      "Cannot check for SPDIF\n",
      "Cannot check for SPDIF\n"
     ]
    },
    {
     "name": "stderr",
     "output_type": "stream",
     "text": [
      " 38%|██████████████████████████▉                                            | 90624/239040 [6:08:32<2:31:26, 16.33it/s]"
     ]
    },
    {
     "name": "stdout",
     "output_type": "stream",
     "text": [
      "Cannot check for SPDIF\n",
      "Cannot check for SPDIF\n",
      "Cannot check for SPDIF\n",
      "Cannot check for SPDIF\n"
     ]
    },
    {
     "name": "stderr",
     "output_type": "stream",
     "text": [
      " 38%|██████████████████████████▉                                            | 90885/239040 [6:08:55<2:08:29, 19.22it/s]"
     ]
    },
    {
     "name": "stdout",
     "output_type": "stream",
     "text": [
      "Cannot check for SPDIF\n",
      "Cannot check for SPDIF\n",
      "Cannot check for SPDIF\n",
      "Cannot check for SPDIF\n"
     ]
    },
    {
     "name": "stderr",
     "output_type": "stream",
     "text": [
      " 38%|███████████████████████████                                            | 90935/239040 [6:08:59<2:12:36, 18.61it/s]"
     ]
    },
    {
     "name": "stdout",
     "output_type": "stream",
     "text": [
      "Cannot check for SPDIF\n",
      "Cannot check for SPDIF\n",
      "Cannot check for SPDIF\n",
      "Cannot check for SPDIF\n"
     ]
    },
    {
     "name": "stderr",
     "output_type": "stream",
     "text": [
      " 38%|███████████████████████████                                            | 91086/239040 [6:09:13<4:44:54,  8.66it/s]"
     ]
    },
    {
     "name": "stdout",
     "output_type": "stream",
     "text": [
      "Cannot check for SPDIF\n",
      "Cannot check for SPDIF\n",
      "Cannot check for SPDIF\n",
      "Cannot check for SPDIF\n"
     ]
    },
    {
     "name": "stderr",
     "output_type": "stream",
     "text": [
      " 38%|███████████████████████████                                            | 91158/239040 [6:09:18<1:48:00, 22.82it/s]"
     ]
    },
    {
     "name": "stdout",
     "output_type": "stream",
     "text": [
      "Cannot check for SPDIF\n",
      "Cannot check for SPDIF\n"
     ]
    },
    {
     "name": "stderr",
     "output_type": "stream",
     "text": [
      "\r",
      " 38%|███████████████████████████                                            | 91161/239040 [6:09:18<1:48:35, 22.70it/s]"
     ]
    },
    {
     "name": "stdout",
     "output_type": "stream",
     "text": [
      "Cannot check for SPDIF\n",
      "Cannot check for SPDIF\n"
     ]
    },
    {
     "name": "stderr",
     "output_type": "stream",
     "text": [
      " 38%|███████████████████████████                                            | 91198/239040 [6:09:21<2:14:39, 18.30it/s]"
     ]
    },
    {
     "name": "stdout",
     "output_type": "stream",
     "text": [
      "Cannot check for SPDIF\n",
      "Cannot check for SPDIF\n",
      "Cannot check for SPDIF\n",
      "Cannot check for SPDIF\n"
     ]
    },
    {
     "name": "stderr",
     "output_type": "stream",
     "text": [
      " 38%|███████████████████████████                                            | 91315/239040 [6:09:32<2:35:08, 15.87it/s]"
     ]
    },
    {
     "name": "stdout",
     "output_type": "stream",
     "text": [
      "Cannot check for SPDIF\n",
      "Cannot check for SPDIF\n",
      "Cannot check for SPDIF\n",
      "Cannot check for SPDIF\n"
     ]
    },
    {
     "name": "stderr",
     "output_type": "stream",
     "text": [
      " 38%|███████████████████████████▎                                           | 91813/239040 [6:10:23<6:10:08,  6.63it/s]"
     ]
    },
    {
     "name": "stdout",
     "output_type": "stream",
     "text": [
      "Cannot check for SPDIF\n",
      "Cannot check for SPDIF\n",
      "Cannot check for SPDIF\n",
      "Cannot check for SPDIF\n"
     ]
    },
    {
     "name": "stderr",
     "output_type": "stream",
     "text": [
      " 38%|███████████████████████████▎                                           | 91981/239040 [6:10:40<7:42:36,  5.30it/s]"
     ]
    },
    {
     "name": "stdout",
     "output_type": "stream",
     "text": [
      "Cannot check for SPDIF\n",
      "Cannot check for SPDIF\n"
     ]
    },
    {
     "name": "stderr",
     "output_type": "stream",
     "text": [
      " 39%|███████████████████████████▍                                           | 92411/239040 [6:11:35<6:48:05,  5.99it/s]"
     ]
    },
    {
     "name": "stdout",
     "output_type": "stream",
     "text": [
      "Cannot check for SPDIF\n",
      "Cannot check for SPDIF\n",
      "Cannot check for SPDIF\n",
      "Cannot check for SPDIF\n"
     ]
    },
    {
     "name": "stderr",
     "output_type": "stream",
     "text": [
      " 39%|███████████████████████████▌                                           | 92749/239040 [6:12:21<6:36:39,  6.15it/s]"
     ]
    },
    {
     "name": "stdout",
     "output_type": "stream",
     "text": [
      "Cannot check for SPDIF\n",
      "Cannot check for SPDIF\n",
      "Cannot check for SPDIF\n",
      "Cannot check for SPDIF\n"
     ]
    },
    {
     "name": "stderr",
     "output_type": "stream",
     "text": [
      " 39%|███████████████████████████▋                                           | 93295/239040 [6:13:36<8:53:36,  4.55it/s]"
     ]
    },
    {
     "name": "stdout",
     "output_type": "stream",
     "text": [
      "Cannot check for SPDIF\n",
      "Cannot check for SPDIF\n",
      "Cannot check for SPDIF\n",
      "Cannot check for SPDIF\n"
     ]
    },
    {
     "name": "stderr",
     "output_type": "stream",
     "text": [
      " 39%|███████████████████████████▊                                           | 93437/239040 [6:13:54<3:51:17, 10.49it/s]"
     ]
    },
    {
     "name": "stdout",
     "output_type": "stream",
     "text": [
      "Cannot check for SPDIF\n",
      "Cannot check for SPDIF\n",
      "Cannot check for SPDIF\n",
      "Cannot check for SPDIF\n"
     ]
    },
    {
     "name": "stderr",
     "output_type": "stream",
     "text": [
      " 39%|███████████████████████████▊                                           | 93659/239040 [6:14:22<2:17:10, 17.66it/s]"
     ]
    },
    {
     "name": "stdout",
     "output_type": "stream",
     "text": [
      "Cannot check for SPDIF\n",
      "Cannot check for SPDIF\n"
     ]
    },
    {
     "name": "stderr",
     "output_type": "stream",
     "text": [
      " 39%|███████████████████████████▊                                           | 93709/239040 [6:14:27<1:43:21, 23.44it/s]"
     ]
    },
    {
     "name": "stdout",
     "output_type": "stream",
     "text": [
      "Cannot check for SPDIF\n",
      "Cannot check for SPDIF\n",
      "Cannot check for SPDIF\n",
      "Cannot check for SPDIF\n"
     ]
    },
    {
     "name": "stderr",
     "output_type": "stream",
     "text": [
      " 39%|███████████████████████████▊                                           | 93798/239040 [6:14:38<2:06:55, 19.07it/s]"
     ]
    },
    {
     "name": "stdout",
     "output_type": "stream",
     "text": [
      "Cannot check for SPDIF\n",
      "Cannot check for SPDIF\n",
      "Cannot check for SPDIF\n",
      "Cannot check for SPDIF\n"
     ]
    },
    {
     "name": "stderr",
     "output_type": "stream",
     "text": [
      " 39%|███████████████████████████▊                                           | 93824/239040 [6:14:42<2:26:32, 16.52it/s]"
     ]
    },
    {
     "name": "stdout",
     "output_type": "stream",
     "text": [
      "Cannot check for SPDIF\n",
      "Cannot check for SPDIF\n"
     ]
    },
    {
     "name": "stderr",
     "output_type": "stream",
     "text": [
      "\r",
      " 39%|███████████████████████████▊                                           | 93827/239040 [6:14:42<2:12:57, 18.20it/s]"
     ]
    },
    {
     "name": "stdout",
     "output_type": "stream",
     "text": [
      "Cannot check for SPDIF\n",
      "Cannot check for SPDIF\n"
     ]
    },
    {
     "name": "stderr",
     "output_type": "stream",
     "text": [
      " 39%|███████████████████████████▉                                           | 94086/239040 [6:15:15<2:08:30, 18.80it/s]"
     ]
    },
    {
     "name": "stdout",
     "output_type": "stream",
     "text": [
      "Cannot check for SPDIF\n",
      "Cannot check for SPDIF\n",
      "Cannot check for SPDIF\n",
      "Cannot check for SPDIF\n"
     ]
    },
    {
     "name": "stderr",
     "output_type": "stream",
     "text": [
      " 39%|███████████████████████████▉                                           | 94134/239040 [6:15:20<1:48:27, 22.27it/s]"
     ]
    },
    {
     "name": "stdout",
     "output_type": "stream",
     "text": [
      "Cannot check for SPDIF\n",
      "Cannot check for SPDIF\n",
      "Cannot check for SPDIF\n",
      "Cannot check for SPDIF\n"
     ]
    },
    {
     "name": "stderr",
     "output_type": "stream",
     "text": [
      " 39%|████████████████████████████                                           | 94323/239040 [6:15:45<6:33:09,  6.13it/s]"
     ]
    },
    {
     "name": "stdout",
     "output_type": "stream",
     "text": [
      "Cannot check for SPDIF\n",
      "Cannot check for SPDIF\n",
      "Cannot check for SPDIF\n",
      "Cannot check for SPDIF\n"
     ]
    },
    {
     "name": "stderr",
     "output_type": "stream",
     "text": [
      " 40%|████████████████████████████                                           | 94511/239040 [6:16:07<2:17:15, 17.55it/s]"
     ]
    },
    {
     "name": "stdout",
     "output_type": "stream",
     "text": [
      "Cannot check for SPDIF\n",
      "Cannot check for SPDIF\n",
      "Cannot check for SPDIF\n",
      "Cannot check for SPDIF\n"
     ]
    },
    {
     "name": "stderr",
     "output_type": "stream",
     "text": [
      " 40%|████████████████████████████                                           | 94638/239040 [6:16:23<2:44:51, 14.60it/s]"
     ]
    },
    {
     "name": "stdout",
     "output_type": "stream",
     "text": [
      "Cannot check for SPDIF\n",
      "Cannot check for SPDIF\n",
      "Cannot check for SPDIF\n",
      "Cannot check for SPDIF\n"
     ]
    },
    {
     "name": "stderr",
     "output_type": "stream",
     "text": [
      " 40%|████████████████████████████▏                                          | 94875/239040 [6:16:47<4:51:48,  8.23it/s]"
     ]
    },
    {
     "name": "stdout",
     "output_type": "stream",
     "text": [
      "Cannot check for SPDIF\n",
      "Cannot check for SPDIF\n",
      "Cannot check for SPDIF\n",
      "Cannot check for SPDIF\n"
     ]
    },
    {
     "name": "stderr",
     "output_type": "stream",
     "text": [
      " 40%|████████████████████████████▏                                          | 95106/239040 [6:17:04<2:21:33, 16.95it/s]"
     ]
    },
    {
     "name": "stdout",
     "output_type": "stream",
     "text": [
      "Cannot check for SPDIF\n",
      "Cannot check for SPDIF\n"
     ]
    },
    {
     "name": "stderr",
     "output_type": "stream",
     "text": [
      "\r",
      " 40%|████████████████████████████▏                                          | 95109/239040 [6:17:04<2:09:49, 18.48it/s]"
     ]
    },
    {
     "name": "stdout",
     "output_type": "stream",
     "text": [
      "Cannot check for SPDIF\n",
      "Cannot check for SPDIF\n"
     ]
    },
    {
     "name": "stderr",
     "output_type": "stream",
     "text": [
      " 40%|████████████████████████████▎                                          | 95397/239040 [6:17:30<4:42:43,  8.47it/s]"
     ]
    },
    {
     "name": "stdout",
     "output_type": "stream",
     "text": [
      "Cannot check for SPDIF\n",
      "Cannot check for SPDIF\n",
      "Cannot check for SPDIF\n",
      "Cannot check for SPDIF\n"
     ]
    },
    {
     "name": "stderr",
     "output_type": "stream",
     "text": [
      " 40%|████████████████████████████▎                                          | 95494/239040 [6:17:39<2:29:36, 15.99it/s]"
     ]
    },
    {
     "name": "stdout",
     "output_type": "stream",
     "text": [
      "Cannot check for SPDIF\n",
      "Cannot check for SPDIF\n",
      "Cannot check for SPDIF\n",
      "Cannot check for SPDIF\n"
     ]
    },
    {
     "name": "stderr",
     "output_type": "stream",
     "text": [
      " 40%|████████████████████████████▍                                          | 95879/239040 [6:18:16<2:08:31, 18.57it/s]"
     ]
    },
    {
     "name": "stdout",
     "output_type": "stream",
     "text": [
      "Cannot check for SPDIF\n",
      "Cannot check for SPDIF\n",
      "Cannot check for SPDIF\n",
      "Cannot check for SPDIF\n"
     ]
    },
    {
     "name": "stderr",
     "output_type": "stream",
     "text": [
      " 40%|████████████████████████████▏                                         | 96281/239040 [6:24:05<81:39:16,  2.06s/it]"
     ]
    },
    {
     "name": "stdout",
     "output_type": "stream",
     "text": [
      "Cannot check for SPDIF\n",
      "Cannot check for SPDIF\n",
      "Cannot check for SPDIF\n",
      "Cannot check for SPDIF\n"
     ]
    },
    {
     "name": "stderr",
     "output_type": "stream",
     "text": [
      " 40%|███████████████████████████▊                                         | 96320/239040 [6:24:51<196:03:58,  4.95s/it]"
     ]
    },
    {
     "name": "stdout",
     "output_type": "stream",
     "text": [
      "Cannot check for SPDIF\n",
      "Cannot check for SPDIF\n",
      "Cannot check for SPDIF\n",
      "Cannot check for SPDIF\n"
     ]
    },
    {
     "name": "stderr",
     "output_type": "stream",
     "text": [
      " 40%|████████████████████████████▏                                         | 96332/239040 [6:24:52<55:18:33,  1.40s/it]"
     ]
    },
    {
     "name": "stdout",
     "output_type": "stream",
     "text": [
      "Cannot check for SPDIF\n",
      "Cannot check for SPDIF\n",
      "Cannot check for SPDIF\n",
      "Cannot check for SPDIF\n"
     ]
    },
    {
     "name": "stderr",
     "output_type": "stream",
     "text": [
      " 40%|████████████████████████████▏                                         | 96339/239040 [6:24:52<27:49:57,  1.42it/s]"
     ]
    },
    {
     "name": "stdout",
     "output_type": "stream",
     "text": [
      "Cannot check for SPDIF\n",
      "Cannot check for SPDIF\n",
      "Cannot check for SPDIF\n",
      "Cannot check for SPDIF\n"
     ]
    },
    {
     "name": "stderr",
     "output_type": "stream",
     "text": [
      " 41%|████████████████████████████▍                                         | 97196/239040 [6:39:16<12:20:35,  3.19it/s]"
     ]
    },
    {
     "name": "stdout",
     "output_type": "stream",
     "text": [
      "Cannot check for SPDIF\n",
      "Cannot check for SPDIF\n"
     ]
    },
    {
     "name": "stderr",
     "output_type": "stream",
     "text": [
      "\r",
      " 41%|████████████████████████████▊                                          | 97201/239040 [6:39:16<8:09:20,  4.83it/s]"
     ]
    },
    {
     "name": "stdout",
     "output_type": "stream",
     "text": [
      "Cannot check for SPDIF\n",
      "Cannot check for SPDIF\n"
     ]
    },
    {
     "name": "stderr",
     "output_type": "stream",
     "text": [
      " 41%|████████████████████████████▌                                         | 97450/239040 [6:43:22<14:41:43,  2.68it/s]"
     ]
    },
    {
     "name": "stdout",
     "output_type": "stream",
     "text": [
      "Cannot check for SPDIF\n",
      "Cannot check for SPDIF\n",
      "Cannot check for SPDIF\n",
      "Cannot check for SPDIF\n"
     ]
    },
    {
     "name": "stderr",
     "output_type": "stream",
     "text": [
      " 41%|████████████████████████████▌                                         | 97563/239040 [6:45:19<51:42:13,  1.32s/it]"
     ]
    },
    {
     "name": "stdout",
     "output_type": "stream",
     "text": [
      "Cannot check for SPDIF\n",
      "Cannot check for SPDIF\n"
     ]
    },
    {
     "name": "stderr",
     "output_type": "stream",
     "text": [
      " 41%|█████████████████████████████                                          | 97977/239040 [6:51:10<3:45:03, 10.45it/s]"
     ]
    },
    {
     "name": "stdout",
     "output_type": "stream",
     "text": [
      "Cannot check for SPDIF\n",
      "Cannot check for SPDIF\n",
      "Cannot check for SPDIF\n",
      "Cannot check for SPDIF\n"
     ]
    },
    {
     "name": "stderr",
     "output_type": "stream",
     "text": [
      " 41%|█████████████████████████████▎                                         | 98484/239040 [7:00:18<5:43:39,  6.82it/s]"
     ]
    },
    {
     "name": "stdout",
     "output_type": "stream",
     "text": [
      "Cannot check for SPDIF\n",
      "Cannot check for SPDIF\n"
     ]
    },
    {
     "name": "stderr",
     "output_type": "stream",
     "text": [
      "\r",
      " 41%|█████████████████████████████▎                                         | 98487/239040 [7:00:19<4:36:41,  8.47it/s]"
     ]
    },
    {
     "name": "stdout",
     "output_type": "stream",
     "text": [
      "Cannot check for SPDIF\n",
      "Cannot check for SPDIF\n"
     ]
    },
    {
     "name": "stderr",
     "output_type": "stream",
     "text": [
      " 41%|█████████████████████████████▍                                         | 98961/239040 [7:03:16<4:44:55,  8.19it/s]"
     ]
    },
    {
     "name": "stdout",
     "output_type": "stream",
     "text": [
      "Cannot check for SPDIF\n",
      "Cannot check for SPDIF\n"
     ]
    },
    {
     "name": "stderr",
     "output_type": "stream",
     "text": [
      "\r",
      " 41%|█████████████████████████████▍                                         | 98965/239040 [7:03:16<3:12:49, 12.11it/s]"
     ]
    },
    {
     "name": "stdout",
     "output_type": "stream",
     "text": [
      "Cannot check for SPDIF\n",
      "Cannot check for SPDIF\n"
     ]
    },
    {
     "name": "stderr",
     "output_type": "stream",
     "text": [
      " 42%|█████████████████████████████▌                                         | 99338/239040 [7:03:47<1:54:29, 20.34it/s]"
     ]
    },
    {
     "name": "stdout",
     "output_type": "stream",
     "text": [
      "Cannot check for SPDIF\n",
      "Cannot check for SPDIF\n",
      "Cannot check for SPDIF\n",
      "Cannot check for SPDIF\n"
     ]
    },
    {
     "name": "stderr",
     "output_type": "stream",
     "text": [
      " 42%|█████████████████████████████▌                                         | 99628/239040 [7:04:15<1:58:37, 19.59it/s]"
     ]
    },
    {
     "name": "stdout",
     "output_type": "stream",
     "text": [
      "Cannot check for SPDIF\n",
      "Cannot check for SPDIF\n",
      "Cannot check for SPDIF\n",
      "Cannot check for SPDIF\n"
     ]
    },
    {
     "name": "stderr",
     "output_type": "stream",
     "text": [
      " 42%|█████████████████████████████▎                                        | 100227/239040 [7:05:11<1:32:22, 25.05it/s]"
     ]
    },
    {
     "name": "stdout",
     "output_type": "stream",
     "text": [
      "Cannot check for SPDIF\n",
      "Cannot check for SPDIF\n",
      "Cannot check for SPDIF\n",
      "Cannot check for SPDIF\n"
     ]
    },
    {
     "name": "stderr",
     "output_type": "stream",
     "text": [
      " 42%|█████████████████████████████▌                                        | 100842/239040 [7:06:07<4:11:34,  9.16it/s]"
     ]
    },
    {
     "name": "stdout",
     "output_type": "stream",
     "text": [
      "Cannot check for SPDIF\n",
      "Cannot check for SPDIF\n",
      "Cannot check for SPDIF\n",
      "Cannot check for SPDIF\n"
     ]
    },
    {
     "name": "stderr",
     "output_type": "stream",
     "text": [
      " 42%|█████████████████████████████▌                                        | 100900/239040 [7:06:14<2:15:58, 16.93it/s]"
     ]
    },
    {
     "name": "stdout",
     "output_type": "stream",
     "text": [
      "Cannot check for SPDIF\n",
      "Cannot check for SPDIF\n"
     ]
    },
    {
     "name": "stderr",
     "output_type": "stream",
     "text": [
      "\r",
      " 42%|█████████████████████████████▌                                        | 100903/239040 [7:06:14<2:08:05, 17.97it/s]"
     ]
    },
    {
     "name": "stdout",
     "output_type": "stream",
     "text": [
      "Cannot check for SPDIF\n",
      "Cannot check for SPDIF\n"
     ]
    },
    {
     "name": "stderr",
     "output_type": "stream",
     "text": [
      " 42%|█████████████████████████████▋                                        | 101546/239040 [7:07:48<1:51:30, 20.55it/s]"
     ]
    },
    {
     "name": "stdout",
     "output_type": "stream",
     "text": [
      "Cannot check for SPDIF\n",
      "Cannot check for SPDIF\n"
     ]
    },
    {
     "name": "stderr",
     "output_type": "stream",
     "text": [
      "\r",
      " 42%|█████████████████████████████▋                                        | 101549/239040 [7:07:48<1:52:41, 20.33it/s]"
     ]
    },
    {
     "name": "stdout",
     "output_type": "stream",
     "text": [
      "Cannot check for SPDIF\n",
      "Cannot check for SPDIF\n"
     ]
    },
    {
     "name": "stderr",
     "output_type": "stream",
     "text": [
      " 43%|█████████████████████████████▊                                        | 101610/239040 [7:07:59<4:09:28,  9.18it/s]"
     ]
    },
    {
     "name": "stdout",
     "output_type": "stream",
     "text": [
      "Cannot check for SPDIF\n",
      "Cannot check for SPDIF\n"
     ]
    },
    {
     "name": "stderr",
     "output_type": "stream",
     "text": [
      "\r",
      " 43%|█████████████████████████████▊                                        | 101613/239040 [7:07:59<3:26:54, 11.07it/s]"
     ]
    },
    {
     "name": "stdout",
     "output_type": "stream",
     "text": [
      "Cannot check for SPDIF\n",
      "Cannot check for SPDIF\n"
     ]
    },
    {
     "name": "stderr",
     "output_type": "stream",
     "text": [
      " 43%|█████████████████████████████▊                                        | 101917/239040 [7:08:41<2:14:12, 17.03it/s]"
     ]
    },
    {
     "name": "stdout",
     "output_type": "stream",
     "text": [
      "Cannot check for SPDIF\n",
      "Cannot check for SPDIF\n",
      "Cannot check for SPDIF\n",
      "Cannot check for SPDIF\n"
     ]
    },
    {
     "name": "stderr",
     "output_type": "stream",
     "text": [
      " 43%|█████████████████████████████▉                                        | 102371/239040 [7:09:44<5:02:12,  7.54it/s]"
     ]
    },
    {
     "name": "stdout",
     "output_type": "stream",
     "text": [
      "Cannot check for SPDIF\n",
      "Cannot check for SPDIF\n"
     ]
    },
    {
     "name": "stderr",
     "output_type": "stream",
     "text": [
      " 43%|██████████████████████████████                                        | 102663/239040 [7:10:25<7:48:54,  4.85it/s]"
     ]
    },
    {
     "name": "stdout",
     "output_type": "stream",
     "text": [
      "Cannot check for SPDIF\n",
      "Cannot check for SPDIF\n",
      "Cannot check for SPDIF\n",
      "Cannot check for SPDIF\n"
     ]
    },
    {
     "name": "stderr",
     "output_type": "stream",
     "text": [
      " 43%|██████████████████████████████                                        | 102708/239040 [7:10:30<6:39:15,  5.69it/s]"
     ]
    },
    {
     "name": "stdout",
     "output_type": "stream",
     "text": [
      "Cannot check for SPDIF\n",
      "Cannot check for SPDIF\n"
     ]
    },
    {
     "name": "stderr",
     "output_type": "stream",
     "text": [
      "\r",
      " 43%|██████████████████████████████                                        | 102711/239040 [7:10:30<5:12:51,  7.26it/s]"
     ]
    },
    {
     "name": "stdout",
     "output_type": "stream",
     "text": [
      "Cannot check for SPDIF\n",
      "Cannot check for SPDIF\n"
     ]
    },
    {
     "name": "stderr",
     "output_type": "stream",
     "text": [
      " 43%|██████████████████████████████▎                                       | 103345/239040 [7:11:54<6:58:16,  5.41it/s]"
     ]
    },
    {
     "name": "stdout",
     "output_type": "stream",
     "text": [
      "Cannot check for SPDIF\n",
      "Cannot check for SPDIF\n",
      "Cannot check for SPDIF\n",
      "Cannot check for SPDIF\n"
     ]
    },
    {
     "name": "stderr",
     "output_type": "stream",
     "text": [
      " 43%|█████████████████████████████▊                                       | 103380/239040 [7:11:59<14:06:34,  2.67it/s]"
     ]
    },
    {
     "name": "stdout",
     "output_type": "stream",
     "text": [
      "Cannot check for SPDIF\n",
      "Cannot check for SPDIF\n",
      "Cannot check for SPDIF\n",
      "Cannot check for SPDIF\n"
     ]
    },
    {
     "name": "stderr",
     "output_type": "stream",
     "text": [
      " 43%|██████████████████████████████▎                                       | 103589/239040 [7:12:28<2:07:44, 17.67it/s]"
     ]
    },
    {
     "name": "stdout",
     "output_type": "stream",
     "text": [
      "Cannot check for SPDIF\n",
      "Cannot check for SPDIF\n",
      "Cannot check for SPDIF\n",
      "Cannot check for SPDIF\n"
     ]
    },
    {
     "name": "stderr",
     "output_type": "stream",
     "text": [
      " 44%|██████████████████████████████▌                                       | 104171/239040 [7:13:57<2:32:56, 14.70it/s]"
     ]
    },
    {
     "name": "stdout",
     "output_type": "stream",
     "text": [
      "Cannot check for SPDIF\n",
      "Cannot check for SPDIF\n",
      "Cannot check for SPDIF\n",
      "Cannot check for SPDIF\n"
     ]
    },
    {
     "name": "stderr",
     "output_type": "stream",
     "text": [
      " 44%|██████████████████████████████▌                                       | 104381/239040 [7:14:29<2:09:22, 17.35it/s]"
     ]
    },
    {
     "name": "stdout",
     "output_type": "stream",
     "text": [
      "Cannot check for SPDIF\n",
      "Cannot check for SPDIF\n",
      "Cannot check for SPDIF\n",
      "Cannot check for SPDIF\n"
     ]
    },
    {
     "name": "stderr",
     "output_type": "stream",
     "text": [
      " 44%|██████████████████████████████▌                                       | 104468/239040 [7:14:41<1:42:28, 21.89it/s]"
     ]
    },
    {
     "name": "stdout",
     "output_type": "stream",
     "text": [
      "Cannot check for SPDIF\n",
      "Cannot check for SPDIF\n",
      "Cannot check for SPDIF\n",
      "Cannot check for SPDIF\n"
     ]
    },
    {
     "name": "stderr",
     "output_type": "stream",
     "text": [
      " 44%|██████████████████████████████▋                                       | 104900/239040 [7:20:38<4:00:11,  9.31it/s]"
     ]
    },
    {
     "name": "stdout",
     "output_type": "stream",
     "text": [
      "Cannot check for SPDIF\n",
      "Cannot check for SPDIF\n",
      "Cannot check for SPDIF\n",
      "Cannot check for SPDIF\n"
     ]
    },
    {
     "name": "stderr",
     "output_type": "stream",
     "text": [
      " 44%|██████████████████████████████▉                                       | 105559/239040 [7:25:44<2:42:20, 13.70it/s]"
     ]
    },
    {
     "name": "stdout",
     "output_type": "stream",
     "text": [
      "Cannot check for SPDIF\n",
      "Cannot check for SPDIF\n",
      "Cannot check for SPDIF\n",
      "Cannot check for SPDIF\n"
     ]
    },
    {
     "name": "stderr",
     "output_type": "stream",
     "text": [
      " 44%|██████████████████████████████▉                                       | 105616/239040 [7:25:48<1:41:01, 22.01it/s]"
     ]
    },
    {
     "name": "stdout",
     "output_type": "stream",
     "text": [
      "Cannot check for SPDIF\n",
      "Cannot check for SPDIF\n",
      "Cannot check for SPDIF\n",
      "Cannot check for SPDIF\n"
     ]
    },
    {
     "name": "stderr",
     "output_type": "stream",
     "text": [
      " 44%|███████████████████████████████                                       | 106276/239040 [7:26:37<4:24:25,  8.37it/s]"
     ]
    },
    {
     "name": "stdout",
     "output_type": "stream",
     "text": [
      "Cannot check for SPDIF\n",
      "Cannot check for SPDIF\n"
     ]
    },
    {
     "name": "stderr",
     "output_type": "stream",
     "text": [
      "\r",
      " 44%|███████████████████████████████                                       | 106279/239040 [7:26:37<3:35:54, 10.25it/s]"
     ]
    },
    {
     "name": "stdout",
     "output_type": "stream",
     "text": [
      "Cannot check for SPDIF\n",
      "Cannot check for SPDIF\n"
     ]
    },
    {
     "name": "stderr",
     "output_type": "stream",
     "text": [
      " 45%|███████████████████████████████▎                                      | 106851/239040 [7:27:19<1:45:24, 20.90it/s]"
     ]
    },
    {
     "name": "stdout",
     "output_type": "stream",
     "text": [
      "Cannot check for SPDIF\n",
      "Cannot check for SPDIF\n",
      "Cannot check for SPDIF\n",
      "Cannot check for SPDIF\n"
     ]
    },
    {
     "name": "stderr",
     "output_type": "stream",
     "text": [
      " 45%|███████████████████████████████▎                                      | 106965/239040 [7:27:27<2:25:41, 15.11it/s]"
     ]
    },
    {
     "name": "stdout",
     "output_type": "stream",
     "text": [
      "Cannot check for SPDIF\n",
      "Cannot check for SPDIF\n",
      "Cannot check for SPDIF\n",
      "Cannot check for SPDIF\n"
     ]
    },
    {
     "name": "stderr",
     "output_type": "stream",
     "text": [
      " 45%|███████████████████████████████▎                                      | 107139/239040 [7:27:40<2:19:40, 15.74it/s]"
     ]
    },
    {
     "name": "stdout",
     "output_type": "stream",
     "text": [
      "Cannot check for SPDIF\n",
      "Cannot check for SPDIF\n",
      "Cannot check for SPDIF\n",
      "Cannot check for SPDIF\n"
     ]
    },
    {
     "name": "stderr",
     "output_type": "stream",
     "text": [
      " 45%|███████████████████████████████▌                                      | 107586/239040 [7:28:18<1:19:51, 27.43it/s]"
     ]
    },
    {
     "name": "stdout",
     "output_type": "stream",
     "text": [
      "Cannot check for SPDIF\n",
      "Cannot check for SPDIF\n",
      "Cannot check for SPDIF\n",
      "Cannot check for SPDIF\n"
     ]
    },
    {
     "name": "stderr",
     "output_type": "stream",
     "text": [
      " 45%|███████████████████████████████▌                                      | 107659/239040 [7:28:25<1:53:40, 19.26it/s]"
     ]
    },
    {
     "name": "stdout",
     "output_type": "stream",
     "text": [
      "Cannot check for SPDIF\n",
      "Cannot check for SPDIF\n",
      "Cannot check for SPDIF\n",
      "Cannot check for SPDIF\n"
     ]
    },
    {
     "name": "stderr",
     "output_type": "stream",
     "text": [
      " 45%|██████████████████████████████▋                                     | 108061/239040 [7:31:49<159:12:38,  4.38s/it]"
     ]
    },
    {
     "name": "stdout",
     "output_type": "stream",
     "text": [
      "Cannot check for SPDIF\n",
      "Cannot check for SPDIF\n",
      "Cannot check for SPDIF\n",
      "Cannot check for SPDIF\n"
     ]
    },
    {
     "name": "stderr",
     "output_type": "stream",
     "text": [
      " 45%|███████████████████████████████▎                                     | 108298/239040 [7:35:34<10:28:35,  3.47it/s]"
     ]
    },
    {
     "name": "stdout",
     "output_type": "stream",
     "text": [
      "Cannot check for SPDIF\n",
      "Cannot check for SPDIF\n",
      "Cannot check for SPDIF\n",
      "Cannot check for SPDIF\n"
     ]
    },
    {
     "name": "stderr",
     "output_type": "stream",
     "text": [
      " 46%|███████████████████████████████▉                                      | 108905/239040 [7:39:53<2:03:39, 17.54it/s]"
     ]
    },
    {
     "name": "stdout",
     "output_type": "stream",
     "text": [
      "Cannot check for SPDIF\n",
      "Cannot check for SPDIF\n",
      "Cannot check for SPDIF\n",
      "Cannot check for SPDIF\n"
     ]
    },
    {
     "name": "stderr",
     "output_type": "stream",
     "text": [
      " 46%|████████████████████████████████                                      | 109344/239040 [7:40:28<3:36:07, 10.00it/s]"
     ]
    },
    {
     "name": "stdout",
     "output_type": "stream",
     "text": [
      "Cannot check for SPDIF\n",
      "Cannot check for SPDIF\n",
      "Cannot check for SPDIF\n",
      "Cannot check for SPDIF\n"
     ]
    },
    {
     "name": "stderr",
     "output_type": "stream",
     "text": [
      " 46%|████████████████████████████████                                      | 109429/239040 [7:40:35<5:36:14,  6.42it/s]"
     ]
    },
    {
     "name": "stdout",
     "output_type": "stream",
     "text": [
      "Cannot check for SPDIF\n",
      "Cannot check for SPDIF\n",
      "Cannot check for SPDIF\n",
      "Cannot check for SPDIF\n"
     ]
    },
    {
     "name": "stderr",
     "output_type": "stream",
     "text": [
      " 46%|████████████████████████████████                                      | 109559/239040 [7:40:46<6:20:49,  5.67it/s]"
     ]
    },
    {
     "name": "stdout",
     "output_type": "stream",
     "text": [
      "Cannot check for SPDIF\n",
      "Cannot check for SPDIF\n"
     ]
    },
    {
     "name": "stderr",
     "output_type": "stream",
     "text": [
      "\r",
      " 46%|████████████████████████████████                                      | 109563/239040 [7:40:46<4:14:13,  8.49it/s]"
     ]
    },
    {
     "name": "stdout",
     "output_type": "stream",
     "text": [
      "Cannot check for SPDIF\n",
      "Cannot check for SPDIF\n"
     ]
    },
    {
     "name": "stderr",
     "output_type": "stream",
     "text": [
      " 46%|████████████████████████████████▏                                     | 110026/239040 [7:41:28<8:05:17,  4.43it/s]"
     ]
    },
    {
     "name": "stdout",
     "output_type": "stream",
     "text": [
      "Cannot check for SPDIF\n",
      "Cannot check for SPDIF\n",
      "Cannot check for SPDIF\n",
      "Cannot check for SPDIF\n"
     ]
    },
    {
     "name": "stderr",
     "output_type": "stream",
     "text": [
      " 46%|████████████████████████████████▏                                     | 110053/239040 [7:41:29<1:45:28, 20.38it/s]"
     ]
    },
    {
     "name": "stdout",
     "output_type": "stream",
     "text": [
      "Cannot check for SPDIF\n",
      "Cannot check for SPDIF\n",
      "Cannot check for SPDIF\n",
      "Cannot check for SPDIF\n"
     ]
    },
    {
     "name": "stderr",
     "output_type": "stream",
     "text": [
      " 46%|████████████████████████████████▎                                     | 110222/239040 [7:41:44<1:40:05, 21.45it/s]"
     ]
    },
    {
     "name": "stdout",
     "output_type": "stream",
     "text": [
      "Cannot check for SPDIF\n",
      "Cannot check for SPDIF\n"
     ]
    },
    {
     "name": "stderr",
     "output_type": "stream",
     "text": [
      "\r",
      " 46%|████████████████████████████████▎                                     | 110225/239040 [7:41:44<1:43:49, 20.68it/s]"
     ]
    },
    {
     "name": "stdout",
     "output_type": "stream",
     "text": [
      "Cannot check for SPDIF\n",
      "Cannot check for SPDIF\n"
     ]
    },
    {
     "name": "stderr",
     "output_type": "stream",
     "text": [
      " 46%|████████████████████████████████▎                                     | 110415/239040 [7:42:02<5:38:58,  6.32it/s]"
     ]
    },
    {
     "name": "stdout",
     "output_type": "stream",
     "text": [
      "Cannot check for SPDIF\n",
      "Cannot check for SPDIF\n",
      "Cannot check for SPDIF\n",
      "Cannot check for SPDIF\n"
     ]
    },
    {
     "name": "stderr",
     "output_type": "stream",
     "text": [
      " 47%|████████████████████████████████▋                                     | 111589/239040 [7:44:38<2:01:54, 17.42it/s]"
     ]
    },
    {
     "name": "stdout",
     "output_type": "stream",
     "text": [
      "Cannot check for SPDIF\n",
      "Cannot check for SPDIF\n",
      "Cannot check for SPDIF\n",
      "Cannot check for SPDIF\n"
     ]
    },
    {
     "name": "stderr",
     "output_type": "stream",
     "text": [
      " 47%|████████████████████████████████▋                                     | 111809/239040 [7:45:05<1:39:27, 21.32it/s]"
     ]
    },
    {
     "name": "stdout",
     "output_type": "stream",
     "text": [
      "Cannot check for SPDIF\n",
      "Cannot check for SPDIF\n",
      "Cannot check for SPDIF\n",
      "Cannot check for SPDIF\n"
     ]
    },
    {
     "name": "stderr",
     "output_type": "stream",
     "text": [
      " 47%|████████████████████████████████▊                                     | 111864/239040 [7:45:14<6:34:45,  5.37it/s]"
     ]
    },
    {
     "name": "stdout",
     "output_type": "stream",
     "text": [
      "Cannot check for SPDIF\n",
      "Cannot check for SPDIF\n"
     ]
    },
    {
     "name": "stderr",
     "output_type": "stream",
     "text": [
      "\r",
      " 47%|████████████████████████████████▊                                     | 111867/239040 [7:45:14<5:15:40,  6.71it/s]"
     ]
    },
    {
     "name": "stdout",
     "output_type": "stream",
     "text": [
      "Cannot check for SPDIF\n",
      "Cannot check for SPDIF\n"
     ]
    },
    {
     "name": "stderr",
     "output_type": "stream",
     "text": [
      " 47%|████████████████████████████████▊                                     | 112185/239040 [7:45:55<2:00:46, 17.51it/s]"
     ]
    },
    {
     "name": "stdout",
     "output_type": "stream",
     "text": [
      "Cannot check for SPDIF\n",
      "Cannot check for SPDIF\n",
      "Cannot check for SPDIF\n",
      "Cannot check for SPDIF\n"
     ]
    },
    {
     "name": "stderr",
     "output_type": "stream",
     "text": [
      " 47%|████████████████████████████████▉                                     | 112416/239040 [7:46:26<5:54:17,  5.96it/s]"
     ]
    },
    {
     "name": "stdout",
     "output_type": "stream",
     "text": [
      "Cannot check for SPDIF\n",
      "Cannot check for SPDIF\n",
      "Cannot check for SPDIF\n",
      "Cannot check for SPDIF\n"
     ]
    },
    {
     "name": "stderr",
     "output_type": "stream",
     "text": [
      " 47%|████████████████████████████████▉                                     | 112551/239040 [7:46:43<4:19:09,  8.13it/s]"
     ]
    },
    {
     "name": "stdout",
     "output_type": "stream",
     "text": [
      "Cannot check for SPDIF\n",
      "Cannot check for SPDIF\n",
      "Cannot check for SPDIF\n",
      "Cannot check for SPDIF\n"
     ]
    },
    {
     "name": "stderr",
     "output_type": "stream",
     "text": [
      " 47%|████████████████████████████████▉                                     | 112574/239040 [7:46:43<1:31:46, 22.97it/s]"
     ]
    },
    {
     "name": "stdout",
     "output_type": "stream",
     "text": [
      "Cannot check for SPDIF\n",
      "Cannot check for SPDIF\n",
      "Cannot check for SPDIF\n",
      "Cannot check for SPDIF\n"
     ]
    },
    {
     "name": "stderr",
     "output_type": "stream",
     "text": [
      " 47%|█████████████████████████████████                                     | 112800/239040 [7:47:14<7:07:41,  4.92it/s]"
     ]
    },
    {
     "name": "stdout",
     "output_type": "stream",
     "text": [
      "Cannot check for SPDIF\n",
      "Cannot check for SPDIF\n",
      "Cannot check for SPDIF\n",
      "Cannot check for SPDIF\n"
     ]
    },
    {
     "name": "stderr",
     "output_type": "stream",
     "text": [
      " 47%|█████████████████████████████████▏                                    | 113170/239040 [7:47:58<1:24:50, 24.73it/s]"
     ]
    },
    {
     "name": "stdout",
     "output_type": "stream",
     "text": [
      "Cannot check for SPDIF\n",
      "Cannot check for SPDIF\n",
      "Cannot check for SPDIF\n",
      "Cannot check for SPDIF\n"
     ]
    },
    {
     "name": "stderr",
     "output_type": "stream",
     "text": [
      " 47%|█████████████████████████████████▏                                    | 113410/239040 [7:48:29<2:33:01, 13.68it/s]"
     ]
    },
    {
     "name": "stdout",
     "output_type": "stream",
     "text": [
      "Cannot check for SPDIF\n",
      "Cannot check for SPDIF\n",
      "Cannot check for SPDIF\n",
      "Cannot check for SPDIF\n"
     ]
    },
    {
     "name": "stderr",
     "output_type": "stream",
     "text": [
      " 48%|█████████████████████████████████▍                                    | 114182/239040 [7:54:00<1:50:46, 18.79it/s]"
     ]
    },
    {
     "name": "stdout",
     "output_type": "stream",
     "text": [
      "Cannot check for SPDIF\n",
      "Cannot check for SPDIF\n",
      "Cannot check for SPDIF\n",
      "Cannot check for SPDIF\n"
     ]
    },
    {
     "name": "stderr",
     "output_type": "stream",
     "text": [
      " 48%|█████████████████████████████████▌                                    | 114425/239040 [7:54:19<2:06:49, 16.38it/s]"
     ]
    },
    {
     "name": "stdout",
     "output_type": "stream",
     "text": [
      "Cannot check for SPDIF\n",
      "Cannot check for SPDIF\n",
      "Cannot check for SPDIF\n",
      "Cannot check for SPDIF\n"
     ]
    },
    {
     "name": "stderr",
     "output_type": "stream",
     "text": [
      " 48%|█████████████████████████████████▋                                    | 114947/239040 [7:55:35<1:56:27, 17.76it/s]"
     ]
    },
    {
     "name": "stdout",
     "output_type": "stream",
     "text": [
      "Cannot check for SPDIF\n",
      "Cannot check for SPDIF\n",
      "Cannot check for SPDIF\n",
      "Cannot check for SPDIF\n"
     ]
    },
    {
     "name": "stderr",
     "output_type": "stream",
     "text": [
      " 48%|█████████████████████████████████▋                                    | 114961/239040 [7:55:35<1:37:32, 21.20it/s]"
     ]
    },
    {
     "name": "stdout",
     "output_type": "stream",
     "text": [
      "Cannot check for SPDIF\n",
      "Cannot check for SPDIF\n",
      "Cannot check for SPDIF\n",
      "Cannot check for SPDIF\n"
     ]
    },
    {
     "name": "stderr",
     "output_type": "stream",
     "text": [
      " 48%|█████████████████████████████████▎                                   | 115225/239040 [7:56:23<11:43:12,  2.93it/s]"
     ]
    },
    {
     "name": "stdout",
     "output_type": "stream",
     "text": [
      "Cannot check for SPDIF\n",
      "Cannot check for SPDIF\n",
      "Cannot check for SPDIF\n",
      "Cannot check for SPDIF\n"
     ]
    },
    {
     "name": "stderr",
     "output_type": "stream",
     "text": [
      " 49%|██████████████████████████████████                                    | 116253/239040 [7:59:24<5:50:47,  5.83it/s]"
     ]
    },
    {
     "name": "stdout",
     "output_type": "stream",
     "text": [
      "Cannot check for SPDIF\n",
      "Cannot check for SPDIF\n",
      "Cannot check for SPDIF\n",
      "Cannot check for SPDIF\n"
     ]
    },
    {
     "name": "stderr",
     "output_type": "stream",
     "text": [
      " 49%|██████████████████████████████████                                    | 116325/239040 [7:59:35<3:55:37,  8.68it/s]"
     ]
    },
    {
     "name": "stdout",
     "output_type": "stream",
     "text": [
      "Cannot check for SPDIF\n",
      "Cannot check for SPDIF\n",
      "Cannot check for SPDIF\n",
      "Cannot check for SPDIF\n"
     ]
    },
    {
     "name": "stderr",
     "output_type": "stream",
     "text": [
      " 49%|██████████████████████████████████                                    | 116432/239040 [8:00:01<3:25:55,  9.92it/s]"
     ]
    },
    {
     "name": "stdout",
     "output_type": "stream",
     "text": [
      "Cannot check for SPDIF\n",
      "Cannot check for SPDIF\n",
      "Cannot check for SPDIF\n",
      "Cannot check for SPDIF\n"
     ]
    },
    {
     "name": "stderr",
     "output_type": "stream",
     "text": [
      " 49%|██████████████████████████████████▏                                   | 116665/239040 [8:00:42<1:39:23, 20.52it/s]"
     ]
    },
    {
     "name": "stdout",
     "output_type": "stream",
     "text": [
      "Cannot check for SPDIF\n",
      "Cannot check for SPDIF\n",
      "Cannot check for SPDIF\n",
      "Cannot check for SPDIF\n"
     ]
    },
    {
     "name": "stderr",
     "output_type": "stream",
     "text": [
      " 49%|██████████████████████████████████▎                                   | 116989/239040 [8:01:29<2:35:21, 13.09it/s]"
     ]
    },
    {
     "name": "stdout",
     "output_type": "stream",
     "text": [
      "Cannot check for SPDIF\n",
      "Cannot check for SPDIF\n",
      "Cannot check for SPDIF\n",
      "Cannot check for SPDIF\n"
     ]
    },
    {
     "name": "stderr",
     "output_type": "stream",
     "text": [
      " 49%|██████████████████████████████████▎                                   | 116997/239040 [8:01:29<1:45:51, 19.22it/s]"
     ]
    },
    {
     "name": "stdout",
     "output_type": "stream",
     "text": [
      "Cannot check for SPDIF\n",
      "Cannot check for SPDIF\n"
     ]
    },
    {
     "name": "stderr",
     "output_type": "stream",
     "text": [
      " 49%|██████████████████████████████████▎                                   | 117320/239040 [8:02:16<5:59:41,  5.64it/s]"
     ]
    },
    {
     "name": "stdout",
     "output_type": "stream",
     "text": [
      "Cannot check for SPDIF\n",
      "Cannot check for SPDIF\n",
      "Cannot check for SPDIF\n",
      "Cannot check for SPDIF\n"
     ]
    },
    {
     "name": "stderr",
     "output_type": "stream",
     "text": [
      " 49%|██████████████████████████████████▍                                   | 117772/239040 [8:03:16<1:52:36, 17.95it/s]"
     ]
    },
    {
     "name": "stdout",
     "output_type": "stream",
     "text": [
      "Cannot check for SPDIF\n",
      "Cannot check for SPDIF\n",
      "Cannot check for SPDIF\n",
      "Cannot check for SPDIF\n"
     ]
    },
    {
     "name": "stderr",
     "output_type": "stream",
     "text": [
      " 49%|██████████████████████████████████▌                                   | 117838/239040 [8:03:26<3:40:08,  9.18it/s]"
     ]
    },
    {
     "name": "stdout",
     "output_type": "stream",
     "text": [
      "Cannot check for SPDIF\n",
      "Cannot check for SPDIF\n"
     ]
    },
    {
     "name": "stderr",
     "output_type": "stream",
     "text": [
      "\r",
      " 49%|██████████████████████████████████▌                                   | 117841/239040 [8:03:26<2:57:58, 11.35it/s]"
     ]
    },
    {
     "name": "stdout",
     "output_type": "stream",
     "text": [
      "Cannot check for SPDIF\n",
      "Cannot check for SPDIF\n"
     ]
    },
    {
     "name": "stderr",
     "output_type": "stream",
     "text": [
      " 49%|██████████████████████████████████▌                                   | 117930/239040 [8:03:38<2:32:53, 13.20it/s]"
     ]
    },
    {
     "name": "stdout",
     "output_type": "stream",
     "text": [
      "Cannot check for SPDIF\n",
      "Cannot check for SPDIF\n"
     ]
    },
    {
     "name": "stderr",
     "output_type": "stream",
     "text": [
      "\r",
      " 49%|██████████████████████████████████▌                                   | 117933/239040 [8:03:38<2:11:22, 15.36it/s]"
     ]
    },
    {
     "name": "stdout",
     "output_type": "stream",
     "text": [
      "Cannot check for SPDIF\n",
      "Cannot check for SPDIF\n"
     ]
    },
    {
     "name": "stderr",
     "output_type": "stream",
     "text": [
      " 49%|█████████████████████████████████▌                                  | 118166/239040 [8:06:09<141:20:44,  4.21s/it]"
     ]
    },
    {
     "name": "stdout",
     "output_type": "stream",
     "text": [
      "Cannot check for SPDIF\n",
      "Cannot check for SPDIF\n",
      "Cannot check for SPDIF\n",
      "Cannot check for SPDIF\n"
     ]
    },
    {
     "name": "stderr",
     "output_type": "stream",
     "text": [
      " 50%|██████████████████████████████████▉                                   | 119161/239040 [8:15:09<1:59:47, 16.68it/s]"
     ]
    },
    {
     "name": "stdout",
     "output_type": "stream",
     "text": [
      "Cannot check for SPDIF\n",
      "Cannot check for SPDIF\n",
      "Cannot check for SPDIF\n",
      "Cannot check for SPDIF\n"
     ]
    },
    {
     "name": "stderr",
     "output_type": "stream",
     "text": [
      " 50%|██████████████████████████████████▉                                   | 119297/239040 [8:15:19<1:35:27, 20.91it/s]"
     ]
    },
    {
     "name": "stdout",
     "output_type": "stream",
     "text": [
      "Cannot check for SPDIF\n",
      "Cannot check for SPDIF\n"
     ]
    },
    {
     "name": "stderr",
     "output_type": "stream",
     "text": [
      "\r",
      " 50%|██████████████████████████████████▉                                   | 119301/239040 [8:15:19<1:22:16, 24.25it/s]"
     ]
    },
    {
     "name": "stdout",
     "output_type": "stream",
     "text": [
      "Cannot check for SPDIF\n",
      "Cannot check for SPDIF\n"
     ]
    },
    {
     "name": "stderr",
     "output_type": "stream",
     "text": [
      " 50%|██████████████████████████████████▉                                   | 119429/239040 [8:15:30<1:29:33, 22.26it/s]"
     ]
    },
    {
     "name": "stdout",
     "output_type": "stream",
     "text": [
      "Cannot check for SPDIF\n",
      "Cannot check for SPDIF\n",
      "Cannot check for SPDIF\n",
      "Cannot check for SPDIF\n"
     ]
    },
    {
     "name": "stderr",
     "output_type": "stream",
     "text": [
      " 50%|███████████████████████████████████▎                                  | 120651/239040 [8:17:15<1:57:23, 16.81it/s]"
     ]
    },
    {
     "name": "stdout",
     "output_type": "stream",
     "text": [
      "Cannot check for SPDIF\n",
      "Cannot check for SPDIF\n",
      "Cannot check for SPDIF\n",
      "Cannot check for SPDIF\n"
     ]
    },
    {
     "name": "stderr",
     "output_type": "stream",
     "text": [
      " 51%|███████████████████████████████████▍                                  | 121145/239040 [8:18:01<5:26:49,  6.01it/s]"
     ]
    },
    {
     "name": "stdout",
     "output_type": "stream",
     "text": [
      "Cannot check for SPDIF\n",
      "Cannot check for SPDIF\n",
      "Cannot check for SPDIF\n",
      "Cannot check for SPDIF\n"
     ]
    },
    {
     "name": "stderr",
     "output_type": "stream",
     "text": [
      " 51%|███████████████████████████████████▌                                  | 121549/239040 [8:18:39<1:52:46, 17.36it/s]"
     ]
    },
    {
     "name": "stdout",
     "output_type": "stream",
     "text": [
      "Cannot check for SPDIF\n",
      "Cannot check for SPDIF\n",
      "Cannot check for SPDIF\n",
      "Cannot check for SPDIF\n"
     ]
    },
    {
     "name": "stderr",
     "output_type": "stream",
     "text": [
      " 51%|███████████████████████████████████▌                                  | 121638/239040 [8:18:47<1:43:52, 18.84it/s]"
     ]
    },
    {
     "name": "stdout",
     "output_type": "stream",
     "text": [
      "Cannot check for SPDIF\n",
      "Cannot check for SPDIF\n"
     ]
    },
    {
     "name": "stderr",
     "output_type": "stream",
     "text": [
      "\r",
      " 51%|███████████████████████████████████▌                                  | 121641/239040 [8:18:47<1:36:49, 20.21it/s]"
     ]
    },
    {
     "name": "stdout",
     "output_type": "stream",
     "text": [
      "Cannot check for SPDIF\n",
      "Cannot check for SPDIF\n"
     ]
    },
    {
     "name": "stderr",
     "output_type": "stream",
     "text": [
      " 51%|███████████████████████████████████▋                                  | 121768/239040 [8:18:59<1:34:50, 20.61it/s]"
     ]
    },
    {
     "name": "stdout",
     "output_type": "stream",
     "text": [
      "Cannot check for SPDIF\n",
      "Cannot check for SPDIF\n",
      "Cannot check for SPDIF\n",
      "Cannot check for SPDIF\n"
     ]
    },
    {
     "name": "stderr",
     "output_type": "stream",
     "text": [
      " 51%|███████████████████████████████████▊                                  | 122242/239040 [8:19:46<8:42:27,  3.73it/s]"
     ]
    },
    {
     "name": "stdout",
     "output_type": "stream",
     "text": [
      "Cannot check for SPDIF\n",
      "Cannot check for SPDIF\n",
      "Cannot check for SPDIF\n",
      "Cannot check for SPDIF\n"
     ]
    },
    {
     "name": "stderr",
     "output_type": "stream",
     "text": [
      " 51%|███████████████████████████████████▊                                  | 122462/239040 [8:20:06<4:43:30,  6.85it/s]"
     ]
    },
    {
     "name": "stdout",
     "output_type": "stream",
     "text": [
      "Cannot check for SPDIF\n",
      "Cannot check for SPDIF\n"
     ]
    },
    {
     "name": "stderr",
     "output_type": "stream",
     "text": [
      " 51%|███████████████████████████████████▉                                  | 122553/239040 [8:20:14<2:55:41, 11.05it/s]"
     ]
    },
    {
     "name": "stdout",
     "output_type": "stream",
     "text": [
      "Cannot check for SPDIF\n",
      "Cannot check for SPDIF\n",
      "Cannot check for SPDIF\n",
      "Cannot check for SPDIF\n"
     ]
    },
    {
     "name": "stderr",
     "output_type": "stream",
     "text": [
      " 51%|███████████████████████████████████▉                                  | 122651/239040 [8:20:22<1:55:08, 16.85it/s]"
     ]
    },
    {
     "name": "stdout",
     "output_type": "stream",
     "text": [
      "Cannot check for SPDIF\n",
      "Cannot check for SPDIF\n"
     ]
    },
    {
     "name": "stderr",
     "output_type": "stream",
     "text": [
      "\r",
      " 51%|███████████████████████████████████▉                                  | 122655/239040 [8:20:22<1:36:51, 20.03it/s]"
     ]
    },
    {
     "name": "stdout",
     "output_type": "stream",
     "text": [
      "Cannot check for SPDIF\n",
      "Cannot check for SPDIF\n"
     ]
    },
    {
     "name": "stderr",
     "output_type": "stream",
     "text": [
      " 51%|████████████████████████████████████                                  | 123005/239040 [8:20:55<1:55:03, 16.81it/s]"
     ]
    },
    {
     "name": "stdout",
     "output_type": "stream",
     "text": [
      "Cannot check for SPDIF\n",
      "Cannot check for SPDIF\n",
      "Cannot check for SPDIF\n",
      "Cannot check for SPDIF\n"
     ]
    },
    {
     "name": "stderr",
     "output_type": "stream",
     "text": [
      " 52%|████████████████████████████████████▏                                 | 123469/239040 [8:21:39<1:34:27, 20.39it/s]"
     ]
    },
    {
     "name": "stdout",
     "output_type": "stream",
     "text": [
      "Cannot check for SPDIF\n",
      "Cannot check for SPDIF\n",
      "Cannot check for SPDIF\n",
      "Cannot check for SPDIF\n"
     ]
    },
    {
     "name": "stderr",
     "output_type": "stream",
     "text": [
      " 52%|████████████████████████████████████▏                                 | 123503/239040 [8:21:42<1:39:27, 19.36it/s]"
     ]
    },
    {
     "name": "stdout",
     "output_type": "stream",
     "text": [
      "Cannot check for SPDIF\n",
      "Cannot check for SPDIF\n",
      "Cannot check for SPDIF\n",
      "Cannot check for SPDIF\n"
     ]
    },
    {
     "name": "stderr",
     "output_type": "stream",
     "text": [
      " 52%|████████████████████████████████████▎                                 | 123818/239040 [8:22:13<7:30:31,  4.26it/s]"
     ]
    },
    {
     "name": "stdout",
     "output_type": "stream",
     "text": [
      "Cannot check for SPDIF\n",
      "Cannot check for SPDIF\n"
     ]
    },
    {
     "name": "stderr",
     "output_type": "stream",
     "text": [
      "\r",
      " 52%|████████████████████████████████████▎                                 | 123821/239040 [8:22:13<5:44:30,  5.57it/s]"
     ]
    },
    {
     "name": "stdout",
     "output_type": "stream",
     "text": [
      "Cannot check for SPDIF\n",
      "Cannot check for SPDIF\n"
     ]
    },
    {
     "name": "stderr",
     "output_type": "stream",
     "text": [
      " 52%|████████████████████████████████████▎                                 | 124151/239040 [8:22:41<1:29:05, 21.49it/s]"
     ]
    },
    {
     "name": "stdout",
     "output_type": "stream",
     "text": [
      "Cannot check for SPDIF\n",
      "Cannot check for SPDIF\n",
      "Cannot check for SPDIF\n",
      "Cannot check for SPDIF\n"
     ]
    },
    {
     "name": "stderr",
     "output_type": "stream",
     "text": [
      " 52%|████████████████████████████████████▍                                 | 124311/239040 [8:22:56<1:57:59, 16.21it/s]"
     ]
    },
    {
     "name": "stdout",
     "output_type": "stream",
     "text": [
      "Cannot check for SPDIF\n",
      "Cannot check for SPDIF\n",
      "Cannot check for SPDIF\n",
      "Cannot check for SPDIF\n"
     ]
    },
    {
     "name": "stderr",
     "output_type": "stream",
     "text": [
      " 52%|████████████████████████████████████▍                                 | 124333/239040 [8:22:59<8:29:36,  3.75it/s]"
     ]
    },
    {
     "name": "stdout",
     "output_type": "stream",
     "text": [
      "Cannot check for SPDIF\n",
      "Cannot check for SPDIF\n",
      "Cannot check for SPDIF\n",
      "Cannot check for SPDIF\n"
     ]
    },
    {
     "name": "stderr",
     "output_type": "stream",
     "text": [
      " 52%|████████████████████████████████████▌                                 | 124700/239040 [8:23:31<1:37:23, 19.57it/s]"
     ]
    },
    {
     "name": "stdout",
     "output_type": "stream",
     "text": [
      "Cannot check for SPDIF\n",
      "Cannot check for SPDIF\n"
     ]
    },
    {
     "name": "stderr",
     "output_type": "stream",
     "text": [
      "\r",
      " 52%|████████████████████████████████████▌                                 | 124703/239040 [8:23:31<1:38:25, 19.36it/s]"
     ]
    },
    {
     "name": "stdout",
     "output_type": "stream",
     "text": [
      "Cannot check for SPDIF\n",
      "Cannot check for SPDIF\n"
     ]
    },
    {
     "name": "stderr",
     "output_type": "stream",
     "text": [
      " 52%|████████████████████████████████████▌                                 | 124859/239040 [8:23:46<2:20:33, 13.54it/s]"
     ]
    },
    {
     "name": "stdout",
     "output_type": "stream",
     "text": [
      "Cannot check for SPDIF\n",
      "Cannot check for SPDIF\n",
      "Cannot check for SPDIF\n",
      "Cannot check for SPDIF\n"
     ]
    },
    {
     "name": "stderr",
     "output_type": "stream",
     "text": [
      " 52%|████████████████████████████████████▏                                | 125445/239040 [8:26:40<44:46:58,  1.42s/it]"
     ]
    },
    {
     "name": "stdout",
     "output_type": "stream",
     "text": [
      "Cannot check for SPDIF\n",
      "Cannot check for SPDIF\n"
     ]
    },
    {
     "name": "stderr",
     "output_type": "stream",
     "text": [
      "\r",
      " 52%|████████████████████████████████████▏                                | 125449/239040 [8:26:40<29:17:04,  1.08it/s]"
     ]
    },
    {
     "name": "stdout",
     "output_type": "stream",
     "text": [
      "Cannot check for SPDIF\n",
      "Cannot check for SPDIF\n"
     ]
    },
    {
     "name": "stderr",
     "output_type": "stream",
     "text": [
      " 53%|████████████████████████████████████▊                                 | 125598/239040 [8:28:53<3:30:41,  8.97it/s]"
     ]
    },
    {
     "name": "stdout",
     "output_type": "stream",
     "text": [
      "Cannot check for SPDIF\n",
      "Cannot check for SPDIF\n"
     ]
    },
    {
     "name": "stderr",
     "output_type": "stream",
     "text": [
      "\r",
      " 53%|████████████████████████████████████▊                                 | 125601/239040 [8:28:53<2:55:32, 10.77it/s]"
     ]
    },
    {
     "name": "stdout",
     "output_type": "stream",
     "text": [
      "Cannot check for SPDIF\n",
      "Cannot check for SPDIF\n"
     ]
    },
    {
     "name": "stderr",
     "output_type": "stream",
     "text": [
      " 53%|████████████████████████████████████▉                                 | 126076/239040 [8:35:07<6:37:32,  4.74it/s]"
     ]
    },
    {
     "name": "stdout",
     "output_type": "stream",
     "text": [
      "Cannot check for SPDIF\n",
      "Cannot check for SPDIF\n",
      "Cannot check for SPDIF\n",
      "Cannot check for SPDIF\n"
     ]
    },
    {
     "name": "stderr",
     "output_type": "stream",
     "text": [
      " 53%|████████████████████████████████████▉                                 | 126289/239040 [8:35:26<1:47:38, 17.46it/s]"
     ]
    },
    {
     "name": "stdout",
     "output_type": "stream",
     "text": [
      "Cannot check for SPDIF\n",
      "Cannot check for SPDIF\n",
      "Cannot check for SPDIF\n",
      "Cannot check for SPDIF\n"
     ]
    },
    {
     "name": "stderr",
     "output_type": "stream",
     "text": [
      " 53%|█████████████████████████████████████                                 | 126685/239040 [8:36:12<5:43:58,  5.44it/s]"
     ]
    },
    {
     "name": "stdout",
     "output_type": "stream",
     "text": [
      "Cannot check for SPDIF\n",
      "Cannot check for SPDIF\n",
      "Cannot check for SPDIF\n",
      "Cannot check for SPDIF\n",
      "Cannot check for SPDIF\n",
      "Cannot check for SPDIF\n"
     ]
    },
    {
     "name": "stderr",
     "output_type": "stream",
     "text": [
      "\r",
      " 53%|█████████████████████████████████████                                 | 126689/239040 [8:36:13<3:49:54,  8.14it/s]"
     ]
    },
    {
     "name": "stdout",
     "output_type": "stream",
     "text": [
      "Cannot check for SPDIF\n",
      "Cannot check for SPDIF\n"
     ]
    },
    {
     "name": "stderr",
     "output_type": "stream",
     "text": [
      " 53%|█████████████████████████████████████▏                                | 126852/239040 [8:36:34<6:56:51,  4.49it/s]"
     ]
    },
    {
     "name": "stdout",
     "output_type": "stream",
     "text": [
      "Cannot check for SPDIF\n",
      "Cannot check for SPDIF\n",
      "Cannot check for SPDIF\n",
      "Cannot check for SPDIF\n"
     ]
    },
    {
     "name": "stderr",
     "output_type": "stream",
     "text": [
      " 53%|█████████████████████████████████████▏                                | 126930/239040 [8:36:41<1:27:38, 21.32it/s]"
     ]
    },
    {
     "name": "stdout",
     "output_type": "stream",
     "text": [
      "Cannot check for SPDIF\n",
      "Cannot check for SPDIF\n"
     ]
    },
    {
     "name": "stderr",
     "output_type": "stream",
     "text": [
      "\r",
      " 53%|█████████████████████████████████████▏                                | 126933/239040 [8:36:41<1:24:54, 22.01it/s]"
     ]
    },
    {
     "name": "stdout",
     "output_type": "stream",
     "text": [
      "Cannot check for SPDIF\n",
      "Cannot check for SPDIF\n"
     ]
    },
    {
     "name": "stderr",
     "output_type": "stream",
     "text": [
      " 53%|█████████████████████████████████████▎                                | 127215/239040 [8:37:18<2:00:43, 15.44it/s]"
     ]
    },
    {
     "name": "stdout",
     "output_type": "stream",
     "text": [
      "Cannot check for SPDIF\n",
      "Cannot check for SPDIF\n",
      "Cannot check for SPDIF\n",
      "Cannot check for SPDIF\n"
     ]
    },
    {
     "name": "stderr",
     "output_type": "stream",
     "text": [
      "\r",
      " 53%|█████████████████████████████████████▎                                | 127219/239040 [8:37:18<1:37:05, 19.20it/s]"
     ]
    },
    {
     "name": "stdout",
     "output_type": "stream",
     "text": [
      "Cannot check for SPDIF\n",
      "Cannot check for SPDIF\n",
      "Cannot check for SPDIF\n",
      "Cannot check for SPDIF\n"
     ]
    },
    {
     "name": "stderr",
     "output_type": "stream",
     "text": [
      " 53%|█████████████████████████████████████▎                                | 127324/239040 [8:37:33<7:56:38,  3.91it/s]"
     ]
    },
    {
     "name": "stdout",
     "output_type": "stream",
     "text": [
      "Cannot check for SPDIF\n",
      "Cannot check for SPDIF\n"
     ]
    },
    {
     "name": "stderr",
     "output_type": "stream",
     "text": [
      "\r",
      " 53%|█████████████████████████████████████▎                                | 127327/239040 [8:37:33<5:32:57,  5.59it/s]"
     ]
    },
    {
     "name": "stdout",
     "output_type": "stream",
     "text": [
      "Cannot check for SPDIF\n",
      "Cannot check for SPDIF\n"
     ]
    },
    {
     "name": "stderr",
     "output_type": "stream",
     "text": [
      " 54%|█████████████████████████████████████▌                                | 128157/239040 [8:39:14<2:33:52, 12.01it/s]"
     ]
    },
    {
     "name": "stdout",
     "output_type": "stream",
     "text": [
      "Cannot check for SPDIF\n",
      "Cannot check for SPDIF\n"
     ]
    },
    {
     "name": "stderr",
     "output_type": "stream",
     "text": [
      "\r",
      " 54%|█████████████████████████████████████▌                                | 128159/239040 [8:39:14<2:27:06, 12.56it/s]"
     ]
    },
    {
     "name": "stdout",
     "output_type": "stream",
     "text": [
      "Cannot check for SPDIF\n",
      "Cannot check for SPDIF\n"
     ]
    },
    {
     "name": "stderr",
     "output_type": "stream",
     "text": [
      " 54%|█████████████████████████████████████                                | 128474/239040 [8:40:11<22:43:56,  1.35it/s]"
     ]
    },
    {
     "name": "stdout",
     "output_type": "stream",
     "text": [
      "Cannot check for SPDIF\n",
      "Cannot check for SPDIF\n",
      "Cannot check for SPDIF\n",
      "Cannot check for SPDIF\n"
     ]
    },
    {
     "name": "stderr",
     "output_type": "stream",
     "text": [
      " 54%|█████████████████████████████████████▋                                | 128671/239040 [8:40:43<2:59:17, 10.26it/s]"
     ]
    },
    {
     "name": "stdout",
     "output_type": "stream",
     "text": [
      "Cannot check for SPDIF\n",
      "Cannot check for SPDIF\n",
      "Cannot check for SPDIF\n",
      "Cannot check for SPDIF\n"
     ]
    },
    {
     "name": "stderr",
     "output_type": "stream",
     "text": [
      " 54%|█████████████████████████████████████▋                                | 128685/239040 [8:40:45<3:09:09,  9.72it/s]"
     ]
    },
    {
     "name": "stdout",
     "output_type": "stream",
     "text": [
      "Cannot check for SPDIF\n",
      "Cannot check for SPDIF\n",
      "Cannot check for SPDIF\n",
      "Cannot check for SPDIF\n"
     ]
    },
    {
     "name": "stderr",
     "output_type": "stream",
     "text": [
      " 54%|█████████████████████████████████████▋                                | 128798/239040 [8:41:06<3:28:25,  8.82it/s]"
     ]
    },
    {
     "name": "stdout",
     "output_type": "stream",
     "text": [
      "Cannot check for SPDIF\n",
      "Cannot check for SPDIF\n",
      "Cannot check for SPDIF\n",
      "Cannot check for SPDIF\n"
     ]
    },
    {
     "name": "stderr",
     "output_type": "stream",
     "text": [
      " 54%|█████████████████████████████████████▊                                | 129322/239040 [8:42:12<1:34:31, 19.35it/s]"
     ]
    },
    {
     "name": "stdout",
     "output_type": "stream",
     "text": [
      "Cannot check for SPDIF\n",
      "Cannot check for SPDIF\n"
     ]
    },
    {
     "name": "stderr",
     "output_type": "stream",
     "text": [
      "\r",
      " 54%|█████████████████████████████████████▊                                | 129325/239040 [8:42:12<1:24:52, 21.54it/s]"
     ]
    },
    {
     "name": "stdout",
     "output_type": "stream",
     "text": [
      "Cannot check for SPDIF\n",
      "Cannot check for SPDIF\n"
     ]
    },
    {
     "name": "stderr",
     "output_type": "stream",
     "text": [
      " 54%|█████████████████████████████████████▉                                | 129699/239040 [8:43:05<1:54:25, 15.93it/s]"
     ]
    },
    {
     "name": "stdout",
     "output_type": "stream",
     "text": [
      "Cannot check for SPDIF\n",
      "Cannot check for SPDIF\n",
      "Cannot check for SPDIF\n",
      "Cannot check for SPDIF\n"
     ]
    },
    {
     "name": "stderr",
     "output_type": "stream",
     "text": [
      " 54%|██████████████████████████████████████                                | 129873/239040 [8:43:28<1:39:57, 18.20it/s]"
     ]
    },
    {
     "name": "stdout",
     "output_type": "stream",
     "text": [
      "Cannot check for SPDIF\n",
      "Cannot check for SPDIF\n"
     ]
    },
    {
     "name": "stderr",
     "output_type": "stream",
     "text": [
      "\r",
      " 54%|██████████████████████████████████████                                | 129877/239040 [8:43:29<1:21:15, 22.39it/s]"
     ]
    },
    {
     "name": "stdout",
     "output_type": "stream",
     "text": [
      "Cannot check for SPDIF\n",
      "Cannot check for SPDIF\n"
     ]
    },
    {
     "name": "stderr",
     "output_type": "stream",
     "text": [
      " 54%|██████████████████████████████████████                                | 130172/239040 [8:44:08<1:40:46, 18.00it/s]"
     ]
    },
    {
     "name": "stdout",
     "output_type": "stream",
     "text": [
      "Cannot check for SPDIF\n",
      "Cannot check for SPDIF\n",
      "Cannot check for SPDIF\n",
      "Cannot check for SPDIF\n"
     ]
    },
    {
     "name": "stderr",
     "output_type": "stream",
     "text": [
      " 55%|██████████████████████████████████████▏                               | 130369/239040 [8:44:35<3:21:18,  9.00it/s]"
     ]
    },
    {
     "name": "stdout",
     "output_type": "stream",
     "text": [
      "Cannot check for SPDIF\n",
      "Cannot check for SPDIF\n",
      "Cannot check for SPDIF\n",
      "Cannot check for SPDIF\n"
     ]
    },
    {
     "name": "stderr",
     "output_type": "stream",
     "text": [
      " 55%|██████████████████████████████████████▏                               | 130462/239040 [8:44:46<1:53:49, 15.90it/s]"
     ]
    },
    {
     "name": "stdout",
     "output_type": "stream",
     "text": [
      "Cannot check for SPDIF\n",
      "Cannot check for SPDIF\n",
      "Cannot check for SPDIF\n",
      "Cannot check for SPDIF\n"
     ]
    },
    {
     "name": "stderr",
     "output_type": "stream",
     "text": [
      " 55%|██████████████████████████████████████▎                               | 130699/239040 [8:45:19<4:48:14,  6.26it/s]"
     ]
    },
    {
     "name": "stdout",
     "output_type": "stream",
     "text": [
      "Cannot check for SPDIF\n",
      "Cannot check for SPDIF\n"
     ]
    },
    {
     "name": "stderr",
     "output_type": "stream",
     "text": [
      "\r",
      " 55%|██████████████████████████████████████▎                               | 130703/239040 [8:45:19<3:23:03,  8.89it/s]"
     ]
    },
    {
     "name": "stdout",
     "output_type": "stream",
     "text": [
      "Cannot check for SPDIF\n",
      "Cannot check for SPDIF\n"
     ]
    },
    {
     "name": "stderr",
     "output_type": "stream",
     "text": [
      " 55%|██████████████████████████████████████▎                               | 130884/239040 [8:45:36<1:52:26, 16.03it/s]"
     ]
    },
    {
     "name": "stdout",
     "output_type": "stream",
     "text": [
      "Cannot check for SPDIF\n",
      "Cannot check for SPDIF\n"
     ]
    },
    {
     "name": "stderr",
     "output_type": "stream",
     "text": [
      "\r",
      " 55%|██████████████████████████████████████▎                               | 130887/239040 [8:45:36<1:47:38, 16.75it/s]"
     ]
    },
    {
     "name": "stdout",
     "output_type": "stream",
     "text": [
      "Cannot check for SPDIF\n",
      "Cannot check for SPDIF\n"
     ]
    },
    {
     "name": "stderr",
     "output_type": "stream",
     "text": [
      " 55%|██████████████████████████████████████▌                               | 131719/239040 [8:46:46<4:50:03,  6.17it/s]"
     ]
    },
    {
     "name": "stdout",
     "output_type": "stream",
     "text": [
      "Cannot check for SPDIF\n",
      "Cannot check for SPDIF\n",
      "Cannot check for SPDIF\n",
      "Cannot check for SPDIF\n"
     ]
    },
    {
     "name": "stderr",
     "output_type": "stream",
     "text": [
      " 55%|██████████████████████████████████████▊                               | 132553/239040 [8:47:53<1:17:46, 22.82it/s]"
     ]
    },
    {
     "name": "stdout",
     "output_type": "stream",
     "text": [
      "Cannot check for SPDIF\n",
      "Cannot check for SPDIF\n",
      "Cannot check for SPDIF\n",
      "Cannot check for SPDIF\n"
     ]
    },
    {
     "name": "stderr",
     "output_type": "stream",
     "text": [
      " 56%|██████████████████████████████████████▉                               | 133073/239040 [8:48:37<5:42:35,  5.16it/s]"
     ]
    },
    {
     "name": "stdout",
     "output_type": "stream",
     "text": [
      "Cannot check for SPDIF\n",
      "Cannot check for SPDIF\n",
      "Cannot check for SPDIF\n",
      "Cannot check for SPDIF\n"
     ]
    },
    {
     "name": "stderr",
     "output_type": "stream",
     "text": [
      " 56%|███████████████████████████████████████                               | 133266/239040 [8:48:54<1:30:05, 19.57it/s]"
     ]
    },
    {
     "name": "stdout",
     "output_type": "stream",
     "text": [
      "Cannot check for SPDIF\n",
      "Cannot check for SPDIF\n",
      "Cannot check for SPDIF\n",
      "Cannot check for SPDIF\n"
     ]
    },
    {
     "name": "stderr",
     "output_type": "stream",
     "text": [
      " 56%|███████████████████████████████████████                               | 133279/239040 [8:48:54<1:18:41, 22.40it/s]"
     ]
    },
    {
     "name": "stdout",
     "output_type": "stream",
     "text": [
      "Cannot check for SPDIF\n",
      "Cannot check for SPDIF\n"
     ]
    },
    {
     "name": "stderr",
     "output_type": "stream",
     "text": [
      "\r",
      " 56%|███████████████████████████████████████                               | 133283/239040 [8:48:55<1:07:20, 26.17it/s]"
     ]
    },
    {
     "name": "stdout",
     "output_type": "stream",
     "text": [
      "Cannot check for SPDIF\n",
      "Cannot check for SPDIF\n"
     ]
    },
    {
     "name": "stderr",
     "output_type": "stream",
     "text": [
      " 56%|███████████████████████████████████████                               | 133296/239040 [8:48:57<3:54:26,  7.52it/s]"
     ]
    },
    {
     "name": "stdout",
     "output_type": "stream",
     "text": [
      "Cannot check for SPDIF\n",
      "Cannot check for SPDIF\n",
      "Cannot check for SPDIF\n",
      "Cannot check for SPDIF\n"
     ]
    },
    {
     "name": "stderr",
     "output_type": "stream",
     "text": [
      " 56%|███████████████████████████████████████▎                              | 134296/239040 [8:50:26<1:36:52, 18.02it/s]"
     ]
    },
    {
     "name": "stdout",
     "output_type": "stream",
     "text": [
      "Cannot check for SPDIF\n",
      "Cannot check for SPDIF\n",
      "Cannot check for SPDIF\n",
      "Cannot check for SPDIF\n"
     ]
    },
    {
     "name": "stderr",
     "output_type": "stream",
     "text": [
      " 56%|███████████████████████████████████████▎                              | 134316/239040 [8:50:28<6:35:26,  4.41it/s]"
     ]
    },
    {
     "name": "stdout",
     "output_type": "stream",
     "text": [
      "Cannot check for SPDIF\n",
      "Cannot check for SPDIF\n",
      "Cannot check for SPDIF\n",
      "Cannot check for SPDIF\n"
     ]
    },
    {
     "name": "stderr",
     "output_type": "stream",
     "text": [
      " 56%|███████████████████████████████████████▍                              | 134843/239040 [8:51:14<1:45:18, 16.49it/s]"
     ]
    },
    {
     "name": "stdout",
     "output_type": "stream",
     "text": [
      "Cannot check for SPDIF\n",
      "Cannot check for SPDIF\n",
      "Cannot check for SPDIF\n",
      "Cannot check for SPDIF\n"
     ]
    },
    {
     "name": "stderr",
     "output_type": "stream",
     "text": [
      " 57%|███████████████████████████████████████▊                              | 135799/239040 [8:52:38<6:42:59,  4.27it/s]"
     ]
    },
    {
     "name": "stdout",
     "output_type": "stream",
     "text": [
      "Cannot check for SPDIF\n",
      "Cannot check for SPDIF\n"
     ]
    },
    {
     "name": "stderr",
     "output_type": "stream",
     "text": [
      " 57%|███████████████████████████████████████▉                              | 136268/239040 [8:53:17<2:42:08, 10.56it/s]"
     ]
    },
    {
     "name": "stdout",
     "output_type": "stream",
     "text": [
      "Cannot check for SPDIF\n",
      "Cannot check for SPDIF\n",
      "Cannot check for SPDIF\n",
      "Cannot check for SPDIF\n"
     ]
    },
    {
     "name": "stderr",
     "output_type": "stream",
     "text": [
      " 57%|███████████████████████████████████████▉                              | 136291/239040 [8:53:18<1:21:25, 21.03it/s]"
     ]
    },
    {
     "name": "stdout",
     "output_type": "stream",
     "text": [
      "Cannot check for SPDIF\n",
      "Cannot check for SPDIF\n",
      "Cannot check for SPDIF\n",
      "Cannot check for SPDIF\n"
     ]
    },
    {
     "name": "stderr",
     "output_type": "stream",
     "text": [
      " 57%|███████████████████████████████████████▉                              | 136350/239040 [8:53:24<4:55:33,  5.79it/s]"
     ]
    },
    {
     "name": "stdout",
     "output_type": "stream",
     "text": [
      "Cannot check for SPDIF\n",
      "Cannot check for SPDIF\n",
      "Cannot check for SPDIF\n",
      "Cannot check for SPDIF\n"
     ]
    },
    {
     "name": "stderr",
     "output_type": "stream",
     "text": [
      " 57%|████████████████████████████████████████                              | 136612/239040 [8:53:47<2:32:48, 11.17it/s]"
     ]
    },
    {
     "name": "stdout",
     "output_type": "stream",
     "text": [
      "Cannot check for SPDIF\n",
      "Cannot check for SPDIF\n"
     ]
    },
    {
     "name": "stderr",
     "output_type": "stream",
     "text": [
      "\r",
      " 57%|████████████████████████████████████████                              | 136615/239040 [8:53:47<2:06:55, 13.45it/s]"
     ]
    },
    {
     "name": "stdout",
     "output_type": "stream",
     "text": [
      "Cannot check for SPDIF\n",
      "Cannot check for SPDIF\n"
     ]
    },
    {
     "name": "stderr",
     "output_type": "stream",
     "text": [
      " 57%|████████████████████████████████████████▏                             | 137234/239040 [8:54:38<1:28:05, 19.26it/s]"
     ]
    },
    {
     "name": "stdout",
     "output_type": "stream",
     "text": [
      "Cannot check for SPDIF\n",
      "Cannot check for SPDIF\n"
     ]
    },
    {
     "name": "stderr",
     "output_type": "stream",
     "text": [
      "\r",
      " 57%|████████████████████████████████████████▏                             | 137237/239040 [8:54:38<1:30:28, 18.75it/s]"
     ]
    },
    {
     "name": "stdout",
     "output_type": "stream",
     "text": [
      "Cannot check for SPDIF\n",
      "Cannot check for SPDIF\n"
     ]
    },
    {
     "name": "stderr",
     "output_type": "stream",
     "text": [
      " 57%|████████████████████████████████████████▏                             | 137287/239040 [8:54:44<3:57:54,  7.13it/s]"
     ]
    },
    {
     "name": "stdout",
     "output_type": "stream",
     "text": [
      "Cannot check for SPDIF\n",
      "Cannot check for SPDIF\n",
      "Cannot check for SPDIF\n",
      "Cannot check for SPDIF\n"
     ]
    },
    {
     "name": "stderr",
     "output_type": "stream",
     "text": [
      " 58%|████████████████████████████████████████▎                             | 137509/239040 [8:55:02<2:20:45, 12.02it/s]"
     ]
    },
    {
     "name": "stdout",
     "output_type": "stream",
     "text": [
      "Cannot check for SPDIF\n",
      "Cannot check for SPDIF\n",
      "Cannot check for SPDIF\n",
      "Cannot check for SPDIF\n"
     ]
    },
    {
     "name": "stderr",
     "output_type": "stream",
     "text": [
      " 58%|████████████████████████████████████████▍                             | 137952/239040 [8:57:56<4:57:16,  5.67it/s]"
     ]
    },
    {
     "name": "stdout",
     "output_type": "stream",
     "text": [
      "Cannot check for SPDIF\n",
      "Cannot check for SPDIF\n",
      "Cannot check for SPDIF\n",
      "Cannot check for SPDIF\n"
     ]
    },
    {
     "name": "stderr",
     "output_type": "stream",
     "text": [
      " 58%|███████████████████████████████████████▉                             | 138498/239040 [9:06:13<13:16:21,  2.10it/s]"
     ]
    },
    {
     "name": "stdout",
     "output_type": "stream",
     "text": [
      "Cannot check for SPDIF\n",
      "Cannot check for SPDIF\n",
      "Cannot check for SPDIF\n",
      "Cannot check for SPDIF\n"
     ]
    },
    {
     "name": "stderr",
     "output_type": "stream",
     "text": [
      " 58%|████████████████████████████████████████▋                             | 138845/239040 [9:11:27<5:05:44,  5.46it/s]"
     ]
    },
    {
     "name": "stdout",
     "output_type": "stream",
     "text": [
      "Cannot check for SPDIF\n",
      "Cannot check for SPDIF\n",
      "Cannot check for SPDIF\n",
      "Cannot check for SPDIF\n"
     ]
    },
    {
     "name": "stderr",
     "output_type": "stream",
     "text": [
      " 58%|████████████████████████████████████████▎                            | 139633/239040 [9:24:42<37:15:13,  1.35s/it]"
     ]
    },
    {
     "name": "stdout",
     "output_type": "stream",
     "text": [
      "Cannot check for SPDIF\n",
      "Cannot check for SPDIF\n",
      "Cannot check for SPDIF\n",
      "Cannot check for SPDIF\n"
     ]
    },
    {
     "name": "stderr",
     "output_type": "stream",
     "text": [
      " 58%|████████████████████████████████████████▎                            | 139715/239040 [9:26:09<54:48:16,  1.99s/it]"
     ]
    },
    {
     "name": "stdout",
     "output_type": "stream",
     "text": [
      "Cannot check for SPDIF\n",
      "Cannot check for SPDIF\n",
      "Cannot check for SPDIF\n",
      "Cannot check for SPDIF\n"
     ]
    },
    {
     "name": "stderr",
     "output_type": "stream",
     "text": [
      " 59%|████████████████████████████████████████▉                             | 139986/239040 [9:26:33<1:47:26, 15.37it/s]"
     ]
    },
    {
     "name": "stdout",
     "output_type": "stream",
     "text": [
      "Cannot check for SPDIF\n",
      "Cannot check for SPDIF\n",
      "Cannot check for SPDIF\n",
      "Cannot check for SPDIF\n"
     ]
    },
    {
     "name": "stderr",
     "output_type": "stream",
     "text": [
      " 59%|█████████████████████████████████████████                             | 140424/239040 [9:27:09<1:16:04, 21.60it/s]"
     ]
    },
    {
     "name": "stdout",
     "output_type": "stream",
     "text": [
      "Cannot check for SPDIF\n",
      "Cannot check for SPDIF\n",
      "Cannot check for SPDIF\n",
      "Cannot check for SPDIF\n"
     ]
    },
    {
     "name": "stderr",
     "output_type": "stream",
     "text": [
      " 59%|█████████████████████████████████████████▏                            | 140637/239040 [9:27:27<1:10:54, 23.13it/s]"
     ]
    },
    {
     "name": "stdout",
     "output_type": "stream",
     "text": [
      "Cannot check for SPDIF\n",
      "Cannot check for SPDIF\n",
      "Cannot check for SPDIF\n",
      "Cannot check for SPDIF\n"
     ]
    },
    {
     "name": "stderr",
     "output_type": "stream",
     "text": [
      " 59%|█████████████████████████████████████████▏                            | 140662/239040 [9:27:29<2:13:05, 12.32it/s]"
     ]
    },
    {
     "name": "stdout",
     "output_type": "stream",
     "text": [
      "Cannot check for SPDIF\n",
      "Cannot check for SPDIF\n",
      "Cannot check for SPDIF\n",
      "Cannot check for SPDIF\n"
     ]
    },
    {
     "name": "stderr",
     "output_type": "stream",
     "text": [
      " 59%|█████████████████████████████████████████▎                            | 140894/239040 [9:27:48<1:14:07, 22.07it/s]"
     ]
    },
    {
     "name": "stdout",
     "output_type": "stream",
     "text": [
      "Cannot check for SPDIF\n",
      "Cannot check for SPDIF\n",
      "Cannot check for SPDIF\n",
      "Cannot check for SPDIF\n"
     ]
    },
    {
     "name": "stderr",
     "output_type": "stream",
     "text": [
      " 59%|█████████████████████████████████████████▎                            | 141039/239040 [9:28:00<3:43:35,  7.31it/s]"
     ]
    },
    {
     "name": "stdout",
     "output_type": "stream",
     "text": [
      "Cannot check for SPDIF\n",
      "Cannot check for SPDIF\n",
      "Cannot check for SPDIF\n",
      "Cannot check for SPDIF\n"
     ]
    },
    {
     "name": "stderr",
     "output_type": "stream",
     "text": [
      " 59%|█████████████████████████████████████████▍                            | 141292/239040 [9:28:21<5:40:04,  4.79it/s]"
     ]
    },
    {
     "name": "stdout",
     "output_type": "stream",
     "text": [
      "Cannot check for SPDIF\n",
      "Cannot check for SPDIF\n"
     ]
    },
    {
     "name": "stderr",
     "output_type": "stream",
     "text": [
      "\r",
      " 59%|█████████████████████████████████████████▍                            | 141295/239040 [9:28:21<4:19:25,  6.28it/s]"
     ]
    },
    {
     "name": "stdout",
     "output_type": "stream",
     "text": [
      "Cannot check for SPDIF\n",
      "Cannot check for SPDIF\n"
     ]
    },
    {
     "name": "stderr",
     "output_type": "stream",
     "text": [
      " 59%|█████████████████████████████████████████▍                            | 141712/239040 [9:28:53<1:12:13, 22.46it/s]"
     ]
    },
    {
     "name": "stdout",
     "output_type": "stream",
     "text": [
      "Cannot check for SPDIF\n",
      "Cannot check for SPDIF\n"
     ]
    },
    {
     "name": "stderr",
     "output_type": "stream",
     "text": [
      "\r",
      " 59%|█████████████████████████████████████████▍                            | 141715/239040 [9:28:53<1:06:46, 24.29it/s]"
     ]
    },
    {
     "name": "stdout",
     "output_type": "stream",
     "text": [
      "Cannot check for SPDIF\n",
      "Cannot check for SPDIF\n"
     ]
    },
    {
     "name": "stderr",
     "output_type": "stream",
     "text": [
      " 59%|█████████████████████████████████████████▌                            | 141923/239040 [9:29:10<1:16:47, 21.08it/s]"
     ]
    },
    {
     "name": "stdout",
     "output_type": "stream",
     "text": [
      "Cannot check for SPDIF\n",
      "Cannot check for SPDIF\n",
      "Cannot check for SPDIF\n",
      "Cannot check for SPDIF\n"
     ]
    },
    {
     "name": "stderr",
     "output_type": "stream",
     "text": [
      " 59%|█████████████████████████████████████████▌                            | 141993/239040 [9:29:17<1:42:30, 15.78it/s]"
     ]
    },
    {
     "name": "stdout",
     "output_type": "stream",
     "text": [
      "Cannot check for SPDIF\n",
      "Cannot check for SPDIF\n",
      "Cannot check for SPDIF\n",
      "Cannot check for SPDIF\n"
     ]
    },
    {
     "name": "stderr",
     "output_type": "stream",
     "text": [
      " 60%|█████████████████████████████████████████▋                            | 142273/239040 [9:29:43<6:38:01,  4.05it/s]"
     ]
    },
    {
     "name": "stdout",
     "output_type": "stream",
     "text": [
      "Cannot check for SPDIF\n",
      "Cannot check for SPDIF\n",
      "Cannot check for SPDIF\n",
      "Cannot check for SPDIF\n"
     ]
    },
    {
     "name": "stderr",
     "output_type": "stream",
     "text": [
      " 60%|█████████████████████████████████████████▋                            | 142511/239040 [9:30:03<1:14:21, 21.64it/s]"
     ]
    },
    {
     "name": "stdout",
     "output_type": "stream",
     "text": [
      "Cannot check for SPDIF\n",
      "Cannot check for SPDIF\n",
      "Cannot check for SPDIF\n",
      "Cannot check for SPDIF\n"
     ]
    },
    {
     "name": "stderr",
     "output_type": "stream",
     "text": [
      " 60%|█████████████████████████████████████████▊                            | 142771/239040 [9:30:26<1:28:05, 18.21it/s]"
     ]
    },
    {
     "name": "stdout",
     "output_type": "stream",
     "text": [
      "Cannot check for SPDIF\n",
      "Cannot check for SPDIF\n"
     ]
    },
    {
     "name": "stderr",
     "output_type": "stream",
     "text": [
      "\r",
      " 60%|█████████████████████████████████████████▊                            | 142775/239040 [9:30:26<1:14:53, 21.43it/s]"
     ]
    },
    {
     "name": "stdout",
     "output_type": "stream",
     "text": [
      "Cannot check for SPDIF\n",
      "Cannot check for SPDIF\n"
     ]
    },
    {
     "name": "stderr",
     "output_type": "stream",
     "text": [
      " 60%|██████████████████████████████████████████                            | 143587/239040 [9:31:49<4:14:12,  6.26it/s]"
     ]
    },
    {
     "name": "stdout",
     "output_type": "stream",
     "text": [
      "Cannot check for SPDIF\n",
      "Cannot check for SPDIF\n",
      "Cannot check for SPDIF\n",
      "Cannot check for SPDIF\n"
     ]
    },
    {
     "name": "stderr",
     "output_type": "stream",
     "text": [
      " 60%|██████████████████████████████████████████                            | 143673/239040 [9:31:57<3:59:31,  6.64it/s]"
     ]
    },
    {
     "name": "stdout",
     "output_type": "stream",
     "text": [
      "Cannot check for SPDIF\n",
      "Cannot check for SPDIF\n",
      "Cannot check for SPDIF\n",
      "Cannot check for SPDIF\n"
     ]
    },
    {
     "name": "stderr",
     "output_type": "stream",
     "text": [
      " 60%|██████████████████████████████████████████▎                           | 144480/239040 [9:33:14<3:28:54,  7.54it/s]"
     ]
    },
    {
     "name": "stdout",
     "output_type": "stream",
     "text": [
      "Cannot check for SPDIF\n",
      "Cannot check for SPDIF\n",
      "Cannot check for SPDIF\n",
      "Cannot check for SPDIF\n"
     ]
    },
    {
     "name": "stderr",
     "output_type": "stream",
     "text": [
      " 61%|██████████████████████████████████████████▍                           | 144984/239040 [9:34:02<5:45:37,  4.54it/s]"
     ]
    },
    {
     "name": "stdout",
     "output_type": "stream",
     "text": [
      "Cannot check for SPDIF\n",
      "Cannot check for SPDIF\n",
      "Cannot check for SPDIF\n",
      "Cannot check for SPDIF\n"
     ]
    },
    {
     "name": "stderr",
     "output_type": "stream",
     "text": [
      " 61%|██████████████████████████████████████████▌                           | 145173/239040 [9:34:19<1:27:01, 17.98it/s]"
     ]
    },
    {
     "name": "stdout",
     "output_type": "stream",
     "text": [
      "Cannot check for SPDIF\n",
      "Cannot check for SPDIF\n",
      "Cannot check for SPDIF\n",
      "Cannot check for SPDIF\n"
     ]
    },
    {
     "name": "stderr",
     "output_type": "stream",
     "text": [
      " 61%|██████████████████████████████████████████▋                           | 145640/239040 [9:35:03<1:38:59, 15.72it/s]"
     ]
    },
    {
     "name": "stdout",
     "output_type": "stream",
     "text": [
      "Cannot check for SPDIF\n",
      "Cannot check for SPDIF\n",
      "Cannot check for SPDIF\n",
      "Cannot check for SPDIF\n"
     ]
    },
    {
     "name": "stderr",
     "output_type": "stream",
     "text": [
      " 61%|██████████████████████████████████████████▋                           | 145734/239040 [9:35:12<1:24:20, 18.44it/s]"
     ]
    },
    {
     "name": "stdout",
     "output_type": "stream",
     "text": [
      "Cannot check for SPDIF\n",
      "Cannot check for SPDIF\n",
      "Cannot check for SPDIF\n",
      "Cannot check for SPDIF\n"
     ]
    },
    {
     "name": "stderr",
     "output_type": "stream",
     "text": [
      " 61%|██████████████████████████████████████████▋                           | 145905/239040 [9:35:27<1:23:40, 18.55it/s]"
     ]
    },
    {
     "name": "stdout",
     "output_type": "stream",
     "text": [
      "Cannot check for SPDIF\n",
      "Cannot check for SPDIF\n",
      "Cannot check for SPDIF\n",
      "Cannot check for SPDIF\n"
     ]
    },
    {
     "name": "stderr",
     "output_type": "stream",
     "text": [
      " 61%|██████████████████████████████████████████▋                           | 145971/239040 [9:35:34<3:49:30,  6.76it/s]"
     ]
    },
    {
     "name": "stdout",
     "output_type": "stream",
     "text": [
      "Cannot check for SPDIF\n",
      "Cannot check for SPDIF\n",
      "Cannot check for SPDIF\n",
      "Cannot check for SPDIF\n"
     ]
    },
    {
     "name": "stderr",
     "output_type": "stream",
     "text": [
      " 61%|██████████████████████████████████████████▊                           | 146366/239040 [9:36:10<1:32:56, 16.62it/s]"
     ]
    },
    {
     "name": "stdout",
     "output_type": "stream",
     "text": [
      "Cannot check for SPDIF\n",
      "Cannot check for SPDIF\n",
      "Cannot check for SPDIF\n",
      "Cannot check for SPDIF\n"
     ]
    },
    {
     "name": "stderr",
     "output_type": "stream",
     "text": [
      " 62%|███████████████████████████████████████████▎                          | 147842/239040 [9:38:17<1:43:56, 14.62it/s]"
     ]
    },
    {
     "name": "stdout",
     "output_type": "stream",
     "text": [
      "Cannot check for SPDIF\n",
      "Cannot check for SPDIF\n",
      "Cannot check for SPDIF\n",
      "Cannot check for SPDIF\n"
     ]
    },
    {
     "name": "stderr",
     "output_type": "stream",
     "text": [
      " 62%|███████████████████████████████████████████▎                          | 147873/239040 [9:38:20<3:49:58,  6.61it/s]"
     ]
    },
    {
     "name": "stdout",
     "output_type": "stream",
     "text": [
      "Cannot check for SPDIF\n",
      "Cannot check for SPDIF\n",
      "Cannot check for SPDIF\n",
      "Cannot check for SPDIF\n"
     ]
    },
    {
     "name": "stderr",
     "output_type": "stream",
     "text": [
      " 62%|███████████████████████████████████████████▍                          | 148180/239040 [9:38:46<1:55:03, 13.16it/s]"
     ]
    },
    {
     "name": "stdout",
     "output_type": "stream",
     "text": [
      "Cannot check for SPDIF\n",
      "Cannot check for SPDIF\n",
      "Cannot check for SPDIF\n",
      "Cannot check for SPDIF\n"
     ]
    },
    {
     "name": "stderr",
     "output_type": "stream",
     "text": [
      " 62%|███████████████████████████████████████████▍                          | 148270/239040 [9:38:53<1:41:23, 14.92it/s]"
     ]
    },
    {
     "name": "stdout",
     "output_type": "stream",
     "text": [
      "Cannot check for SPDIF\n",
      "Cannot check for SPDIF\n",
      "Cannot check for SPDIF\n",
      "Cannot check for SPDIF\n"
     ]
    },
    {
     "name": "stderr",
     "output_type": "stream",
     "text": [
      " 62%|███████████████████████████████████████████▌                          | 148631/239040 [9:39:27<5:45:30,  4.36it/s]"
     ]
    },
    {
     "name": "stdout",
     "output_type": "stream",
     "text": [
      "Cannot check for SPDIF\n",
      "Cannot check for SPDIF\n",
      "Cannot check for SPDIF\n",
      "Cannot check for SPDIF\n"
     ]
    },
    {
     "name": "stderr",
     "output_type": "stream",
     "text": [
      " 62%|███████████████████████████████████████████▌                          | 148894/239040 [9:39:50<3:17:22,  7.61it/s]"
     ]
    },
    {
     "name": "stdout",
     "output_type": "stream",
     "text": [
      "Cannot check for SPDIF\n",
      "Cannot check for SPDIF\n",
      "Cannot check for SPDIF\n",
      "Cannot check for SPDIF\n"
     ]
    },
    {
     "name": "stderr",
     "output_type": "stream",
     "text": [
      " 62%|███████████████████████████████████████████▋                          | 149064/239040 [9:40:05<3:28:03,  7.21it/s]"
     ]
    },
    {
     "name": "stdout",
     "output_type": "stream",
     "text": [
      "Cannot check for SPDIF\n",
      "Cannot check for SPDIF\n",
      "Cannot check for SPDIF\n",
      "Cannot check for SPDIF\n"
     ]
    },
    {
     "name": "stderr",
     "output_type": "stream",
     "text": [
      " 62%|███████████████████████████████████████████▋                          | 149243/239040 [9:40:21<2:05:07, 11.96it/s]"
     ]
    },
    {
     "name": "stdout",
     "output_type": "stream",
     "text": [
      "Cannot check for SPDIF\n",
      "Cannot check for SPDIF\n",
      "Cannot check for SPDIF\n",
      "Cannot check for SPDIF\n"
     ]
    },
    {
     "name": "stderr",
     "output_type": "stream",
     "text": [
      " 62%|███████████████████████████████████████████▋                          | 149375/239040 [9:40:32<2:01:53, 12.26it/s]"
     ]
    },
    {
     "name": "stdout",
     "output_type": "stream",
     "text": [
      "Cannot check for SPDIF\n",
      "Cannot check for SPDIF\n",
      "Cannot check for SPDIF\n",
      "Cannot check for SPDIF\n"
     ]
    },
    {
     "name": "stderr",
     "output_type": "stream",
     "text": [
      " 63%|███████████████████████████████████████████▊                          | 149451/239040 [9:40:39<4:23:43,  5.66it/s]"
     ]
    },
    {
     "name": "stdout",
     "output_type": "stream",
     "text": [
      "Cannot check for SPDIF\n",
      "Cannot check for SPDIF\n",
      "Cannot check for SPDIF\n",
      "Cannot check for SPDIF\n"
     ]
    },
    {
     "name": "stderr",
     "output_type": "stream",
     "text": [
      " 63%|███████████████████████████████████████████▊                          | 149638/239040 [9:40:55<1:34:35, 15.75it/s]"
     ]
    },
    {
     "name": "stdout",
     "output_type": "stream",
     "text": [
      "Cannot check for SPDIF\n",
      "Cannot check for SPDIF\n"
     ]
    },
    {
     "name": "stderr",
     "output_type": "stream",
     "text": [
      "\r",
      " 63%|███████████████████████████████████████████▊                          | 149641/239040 [9:40:55<1:24:17, 17.68it/s]"
     ]
    },
    {
     "name": "stdout",
     "output_type": "stream",
     "text": [
      "Cannot check for SPDIF\n",
      "Cannot check for SPDIF\n"
     ]
    },
    {
     "name": "stderr",
     "output_type": "stream",
     "text": [
      " 63%|███████████████████████████████████████████▉                          | 149853/239040 [9:41:13<1:42:55, 14.44it/s]"
     ]
    },
    {
     "name": "stdout",
     "output_type": "stream",
     "text": [
      "Cannot check for SPDIF\n",
      "Cannot check for SPDIF\n",
      "Cannot check for SPDIF\n",
      "Cannot check for SPDIF\n"
     ]
    },
    {
     "name": "stderr",
     "output_type": "stream",
     "text": [
      " 63%|████████████████████████████████████████████                          | 150314/239040 [9:41:57<2:56:47,  8.36it/s]"
     ]
    },
    {
     "name": "stdout",
     "output_type": "stream",
     "text": [
      "Cannot check for SPDIF\n",
      "Cannot check for SPDIF\n",
      "Cannot check for SPDIF\n",
      "Cannot check for SPDIF\n"
     ]
    },
    {
     "name": "stderr",
     "output_type": "stream",
     "text": [
      " 63%|████████████████████████████████████████████                          | 150587/239040 [9:42:22<1:02:53, 23.44it/s]"
     ]
    },
    {
     "name": "stdout",
     "output_type": "stream",
     "text": [
      "Cannot check for SPDIF\n",
      "Cannot check for SPDIF\n",
      "Cannot check for SPDIF\n",
      "Cannot check for SPDIF\n"
     ]
    },
    {
     "name": "stderr",
     "output_type": "stream",
     "text": [
      " 63%|████████████████████████████████████████████▎                         | 151126/239040 [9:43:31<2:03:00, 11.91it/s]"
     ]
    },
    {
     "name": "stdout",
     "output_type": "stream",
     "text": [
      "Cannot check for SPDIF\n",
      "Cannot check for SPDIF\n"
     ]
    },
    {
     "name": "stderr",
     "output_type": "stream",
     "text": [
      "\r",
      " 63%|████████████████████████████████████████████▎                         | 151129/239040 [9:43:31<1:40:56, 14.52it/s]"
     ]
    },
    {
     "name": "stdout",
     "output_type": "stream",
     "text": [
      "Cannot check for SPDIF\n",
      "Cannot check for SPDIF\n"
     ]
    },
    {
     "name": "stderr",
     "output_type": "stream",
     "text": [
      " 63%|████████████████████████████████████████████▎                         | 151371/239040 [9:44:09<3:47:05,  6.43it/s]"
     ]
    },
    {
     "name": "stdout",
     "output_type": "stream",
     "text": [
      "Cannot check for SPDIF\n",
      "Cannot check for SPDIF\n",
      "Cannot check for SPDIF\n",
      "Cannot check for SPDIF\n"
     ]
    },
    {
     "name": "stderr",
     "output_type": "stream",
     "text": [
      " 63%|████████████████████████████████████████████▍                         | 151723/239040 [9:44:55<1:48:13, 13.45it/s]"
     ]
    },
    {
     "name": "stdout",
     "output_type": "stream",
     "text": [
      "Cannot check for SPDIF\n",
      "Cannot check for SPDIF\n",
      "Cannot check for SPDIF\n",
      "Cannot check for SPDIF\n"
     ]
    },
    {
     "name": "stderr",
     "output_type": "stream",
     "text": [
      " 64%|████████████████████████████████████████████▌                         | 152087/239040 [9:45:39<7:30:21,  3.22it/s]"
     ]
    },
    {
     "name": "stdout",
     "output_type": "stream",
     "text": [
      "Cannot check for SPDIF\n",
      "Cannot check for SPDIF\n"
     ]
    },
    {
     "name": "stderr",
     "output_type": "stream",
     "text": [
      " 64%|████████████████████████████████████████████▌                         | 152219/239040 [9:45:54<6:10:50,  3.90it/s]"
     ]
    },
    {
     "name": "stdout",
     "output_type": "stream",
     "text": [
      "Cannot check for SPDIF\n",
      "Cannot check for SPDIF\n",
      "Cannot check for SPDIF\n",
      "Cannot check for SPDIF\n"
     ]
    },
    {
     "name": "stderr",
     "output_type": "stream",
     "text": [
      " 64%|████████████████████████████████████████████▌                         | 152340/239040 [9:46:06<1:02:19, 23.18it/s]"
     ]
    },
    {
     "name": "stdout",
     "output_type": "stream",
     "text": [
      "Cannot check for SPDIF\n",
      "Cannot check for SPDIF\n",
      "Cannot check for SPDIF\n",
      "Cannot check for SPDIF\n"
     ]
    },
    {
     "name": "stderr",
     "output_type": "stream",
     "text": [
      " 64%|████████████████████████████████████████████▋                         | 152530/239040 [9:46:30<1:30:43, 15.89it/s]"
     ]
    },
    {
     "name": "stdout",
     "output_type": "stream",
     "text": [
      "Cannot check for SPDIF\n",
      "Cannot check for SPDIF\n"
     ]
    },
    {
     "name": "stderr",
     "output_type": "stream",
     "text": [
      " 64%|████████████████████████████████████████████▊                         | 152886/239040 [9:46:58<1:06:38, 21.55it/s]"
     ]
    },
    {
     "name": "stdout",
     "output_type": "stream",
     "text": [
      "Cannot check for SPDIF\n",
      "Cannot check for SPDIF\n"
     ]
    },
    {
     "name": "stderr",
     "output_type": "stream",
     "text": [
      " 64%|████████████████████████████████████████████▎                        | 153419/239040 [9:49:41<18:38:55,  1.28it/s]"
     ]
    },
    {
     "name": "stdout",
     "output_type": "stream",
     "text": [
      "Cannot check for SPDIF\n",
      "Cannot check for SPDIF\n"
     ]
    },
    {
     "name": "stderr",
     "output_type": "stream",
     "text": [
      "\r",
      " 64%|████████████████████████████████████████████▎                        | 153423/239040 [9:49:41<11:53:19,  2.00it/s]"
     ]
    },
    {
     "name": "stdout",
     "output_type": "stream",
     "text": [
      "Cannot check for SPDIF\n",
      "Cannot check for SPDIF\n",
      "Cannot check for SPDIF\n",
      "Cannot check for SPDIF\n"
     ]
    },
    {
     "name": "stderr",
     "output_type": "stream",
     "text": [
      "\r",
      " 64%|████████████████████████████████████████████▉                         | 153427/239040 [9:49:41<7:57:16,  2.99it/s]"
     ]
    },
    {
     "name": "stdout",
     "output_type": "stream",
     "text": [
      "Cannot check for SPDIF\n",
      "Cannot check for SPDIF\n"
     ]
    },
    {
     "name": "stderr",
     "output_type": "stream",
     "text": [
      " 64%|████████████████████████████████████████████▎                        | 153586/239040 [9:52:27<36:51:47,  1.55s/it]"
     ]
    },
    {
     "name": "stdout",
     "output_type": "stream",
     "text": [
      "Cannot check for SPDIF\n",
      "Cannot check for SPDIF\n"
     ]
    },
    {
     "name": "stderr",
     "output_type": "stream",
     "text": [
      "\r",
      " 64%|████████████████████████████████████████████▎                        | 153589/239040 [9:52:27<25:24:15,  1.07s/it]"
     ]
    },
    {
     "name": "stdout",
     "output_type": "stream",
     "text": [
      "Cannot check for SPDIF\n",
      "Cannot check for SPDIF\n"
     ]
    },
    {
     "name": "stderr",
     "output_type": "stream",
     "text": [
      " 64%|████████████████████████████████████████████▎                        | 153639/239040 [9:53:09<12:41:24,  1.87it/s]"
     ]
    },
    {
     "name": "stdout",
     "output_type": "stream",
     "text": [
      "Cannot check for SPDIF\n",
      "Cannot check for SPDIF\n",
      "Cannot check for SPDIF\n",
      "Cannot check for SPDIF\n"
     ]
    },
    {
     "name": "stderr",
     "output_type": "stream",
     "text": [
      " 64%|█████████████████████████████████████████████                         | 153742/239040 [9:54:32<3:16:57,  7.22it/s]"
     ]
    },
    {
     "name": "stdout",
     "output_type": "stream",
     "text": [
      "Cannot check for SPDIF\n",
      "Cannot check for SPDIF\n",
      "Cannot check for SPDIF\n",
      "Cannot check for SPDIF\n"
     ]
    },
    {
     "name": "stderr",
     "output_type": "stream",
     "text": [
      " 64%|█████████████████████████████████████████████                         | 153916/239040 [9:57:19<2:47:15,  8.48it/s]"
     ]
    },
    {
     "name": "stdout",
     "output_type": "stream",
     "text": [
      "Cannot check for SPDIF\n",
      "Cannot check for SPDIF\n"
     ]
    },
    {
     "name": "stderr",
     "output_type": "stream",
     "text": [
      "\r",
      " 64%|█████████████████████████████████████████████                         | 153919/239040 [9:57:19<2:13:28, 10.63it/s]"
     ]
    },
    {
     "name": "stdout",
     "output_type": "stream",
     "text": [
      "Cannot check for SPDIF\n",
      "Cannot check for SPDIF\n"
     ]
    },
    {
     "name": "stderr",
     "output_type": "stream",
     "text": [
      " 65%|████████████████████████████████████████████▋                        | 154639/239040 [10:08:36<1:03:49, 22.04it/s]"
     ]
    },
    {
     "name": "stdout",
     "output_type": "stream",
     "text": [
      "Cannot check for SPDIF\n",
      "Cannot check for SPDIF\n",
      "Cannot check for SPDIF\n",
      "Cannot check for SPDIF\n"
     ]
    },
    {
     "name": "stderr",
     "output_type": "stream",
     "text": [
      " 65%|████████████████████████████████████████████▋                        | 154754/239040 [10:08:45<1:04:37, 21.74it/s]"
     ]
    },
    {
     "name": "stdout",
     "output_type": "stream",
     "text": [
      "Cannot check for SPDIF\n",
      "Cannot check for SPDIF\n",
      "Cannot check for SPDIF\n",
      "Cannot check for SPDIF\n"
     ]
    },
    {
     "name": "stderr",
     "output_type": "stream",
     "text": [
      " 65%|████████████████████████████████████████████▋                        | 155008/239040 [10:09:08<1:37:17, 14.40it/s]"
     ]
    },
    {
     "name": "stdout",
     "output_type": "stream",
     "text": [
      "Cannot check for SPDIF\n",
      "Cannot check for SPDIF\n",
      "Cannot check for SPDIF\n",
      "Cannot check for SPDIF\n"
     ]
    },
    {
     "name": "stderr",
     "output_type": "stream",
     "text": [
      "\r",
      " 65%|████████████████████████████████████████████▋                        | 155013/239040 [10:09:08<1:16:31, 18.30it/s]"
     ]
    },
    {
     "name": "stdout",
     "output_type": "stream",
     "text": [
      "Cannot check for SPDIF\n",
      "Cannot check for SPDIF\n",
      "Cannot check for SPDIF\n",
      "Cannot check for SPDIF\n"
     ]
    },
    {
     "name": "stderr",
     "output_type": "stream",
     "text": [
      " 65%|████████████████████████████████████████████▊                        | 155459/239040 [10:09:52<1:04:46, 21.51it/s]"
     ]
    },
    {
     "name": "stdout",
     "output_type": "stream",
     "text": [
      "Cannot check for SPDIF\n",
      "Cannot check for SPDIF\n",
      "Cannot check for SPDIF\n",
      "Cannot check for SPDIF\n"
     ]
    },
    {
     "name": "stderr",
     "output_type": "stream",
     "text": [
      " 65%|████████████████████████████████████████████▉                        | 155681/239040 [10:10:16<3:37:22,  6.39it/s]"
     ]
    },
    {
     "name": "stdout",
     "output_type": "stream",
     "text": [
      "Cannot check for SPDIF\n",
      "Cannot check for SPDIF\n",
      "Cannot check for SPDIF\n",
      "Cannot check for SPDIF\n"
     ]
    },
    {
     "name": "stderr",
     "output_type": "stream",
     "text": [
      " 65%|████████████████████████████████████████████▉                        | 155740/239040 [10:10:21<1:25:53, 16.16it/s]"
     ]
    },
    {
     "name": "stdout",
     "output_type": "stream",
     "text": [
      "Cannot check for SPDIF\n",
      "Cannot check for SPDIF\n",
      "Cannot check for SPDIF\n",
      "Cannot check for SPDIF\n"
     ]
    },
    {
     "name": "stderr",
     "output_type": "stream",
     "text": [
      " 65%|████████████████████████████████████████████▉                        | 155772/239040 [10:10:24<3:32:54,  6.52it/s]"
     ]
    },
    {
     "name": "stdout",
     "output_type": "stream",
     "text": [
      "Cannot check for SPDIF\n",
      "Cannot check for SPDIF\n",
      "Cannot check for SPDIF\n",
      "Cannot check for SPDIF\n"
     ]
    },
    {
     "name": "stderr",
     "output_type": "stream",
     "text": [
      " 65%|█████████████████████████████████████████████                        | 155947/239040 [10:10:41<2:31:44,  9.13it/s]"
     ]
    },
    {
     "name": "stdout",
     "output_type": "stream",
     "text": [
      "Cannot check for SPDIF\n",
      "Cannot check for SPDIF\n",
      "Cannot check for SPDIF\n",
      "Cannot check for SPDIF\n"
     ]
    },
    {
     "name": "stderr",
     "output_type": "stream",
     "text": [
      " 66%|█████████████████████████████████████████████▎                       | 157150/239040 [10:12:51<1:28:05, 15.49it/s]"
     ]
    },
    {
     "name": "stdout",
     "output_type": "stream",
     "text": [
      "Cannot check for SPDIF\n",
      "Cannot check for SPDIF\n",
      "Cannot check for SPDIF\n",
      "Cannot check for SPDIF\n"
     ]
    },
    {
     "name": "stderr",
     "output_type": "stream",
     "text": [
      " 66%|█████████████████████████████████████████████▍                       | 157510/239040 [10:13:30<4:57:11,  4.57it/s]"
     ]
    },
    {
     "name": "stdout",
     "output_type": "stream",
     "text": [
      "Cannot check for SPDIF\n",
      "Cannot check for SPDIF\n"
     ]
    },
    {
     "name": "stderr",
     "output_type": "stream",
     "text": [
      "\r",
      " 66%|█████████████████████████████████████████████▍                       | 157513/239040 [10:13:30<3:46:02,  6.01it/s]"
     ]
    },
    {
     "name": "stdout",
     "output_type": "stream",
     "text": [
      "Cannot check for SPDIF\n",
      "Cannot check for SPDIF\n"
     ]
    },
    {
     "name": "stderr",
     "output_type": "stream",
     "text": [
      " 66%|█████████████████████████████████████████████▍                       | 157535/239040 [10:13:31<1:24:49, 16.01it/s]"
     ]
    },
    {
     "name": "stdout",
     "output_type": "stream",
     "text": [
      "Cannot check for SPDIF\n",
      "Cannot check for SPDIF\n",
      "Cannot check for SPDIF\n",
      "Cannot check for SPDIF\n"
     ]
    },
    {
     "name": "stderr",
     "output_type": "stream",
     "text": [
      " 66%|██████████████████████████████████████████████▊                        | 157543/239040 [10:13:32<59:53, 22.68it/s]"
     ]
    },
    {
     "name": "stdout",
     "output_type": "stream",
     "text": [
      "Cannot check for SPDIF\n",
      "Cannot check for SPDIF\n"
     ]
    },
    {
     "name": "stderr",
     "output_type": "stream",
     "text": [
      "\r",
      " 66%|██████████████████████████████████████████████▊                        | 157547/239040 [10:13:32<52:18, 25.97it/s]"
     ]
    },
    {
     "name": "stdout",
     "output_type": "stream",
     "text": [
      "Cannot check for SPDIF\n",
      "Cannot check for SPDIF\n"
     ]
    },
    {
     "name": "stderr",
     "output_type": "stream",
     "text": [
      " 66%|█████████████████████████████████████████████▌                       | 157724/239040 [10:13:55<8:35:24,  2.63it/s]"
     ]
    },
    {
     "name": "stdout",
     "output_type": "stream",
     "text": [
      "Cannot check for SPDIF\n",
      "Cannot check for SPDIF\n",
      "Cannot check for SPDIF\n",
      "Cannot check for SPDIF\n"
     ]
    },
    {
     "name": "stderr",
     "output_type": "stream",
     "text": [
      " 66%|█████████████████████████████████████████████▌                       | 157859/239040 [10:14:11<4:31:35,  4.98it/s]"
     ]
    },
    {
     "name": "stdout",
     "output_type": "stream",
     "text": [
      "Cannot check for SPDIF\n",
      "Cannot check for SPDIF\n",
      "Cannot check for SPDIF\n",
      "Cannot check for SPDIF\n"
     ]
    },
    {
     "name": "stderr",
     "output_type": "stream",
     "text": [
      " 66%|█████████████████████████████████████████████▉                       | 158952/239040 [10:16:14<1:22:15, 16.23it/s]"
     ]
    },
    {
     "name": "stdout",
     "output_type": "stream",
     "text": [
      "Cannot check for SPDIF\n",
      "Cannot check for SPDIF\n",
      "Cannot check for SPDIF\n",
      "Cannot check for SPDIF\n"
     ]
    },
    {
     "name": "stderr",
     "output_type": "stream",
     "text": [
      " 67%|███████████████████████████████████████████████▍                       | 159556/239040 [10:17:21<56:24, 23.48it/s]"
     ]
    },
    {
     "name": "stdout",
     "output_type": "stream",
     "text": [
      "Cannot check for SPDIF\n",
      "Cannot check for SPDIF\n",
      "Cannot check for SPDIF\n",
      "Cannot check for SPDIF\n"
     ]
    },
    {
     "name": "stderr",
     "output_type": "stream",
     "text": [
      " 67%|██████████████████████████████████████████████                       | 159664/239040 [10:17:35<1:41:03, 13.09it/s]"
     ]
    },
    {
     "name": "stdout",
     "output_type": "stream",
     "text": [
      "Cannot check for SPDIF\n",
      "Cannot check for SPDIF\n"
     ]
    },
    {
     "name": "stderr",
     "output_type": "stream",
     "text": [
      "\r",
      " 67%|██████████████████████████████████████████████                       | 159667/239040 [10:17:35<1:25:59, 15.39it/s]"
     ]
    },
    {
     "name": "stdout",
     "output_type": "stream",
     "text": [
      "Cannot check for SPDIF\n",
      "Cannot check for SPDIF\n"
     ]
    },
    {
     "name": "stderr",
     "output_type": "stream",
     "text": [
      " 67%|██████████████████████████████████████████████▏                      | 159951/239040 [10:18:07<3:19:03,  6.62it/s]"
     ]
    },
    {
     "name": "stdout",
     "output_type": "stream",
     "text": [
      "Cannot check for SPDIF\n",
      "Cannot check for SPDIF\n",
      "Cannot check for SPDIF\n",
      "Cannot check for SPDIF\n"
     ]
    },
    {
     "name": "stderr",
     "output_type": "stream",
     "text": [
      " 67%|██████████████████████████████████████████████▏                      | 160086/239040 [10:18:21<2:03:57, 10.62it/s]"
     ]
    },
    {
     "name": "stdout",
     "output_type": "stream",
     "text": [
      "Cannot check for SPDIF\n",
      "Cannot check for SPDIF\n",
      "Cannot check for SPDIF\n",
      "Cannot check for SPDIF\n"
     ]
    },
    {
     "name": "stderr",
     "output_type": "stream",
     "text": [
      " 67%|██████████████████████████████████████████████▎                      | 160235/239040 [10:18:38<1:14:41, 17.58it/s]"
     ]
    },
    {
     "name": "stdout",
     "output_type": "stream",
     "text": [
      "Cannot check for SPDIF\n",
      "Cannot check for SPDIF\n",
      "Cannot check for SPDIF\n",
      "Cannot check for SPDIF\n"
     ]
    },
    {
     "name": "stderr",
     "output_type": "stream",
     "text": [
      " 68%|██████████████████████████████████████████████▌                      | 161486/239040 [10:20:48<1:39:02, 13.05it/s]"
     ]
    },
    {
     "name": "stdout",
     "output_type": "stream",
     "text": [
      "Cannot check for SPDIF\n",
      "Cannot check for SPDIF\n"
     ]
    },
    {
     "name": "stderr",
     "output_type": "stream",
     "text": [
      "\r",
      " 68%|██████████████████████████████████████████████▌                      | 161489/239040 [10:20:48<1:24:58, 15.21it/s]"
     ]
    },
    {
     "name": "stdout",
     "output_type": "stream",
     "text": [
      "Cannot check for SPDIF\n",
      "Cannot check for SPDIF\n"
     ]
    },
    {
     "name": "stderr",
     "output_type": "stream",
     "text": [
      " 68%|██████████████████████████████████████████████▋                      | 161566/239040 [10:20:57<2:10:32,  9.89it/s]"
     ]
    },
    {
     "name": "stdout",
     "output_type": "stream",
     "text": [
      "Cannot check for SPDIF\n",
      "Cannot check for SPDIF\n"
     ]
    },
    {
     "name": "stderr",
     "output_type": "stream",
     "text": [
      " 68%|██████████████████████████████████████████████▋                      | 161779/239040 [10:21:21<1:50:11, 11.69it/s]"
     ]
    },
    {
     "name": "stdout",
     "output_type": "stream",
     "text": [
      "Cannot check for SPDIF\n",
      "Cannot check for SPDIF\n",
      "Cannot check for SPDIF\n",
      "Cannot check for SPDIF\n"
     ]
    },
    {
     "name": "stderr",
     "output_type": "stream",
     "text": [
      " 68%|██████████████████████████████████████████████▊                      | 162376/239040 [10:22:36<1:58:19, 10.80it/s]"
     ]
    },
    {
     "name": "stdout",
     "output_type": "stream",
     "text": [
      "Cannot check for SPDIF\n",
      "Cannot check for SPDIF\n"
     ]
    },
    {
     "name": "stderr",
     "output_type": "stream",
     "text": [
      "\r",
      " 68%|██████████████████████████████████████████████▊                      | 162379/239040 [10:22:36<1:41:28, 12.59it/s]"
     ]
    },
    {
     "name": "stdout",
     "output_type": "stream",
     "text": [
      "Cannot check for SPDIF\n",
      "Cannot check for SPDIF\n"
     ]
    },
    {
     "name": "stderr",
     "output_type": "stream",
     "text": [
      " 68%|██████████████████████████████████████████████▉                      | 162431/239040 [10:22:43<1:13:56, 17.27it/s]"
     ]
    },
    {
     "name": "stdout",
     "output_type": "stream",
     "text": [
      "Cannot check for SPDIF\n",
      "Cannot check for SPDIF\n",
      "Cannot check for SPDIF\n",
      "Cannot check for SPDIF\n"
     ]
    },
    {
     "name": "stderr",
     "output_type": "stream",
     "text": [
      " 68%|██████████████████████████████████████████████▉                      | 162681/239040 [10:23:19<1:42:04, 12.47it/s]"
     ]
    },
    {
     "name": "stdout",
     "output_type": "stream",
     "text": [
      "Cannot check for SPDIF\n",
      "Cannot check for SPDIF\n",
      "Cannot check for SPDIF\n",
      "Cannot check for SPDIF\n"
     ]
    },
    {
     "name": "stderr",
     "output_type": "stream",
     "text": [
      " 68%|███████████████████████████████████████████████                      | 163138/239040 [10:24:23<3:57:48,  5.32it/s]"
     ]
    },
    {
     "name": "stdout",
     "output_type": "stream",
     "text": [
      "Cannot check for SPDIF\n",
      "Cannot check for SPDIF\n"
     ]
    },
    {
     "name": "stderr",
     "output_type": "stream",
     "text": [
      "\r",
      " 68%|███████████████████████████████████████████████                      | 163141/239040 [10:24:23<3:00:32,  7.01it/s]"
     ]
    },
    {
     "name": "stdout",
     "output_type": "stream",
     "text": [
      "Cannot check for SPDIF\n",
      "Cannot check for SPDIF\n"
     ]
    },
    {
     "name": "stderr",
     "output_type": "stream",
     "text": [
      " 68%|███████████████████████████████████████████████▏                     | 163267/239040 [10:24:41<4:59:45,  4.21it/s]"
     ]
    },
    {
     "name": "stdout",
     "output_type": "stream",
     "text": [
      "Cannot check for SPDIF\n",
      "Cannot check for SPDIF\n",
      "Cannot check for SPDIF\n",
      "Cannot check for SPDIF\n"
     ]
    },
    {
     "name": "stderr",
     "output_type": "stream",
     "text": [
      " 69%|████████████████████████████████████████████████▋                      | 163770/239040 [10:25:47<55:25, 22.63it/s]"
     ]
    },
    {
     "name": "stdout",
     "output_type": "stream",
     "text": [
      "Cannot check for SPDIF\n",
      "Cannot check for SPDIF\n",
      "Cannot check for SPDIF\n",
      "Cannot check for SPDIF\n"
     ]
    },
    {
     "name": "stderr",
     "output_type": "stream",
     "text": [
      " 69%|███████████████████████████████████████████████▍                     | 164322/239040 [10:26:58<1:00:51, 20.46it/s]"
     ]
    },
    {
     "name": "stdout",
     "output_type": "stream",
     "text": [
      "Cannot check for SPDIF\n",
      "Cannot check for SPDIF\n"
     ]
    },
    {
     "name": "stderr",
     "output_type": "stream",
     "text": [
      " 69%|███████████████████████████████████████████████▋                     | 165403/239040 [10:29:05<1:24:06, 14.59it/s]"
     ]
    },
    {
     "name": "stdout",
     "output_type": "stream",
     "text": [
      "Cannot check for SPDIF\n",
      "Cannot check for SPDIF\n"
     ]
    },
    {
     "name": "stderr",
     "output_type": "stream",
     "text": [
      "\r",
      " 69%|███████████████████████████████████████████████▋                     | 165407/239040 [10:29:06<1:06:43, 18.39it/s]"
     ]
    },
    {
     "name": "stdout",
     "output_type": "stream",
     "text": [
      "Cannot check for SPDIF\n",
      "Cannot check for SPDIF\n"
     ]
    },
    {
     "name": "stderr",
     "output_type": "stream",
     "text": [
      " 69%|███████████████████████████████████████████████▊                     | 165509/239040 [10:29:14<1:00:07, 20.38it/s]"
     ]
    },
    {
     "name": "stdout",
     "output_type": "stream",
     "text": [
      "Cannot check for SPDIF\n",
      "Cannot check for SPDIF\n",
      "Cannot check for SPDIF\n",
      "Cannot check for SPDIF\n"
     ]
    },
    {
     "name": "stderr",
     "output_type": "stream",
     "text": [
      " 70%|███████████████████████████████████████████████▉                     | 166198/239040 [10:30:20<4:17:25,  4.72it/s]"
     ]
    },
    {
     "name": "stdout",
     "output_type": "stream",
     "text": [
      "Cannot check for SPDIF\n",
      "Cannot check for SPDIF\n",
      "Cannot check for SPDIF\n",
      "Cannot check for SPDIF\n"
     ]
    },
    {
     "name": "stderr",
     "output_type": "stream",
     "text": [
      " 70%|████████████████████████████████████████████████                     | 166386/239040 [10:30:37<1:21:26, 14.87it/s]"
     ]
    },
    {
     "name": "stdout",
     "output_type": "stream",
     "text": [
      "Cannot check for SPDIF\n",
      "Cannot check for SPDIF\n",
      "Cannot check for SPDIF\n",
      "Cannot check for SPDIF\n"
     ]
    },
    {
     "name": "stderr",
     "output_type": "stream",
     "text": [
      " 70%|████████████████████████████████████████████████                     | 166538/239040 [10:30:50<1:09:05, 17.49it/s]"
     ]
    },
    {
     "name": "stdout",
     "output_type": "stream",
     "text": [
      "Cannot check for SPDIF\n",
      "Cannot check for SPDIF\n",
      "Cannot check for SPDIF\n",
      "Cannot check for SPDIF\n"
     ]
    },
    {
     "name": "stderr",
     "output_type": "stream",
     "text": [
      " 70%|████████████████████████████████████████████████▏                    | 166809/239040 [10:31:16<1:44:35, 11.51it/s]"
     ]
    },
    {
     "name": "stdout",
     "output_type": "stream",
     "text": [
      "Cannot check for SPDIF\n",
      "Cannot check for SPDIF\n",
      "Cannot check for SPDIF\n",
      "Cannot check for SPDIF\n"
     ]
    },
    {
     "name": "stderr",
     "output_type": "stream",
     "text": [
      " 70%|████████████████████████████████████████████████▏                    | 167025/239040 [10:31:36<1:27:01, 13.79it/s]"
     ]
    },
    {
     "name": "stdout",
     "output_type": "stream",
     "text": [
      "Cannot check for SPDIF\n",
      "Cannot check for SPDIF\n"
     ]
    },
    {
     "name": "stderr",
     "output_type": "stream",
     "text": [
      "\r",
      " 70%|████████████████████████████████████████████████▏                    | 167029/239040 [10:31:36<1:12:48, 16.48it/s]"
     ]
    },
    {
     "name": "stdout",
     "output_type": "stream",
     "text": [
      "Cannot check for SPDIF\n",
      "Cannot check for SPDIF\n"
     ]
    },
    {
     "name": "stderr",
     "output_type": "stream",
     "text": [
      " 70%|████████████████████████████████████████████████▏                    | 167146/239040 [10:31:47<2:17:40,  8.70it/s]"
     ]
    },
    {
     "name": "stdout",
     "output_type": "stream",
     "text": [
      "Cannot check for SPDIF\n",
      "Cannot check for SPDIF\n",
      "Cannot check for SPDIF\n",
      "Cannot check for SPDIF\n"
     ]
    },
    {
     "name": "stderr",
     "output_type": "stream",
     "text": [
      " 70%|████████████████████████████████████████████████▎                    | 167223/239040 [10:31:54<4:58:01,  4.02it/s]"
     ]
    },
    {
     "name": "stdout",
     "output_type": "stream",
     "text": [
      "Cannot check for SPDIF\n",
      "Cannot check for SPDIF\n",
      "Cannot check for SPDIF\n",
      "Cannot check for SPDIF\n"
     ]
    },
    {
     "name": "stderr",
     "output_type": "stream",
     "text": [
      " 70%|████████████████████████████████████████████████▍                    | 167911/239040 [10:32:57<1:53:54, 10.41it/s]"
     ]
    },
    {
     "name": "stdout",
     "output_type": "stream",
     "text": [
      "Cannot check for SPDIF\n",
      "Cannot check for SPDIF\n",
      "Cannot check for SPDIF\n",
      "Cannot check for SPDIF\n"
     ]
    },
    {
     "name": "stderr",
     "output_type": "stream",
     "text": [
      " 70%|████████████████████████████████████████████████▍                    | 167989/239040 [10:33:05<3:28:25,  5.68it/s]"
     ]
    },
    {
     "name": "stdout",
     "output_type": "stream",
     "text": [
      "Cannot check for SPDIF\n",
      "Cannot check for SPDIF\n",
      "Cannot check for SPDIF\n",
      "Cannot check for SPDIF\n"
     ]
    },
    {
     "name": "stderr",
     "output_type": "stream",
     "text": [
      " 71%|████████████████████████████████████████████████▋                    | 168608/239040 [10:34:01<1:16:14, 15.40it/s]"
     ]
    },
    {
     "name": "stdout",
     "output_type": "stream",
     "text": [
      "Cannot check for SPDIF\n",
      "Cannot check for SPDIF\n"
     ]
    },
    {
     "name": "stderr",
     "output_type": "stream",
     "text": [
      "\r",
      " 71%|████████████████████████████████████████████████▋                    | 168611/239040 [10:34:01<1:11:03, 16.52it/s]"
     ]
    },
    {
     "name": "stdout",
     "output_type": "stream",
     "text": [
      "Cannot check for SPDIF\n",
      "Cannot check for SPDIF\n"
     ]
    },
    {
     "name": "stderr",
     "output_type": "stream",
     "text": [
      " 71%|████████████████████████████████████████████████▊                    | 169049/239040 [10:34:52<8:22:53,  2.32it/s]"
     ]
    },
    {
     "name": "stdout",
     "output_type": "stream",
     "text": [
      "Cannot check for SPDIF\n",
      "Cannot check for SPDIF\n",
      "Cannot check for SPDIF\n",
      "Cannot check for SPDIF\n"
     ]
    },
    {
     "name": "stderr",
     "output_type": "stream",
     "text": [
      " 71%|██████████████████████████████████████████████████▏                    | 169131/239040 [10:34:59<52:38, 22.13it/s]"
     ]
    },
    {
     "name": "stdout",
     "output_type": "stream",
     "text": [
      "Cannot check for SPDIF\n",
      "Cannot check for SPDIF\n",
      "Cannot check for SPDIF\n",
      "Cannot check for SPDIF\n"
     ]
    },
    {
     "name": "stderr",
     "output_type": "stream",
     "text": [
      " 71%|████████████████████████████████████████████████▉                    | 169340/239040 [10:35:28<1:05:20, 17.78it/s]"
     ]
    },
    {
     "name": "stdout",
     "output_type": "stream",
     "text": [
      "Cannot check for SPDIF\n",
      "Cannot check for SPDIF\n"
     ]
    },
    {
     "name": "stderr",
     "output_type": "stream",
     "text": [
      "\r",
      " 71%|████████████████████████████████████████████████▉                    | 169343/239040 [10:35:28<1:00:55, 19.07it/s]"
     ]
    },
    {
     "name": "stdout",
     "output_type": "stream",
     "text": [
      "Cannot check for SPDIF\n",
      "Cannot check for SPDIF\n"
     ]
    },
    {
     "name": "stderr",
     "output_type": "stream",
     "text": [
      " 71%|████████████████████████████████████████████████▉                    | 169420/239040 [10:35:39<1:28:23, 13.13it/s]"
     ]
    },
    {
     "name": "stdout",
     "output_type": "stream",
     "text": [
      "Cannot check for SPDIF\n",
      "Cannot check for SPDIF\n",
      "Cannot check for SPDIF\n",
      "Cannot check for SPDIF\n"
     ]
    },
    {
     "name": "stderr",
     "output_type": "stream",
     "text": [
      " 71%|█████████████████████████████████████████████████▏                   | 170352/239040 [10:37:42<1:31:27, 12.52it/s]"
     ]
    },
    {
     "name": "stdout",
     "output_type": "stream",
     "text": [
      "Cannot check for SPDIF\n",
      "Cannot check for SPDIF\n"
     ]
    },
    {
     "name": "stderr",
     "output_type": "stream",
     "text": [
      "\r",
      " 71%|█████████████████████████████████████████████████▏                   | 170355/239040 [10:37:42<1:16:21, 14.99it/s]"
     ]
    },
    {
     "name": "stdout",
     "output_type": "stream",
     "text": [
      "Cannot check for SPDIF\n",
      "Cannot check for SPDIF\n"
     ]
    },
    {
     "name": "stderr",
     "output_type": "stream",
     "text": [
      " 72%|█████████████████████████████████████████████████▍                   | 171196/239040 [10:39:28<1:19:05, 14.30it/s]"
     ]
    },
    {
     "name": "stdout",
     "output_type": "stream",
     "text": [
      "Cannot check for SPDIF\n",
      "Cannot check for SPDIF\n",
      "Cannot check for SPDIF\n",
      "Cannot check for SPDIF\n"
     ]
    },
    {
     "name": "stderr",
     "output_type": "stream",
     "text": [
      " 72%|█████████████████████████████████████████████████▍                   | 171265/239040 [10:39:38<4:22:17,  4.31it/s]"
     ]
    },
    {
     "name": "stdout",
     "output_type": "stream",
     "text": [
      "Cannot check for SPDIF\n",
      "Cannot check for SPDIF\n",
      "Cannot check for SPDIF\n",
      "Cannot check for SPDIF\n"
     ]
    },
    {
     "name": "stderr",
     "output_type": "stream",
     "text": [
      " 72%|████████████████████████████████████████████████▊                   | 171694/239040 [10:45:43<18:13:31,  1.03it/s]"
     ]
    },
    {
     "name": "stdout",
     "output_type": "stream",
     "text": [
      "Cannot check for SPDIF\n",
      "Cannot check for SPDIF\n",
      "Cannot check for SPDIF\n",
      "Cannot check for SPDIF\n"
     ]
    },
    {
     "name": "stderr",
     "output_type": "stream",
     "text": [
      " 72%|█████████████████████████████████████████████████▌                   | 171706/239040 [10:45:43<5:13:19,  3.58it/s]"
     ]
    },
    {
     "name": "stdout",
     "output_type": "stream",
     "text": [
      "Cannot check for SPDIF\n",
      "Cannot check for SPDIF\n",
      "Cannot check for SPDIF\n",
      "Cannot check for SPDIF\n"
     ]
    },
    {
     "name": "stderr",
     "output_type": "stream",
     "text": [
      " 72%|████████████████████████████████████████████████▉                   | 171915/239040 [10:49:24<10:17:49,  1.81it/s]"
     ]
    },
    {
     "name": "stdout",
     "output_type": "stream",
     "text": [
      "Cannot check for SPDIF\n",
      "Cannot check for SPDIF\n",
      "Cannot check for SPDIF\n",
      "Cannot check for SPDIF\n"
     ]
    },
    {
     "name": "stderr",
     "output_type": "stream",
     "text": [
      " 72%|████████████████████████████████████████████████▉                   | 172127/239040 [10:52:44<11:07:55,  1.67it/s]"
     ]
    },
    {
     "name": "stdout",
     "output_type": "stream",
     "text": [
      "Cannot check for SPDIF\n",
      "Cannot check for SPDIF\n"
     ]
    },
    {
     "name": "stderr",
     "output_type": "stream",
     "text": [
      "\r",
      " 72%|█████████████████████████████████████████████████▋                   | 172131/239040 [10:52:44<7:35:19,  2.45it/s]"
     ]
    },
    {
     "name": "stdout",
     "output_type": "stream",
     "text": [
      "Cannot check for SPDIF\n",
      "Cannot check for SPDIF\n"
     ]
    },
    {
     "name": "stderr",
     "output_type": "stream",
     "text": [
      " 72%|█████████████████████████████████████████████████▊                   | 172783/239040 [11:02:53<2:20:17,  7.87it/s]"
     ]
    },
    {
     "name": "stdout",
     "output_type": "stream",
     "text": [
      "Cannot check for SPDIF\n",
      "Cannot check for SPDIF\n",
      "Cannot check for SPDIF\n",
      "Cannot check for SPDIF\n"
     ]
    },
    {
     "name": "stderr",
     "output_type": "stream",
     "text": [
      " 72%|██████████████████████████████████████████████████                   | 173254/239040 [11:11:13<2:11:10,  8.36it/s]"
     ]
    },
    {
     "name": "stdout",
     "output_type": "stream",
     "text": [
      "Cannot check for SPDIF\n",
      "Cannot check for SPDIF\n",
      "Cannot check for SPDIF\n",
      "Cannot check for SPDIF\n"
     ]
    },
    {
     "name": "stderr",
     "output_type": "stream",
     "text": [
      " 73%|███████████████████████████████████████████████████▌                   | 173805/239040 [11:12:00<51:07, 21.27it/s]"
     ]
    },
    {
     "name": "stdout",
     "output_type": "stream",
     "text": [
      "Cannot check for SPDIF\n",
      "Cannot check for SPDIF\n",
      "Cannot check for SPDIF\n",
      "Cannot check for SPDIF\n"
     ]
    },
    {
     "name": "stderr",
     "output_type": "stream",
     "text": [
      " 73%|██████████████████████████████████████████████████▎                  | 174198/239040 [11:12:32<3:06:17,  5.80it/s]"
     ]
    },
    {
     "name": "stdout",
     "output_type": "stream",
     "text": [
      "Cannot check for SPDIF\n",
      "Cannot check for SPDIF\n",
      "Cannot check for SPDIF\n",
      "Cannot check for SPDIF\n"
     ]
    },
    {
     "name": "stderr",
     "output_type": "stream",
     "text": [
      " 73%|███████████████████████████████████████████████████▊                   | 174438/239040 [11:12:51<58:02, 18.55it/s]"
     ]
    },
    {
     "name": "stdout",
     "output_type": "stream",
     "text": [
      "Cannot check for SPDIF\n",
      "Cannot check for SPDIF\n",
      "Cannot check for SPDIF\n",
      "Cannot check for SPDIF\n"
     ]
    },
    {
     "name": "stderr",
     "output_type": "stream",
     "text": [
      " 73%|██████████████████████████████████████████████████▌                  | 175186/239040 [11:14:12<1:56:58,  9.10it/s]"
     ]
    },
    {
     "name": "stdout",
     "output_type": "stream",
     "text": [
      "Cannot check for SPDIF\n",
      "Cannot check for SPDIF\n",
      "Cannot check for SPDIF\n",
      "Cannot check for SPDIF\n"
     ]
    },
    {
     "name": "stderr",
     "output_type": "stream",
     "text": [
      " 73%|██████████████████████████████████████████████████▌                  | 175267/239040 [11:14:19<2:15:02,  7.87it/s]"
     ]
    },
    {
     "name": "stdout",
     "output_type": "stream",
     "text": [
      "Cannot check for SPDIF\n",
      "Cannot check for SPDIF\n"
     ]
    },
    {
     "name": "stderr",
     "output_type": "stream",
     "text": [
      " 73%|██████████████████████████████████████████████████▋                  | 175601/239040 [11:14:47<4:03:14,  4.35it/s]"
     ]
    },
    {
     "name": "stdout",
     "output_type": "stream",
     "text": [
      "Cannot check for SPDIF\n",
      "Cannot check for SPDIF\n",
      "Cannot check for SPDIF\n",
      "Cannot check for SPDIF\n"
     ]
    },
    {
     "name": "stderr",
     "output_type": "stream",
     "text": [
      " 74%|██████████████████████████████████████████████████▋                  | 175789/239040 [11:15:01<1:09:19, 15.21it/s]"
     ]
    },
    {
     "name": "stdout",
     "output_type": "stream",
     "text": [
      "Cannot check for SPDIF\n",
      "Cannot check for SPDIF\n",
      "Cannot check for SPDIF\n",
      "Cannot check for SPDIF\n"
     ]
    },
    {
     "name": "stderr",
     "output_type": "stream",
     "text": [
      " 74%|██████████████████████████████████████████████████▊                  | 175868/239040 [11:15:08<1:56:19,  9.05it/s]"
     ]
    },
    {
     "name": "stdout",
     "output_type": "stream",
     "text": [
      "Cannot check for SPDIF\n",
      "Cannot check for SPDIF\n",
      "Cannot check for SPDIF\n",
      "Cannot check for SPDIF\n"
     ]
    },
    {
     "name": "stderr",
     "output_type": "stream",
     "text": [
      " 74%|████████████████████████████████████████████████████▏                  | 175899/239040 [11:15:09<41:26, 25.40it/s]"
     ]
    },
    {
     "name": "stdout",
     "output_type": "stream",
     "text": [
      "Cannot check for SPDIF\n",
      "Cannot check for SPDIF\n",
      "Cannot check for SPDIF\n",
      "Cannot check for SPDIF\n"
     ]
    },
    {
     "name": "stderr",
     "output_type": "stream",
     "text": [
      " 74%|████████████████████████████████████████████████████▌                  | 176908/239040 [11:16:53<52:00, 19.91it/s]"
     ]
    },
    {
     "name": "stdout",
     "output_type": "stream",
     "text": [
      "Cannot check for SPDIF\n",
      "Cannot check for SPDIF\n",
      "Cannot check for SPDIF\n",
      "Cannot check for SPDIF\n"
     ]
    },
    {
     "name": "stderr",
     "output_type": "stream",
     "text": [
      " 74%|████████████████████████████████████████████████████▋                  | 177295/239040 [11:17:35<44:13, 23.27it/s]"
     ]
    },
    {
     "name": "stdout",
     "output_type": "stream",
     "text": [
      "Cannot check for SPDIF\n",
      "Cannot check for SPDIF\n"
     ]
    },
    {
     "name": "stderr",
     "output_type": "stream",
     "text": [
      "\r",
      " 74%|███████████████████████████████████████████████████▏                 | 177299/239040 [11:17:35<1:01:34, 16.71it/s]"
     ]
    },
    {
     "name": "stdout",
     "output_type": "stream",
     "text": [
      "Cannot check for SPDIF\n",
      "Cannot check for SPDIF\n"
     ]
    },
    {
     "name": "stderr",
     "output_type": "stream",
     "text": [
      " 74%|███████████████████████████████████████████████████▏                 | 177502/239040 [11:17:58<1:00:07, 17.06it/s]"
     ]
    },
    {
     "name": "stdout",
     "output_type": "stream",
     "text": [
      "Cannot check for SPDIF\n",
      "Cannot check for SPDIF\n",
      "Cannot check for SPDIF\n",
      "Cannot check for SPDIF\n"
     ]
    },
    {
     "name": "stderr",
     "output_type": "stream",
     "text": [
      " 74%|████████████████████████████████████████████████████▋                  | 177549/239040 [11:18:03<50:00, 20.49it/s]"
     ]
    },
    {
     "name": "stdout",
     "output_type": "stream",
     "text": [
      "Cannot check for SPDIF\n",
      "Cannot check for SPDIF\n",
      "Cannot check for SPDIF\n",
      "Cannot check for SPDIF\n"
     ]
    },
    {
     "name": "stderr",
     "output_type": "stream",
     "text": [
      " 74%|███████████████████████████████████████████████████▎                 | 177957/239040 [11:18:48<1:56:24,  8.75it/s]"
     ]
    },
    {
     "name": "stdout",
     "output_type": "stream",
     "text": [
      "Cannot check for SPDIF\n",
      "Cannot check for SPDIF\n",
      "Cannot check for SPDIF\n",
      "Cannot check for SPDIF\n"
     ]
    },
    {
     "name": "stderr",
     "output_type": "stream",
     "text": [
      " 75%|███████████████████████████████████████████████████▌                 | 178433/239040 [11:19:39<1:14:28, 13.56it/s]"
     ]
    },
    {
     "name": "stdout",
     "output_type": "stream",
     "text": [
      "Cannot check for SPDIF\n",
      "Cannot check for SPDIF\n",
      "Cannot check for SPDIF\n",
      "Cannot check for SPDIF\n"
     ]
    },
    {
     "name": "stderr",
     "output_type": "stream",
     "text": [
      " 75%|█████████████████████████████████████████████████████                  | 178486/239040 [11:19:44<51:28, 19.61it/s]"
     ]
    },
    {
     "name": "stdout",
     "output_type": "stream",
     "text": [
      "Cannot check for SPDIF\n",
      "Cannot check for SPDIF\n"
     ]
    },
    {
     "name": "stderr",
     "output_type": "stream",
     "text": [
      "\r",
      " 75%|█████████████████████████████████████████████████████                  | 178489/239040 [11:19:44<47:51, 21.09it/s]"
     ]
    },
    {
     "name": "stdout",
     "output_type": "stream",
     "text": [
      "Cannot check for SPDIF\n",
      "Cannot check for SPDIF\n"
     ]
    },
    {
     "name": "stderr",
     "output_type": "stream",
     "text": [
      " 75%|█████████████████████████████████████████████████████▏                 | 178958/239040 [11:20:33<48:23, 20.69it/s]"
     ]
    },
    {
     "name": "stdout",
     "output_type": "stream",
     "text": [
      "Cannot check for SPDIF\n",
      "Cannot check for SPDIF\n",
      "Cannot check for SPDIF\n",
      "Cannot check for SPDIF\n"
     ]
    },
    {
     "name": "stderr",
     "output_type": "stream",
     "text": [
      " 75%|███████████████████████████████████████████████████▊                 | 179396/239040 [11:21:24<5:09:59,  3.21it/s]"
     ]
    },
    {
     "name": "stdout",
     "output_type": "stream",
     "text": [
      "Cannot check for SPDIF\n",
      "Cannot check for SPDIF\n",
      "Cannot check for SPDIF\n",
      "Cannot check for SPDIF\n"
     ]
    },
    {
     "name": "stderr",
     "output_type": "stream",
     "text": [
      " 76%|████████████████████████████████████████████████████▏                | 180843/239040 [11:24:00<2:57:13,  5.47it/s]"
     ]
    },
    {
     "name": "stdout",
     "output_type": "stream",
     "text": [
      "Cannot check for SPDIF\n",
      "Cannot check for SPDIF\n"
     ]
    },
    {
     "name": "stderr",
     "output_type": "stream",
     "text": [
      "\r",
      " 76%|████████████████████████████████████████████████████▏                | 180847/239040 [11:24:00<2:00:08,  8.07it/s]"
     ]
    },
    {
     "name": "stdout",
     "output_type": "stream",
     "text": [
      "Cannot check for SPDIF\n",
      "Cannot check for SPDIF\n"
     ]
    },
    {
     "name": "stderr",
     "output_type": "stream",
     "text": [
      " 76%|████████████████████████████████████████████████████▏                | 180982/239040 [11:25:30<7:59:46,  2.02it/s]"
     ]
    },
    {
     "name": "stdout",
     "output_type": "stream",
     "text": [
      "Cannot check for SPDIF\n",
      "Cannot check for SPDIF\n",
      "Cannot check for SPDIF\n",
      "Cannot check for SPDIF\n"
     ]
    },
    {
     "name": "stderr",
     "output_type": "stream",
     "text": [
      " 76%|████████████████████████████████████████████████████▎                | 181167/239040 [11:27:09<1:06:01, 14.61it/s]"
     ]
    },
    {
     "name": "stdout",
     "output_type": "stream",
     "text": [
      "Cannot check for SPDIF\n",
      "Cannot check for SPDIF\n",
      "Cannot check for SPDIF\n",
      "Cannot check for SPDIF\n"
     ]
    },
    {
     "name": "stderr",
     "output_type": "stream",
     "text": [
      " 76%|████████████████████████████████████████████████████▌                | 182076/239040 [11:28:34<1:32:01, 10.32it/s]"
     ]
    },
    {
     "name": "stdout",
     "output_type": "stream",
     "text": [
      "Cannot check for SPDIF\n",
      "Cannot check for SPDIF\n",
      "Cannot check for SPDIF\n",
      "Cannot check for SPDIF\n"
     ]
    },
    {
     "name": "stderr",
     "output_type": "stream",
     "text": [
      " 76%|████████████████████████████████████████████████████▋                | 182504/239040 [11:29:11<1:13:23, 12.84it/s]"
     ]
    },
    {
     "name": "stdout",
     "output_type": "stream",
     "text": [
      "Cannot check for SPDIF\n",
      "Cannot check for SPDIF\n",
      "Cannot check for SPDIF\n",
      "Cannot check for SPDIF\n"
     ]
    },
    {
     "name": "stderr",
     "output_type": "stream",
     "text": [
      " 77%|████████████████████████████████████████████████████▉                | 183200/239040 [11:30:45<3:02:34,  5.10it/s]"
     ]
    },
    {
     "name": "stdout",
     "output_type": "stream",
     "text": [
      "Cannot check for SPDIF\n",
      "Cannot check for SPDIF\n",
      "Cannot check for SPDIF\n",
      "Cannot check for SPDIF\n"
     ]
    },
    {
     "name": "stderr",
     "output_type": "stream",
     "text": [
      " 77%|██████████████████████████████████████████████████████▍                | 183258/239040 [11:31:25<58:03, 16.01it/s]"
     ]
    },
    {
     "name": "stdout",
     "output_type": "stream",
     "text": [
      "Cannot check for SPDIF\n",
      "Cannot check for SPDIF\n",
      "Cannot check for SPDIF\n",
      "Cannot check for SPDIF\n"
     ]
    },
    {
     "name": "stderr",
     "output_type": "stream",
     "text": [
      " 77%|████████████████████████████████████████████████████▎               | 183851/239040 [11:41:18<68:11:32,  4.45s/it]"
     ]
    },
    {
     "name": "stdout",
     "output_type": "stream",
     "text": [
      "Cannot check for SPDIF\n",
      "Cannot check for SPDIF\n"
     ]
    },
    {
     "name": "stderr",
     "output_type": "stream",
     "text": [
      "\r",
      " 77%|████████████████████████████████████████████████████▎               | 183855/239040 [11:41:18<43:43:02,  2.85s/it]"
     ]
    },
    {
     "name": "stdout",
     "output_type": "stream",
     "text": [
      "Cannot check for SPDIF\n",
      "Cannot check for SPDIF\n"
     ]
    },
    {
     "name": "stderr",
     "output_type": "stream",
     "text": [
      " 77%|█████████████████████████████████████████████████████▏               | 184088/239040 [11:45:06<3:21:57,  4.53it/s]"
     ]
    },
    {
     "name": "stdout",
     "output_type": "stream",
     "text": [
      "Cannot check for SPDIF\n",
      "Cannot check for SPDIF\n",
      "Cannot check for SPDIF\n",
      "Cannot check for SPDIF\n"
     ]
    },
    {
     "name": "stderr",
     "output_type": "stream",
     "text": [
      " 77%|█████████████████████████████████████████████████████▏               | 184138/239040 [11:45:53<2:57:40,  5.15it/s]"
     ]
    },
    {
     "name": "stdout",
     "output_type": "stream",
     "text": [
      "Cannot check for SPDIF\n",
      "Cannot check for SPDIF\n",
      "Cannot check for SPDIF\n",
      "Cannot check for SPDIF\n"
     ]
    },
    {
     "name": "stderr",
     "output_type": "stream",
     "text": [
      " 77%|█████████████████████████████████████████████████████▎               | 184597/239040 [11:51:22<1:25:05, 10.66it/s]"
     ]
    },
    {
     "name": "stdout",
     "output_type": "stream",
     "text": [
      "Cannot check for SPDIF\n",
      "Cannot check for SPDIF\n",
      "Cannot check for SPDIF\n",
      "Cannot check for SPDIF\n"
     ]
    },
    {
     "name": "stderr",
     "output_type": "stream",
     "text": [
      " 77%|█████████████████████████████████████████████████████▍               | 185111/239040 [11:52:07<1:34:50,  9.48it/s]"
     ]
    },
    {
     "name": "stdout",
     "output_type": "stream",
     "text": [
      "Cannot check for SPDIF\n",
      "Cannot check for SPDIF\n",
      "Cannot check for SPDIF\n",
      "Cannot check for SPDIF\n"
     ]
    },
    {
     "name": "stderr",
     "output_type": "stream",
     "text": [
      " 78%|███████████████████████████████████████████████████████                | 185552/239040 [11:52:49<50:03, 17.81it/s]"
     ]
    },
    {
     "name": "stdout",
     "output_type": "stream",
     "text": [
      "Cannot check for SPDIF\n",
      "Cannot check for SPDIF\n",
      "Cannot check for SPDIF\n",
      "Cannot check for SPDIF\n"
     ]
    },
    {
     "name": "stderr",
     "output_type": "stream",
     "text": [
      " 78%|█████████████████████████████████████████████████████▌               | 185656/239040 [11:53:00<2:32:06,  5.85it/s]"
     ]
    },
    {
     "name": "stdout",
     "output_type": "stream",
     "text": [
      "Cannot check for SPDIF\n",
      "Cannot check for SPDIF\n"
     ]
    },
    {
     "name": "stderr",
     "output_type": "stream",
     "text": [
      "\r",
      " 78%|█████████████████████████████████████████████████████▌               | 185659/239040 [11:53:00<2:06:33,  7.03it/s]"
     ]
    },
    {
     "name": "stdout",
     "output_type": "stream",
     "text": [
      "Cannot check for SPDIF\n",
      "Cannot check for SPDIF\n"
     ]
    },
    {
     "name": "stderr",
     "output_type": "stream",
     "text": [
      " 78%|███████████████████████████████████████████████████████▏               | 185988/239040 [11:53:29<43:23, 20.38it/s]"
     ]
    },
    {
     "name": "stdout",
     "output_type": "stream",
     "text": [
      "Cannot check for SPDIF\n",
      "Cannot check for SPDIF\n",
      "Cannot check for SPDIF\n",
      "Cannot check for SPDIF\n"
     ]
    },
    {
     "name": "stderr",
     "output_type": "stream",
     "text": [
      " 78%|█████████████████████████████████████████████████████▋               | 185997/239040 [11:53:31<3:04:14,  4.80it/s]"
     ]
    },
    {
     "name": "stdout",
     "output_type": "stream",
     "text": [
      "Cannot check for SPDIF\n",
      "Cannot check for SPDIF\n",
      "Cannot check for SPDIF\n",
      "Cannot check for SPDIF\n"
     ]
    },
    {
     "name": "stderr",
     "output_type": "stream",
     "text": [
      " 78%|███████████████████████████████████████████████████████▎               | 186021/239040 [11:53:32<45:07, 19.58it/s]"
     ]
    },
    {
     "name": "stdout",
     "output_type": "stream",
     "text": [
      "Cannot check for SPDIF\n",
      "Cannot check for SPDIF\n",
      "Cannot check for SPDIF\n",
      "Cannot check for SPDIF\n"
     ]
    },
    {
     "name": "stderr",
     "output_type": "stream",
     "text": [
      " 78%|███████████████████████████████████████████████████████▎               | 186105/239040 [11:53:40<56:19, 15.67it/s]"
     ]
    },
    {
     "name": "stdout",
     "output_type": "stream",
     "text": [
      "Cannot check for SPDIF\n",
      "Cannot check for SPDIF\n",
      "Cannot check for SPDIF\n",
      "Cannot check for SPDIF\n"
     ]
    },
    {
     "name": "stderr",
     "output_type": "stream",
     "text": [
      " 78%|█████████████████████████████████████████████████████▊               | 186223/239040 [11:53:51<1:34:11,  9.35it/s]"
     ]
    },
    {
     "name": "stdout",
     "output_type": "stream",
     "text": [
      "Cannot check for SPDIF\n",
      "Cannot check for SPDIF\n",
      "Cannot check for SPDIF\n",
      "Cannot check for SPDIF\n"
     ]
    },
    {
     "name": "stderr",
     "output_type": "stream",
     "text": [
      " 78%|█████████████████████████████████████████████████████               | 186515/239040 [11:55:01<22:09:27,  1.52s/it]"
     ]
    },
    {
     "name": "stdout",
     "output_type": "stream",
     "text": [
      "Cannot check for SPDIF\n",
      "Cannot check for SPDIF\n"
     ]
    },
    {
     "name": "stderr",
     "output_type": "stream",
     "text": [
      " 78%|█████████████████████████████████████████████████████▊               | 186530/239040 [11:55:01<5:16:07,  2.77it/s]"
     ]
    },
    {
     "name": "stdout",
     "output_type": "stream",
     "text": [
      "Cannot check for SPDIF\n",
      "Cannot check for SPDIF\n",
      "Cannot check for SPDIF\n",
      "Cannot check for SPDIF\n"
     ]
    },
    {
     "name": "stderr",
     "output_type": "stream",
     "text": [
      " 78%|█████████████████████████████████████████████████████▏              | 186810/239040 [12:00:33<21:37:56,  1.49s/it]"
     ]
    },
    {
     "name": "stdout",
     "output_type": "stream",
     "text": [
      "Cannot check for SPDIF\n",
      "Cannot check for SPDIF\n"
     ]
    },
    {
     "name": "stderr",
     "output_type": "stream",
     "text": [
      "\r",
      " 78%|█████████████████████████████████████████████████████▏              | 186813/239040 [12:00:33<15:46:07,  1.09s/it]"
     ]
    },
    {
     "name": "stdout",
     "output_type": "stream",
     "text": [
      "Cannot check for SPDIF\n",
      "Cannot check for SPDIF\n"
     ]
    },
    {
     "name": "stderr",
     "output_type": "stream",
     "text": [
      " 78%|█████████████████████████████████████████████████████▉               | 186999/239040 [12:03:43<3:17:20,  4.40it/s]"
     ]
    },
    {
     "name": "stdout",
     "output_type": "stream",
     "text": [
      "Cannot check for SPDIF\n",
      "Cannot check for SPDIF\n",
      "Cannot check for SPDIF\n",
      "Cannot check for SPDIF\n"
     ]
    },
    {
     "name": "stderr",
     "output_type": "stream",
     "text": [
      " 79%|█████████████████████████████████████████████████████▍              | 187662/239040 [12:16:11<14:50:51,  1.04s/it]"
     ]
    },
    {
     "name": "stdout",
     "output_type": "stream",
     "text": [
      "Cannot check for SPDIF\n",
      "Cannot check for SPDIF\n",
      "Cannot check for SPDIF\n",
      "Cannot check for SPDIF\n"
     ]
    },
    {
     "name": "stderr",
     "output_type": "stream",
     "text": [
      " 79%|█████████████████████████████████████████████████████▍              | 187830/239040 [12:19:03<30:58:45,  2.18s/it]"
     ]
    },
    {
     "name": "stdout",
     "output_type": "stream",
     "text": [
      "Cannot check for SPDIF\n",
      "Cannot check for SPDIF\n"
     ]
    },
    {
     "name": "stderr",
     "output_type": "stream",
     "text": [
      "\r",
      " 79%|█████████████████████████████████████████████████████▍              | 187833/239040 [12:19:03<21:29:21,  1.51s/it]"
     ]
    },
    {
     "name": "stdout",
     "output_type": "stream",
     "text": [
      "Cannot check for SPDIF\n",
      "Cannot check for SPDIF\n"
     ]
    },
    {
     "name": "stderr",
     "output_type": "stream",
     "text": [
      " 79%|██████████████████████████████████████████████████████▏              | 187844/239040 [12:19:04<6:35:41,  2.16it/s]"
     ]
    },
    {
     "name": "stdout",
     "output_type": "stream",
     "text": [
      "Cannot check for SPDIF\n",
      "Cannot check for SPDIF\n"
     ]
    },
    {
     "name": "stderr",
     "output_type": "stream",
     "text": [
      "\r",
      " 79%|██████████████████████████████████████████████████████▏              | 187847/239040 [12:19:04<4:56:49,  2.87it/s]"
     ]
    },
    {
     "name": "stdout",
     "output_type": "stream",
     "text": [
      "Cannot check for SPDIF\n",
      "Cannot check for SPDIF\n"
     ]
    },
    {
     "name": "stderr",
     "output_type": "stream",
     "text": [
      " 79%|██████████████████████████████████████████████████████▎              | 188249/239040 [12:25:42<1:37:01,  8.72it/s]"
     ]
    },
    {
     "name": "stdout",
     "output_type": "stream",
     "text": [
      "Cannot check for SPDIF\n",
      "Cannot check for SPDIF\n"
     ]
    },
    {
     "name": "stderr",
     "output_type": "stream",
     "text": [
      "\r",
      " 79%|██████████████████████████████████████████████████████▎              | 188253/239040 [12:25:43<1:12:43, 11.64it/s]"
     ]
    },
    {
     "name": "stdout",
     "output_type": "stream",
     "text": [
      "Cannot check for SPDIF\n",
      "Cannot check for SPDIF\n"
     ]
    },
    {
     "name": "stderr",
     "output_type": "stream",
     "text": [
      " 79%|██████████████████████████████████████████████████████▍              | 188796/239040 [12:35:25<1:27:31,  9.57it/s]"
     ]
    },
    {
     "name": "stdout",
     "output_type": "stream",
     "text": [
      "Cannot check for SPDIF\n",
      "Cannot check for SPDIF\n",
      "Cannot check for SPDIF\n",
      "Cannot check for SPDIF\n"
     ]
    },
    {
     "name": "stderr",
     "output_type": "stream",
     "text": [
      " 79%|█████████████████████████████████████████████████████▋              | 188941/239040 [12:38:14<18:17:51,  1.31s/it]"
     ]
    },
    {
     "name": "stdout",
     "output_type": "stream",
     "text": [
      "Cannot check for SPDIF\n",
      "Cannot check for SPDIF\n"
     ]
    },
    {
     "name": "stderr",
     "output_type": "stream",
     "text": [
      " 79%|████████████████████████████████████████████████████████▎              | 189765/239040 [12:42:10<38:59, 21.06it/s]"
     ]
    },
    {
     "name": "stdout",
     "output_type": "stream",
     "text": [
      "Cannot check for SPDIF\n",
      "Cannot check for SPDIF\n",
      "Cannot check for SPDIF\n",
      "Cannot check for SPDIF\n"
     ]
    },
    {
     "name": "stderr",
     "output_type": "stream",
     "text": [
      " 79%|████████████████████████████████████████████████████████▎              | 189798/239040 [12:42:14<56:14, 14.59it/s]"
     ]
    },
    {
     "name": "stdout",
     "output_type": "stream",
     "text": [
      "Cannot check for SPDIF\n",
      "Cannot check for SPDIF\n",
      "Cannot check for SPDIF\n",
      "Cannot check for SPDIF\n"
     ]
    },
    {
     "name": "stderr",
     "output_type": "stream",
     "text": [
      " 80%|████████████████████████████████████████████████████████▌              | 190453/239040 [12:43:21<33:10, 24.40it/s]"
     ]
    },
    {
     "name": "stdout",
     "output_type": "stream",
     "text": [
      "Cannot check for SPDIF\n",
      "Cannot check for SPDIF\n",
      "Cannot check for SPDIF\n",
      "Cannot check for SPDIF\n"
     ]
    },
    {
     "name": "stderr",
     "output_type": "stream",
     "text": [
      " 80%|██████████████████████████████████████████████████████▉              | 190520/239040 [12:43:29<1:01:06, 13.23it/s]"
     ]
    },
    {
     "name": "stdout",
     "output_type": "stream",
     "text": [
      "Cannot check for SPDIF\n",
      "Cannot check for SPDIF\n",
      "Cannot check for SPDIF\n",
      "Cannot check for SPDIF\n"
     ]
    },
    {
     "name": "stderr",
     "output_type": "stream",
     "text": [
      " 80%|███████████████████████████████████████████████████████              | 190647/239040 [12:43:43<1:09:44, 11.57it/s]"
     ]
    },
    {
     "name": "stdout",
     "output_type": "stream",
     "text": [
      "Cannot check for SPDIF\n",
      "Cannot check for SPDIF\n",
      "Cannot check for SPDIF\n",
      "Cannot check for SPDIF\n"
     ]
    },
    {
     "name": "stderr",
     "output_type": "stream",
     "text": [
      " 80%|███████████████████████████████████████████████████████▏             | 191148/239040 [12:44:35<3:30:50,  3.79it/s]"
     ]
    },
    {
     "name": "stdout",
     "output_type": "stream",
     "text": [
      "Cannot check for SPDIF\n",
      "Cannot check for SPDIF\n",
      "Cannot check for SPDIF\n",
      "Cannot check for SPDIF\n"
     ]
    },
    {
     "name": "stderr",
     "output_type": "stream",
     "text": [
      " 80%|███████████████████████████████████████████████████████▎             | 191487/239040 [12:45:12<6:46:06,  1.95it/s]"
     ]
    },
    {
     "name": "stdout",
     "output_type": "stream",
     "text": [
      "Cannot check for SPDIF\n",
      "Cannot check for SPDIF\n",
      "Cannot check for SPDIF\n",
      "Cannot check for SPDIF\n"
     ]
    },
    {
     "name": "stderr",
     "output_type": "stream",
     "text": [
      " 80%|███████████████████████████████████████████████████████▍             | 191966/239040 [12:46:29<2:37:19,  4.99it/s]"
     ]
    },
    {
     "name": "stdout",
     "output_type": "stream",
     "text": [
      "Cannot check for SPDIF\n",
      "Cannot check for SPDIF\n",
      "Cannot check for SPDIF\n",
      "Cannot check for SPDIF\n"
     ]
    },
    {
     "name": "stderr",
     "output_type": "stream",
     "text": [
      " 81%|█████████████████████████████████████████████████████████▎             | 192970/239040 [12:49:11<50:12, 15.29it/s]"
     ]
    },
    {
     "name": "stdout",
     "output_type": "stream",
     "text": [
      "Cannot check for SPDIF\n",
      "Cannot check for SPDIF\n",
      "Cannot check for SPDIF\n",
      "Cannot check for SPDIF\n"
     ]
    },
    {
     "name": "stderr",
     "output_type": "stream",
     "text": [
      " 81%|█████████████████████████████████████████████████████████▍             | 193222/239040 [12:49:52<43:08, 17.70it/s]"
     ]
    },
    {
     "name": "stdout",
     "output_type": "stream",
     "text": [
      "Cannot check for SPDIF\n",
      "Cannot check for SPDIF\n",
      "Cannot check for SPDIF\n",
      "Cannot check for SPDIF\n"
     ]
    },
    {
     "name": "stderr",
     "output_type": "stream",
     "text": [
      " 81%|█████████████████████████████████████████████████████████▍             | 193568/239040 [12:50:48<45:10, 16.78it/s]"
     ]
    },
    {
     "name": "stdout",
     "output_type": "stream",
     "text": [
      "Cannot check for SPDIF\n",
      "Cannot check for SPDIF\n"
     ]
    },
    {
     "name": "stderr",
     "output_type": "stream",
     "text": [
      "\r",
      " 81%|█████████████████████████████████████████████████████████▍             | 193571/239040 [12:50:48<54:18, 13.95it/s]"
     ]
    },
    {
     "name": "stdout",
     "output_type": "stream",
     "text": [
      "Cannot check for SPDIF\n",
      "Cannot check for SPDIF\n"
     ]
    },
    {
     "name": "stderr",
     "output_type": "stream",
     "text": [
      " 81%|█████████████████████████████████████████████████████████▌             | 193692/239040 [12:51:08<43:17, 17.46it/s]"
     ]
    },
    {
     "name": "stdout",
     "output_type": "stream",
     "text": [
      "Cannot check for SPDIF\n",
      "Cannot check for SPDIF\n",
      "Cannot check for SPDIF\n",
      "Cannot check for SPDIF\n"
     ]
    },
    {
     "name": "stderr",
     "output_type": "stream",
     "text": [
      " 81%|█████████████████████████████████████████████████████████▋             | 194173/239040 [12:51:53<35:40, 20.96it/s]"
     ]
    },
    {
     "name": "stdout",
     "output_type": "stream",
     "text": [
      "Cannot check for SPDIF\n",
      "Cannot check for SPDIF\n",
      "Cannot check for SPDIF\n",
      "Cannot check for SPDIF\n"
     ]
    },
    {
     "name": "stderr",
     "output_type": "stream",
     "text": [
      " 81%|█████████████████████████████████████████████████████████▋             | 194320/239040 [12:52:08<58:29, 12.74it/s]"
     ]
    },
    {
     "name": "stdout",
     "output_type": "stream",
     "text": [
      "Cannot check for SPDIF\n",
      "Cannot check for SPDIF\n"
     ]
    },
    {
     "name": "stderr",
     "output_type": "stream",
     "text": [
      "\r",
      " 81%|█████████████████████████████████████████████████████████▋             | 194323/239040 [12:52:08<54:18, 13.72it/s]"
     ]
    },
    {
     "name": "stdout",
     "output_type": "stream",
     "text": [
      "Cannot check for SPDIF\n",
      "Cannot check for SPDIF\n"
     ]
    },
    {
     "name": "stderr",
     "output_type": "stream",
     "text": [
      " 81%|████████████████████████████████████████████████████████▏            | 194442/239040 [12:52:20<1:39:14,  7.49it/s]"
     ]
    },
    {
     "name": "stdout",
     "output_type": "stream",
     "text": [
      "Cannot check for SPDIF\n",
      "Cannot check for SPDIF\n",
      "Cannot check for SPDIF\n",
      "Cannot check for SPDIF\n"
     ]
    },
    {
     "name": "stderr",
     "output_type": "stream",
     "text": [
      " 82%|████████████████████████████████████████████████████████▏            | 194824/239040 [12:52:55<1:20:12,  9.19it/s]"
     ]
    },
    {
     "name": "stdout",
     "output_type": "stream",
     "text": [
      "Cannot check for SPDIF\n",
      "Cannot check for SPDIF\n",
      "Cannot check for SPDIF\n",
      "Cannot check for SPDIF\n"
     ]
    },
    {
     "name": "stderr",
     "output_type": "stream",
     "text": [
      " 82%|████████████████████████████████████████████████████████▍            | 195422/239040 [12:53:52<1:26:07,  8.44it/s]"
     ]
    },
    {
     "name": "stdout",
     "output_type": "stream",
     "text": [
      "Cannot check for SPDIF\n",
      "Cannot check for SPDIF\n",
      "Cannot check for SPDIF\n",
      "Cannot check for SPDIF\n"
     ]
    },
    {
     "name": "stderr",
     "output_type": "stream",
     "text": [
      " 82%|████████████████████████████████████████████████████████▍            | 195540/239040 [12:54:07<4:01:49,  3.00it/s]"
     ]
    },
    {
     "name": "stdout",
     "output_type": "stream",
     "text": [
      "Cannot check for SPDIF\n",
      "Cannot check for SPDIF\n",
      "Cannot check for SPDIF\n",
      "Cannot check for SPDIF\n"
     ]
    },
    {
     "name": "stderr",
     "output_type": "stream",
     "text": [
      " 82%|████████████████████████████████████████████████████████▌            | 195881/239040 [12:54:49<3:31:33,  3.40it/s]"
     ]
    },
    {
     "name": "stdout",
     "output_type": "stream",
     "text": [
      "Cannot check for SPDIF\n",
      "Cannot check for SPDIF\n",
      "Cannot check for SPDIF\n",
      "Cannot check for SPDIF\n"
     ]
    },
    {
     "name": "stderr",
     "output_type": "stream",
     "text": [
      " 82%|██████████████████████████████████████████████████████████▏            | 195911/239040 [12:54:50<34:36, 20.77it/s]"
     ]
    },
    {
     "name": "stdout",
     "output_type": "stream",
     "text": [
      "Cannot check for SPDIF\n",
      "Cannot check for SPDIF\n",
      "Cannot check for SPDIF\n",
      "Cannot check for SPDIF\n"
     ]
    },
    {
     "name": "stderr",
     "output_type": "stream",
     "text": [
      " 82%|██████████████████████████████████████████████████████████▎            | 196204/239040 [12:55:25<34:32, 20.66it/s]"
     ]
    },
    {
     "name": "stdout",
     "output_type": "stream",
     "text": [
      "Cannot check for SPDIF\n",
      "Cannot check for SPDIF\n",
      "Cannot check for SPDIF\n",
      "Cannot check for SPDIF\n"
     ]
    },
    {
     "name": "stderr",
     "output_type": "stream",
     "text": [
      " 82%|██████████████████████████████████████████████████████████▎            | 196285/239040 [12:55:35<50:27, 14.12it/s]"
     ]
    },
    {
     "name": "stdout",
     "output_type": "stream",
     "text": [
      "Cannot check for SPDIF\n",
      "Cannot check for SPDIF\n",
      "Cannot check for SPDIF\n",
      "Cannot check for SPDIF\n"
     ]
    },
    {
     "name": "stderr",
     "output_type": "stream",
     "text": [
      " 82%|██████████████████████████████████████████████████████████▎            | 196463/239040 [12:55:55<32:06, 22.10it/s]"
     ]
    },
    {
     "name": "stdout",
     "output_type": "stream",
     "text": [
      "Cannot check for SPDIF\n",
      "Cannot check for SPDIF\n",
      "Cannot check for SPDIF\n",
      "Cannot check for SPDIF\n"
     ]
    },
    {
     "name": "stderr",
     "output_type": "stream",
     "text": [
      " 82%|██████████████████████████████████████████████████████████▍            | 196593/239040 [12:56:09<43:02, 16.43it/s]"
     ]
    },
    {
     "name": "stdout",
     "output_type": "stream",
     "text": [
      "Cannot check for SPDIF\n",
      "Cannot check for SPDIF\n",
      "Cannot check for SPDIF\n",
      "Cannot check for SPDIF\n"
     ]
    },
    {
     "name": "stderr",
     "output_type": "stream",
     "text": [
      " 82%|██████████████████████████████████████████████████████████▍            | 196758/239040 [12:56:30<53:40, 13.13it/s]"
     ]
    },
    {
     "name": "stdout",
     "output_type": "stream",
     "text": [
      "Cannot check for SPDIF\n",
      "Cannot check for SPDIF\n",
      "Cannot check for SPDIF\n",
      "Cannot check for SPDIF\n"
     ]
    },
    {
     "name": "stderr",
     "output_type": "stream",
     "text": [
      " 83%|██████████████████████████████████████████████████████████▊            | 197826/239040 [13:07:37<30:06, 22.82it/s]"
     ]
    },
    {
     "name": "stdout",
     "output_type": "stream",
     "text": [
      "Cannot check for SPDIF\n",
      "Cannot check for SPDIF\n",
      "Cannot check for SPDIF\n",
      "Cannot check for SPDIF\n"
     ]
    },
    {
     "name": "stderr",
     "output_type": "stream",
     "text": [
      " 83%|█████████████████████████████████████████████████████████▏           | 198048/239040 [13:08:03<3:23:52,  3.35it/s]"
     ]
    },
    {
     "name": "stdout",
     "output_type": "stream",
     "text": [
      "Cannot check for SPDIF\n",
      "Cannot check for SPDIF\n",
      "Cannot check for SPDIF\n",
      "Cannot check for SPDIF\n"
     ]
    },
    {
     "name": "stderr",
     "output_type": "stream",
     "text": [
      " 83%|█████████████████████████████████████████████████████████▏           | 198270/239040 [13:08:25<1:28:07,  7.71it/s]"
     ]
    },
    {
     "name": "stdout",
     "output_type": "stream",
     "text": [
      "Cannot check for SPDIF\n",
      "Cannot check for SPDIF\n"
     ]
    },
    {
     "name": "stderr",
     "output_type": "stream",
     "text": [
      "\r",
      " 83%|█████████████████████████████████████████████████████████▏           | 198273/239040 [13:08:25<1:09:36,  9.76it/s]"
     ]
    },
    {
     "name": "stdout",
     "output_type": "stream",
     "text": [
      "Cannot check for SPDIF\n",
      "Cannot check for SPDIF\n"
     ]
    },
    {
     "name": "stderr",
     "output_type": "stream",
     "text": [
      " 83%|███████████████████████████████████████████████████████████            | 198716/239040 [13:09:09<34:15, 19.62it/s]"
     ]
    },
    {
     "name": "stdout",
     "output_type": "stream",
     "text": [
      "Cannot check for SPDIF\n",
      "Cannot check for SPDIF\n",
      "Cannot check for SPDIF\n",
      "Cannot check for SPDIF\n"
     ]
    },
    {
     "name": "stderr",
     "output_type": "stream",
     "text": [
      " 83%|███████████████████████████████████████████████████████████            | 198763/239040 [13:09:13<40:16, 16.67it/s]"
     ]
    },
    {
     "name": "stdout",
     "output_type": "stream",
     "text": [
      "Cannot check for SPDIF\n",
      "Cannot check for SPDIF\n",
      "Cannot check for SPDIF\n",
      "Cannot check for SPDIF\n"
     ]
    },
    {
     "name": "stderr",
     "output_type": "stream",
     "text": [
      " 83%|███████████████████████████████████████████████████████████            | 198883/239040 [13:09:25<57:39, 11.61it/s]"
     ]
    },
    {
     "name": "stdout",
     "output_type": "stream",
     "text": [
      "Cannot check for SPDIF\n",
      "Cannot check for SPDIF\n",
      "Cannot check for SPDIF\n",
      "Cannot check for SPDIF\n"
     ]
    },
    {
     "name": "stderr",
     "output_type": "stream",
     "text": [
      " 83%|█████████████████████████████████████████████████████████▍           | 198962/239040 [13:09:33<1:30:43,  7.36it/s]"
     ]
    },
    {
     "name": "stdout",
     "output_type": "stream",
     "text": [
      "Cannot check for SPDIF\n",
      "Cannot check for SPDIF\n",
      "Cannot check for SPDIF\n",
      "Cannot check for SPDIF\n"
     ]
    },
    {
     "name": "stderr",
     "output_type": "stream",
     "text": [
      " 84%|███████████████████████████████████████████████████████████▎           | 199666/239040 [13:10:45<33:35, 19.54it/s]"
     ]
    },
    {
     "name": "stdout",
     "output_type": "stream",
     "text": [
      "Cannot check for SPDIF\n",
      "Cannot check for SPDIF\n"
     ]
    },
    {
     "name": "stderr",
     "output_type": "stream",
     "text": [
      " 84%|█████████████████████████████████████████████████████████▋           | 199895/239040 [13:11:12<1:28:42,  7.35it/s]"
     ]
    },
    {
     "name": "stdout",
     "output_type": "stream",
     "text": [
      "Cannot check for SPDIF\n",
      "Cannot check for SPDIF\n",
      "Cannot check for SPDIF\n",
      "Cannot check for SPDIF\n"
     ]
    },
    {
     "name": "stderr",
     "output_type": "stream",
     "text": [
      " 84%|█████████████████████████████████████████████████████████▋           | 200014/239040 [13:11:26<3:35:40,  3.02it/s]"
     ]
    },
    {
     "name": "stdout",
     "output_type": "stream",
     "text": [
      "Cannot check for SPDIF\n",
      "Cannot check for SPDIF\n",
      "Cannot check for SPDIF\n",
      "Cannot check for SPDIF\n"
     ]
    },
    {
     "name": "stderr",
     "output_type": "stream",
     "text": [
      " 84%|█████████████████████████████████████████████████████████▊           | 200238/239040 [13:11:49<1:25:17,  7.58it/s]"
     ]
    },
    {
     "name": "stdout",
     "output_type": "stream",
     "text": [
      "Cannot check for SPDIF\n",
      "Cannot check for SPDIF\n",
      "Cannot check for SPDIF\n",
      "Cannot check for SPDIF\n"
     ]
    },
    {
     "name": "stderr",
     "output_type": "stream",
     "text": [
      " 84%|███████████████████████████████████████████████████████████▌           | 200645/239040 [13:12:31<28:27, 22.49it/s]"
     ]
    },
    {
     "name": "stdout",
     "output_type": "stream",
     "text": [
      "Cannot check for SPDIF\n",
      "Cannot check for SPDIF\n",
      "Cannot check for SPDIF\n",
      "Cannot check for SPDIF\n"
     ]
    },
    {
     "name": "stderr",
     "output_type": "stream",
     "text": [
      " 84%|███████████████████████████████████████████████████████████▌           | 200679/239040 [13:12:35<36:44, 17.40it/s]"
     ]
    },
    {
     "name": "stdout",
     "output_type": "stream",
     "text": [
      "Cannot check for SPDIF\n",
      "Cannot check for SPDIF\n",
      "Cannot check for SPDIF\n",
      "Cannot check for SPDIF\n"
     ]
    },
    {
     "name": "stderr",
     "output_type": "stream",
     "text": [
      " 84%|██████████████████████████████████████████████████████████           | 201040/239040 [13:13:19<4:37:51,  2.28it/s]"
     ]
    },
    {
     "name": "stdout",
     "output_type": "stream",
     "text": [
      "Cannot check for SPDIF\n",
      "Cannot check for SPDIF\n",
      "Cannot check for SPDIF\n",
      "Cannot check for SPDIF\n"
     ]
    },
    {
     "name": "stderr",
     "output_type": "stream",
     "text": [
      " 85%|██████████████████████████████████████████████████████████▎          | 202117/239040 [13:15:50<1:52:32,  5.47it/s]"
     ]
    },
    {
     "name": "stdout",
     "output_type": "stream",
     "text": [
      "Cannot check for SPDIF\n",
      "Cannot check for SPDIF\n",
      "Cannot check for SPDIF\n",
      "Cannot check for SPDIF\n"
     ]
    },
    {
     "name": "stderr",
     "output_type": "stream",
     "text": [
      " 85%|████████████████████████████████████████████████████████████▍          | 203533/239040 [13:18:45<31:24, 18.84it/s]"
     ]
    },
    {
     "name": "stdout",
     "output_type": "stream",
     "text": [
      "Cannot check for SPDIF\n",
      "Cannot check for SPDIF\n",
      "Cannot check for SPDIF\n",
      "Cannot check for SPDIF\n"
     ]
    },
    {
     "name": "stderr",
     "output_type": "stream",
     "text": [
      " 85%|██████████████████████████████████████████████████████████▊          | 203845/239040 [13:19:25<2:40:06,  3.66it/s]"
     ]
    },
    {
     "name": "stdout",
     "output_type": "stream",
     "text": [
      "Cannot check for SPDIF\n",
      "Cannot check for SPDIF\n",
      "Cannot check for SPDIF\n",
      "Cannot check for SPDIF\n"
     ]
    },
    {
     "name": "stderr",
     "output_type": "stream",
     "text": [
      " 85%|████████████████████████████████████████████████████████████▌          | 203863/239040 [13:19:25<44:11, 13.27it/s]"
     ]
    },
    {
     "name": "stdout",
     "output_type": "stream",
     "text": [
      "Cannot check for SPDIF\n",
      "Cannot check for SPDIF\n"
     ]
    },
    {
     "name": "stderr",
     "output_type": "stream",
     "text": [
      "\r",
      " 85%|████████████████████████████████████████████████████████████▌          | 203867/239040 [13:19:25<34:44, 16.87it/s]"
     ]
    },
    {
     "name": "stdout",
     "output_type": "stream",
     "text": [
      "Cannot check for SPDIF\n",
      "Cannot check for SPDIF\n"
     ]
    },
    {
     "name": "stderr",
     "output_type": "stream",
     "text": [
      " 85%|████████████████████████████████████████████████████████████▌          | 203925/239040 [13:19:31<28:31, 20.52it/s]"
     ]
    },
    {
     "name": "stdout",
     "output_type": "stream",
     "text": [
      "Cannot check for SPDIF\n",
      "Cannot check for SPDIF\n",
      "Cannot check for SPDIF\n",
      "Cannot check for SPDIF\n"
     ]
    },
    {
     "name": "stderr",
     "output_type": "stream",
     "text": [
      " 86%|████████████████████████████████████████████████████████████▋          | 204455/239040 [13:20:35<58:57,  9.78it/s]"
     ]
    },
    {
     "name": "stdout",
     "output_type": "stream",
     "text": [
      "Cannot check for SPDIF\n",
      "Cannot check for SPDIF\n",
      "Cannot check for SPDIF\n",
      "Cannot check for SPDIF\n"
     ]
    },
    {
     "name": "stderr",
     "output_type": "stream",
     "text": [
      " 86%|████████████████████████████████████████████████████████████▊          | 204679/239040 [13:20:59<39:27, 14.52it/s]"
     ]
    },
    {
     "name": "stdout",
     "output_type": "stream",
     "text": [
      "Cannot check for SPDIF\n",
      "Cannot check for SPDIF\n",
      "Cannot check for SPDIF\n",
      "Cannot check for SPDIF\n"
     ]
    },
    {
     "name": "stderr",
     "output_type": "stream",
     "text": [
      " 86%|████████████████████████████████████████████████████████████▉          | 205359/239040 [13:22:17<37:33, 14.94it/s]"
     ]
    },
    {
     "name": "stdout",
     "output_type": "stream",
     "text": [
      "Cannot check for SPDIF\n",
      "Cannot check for SPDIF\n",
      "Cannot check for SPDIF\n",
      "Cannot check for SPDIF\n"
     ]
    },
    {
     "name": "stderr",
     "output_type": "stream",
     "text": [
      " 86%|█████████████████████████████████████████████████████████████          | 205441/239040 [13:22:27<57:41,  9.71it/s]"
     ]
    },
    {
     "name": "stdout",
     "output_type": "stream",
     "text": [
      "Cannot check for SPDIF\n",
      "Cannot check for SPDIF\n",
      "Cannot check for SPDIF\n",
      "Cannot check for SPDIF\n"
     ]
    },
    {
     "name": "stderr",
     "output_type": "stream",
     "text": [
      " 86%|█████████████████████████████████████████████████████████████▏         | 206183/239040 [13:23:47<28:36, 19.14it/s]"
     ]
    },
    {
     "name": "stdout",
     "output_type": "stream",
     "text": [
      "Cannot check for SPDIF\n",
      "Cannot check for SPDIF\n",
      "Cannot check for SPDIF\n",
      "Cannot check for SPDIF\n"
     ]
    },
    {
     "name": "stderr",
     "output_type": "stream",
     "text": [
      "\r",
      " 86%|█████████████████████████████████████████████████████████████▏         | 206189/239040 [13:23:47<20:23, 26.84it/s]"
     ]
    },
    {
     "name": "stdout",
     "output_type": "stream",
     "text": [
      "Cannot check for SPDIF\n",
      "Cannot check for SPDIF\n",
      "Cannot check for SPDIF\n",
      "Cannot check for SPDIF\n"
     ]
    },
    {
     "name": "stderr",
     "output_type": "stream",
     "text": [
      " 86%|█████████████████████████████████████████████████████████████▎         | 206517/239040 [13:24:23<27:40, 19.59it/s]"
     ]
    },
    {
     "name": "stdout",
     "output_type": "stream",
     "text": [
      "Cannot check for SPDIF\n",
      "Cannot check for SPDIF\n",
      "Cannot check for SPDIF\n",
      "Cannot check for SPDIF\n"
     ]
    },
    {
     "name": "stderr",
     "output_type": "stream",
     "text": [
      " 86%|█████████████████████████████████████████████████████████████▎         | 206632/239040 [13:24:36<45:14, 11.94it/s]"
     ]
    },
    {
     "name": "stdout",
     "output_type": "stream",
     "text": [
      "Cannot check for SPDIF\n",
      "Cannot check for SPDIF\n",
      "Cannot check for SPDIF\n",
      "Cannot check for SPDIF\n"
     ]
    },
    {
     "name": "stderr",
     "output_type": "stream",
     "text": [
      " 87%|███████████████████████████████████████████████████████████▋         | 206786/239040 [13:24:54<2:55:27,  3.06it/s]"
     ]
    },
    {
     "name": "stdout",
     "output_type": "stream",
     "text": [
      "Cannot check for SPDIF\n",
      "Cannot check for SPDIF\n",
      "Cannot check for SPDIF\n",
      "Cannot check for SPDIF\n"
     ]
    },
    {
     "name": "stderr",
     "output_type": "stream",
     "text": [
      " 87%|███████████████████████████████████████████████████████████▉         | 207768/239040 [13:26:38<2:03:41,  4.21it/s]"
     ]
    },
    {
     "name": "stdout",
     "output_type": "stream",
     "text": [
      "Cannot check for SPDIF\n",
      "Cannot check for SPDIF\n",
      "Cannot check for SPDIF\n",
      "Cannot check for SPDIF\n"
     ]
    },
    {
     "name": "stderr",
     "output_type": "stream",
     "text": [
      "\r",
      " 87%|███████████████████████████████████████████████████████████▉         | 207772/239040 [13:26:38<1:25:02,  6.13it/s]"
     ]
    },
    {
     "name": "stdout",
     "output_type": "stream",
     "text": [
      "Cannot check for SPDIF\n",
      "Cannot check for SPDIF\n"
     ]
    },
    {
     "name": "stderr",
     "output_type": "stream",
     "text": [
      "\r",
      " 87%|█████████████████████████████████████████████████████████████▋         | 207777/239040 [13:26:38<57:10,  9.11it/s]"
     ]
    },
    {
     "name": "stdout",
     "output_type": "stream",
     "text": [
      "Cannot check for SPDIF\n",
      "Cannot check for SPDIF\n"
     ]
    },
    {
     "name": "stderr",
     "output_type": "stream",
     "text": [
      " 87%|█████████████████████████████████████████████████████████████▊         | 208054/239040 [13:27:05<25:34, 20.19it/s]"
     ]
    },
    {
     "name": "stdout",
     "output_type": "stream",
     "text": [
      "Cannot check for SPDIF\n",
      "Cannot check for SPDIF\n",
      "Cannot check for SPDIF\n",
      "Cannot check for SPDIF\n"
     ]
    },
    {
     "name": "stderr",
     "output_type": "stream",
     "text": [
      " 87%|█████████████████████████████████████████████████████████████▉         | 208505/239040 [13:27:44<39:08, 13.00it/s]"
     ]
    },
    {
     "name": "stdout",
     "output_type": "stream",
     "text": [
      "Cannot check for SPDIF\n",
      "Cannot check for SPDIF\n"
     ]
    },
    {
     "name": "stderr",
     "output_type": "stream",
     "text": [
      "\r",
      " 87%|█████████████████████████████████████████████████████████████▉         | 208509/239040 [13:27:44<30:26, 16.72it/s]"
     ]
    },
    {
     "name": "stdout",
     "output_type": "stream",
     "text": [
      "Cannot check for SPDIF\n",
      "Cannot check for SPDIF\n"
     ]
    },
    {
     "name": "stderr",
     "output_type": "stream",
     "text": [
      " 87%|██████████████████████████████████████████████████████████████         | 208844/239040 [13:28:14<48:48, 10.31it/s]"
     ]
    },
    {
     "name": "stdout",
     "output_type": "stream",
     "text": [
      "Cannot check for SPDIF\n",
      "Cannot check for SPDIF\n",
      "Cannot check for SPDIF\n",
      "Cannot check for SPDIF\n"
     ]
    },
    {
     "name": "stderr",
     "output_type": "stream",
     "text": [
      " 87%|██████████████████████████████████████████████████████████████         | 208951/239040 [13:28:22<26:06, 19.21it/s]"
     ]
    },
    {
     "name": "stdout",
     "output_type": "stream",
     "text": [
      "Cannot check for SPDIF\n",
      "Cannot check for SPDIF\n",
      "Cannot check for SPDIF\n",
      "Cannot check for SPDIF\n"
     ]
    },
    {
     "name": "stderr",
     "output_type": "stream",
     "text": [
      " 88%|██████████████████████████████████████████████████████████████▏        | 209176/239040 [13:28:41<17:53, 27.83it/s]"
     ]
    },
    {
     "name": "stdout",
     "output_type": "stream",
     "text": [
      "Cannot check for SPDIF\n",
      "Cannot check for SPDIF\n"
     ]
    },
    {
     "name": "stderr",
     "output_type": "stream",
     "text": [
      "\r",
      " 88%|████████████████████████████████████████████████████████████▍        | 209179/239040 [13:28:43<1:42:55,  4.84it/s]"
     ]
    },
    {
     "name": "stdout",
     "output_type": "stream",
     "text": [
      "Cannot check for SPDIF\n",
      "Cannot check for SPDIF\n"
     ]
    },
    {
     "name": "stderr",
     "output_type": "stream",
     "text": [
      " 88%|██████████████████████████████████████████████████████████████▏        | 209423/239040 [13:29:06<25:33, 19.31it/s]"
     ]
    },
    {
     "name": "stdout",
     "output_type": "stream",
     "text": [
      "Cannot check for SPDIF\n",
      "Cannot check for SPDIF\n",
      "Cannot check for SPDIF\n",
      "Cannot check for SPDIF\n"
     ]
    },
    {
     "name": "stderr",
     "output_type": "stream",
     "text": [
      " 88%|██████████████████████████████████████████████████████████████▎        | 209596/239040 [13:29:25<23:39, 20.75it/s]"
     ]
    },
    {
     "name": "stdout",
     "output_type": "stream",
     "text": [
      "Cannot check for SPDIF\n",
      "Cannot check for SPDIF\n"
     ]
    },
    {
     "name": "stderr",
     "output_type": "stream",
     "text": [
      "\r",
      " 88%|██████████████████████████████████████████████████████████████▎        | 209599/239040 [13:29:26<21:47, 22.51it/s]"
     ]
    },
    {
     "name": "stdout",
     "output_type": "stream",
     "text": [
      "Cannot check for SPDIF\n",
      "Cannot check for SPDIF\n"
     ]
    },
    {
     "name": "stderr",
     "output_type": "stream",
     "text": [
      " 88%|████████████████████████████████████████████████████████████▋        | 210166/239040 [13:30:29<1:16:10,  6.32it/s]"
     ]
    },
    {
     "name": "stdout",
     "output_type": "stream",
     "text": [
      "Cannot check for SPDIF\n",
      "Cannot check for SPDIF\n",
      "Cannot check for SPDIF\n",
      "Cannot check for SPDIF\n"
     ]
    },
    {
     "name": "stderr",
     "output_type": "stream",
     "text": [
      " 88%|██████████████████████████████████████████████████████████████▍        | 210315/239040 [13:30:43<25:27, 18.81it/s]"
     ]
    },
    {
     "name": "stdout",
     "output_type": "stream",
     "text": [
      "Cannot check for SPDIF\n",
      "Cannot check for SPDIF\n",
      "Cannot check for SPDIF\n",
      "Cannot check for SPDIF\n"
     ]
    },
    {
     "name": "stderr",
     "output_type": "stream",
     "text": [
      " 88%|██████████████████████████████████████████████████████████████▋        | 210959/239040 [13:31:49<28:12, 16.59it/s]"
     ]
    },
    {
     "name": "stdout",
     "output_type": "stream",
     "text": [
      "Cannot check for SPDIF\n",
      "Cannot check for SPDIF\n",
      "Cannot check for SPDIF\n",
      "Cannot check for SPDIF\n"
     ]
    },
    {
     "name": "stderr",
     "output_type": "stream",
     "text": [
      " 88%|██████████████████████████████████████████████████████████████▋        | 211072/239040 [13:32:02<36:09, 12.89it/s]"
     ]
    },
    {
     "name": "stdout",
     "output_type": "stream",
     "text": [
      "Cannot check for SPDIF\n",
      "Cannot check for SPDIF\n"
     ]
    },
    {
     "name": "stderr",
     "output_type": "stream",
     "text": [
      " 88%|████████████████████████████████████████████████████████████▉        | 211272/239040 [13:32:22<1:01:30,  7.52it/s]"
     ]
    },
    {
     "name": "stdout",
     "output_type": "stream",
     "text": [
      "Cannot check for SPDIF\n",
      "Cannot check for SPDIF\n",
      "Cannot check for SPDIF\n",
      "Cannot check for SPDIF\n"
     ]
    },
    {
     "name": "stderr",
     "output_type": "stream",
     "text": [
      " 88%|██████████████████████████████████████████████████████████████▊        | 211407/239040 [13:32:35<34:35, 13.32it/s]"
     ]
    },
    {
     "name": "stdout",
     "output_type": "stream",
     "text": [
      "Cannot check for SPDIF\n",
      "Cannot check for SPDIF\n"
     ]
    },
    {
     "name": "stderr",
     "output_type": "stream",
     "text": [
      "\r",
      " 88%|██████████████████████████████████████████████████████████████▊        | 211411/239040 [13:32:35<27:12, 16.92it/s]"
     ]
    },
    {
     "name": "stdout",
     "output_type": "stream",
     "text": [
      "Cannot check for SPDIF\n",
      "Cannot check for SPDIF\n"
     ]
    },
    {
     "name": "stderr",
     "output_type": "stream",
     "text": [
      " 88%|██████████████████████████████████████████████████████████████▊        | 211500/239040 [13:32:44<27:32, 16.66it/s]"
     ]
    },
    {
     "name": "stdout",
     "output_type": "stream",
     "text": [
      "Cannot check for SPDIF\n",
      "Cannot check for SPDIF\n",
      "Cannot check for SPDIF\n",
      "Cannot check for SPDIF\n"
     ]
    },
    {
     "name": "stderr",
     "output_type": "stream",
     "text": [
      " 89%|██████████████████████████████████████████████████████████████▊        | 211594/239040 [13:32:53<23:13, 19.70it/s]"
     ]
    },
    {
     "name": "stdout",
     "output_type": "stream",
     "text": [
      "Cannot check for SPDIF\n",
      "Cannot check for SPDIF\n",
      "Cannot check for SPDIF\n",
      "Cannot check for SPDIF\n"
     ]
    },
    {
     "name": "stderr",
     "output_type": "stream",
     "text": [
      " 89%|█████████████████████████████████████████████████████████████        | 211610/239040 [13:32:56<1:28:57,  5.14it/s]"
     ]
    },
    {
     "name": "stdout",
     "output_type": "stream",
     "text": [
      "Cannot check for SPDIF\n",
      "Cannot check for SPDIF\n",
      "Cannot check for SPDIF\n",
      "Cannot check for SPDIF\n"
     ]
    },
    {
     "name": "stderr",
     "output_type": "stream",
     "text": [
      " 89%|██████████████████████████████████████████████████████████████▉        | 211833/239040 [13:33:17<40:03, 11.32it/s]"
     ]
    },
    {
     "name": "stdout",
     "output_type": "stream",
     "text": [
      "Cannot check for SPDIF\n",
      "Cannot check for SPDIF\n",
      "Cannot check for SPDIF\n",
      "Cannot check for SPDIF\n"
     ]
    },
    {
     "name": "stderr",
     "output_type": "stream",
     "text": [
      " 89%|██████████████████████████████████████████████████████████████▉        | 211941/239040 [13:33:27<19:47, 22.82it/s]"
     ]
    },
    {
     "name": "stdout",
     "output_type": "stream",
     "text": [
      "Cannot check for SPDIF\n",
      "Cannot check for SPDIF\n",
      "Cannot check for SPDIF\n",
      "Cannot check for SPDIF\n"
     ]
    },
    {
     "name": "stderr",
     "output_type": "stream",
     "text": [
      " 89%|██████████████████████████████████████████████████████████████▉        | 212095/239040 [13:33:42<43:25, 10.34it/s]"
     ]
    },
    {
     "name": "stdout",
     "output_type": "stream",
     "text": [
      "Cannot check for SPDIF\n",
      "Cannot check for SPDIF\n",
      "Cannot check for SPDIF\n",
      "Cannot check for SPDIF\n"
     ]
    },
    {
     "name": "stderr",
     "output_type": "stream",
     "text": [
      " 89%|███████████████████████████████████████████████████████████████        | 212233/239040 [13:33:56<32:25, 13.78it/s]"
     ]
    },
    {
     "name": "stdout",
     "output_type": "stream",
     "text": [
      "Cannot check for SPDIF\n",
      "Cannot check for SPDIF\n",
      "Cannot check for SPDIF\n",
      "Cannot check for SPDIF\n"
     ]
    },
    {
     "name": "stderr",
     "output_type": "stream",
     "text": [
      " 89%|███████████████████████████████████████████████████████████████        | 212504/239040 [13:34:22<16:00, 27.64it/s]"
     ]
    },
    {
     "name": "stdout",
     "output_type": "stream",
     "text": [
      "Cannot check for SPDIF\n",
      "Cannot check for SPDIF\n",
      "Cannot check for SPDIF\n",
      "Cannot check for SPDIF\n"
     ]
    },
    {
     "name": "stderr",
     "output_type": "stream",
     "text": [
      " 89%|███████████████████████████████████████████████████████████████▏       | 212797/239040 [13:34:51<24:28, 17.87it/s]"
     ]
    },
    {
     "name": "stdout",
     "output_type": "stream",
     "text": [
      "Cannot check for SPDIF\n",
      "Cannot check for SPDIF\n",
      "Cannot check for SPDIF\n",
      "Cannot check for SPDIF\n"
     ]
    },
    {
     "name": "stderr",
     "output_type": "stream",
     "text": [
      " 89%|███████████████████████████████████████████████████████████████▏       | 212839/239040 [13:34:55<24:43, 17.66it/s]"
     ]
    },
    {
     "name": "stdout",
     "output_type": "stream",
     "text": [
      "Cannot check for SPDIF\n",
      "Cannot check for SPDIF\n",
      "Cannot check for SPDIF\n",
      "Cannot check for SPDIF\n"
     ]
    },
    {
     "name": "stderr",
     "output_type": "stream",
     "text": [
      " 89%|███████████████████████████████████████████████████████████████▍       | 213481/239040 [13:35:57<17:05, 24.93it/s]"
     ]
    },
    {
     "name": "stdout",
     "output_type": "stream",
     "text": [
      "Cannot check for SPDIF\n",
      "Cannot check for SPDIF\n",
      "Cannot check for SPDIF\n",
      "Cannot check for SPDIF\n"
     ]
    },
    {
     "name": "stderr",
     "output_type": "stream",
     "text": [
      " 89%|█████████████████████████████████████████████████████████████▋       | 213919/239040 [13:36:41<1:21:19,  5.15it/s]"
     ]
    },
    {
     "name": "stdout",
     "output_type": "stream",
     "text": [
      "Cannot check for SPDIF\n",
      "Cannot check for SPDIF\n",
      "Cannot check for SPDIF\n",
      "Cannot check for SPDIF\n"
     ]
    },
    {
     "name": "stderr",
     "output_type": "stream",
     "text": [
      "\r",
      " 89%|███████████████████████████████████████████████████████████████▌       | 213924/239040 [13:36:41<51:51,  8.07it/s]"
     ]
    },
    {
     "name": "stdout",
     "output_type": "stream",
     "text": [
      "Cannot check for SPDIF\n",
      "Cannot check for SPDIF\n",
      "Cannot check for SPDIF\n",
      "Cannot check for SPDIF\n"
     ]
    },
    {
     "name": "stderr",
     "output_type": "stream",
     "text": [
      " 90%|███████████████████████████████████████████████████████████████▌       | 214140/239040 [13:37:03<47:12,  8.79it/s]"
     ]
    },
    {
     "name": "stdout",
     "output_type": "stream",
     "text": [
      "Cannot check for SPDIF\n",
      "Cannot check for SPDIF\n",
      "Cannot check for SPDIF\n",
      "Cannot check for SPDIF\n"
     ]
    },
    {
     "name": "stderr",
     "output_type": "stream",
     "text": [
      " 90%|███████████████████████████████████████████████████████████████▋       | 214534/239040 [13:37:36<24:55, 16.39it/s]"
     ]
    },
    {
     "name": "stdout",
     "output_type": "stream",
     "text": [
      "Cannot check for SPDIF\n",
      "Cannot check for SPDIF\n",
      "Cannot check for SPDIF\n",
      "Cannot check for SPDIF\n"
     ]
    },
    {
     "name": "stderr",
     "output_type": "stream",
     "text": [
      " 90%|███████████████████████████████████████████████████████████████▊       | 214807/239040 [13:38:05<17:38, 22.90it/s]"
     ]
    },
    {
     "name": "stdout",
     "output_type": "stream",
     "text": [
      "Cannot check for SPDIF\n",
      "Cannot check for SPDIF\n",
      "Cannot check for SPDIF\n",
      "Cannot check for SPDIF\n"
     ]
    },
    {
     "name": "stderr",
     "output_type": "stream",
     "text": [
      " 90%|███████████████████████████████████████████████████████████████▊       | 215019/239040 [13:38:28<20:44, 19.30it/s]"
     ]
    },
    {
     "name": "stdout",
     "output_type": "stream",
     "text": [
      "Cannot check for SPDIF\n",
      "Cannot check for SPDIF\n",
      "Cannot check for SPDIF\n",
      "Cannot check for SPDIF\n"
     ]
    },
    {
     "name": "stderr",
     "output_type": "stream",
     "text": [
      " 90%|██████████████████████████████████████████████████████████████▏      | 215288/239040 [13:38:59<1:23:38,  4.73it/s]"
     ]
    },
    {
     "name": "stdout",
     "output_type": "stream",
     "text": [
      "Cannot check for SPDIF\n",
      "Cannot check for SPDIF\n",
      "Cannot check for SPDIF\n",
      "Cannot check for SPDIF\n"
     ]
    },
    {
     "name": "stderr",
     "output_type": "stream",
     "text": [
      " 90%|████████████████████████████████████████████████████████████████       | 215591/239040 [13:39:21<43:40,  8.95it/s]"
     ]
    },
    {
     "name": "stdout",
     "output_type": "stream",
     "text": [
      "Cannot check for SPDIF\n",
      "Cannot check for SPDIF\n",
      "Cannot check for SPDIF\n",
      "Cannot check for SPDIF\n"
     ]
    },
    {
     "name": "stderr",
     "output_type": "stream",
     "text": [
      " 90%|████████████████████████████████████████████████████████████████       | 215773/239040 [13:39:34<22:17, 17.39it/s]"
     ]
    },
    {
     "name": "stdout",
     "output_type": "stream",
     "text": [
      "Cannot check for SPDIF\n",
      "Cannot check for SPDIF\n",
      "Cannot check for SPDIF\n",
      "Cannot check for SPDIF\n"
     ]
    },
    {
     "name": "stderr",
     "output_type": "stream",
     "text": [
      " 90%|████████████████████████████████████████████████████████████████▏      | 216248/239040 [13:40:13<21:29, 17.67it/s]"
     ]
    },
    {
     "name": "stdout",
     "output_type": "stream",
     "text": [
      "Cannot check for SPDIF\n",
      "Cannot check for SPDIF\n",
      "Cannot check for SPDIF\n",
      "Cannot check for SPDIF\n"
     ]
    },
    {
     "name": "stderr",
     "output_type": "stream",
     "text": [
      " 91%|████████████████████████████████████████████████████████████████▎      | 216367/239040 [13:40:24<31:01, 12.18it/s]"
     ]
    },
    {
     "name": "stdout",
     "output_type": "stream",
     "text": [
      "Cannot check for SPDIF\n",
      "Cannot check for SPDIF\n",
      "Cannot check for SPDIF\n",
      "Cannot check for SPDIF\n"
     ]
    },
    {
     "name": "stderr",
     "output_type": "stream",
     "text": [
      " 91%|████████████████████████████████████████████████████████████████▎      | 216504/239040 [13:40:35<20:44, 18.10it/s]"
     ]
    },
    {
     "name": "stdout",
     "output_type": "stream",
     "text": [
      "Cannot check for SPDIF\n",
      "Cannot check for SPDIF\n",
      "Cannot check for SPDIF\n",
      "Cannot check for SPDIF\n"
     ]
    },
    {
     "name": "stderr",
     "output_type": "stream",
     "text": [
      " 91%|████████████████████████████████████████████████████████████████▎      | 216560/239040 [13:40:39<17:17, 21.67it/s]"
     ]
    },
    {
     "name": "stdout",
     "output_type": "stream",
     "text": [
      "Cannot check for SPDIF\n",
      "Cannot check for SPDIF\n"
     ]
    },
    {
     "name": "stderr",
     "output_type": "stream",
     "text": [
      " 91%|████████████████████████████████████████████████████████████████▍      | 216894/239040 [13:41:13<19:35, 18.84it/s]"
     ]
    },
    {
     "name": "stdout",
     "output_type": "stream",
     "text": [
      "Cannot check for SPDIF\n",
      "Cannot check for SPDIF\n",
      "Cannot check for SPDIF\n",
      "Cannot check for SPDIF\n"
     ]
    },
    {
     "name": "stderr",
     "output_type": "stream",
     "text": [
      " 91%|████████████████████████████████████████████████████████████████▍      | 217045/239040 [13:41:31<59:26,  6.17it/s]"
     ]
    },
    {
     "name": "stdout",
     "output_type": "stream",
     "text": [
      "Cannot check for SPDIF\n",
      "Cannot check for SPDIF\n",
      "Cannot check for SPDIF\n",
      "Cannot check for SPDIF\n"
     ]
    },
    {
     "name": "stderr",
     "output_type": "stream",
     "text": [
      " 91%|████████████████████████████████████████████████████████████████▌      | 217418/239040 [13:42:11<18:07, 19.89it/s]"
     ]
    },
    {
     "name": "stdout",
     "output_type": "stream",
     "text": [
      "Cannot check for SPDIF\n",
      "Cannot check for SPDIF\n",
      "Cannot check for SPDIF\n",
      "Cannot check for SPDIF\n"
     ]
    },
    {
     "name": "stderr",
     "output_type": "stream",
     "text": [
      " 91%|██████████████████████████████████████████████████████████████▉      | 217900/239040 [13:45:41<7:17:38,  1.24s/it]"
     ]
    },
    {
     "name": "stdout",
     "output_type": "stream",
     "text": [
      "Cannot check for SPDIF\n",
      "Cannot check for SPDIF\n",
      "Cannot check for SPDIF\n",
      "Cannot check for SPDIF\n"
     ]
    },
    {
     "name": "stderr",
     "output_type": "stream",
     "text": [
      " 91%|██████████████████████████████████████████████████████████████▉      | 217987/239040 [13:47:06<7:11:37,  1.23s/it]"
     ]
    },
    {
     "name": "stdout",
     "output_type": "stream",
     "text": [
      "Cannot check for SPDIF\n",
      "Cannot check for SPDIF\n"
     ]
    },
    {
     "name": "stderr",
     "output_type": "stream",
     "text": [
      "\r",
      " 91%|██████████████████████████████████████████████████████████████▉      | 217991/239040 [13:47:06<4:54:05,  1.19it/s]"
     ]
    },
    {
     "name": "stdout",
     "output_type": "stream",
     "text": [
      "Cannot check for SPDIF\n",
      "Cannot check for SPDIF\n"
     ]
    },
    {
     "name": "stderr",
     "output_type": "stream",
     "text": [
      "\r",
      " 91%|██████████████████████████████████████████████████████████████▉      | 217995/239040 [13:47:07<3:24:30,  1.72it/s]"
     ]
    },
    {
     "name": "stdout",
     "output_type": "stream",
     "text": [
      "Cannot check for SPDIF\n",
      "Cannot check for SPDIF\n",
      "Cannot check for SPDIF\n",
      "Cannot check for SPDIF\n"
     ]
    },
    {
     "name": "stderr",
     "output_type": "stream",
     "text": [
      " 91%|██████████████████████████████████████████████████████████████      | 218066/239040 [13:48:31<19:02:33,  3.27s/it]"
     ]
    },
    {
     "name": "stdout",
     "output_type": "stream",
     "text": [
      "Cannot check for SPDIF\n",
      "Cannot check for SPDIF\n",
      "Cannot check for SPDIF\n",
      "Cannot check for SPDIF\n"
     ]
    },
    {
     "name": "stderr",
     "output_type": "stream",
     "text": [
      " 91%|████████████████████████████████████████████████████████████████▉      | 218601/239040 [13:53:19<13:39, 24.94it/s]"
     ]
    },
    {
     "name": "stdout",
     "output_type": "stream",
     "text": [
      "Cannot check for SPDIF\n",
      "Cannot check for SPDIF\n",
      "Cannot check for SPDIF\n",
      "Cannot check for SPDIF\n"
     ]
    },
    {
     "name": "stderr",
     "output_type": "stream",
     "text": [
      " 92%|████████████████████████████████████████████████████████████████▉      | 218772/239040 [13:53:31<14:09, 23.85it/s]"
     ]
    },
    {
     "name": "stdout",
     "output_type": "stream",
     "text": [
      "Cannot check for SPDIF\n",
      "Cannot check for SPDIF\n",
      "Cannot check for SPDIF\n",
      "Cannot check for SPDIF\n"
     ]
    },
    {
     "name": "stderr",
     "output_type": "stream",
     "text": [
      " 92%|█████████████████████████████████████████████████████████████████      | 218884/239040 [13:53:39<21:27, 15.66it/s]"
     ]
    },
    {
     "name": "stdout",
     "output_type": "stream",
     "text": [
      "Cannot check for SPDIF\n",
      "Cannot check for SPDIF\n"
     ]
    },
    {
     "name": "stderr",
     "output_type": "stream",
     "text": [
      "\r",
      " 92%|█████████████████████████████████████████████████████████████████      | 218887/239040 [13:53:39<19:34, 17.16it/s]"
     ]
    },
    {
     "name": "stdout",
     "output_type": "stream",
     "text": [
      "Cannot check for SPDIF\n",
      "Cannot check for SPDIF\n"
     ]
    },
    {
     "name": "stderr",
     "output_type": "stream",
     "text": [
      " 92%|█████████████████████████████████████████████████████████████████▍     | 220137/239040 [13:55:19<12:18, 25.60it/s]"
     ]
    },
    {
     "name": "stdout",
     "output_type": "stream",
     "text": [
      "Cannot check for SPDIF\n",
      "Cannot check for SPDIF\n",
      "Cannot check for SPDIF\n",
      "Cannot check for SPDIF\n"
     ]
    },
    {
     "name": "stderr",
     "output_type": "stream",
     "text": [
      " 92%|█████████████████████████████████████████████████████████████████▍     | 220479/239040 [13:55:49<17:19, 17.86it/s]"
     ]
    },
    {
     "name": "stdout",
     "output_type": "stream",
     "text": [
      "Cannot check for SPDIF\n",
      "Cannot check for SPDIF\n",
      "Cannot check for SPDIF\n",
      "Cannot check for SPDIF\n"
     ]
    },
    {
     "name": "stderr",
     "output_type": "stream",
     "text": [
      " 92%|█████████████████████████████████████████████████████████████████▌     | 220698/239040 [13:56:06<14:32, 21.03it/s]"
     ]
    },
    {
     "name": "stdout",
     "output_type": "stream",
     "text": [
      "Cannot check for SPDIF\n",
      "Cannot check for SPDIF\n",
      "Cannot check for SPDIF\n",
      "Cannot check for SPDIF\n"
     ]
    },
    {
     "name": "stderr",
     "output_type": "stream",
     "text": [
      " 92%|█████████████████████████████████████████████████████████████████▌     | 220780/239040 [13:56:13<15:31, 19.60it/s]"
     ]
    },
    {
     "name": "stdout",
     "output_type": "stream",
     "text": [
      "Cannot check for SPDIF\n",
      "Cannot check for SPDIF\n",
      "Cannot check for SPDIF\n",
      "Cannot check for SPDIF\n"
     ]
    },
    {
     "name": "stderr",
     "output_type": "stream",
     "text": [
      " 92%|█████████████████████████████████████████████████████████████████▌     | 220860/239040 [13:56:20<19:08, 15.83it/s]"
     ]
    },
    {
     "name": "stdout",
     "output_type": "stream",
     "text": [
      "Cannot check for SPDIF\n",
      "Cannot check for SPDIF\n",
      "Cannot check for SPDIF\n",
      "Cannot check for SPDIF\n"
     ]
    },
    {
     "name": "stderr",
     "output_type": "stream",
     "text": [
      " 93%|█████████████████████████████████████████████████████████████████▋     | 221353/239040 [13:56:58<11:20, 26.01it/s]"
     ]
    },
    {
     "name": "stdout",
     "output_type": "stream",
     "text": [
      "Cannot check for SPDIF\n",
      "Cannot check for SPDIF\n",
      "Cannot check for SPDIF\n",
      "Cannot check for SPDIF\n"
     ]
    },
    {
     "name": "stderr",
     "output_type": "stream",
     "text": [
      " 93%|█████████████████████████████████████████████████████████████████▊     | 221448/239040 [13:57:07<43:31,  6.74it/s]"
     ]
    },
    {
     "name": "stdout",
     "output_type": "stream",
     "text": [
      "Cannot check for SPDIF\n",
      "Cannot check for SPDIF\n",
      "Cannot check for SPDIF\n",
      "Cannot check for SPDIF\n"
     ]
    },
    {
     "name": "stderr",
     "output_type": "stream",
     "text": [
      " 93%|█████████████████████████████████████████████████████████████████▉     | 221911/239040 [13:57:48<13:06, 21.77it/s]"
     ]
    },
    {
     "name": "stdout",
     "output_type": "stream",
     "text": [
      "Cannot check for SPDIF\n",
      "Cannot check for SPDIF\n",
      "Cannot check for SPDIF\n",
      "Cannot check for SPDIF\n"
     ]
    },
    {
     "name": "stderr",
     "output_type": "stream",
     "text": [
      " 93%|██████████████████████████████████████████████████████████████████     | 222325/239040 [13:58:26<13:17, 20.96it/s]"
     ]
    },
    {
     "name": "stdout",
     "output_type": "stream",
     "text": [
      "Cannot check for SPDIF\n",
      "Cannot check for SPDIF\n",
      "Cannot check for SPDIF\n",
      "Cannot check for SPDIF\n"
     ]
    },
    {
     "name": "stderr",
     "output_type": "stream",
     "text": [
      " 93%|██████████████████████████████████████████████████████████████████     | 222337/239040 [13:58:26<11:20, 24.55it/s]"
     ]
    },
    {
     "name": "stdout",
     "output_type": "stream",
     "text": [
      "Cannot check for SPDIF\n",
      "Cannot check for SPDIF\n",
      "Cannot check for SPDIF\n",
      "Cannot check for SPDIF\n"
     ]
    },
    {
     "name": "stderr",
     "output_type": "stream",
     "text": [
      " 93%|██████████████████████████████████████████████████████████████████     | 222486/239040 [13:58:41<23:02, 11.97it/s]"
     ]
    },
    {
     "name": "stdout",
     "output_type": "stream",
     "text": [
      "Cannot check for SPDIF\n",
      "Cannot check for SPDIF\n"
     ]
    },
    {
     "name": "stderr",
     "output_type": "stream",
     "text": [
      "\r",
      " 93%|██████████████████████████████████████████████████████████████████     | 222489/239040 [13:58:41<20:08, 13.70it/s]"
     ]
    },
    {
     "name": "stdout",
     "output_type": "stream",
     "text": [
      "Cannot check for SPDIF\n",
      "Cannot check for SPDIF\n"
     ]
    },
    {
     "name": "stderr",
     "output_type": "stream",
     "text": [
      " 93%|██████████████████████████████████████████████████████████████████▏    | 222678/239040 [13:58:58<11:31, 23.67it/s]"
     ]
    },
    {
     "name": "stdout",
     "output_type": "stream",
     "text": [
      "Cannot check for SPDIF\n",
      "Cannot check for SPDIF\n"
     ]
    },
    {
     "name": "stderr",
     "output_type": "stream",
     "text": [
      "\r",
      " 93%|██████████████████████████████████████████████████████████████████▏    | 222681/239040 [13:58:58<12:35, 21.66it/s]"
     ]
    },
    {
     "name": "stdout",
     "output_type": "stream",
     "text": [
      "Cannot check for SPDIF\n",
      "Cannot check for SPDIF\n"
     ]
    },
    {
     "name": "stderr",
     "output_type": "stream",
     "text": [
      " 93%|██████████████████████████████████████████████████████████████████▎    | 223344/239040 [13:59:58<12:35, 20.77it/s]"
     ]
    },
    {
     "name": "stdout",
     "output_type": "stream",
     "text": [
      "Cannot check for SPDIF\n",
      "Cannot check for SPDIF\n",
      "Cannot check for SPDIF\n",
      "Cannot check for SPDIF\n"
     ]
    },
    {
     "name": "stderr",
     "output_type": "stream",
     "text": [
      " 94%|██████████████████████████████████████████████████████████████████▌    | 223950/239040 [14:01:11<22:46, 11.04it/s]"
     ]
    },
    {
     "name": "stdout",
     "output_type": "stream",
     "text": [
      "Cannot check for SPDIF\n",
      "Cannot check for SPDIF\n",
      "Cannot check for SPDIF\n",
      "Cannot check for SPDIF\n"
     ]
    },
    {
     "name": "stderr",
     "output_type": "stream",
     "text": [
      " 94%|██████████████████████████████████████████████████████████████████▋    | 224501/239040 [14:02:33<18:08, 13.36it/s]"
     ]
    },
    {
     "name": "stdout",
     "output_type": "stream",
     "text": [
      "Cannot check for SPDIF\n",
      "Cannot check for SPDIF\n",
      "Cannot check for SPDIF\n",
      "Cannot check for SPDIF\n"
     ]
    },
    {
     "name": "stderr",
     "output_type": "stream",
     "text": [
      " 94%|██████████████████████████████████████████████████████████████████▋    | 224606/239040 [14:02:44<22:54, 10.50it/s]"
     ]
    },
    {
     "name": "stdout",
     "output_type": "stream",
     "text": [
      "Cannot check for SPDIF\n",
      "Cannot check for SPDIF\n",
      "Cannot check for SPDIF\n",
      "Cannot check for SPDIF\n"
     ]
    },
    {
     "name": "stderr",
     "output_type": "stream",
     "text": [
      " 94%|██████████████████████████████████████████████████████████████████▊    | 224848/239040 [14:03:07<58:29,  4.04it/s]"
     ]
    },
    {
     "name": "stdout",
     "output_type": "stream",
     "text": [
      "Cannot check for SPDIF\n",
      "Cannot check for SPDIF\n",
      "Cannot check for SPDIF\n",
      "Cannot check for SPDIF\n"
     ]
    },
    {
     "name": "stderr",
     "output_type": "stream",
     "text": [
      " 94%|██████████████████████████████████████████████████████████████████▊    | 225011/239040 [14:03:21<09:32, 24.49it/s]"
     ]
    },
    {
     "name": "stdout",
     "output_type": "stream",
     "text": [
      "Cannot check for SPDIF\n",
      "Cannot check for SPDIF\n",
      "Cannot check for SPDIF\n",
      "Cannot check for SPDIF\n"
     ]
    },
    {
     "name": "stderr",
     "output_type": "stream",
     "text": [
      " 94%|██████████████████████████████████████████████████████████████████▉    | 225281/239040 [14:03:47<32:33,  7.04it/s]"
     ]
    },
    {
     "name": "stdout",
     "output_type": "stream",
     "text": [
      "Cannot check for SPDIF\n",
      "Cannot check for SPDIF\n",
      "Cannot check for SPDIF\n",
      "Cannot check for SPDIF\n"
     ]
    },
    {
     "name": "stderr",
     "output_type": "stream",
     "text": [
      " 94%|██████████████████████████████████████████████████████████████████▉    | 225392/239040 [14:03:56<09:48, 23.19it/s]"
     ]
    },
    {
     "name": "stdout",
     "output_type": "stream",
     "text": [
      "Cannot check for SPDIF\n",
      "Cannot check for SPDIF\n",
      "Cannot check for SPDIF\n",
      "Cannot check for SPDIF\n"
     ]
    },
    {
     "name": "stderr",
     "output_type": "stream",
     "text": [
      " 94%|██████████████████████████████████████████████████████████████████▉    | 225514/239040 [14:04:09<11:24, 19.75it/s]"
     ]
    },
    {
     "name": "stdout",
     "output_type": "stream",
     "text": [
      "Cannot check for SPDIF\n",
      "Cannot check for SPDIF\n",
      "Cannot check for SPDIF\n",
      "Cannot check for SPDIF\n"
     ]
    },
    {
     "name": "stderr",
     "output_type": "stream",
     "text": [
      " 95%|███████████████████████████████████████████████████████████████████    | 225959/239040 [14:04:50<07:50, 27.78it/s]"
     ]
    },
    {
     "name": "stdout",
     "output_type": "stream",
     "text": [
      "Cannot check for SPDIF\n",
      "Cannot check for SPDIF\n",
      "Cannot check for SPDIF\n",
      "Cannot check for SPDIF\n"
     ]
    },
    {
     "name": "stderr",
     "output_type": "stream",
     "text": [
      " 95%|███████████████████████████████████████████████████████████████████▏   | 226226/239040 [14:05:16<33:04,  6.46it/s]"
     ]
    },
    {
     "name": "stdout",
     "output_type": "stream",
     "text": [
      "Cannot check for SPDIF\n",
      "Cannot check for SPDIF\n",
      "Cannot check for SPDIF\n",
      "Cannot check for SPDIF\n"
     ]
    },
    {
     "name": "stderr",
     "output_type": "stream",
     "text": [
      " 95%|███████████████████████████████████████████████████████████████████▎   | 226653/239040 [14:05:56<31:03,  6.65it/s]"
     ]
    },
    {
     "name": "stdout",
     "output_type": "stream",
     "text": [
      "Cannot check for SPDIF\n",
      "Cannot check for SPDIF\n",
      "Cannot check for SPDIF\n",
      "Cannot check for SPDIF\n"
     ]
    },
    {
     "name": "stderr",
     "output_type": "stream",
     "text": [
      " 95%|███████████████████████████████████████████████████████████████████▎   | 226708/239040 [14:06:00<17:04, 12.04it/s]"
     ]
    },
    {
     "name": "stdout",
     "output_type": "stream",
     "text": [
      "Cannot check for SPDIF\n",
      "Cannot check for SPDIF\n",
      "Cannot check for SPDIF\n",
      "Cannot check for SPDIF\n"
     ]
    },
    {
     "name": "stderr",
     "output_type": "stream",
     "text": [
      " 95%|███████████████████████████████████████████████████████████████████▋   | 227976/239040 [14:07:52<18:36,  9.91it/s]"
     ]
    },
    {
     "name": "stdout",
     "output_type": "stream",
     "text": [
      "Cannot check for SPDIF\n",
      "Cannot check for SPDIF\n"
     ]
    },
    {
     "name": "stderr",
     "output_type": "stream",
     "text": [
      "\r",
      " 95%|███████████████████████████████████████████████████████████████████▋   | 227979/239040 [14:07:52<15:05, 12.22it/s]"
     ]
    },
    {
     "name": "stdout",
     "output_type": "stream",
     "text": [
      "Cannot check for SPDIF\n",
      "Cannot check for SPDIF\n"
     ]
    },
    {
     "name": "stderr",
     "output_type": "stream",
     "text": [
      " 95%|███████████████████████████████████████████████████████████████████▋   | 227990/239040 [14:07:53<08:52, 20.77it/s]"
     ]
    },
    {
     "name": "stdout",
     "output_type": "stream",
     "text": [
      "Cannot check for SPDIF\n",
      "Cannot check for SPDIF\n"
     ]
    },
    {
     "name": "stderr",
     "output_type": "stream",
     "text": [
      "\r",
      " 95%|███████████████████████████████████████████████████████████████████▋   | 227993/239040 [14:07:53<09:01, 20.40it/s]"
     ]
    },
    {
     "name": "stdout",
     "output_type": "stream",
     "text": [
      "Cannot check for SPDIF\n",
      "Cannot check for SPDIF\n"
     ]
    },
    {
     "name": "stderr",
     "output_type": "stream",
     "text": [
      " 95%|███████████████████████████████████████████████████████████████████▊   | 228282/239040 [14:08:16<11:30, 15.59it/s]"
     ]
    },
    {
     "name": "stdout",
     "output_type": "stream",
     "text": [
      "Cannot check for SPDIF\n",
      "Cannot check for SPDIF\n",
      "Cannot check for SPDIF\n",
      "Cannot check for SPDIF\n"
     ]
    },
    {
     "name": "stderr",
     "output_type": "stream",
     "text": [
      " 96%|███████████████████████████████████████████████████████████████████▊   | 228331/239040 [14:08:19<09:08, 19.53it/s]"
     ]
    },
    {
     "name": "stdout",
     "output_type": "stream",
     "text": [
      "Cannot check for SPDIF\n",
      "Cannot check for SPDIF\n"
     ]
    },
    {
     "name": "stderr",
     "output_type": "stream",
     "text": [
      "\r",
      " 96%|███████████████████████████████████████████████████████████████████▊   | 228335/239040 [14:08:19<08:06, 22.00it/s]"
     ]
    },
    {
     "name": "stdout",
     "output_type": "stream",
     "text": [
      "Cannot check for SPDIF\n",
      "Cannot check for SPDIF\n"
     ]
    },
    {
     "name": "stderr",
     "output_type": "stream",
     "text": [
      " 96%|███████████████████████████████████████████████████████████████████▉   | 228647/239040 [14:08:46<08:00, 21.61it/s]"
     ]
    },
    {
     "name": "stdout",
     "output_type": "stream",
     "text": [
      "Cannot check for SPDIF\n",
      "Cannot check for SPDIF\n",
      "Cannot check for SPDIF\n",
      "Cannot check for SPDIF\n"
     ]
    },
    {
     "name": "stderr",
     "output_type": "stream",
     "text": [
      " 96%|████████████████████████████████████████████████████████████████████   | 229090/239040 [14:13:12<17:47,  9.32it/s]"
     ]
    },
    {
     "name": "stdout",
     "output_type": "stream",
     "text": [
      "Cannot check for SPDIF\n",
      "Cannot check for SPDIF\n",
      "Cannot check for SPDIF\n",
      "Cannot check for SPDIF\n"
     ]
    },
    {
     "name": "stderr",
     "output_type": "stream",
     "text": [
      " 96%|████████████████████████████████████████████████████████████████████   | 229197/239040 [14:13:19<06:44, 24.31it/s]"
     ]
    },
    {
     "name": "stdout",
     "output_type": "stream",
     "text": [
      "Cannot check for SPDIF\n",
      "Cannot check for SPDIF\n",
      "Cannot check for SPDIF\n",
      "Cannot check for SPDIF\n"
     ]
    },
    {
     "name": "stderr",
     "output_type": "stream",
     "text": [
      " 96%|████████████████████████████████████████████████████████████████████▏  | 229370/239040 [14:13:34<08:29, 18.98it/s]"
     ]
    },
    {
     "name": "stdout",
     "output_type": "stream",
     "text": [
      "Cannot check for SPDIF\n",
      "Cannot check for SPDIF\n",
      "Cannot check for SPDIF\n",
      "Cannot check for SPDIF\n"
     ]
    },
    {
     "name": "stderr",
     "output_type": "stream",
     "text": [
      " 96%|████████████████████████████████████████████████████████████████████▏  | 229545/239040 [14:13:47<05:18, 29.85it/s]"
     ]
    },
    {
     "name": "stdout",
     "output_type": "stream",
     "text": [
      "Cannot check for SPDIF\n",
      "Cannot check for SPDIF\n"
     ]
    },
    {
     "name": "stderr",
     "output_type": "stream",
     "text": [
      "\r",
      " 96%|████████████████████████████████████████████████████████████████████▏  | 229549/239040 [14:13:47<05:04, 31.12it/s]"
     ]
    },
    {
     "name": "stdout",
     "output_type": "stream",
     "text": [
      "Cannot check for SPDIF\n",
      "Cannot check for SPDIF\n"
     ]
    },
    {
     "name": "stderr",
     "output_type": "stream",
     "text": [
      " 96%|████████████████████████████████████████████████████████████████████▏  | 229606/239040 [14:13:56<18:07,  8.68it/s]"
     ]
    },
    {
     "name": "stdout",
     "output_type": "stream",
     "text": [
      "Cannot check for SPDIF\n",
      "Cannot check for SPDIF\n",
      "Cannot check for SPDIF\n",
      "Cannot check for SPDIF\n"
     ]
    },
    {
     "name": "stderr",
     "output_type": "stream",
     "text": [
      " 97%|████████████████████████████████████████████████████████████████████▌  | 230768/239040 [14:16:04<06:01, 22.87it/s]"
     ]
    },
    {
     "name": "stdout",
     "output_type": "stream",
     "text": [
      "Cannot check for SPDIF\n",
      "Cannot check for SPDIF\n",
      "Cannot check for SPDIF\n",
      "Cannot check for SPDIF\n",
      "Cannot check for SPDIF\n",
      "Cannot check for SPDIF\n",
      "Cannot check for SPDIF\n",
      "Cannot check for SPDIF\n"
     ]
    },
    {
     "name": "stderr",
     "output_type": "stream",
     "text": [
      " 97%|████████████████████████████████████████████████████████████████████▌  | 230897/239040 [14:16:18<06:45, 20.10it/s]"
     ]
    },
    {
     "name": "stdout",
     "output_type": "stream",
     "text": [
      "Cannot check for SPDIF\n",
      "Cannot check for SPDIF\n",
      "Cannot check for SPDIF\n",
      "Cannot check for SPDIF\n"
     ]
    },
    {
     "name": "stderr",
     "output_type": "stream",
     "text": [
      " 97%|████████████████████████████████████████████████████████████████████▌  | 230995/239040 [14:16:30<42:47,  3.13it/s]"
     ]
    },
    {
     "name": "stdout",
     "output_type": "stream",
     "text": [
      "Cannot check for SPDIF\n",
      "Cannot check for SPDIF\n",
      "Cannot check for SPDIF\n",
      "Cannot check for SPDIF\n"
     ]
    },
    {
     "name": "stderr",
     "output_type": "stream",
     "text": [
      " 97%|████████████████████████████████████████████████████████████████████▋  | 231322/239040 [14:17:03<07:02, 18.28it/s]"
     ]
    },
    {
     "name": "stdout",
     "output_type": "stream",
     "text": [
      "Cannot check for SPDIF\n",
      "Cannot check for SPDIF\n",
      "Cannot check for SPDIF\n",
      "Cannot check for SPDIF\n"
     ]
    },
    {
     "name": "stderr",
     "output_type": "stream",
     "text": [
      " 97%|█████████████████████████████████████████████████████████████████████  | 232479/239040 [14:28:03<03:58, 27.46it/s]"
     ]
    },
    {
     "name": "stdout",
     "output_type": "stream",
     "text": [
      "Cannot check for SPDIF\n",
      "Cannot check for SPDIF\n",
      "Cannot check for SPDIF\n",
      "Cannot check for SPDIF\n"
     ]
    },
    {
     "name": "stderr",
     "output_type": "stream",
     "text": [
      " 97%|█████████████████████████████████████████████████████████████████████▏ | 232884/239040 [14:28:44<05:45, 17.83it/s]"
     ]
    },
    {
     "name": "stdout",
     "output_type": "stream",
     "text": [
      "Cannot check for SPDIF\n",
      "Cannot check for SPDIF\n",
      "Cannot check for SPDIF\n",
      "Cannot check for SPDIF\n"
     ]
    },
    {
     "name": "stderr",
     "output_type": "stream",
     "text": [
      " 98%|█████████████████████████████████████████████████████████████████████▏ | 233130/239040 [14:29:09<10:47,  9.13it/s]"
     ]
    },
    {
     "name": "stdout",
     "output_type": "stream",
     "text": [
      "Cannot check for SPDIF\n",
      "Cannot check for SPDIF\n",
      "Cannot check for SPDIF\n",
      "Cannot check for SPDIF\n"
     ]
    },
    {
     "name": "stderr",
     "output_type": "stream",
     "text": [
      " 98%|█████████████████████████████████████████████████████████████████████▎ | 233515/239040 [14:29:47<09:03, 10.16it/s]"
     ]
    },
    {
     "name": "stdout",
     "output_type": "stream",
     "text": [
      "Cannot check for SPDIF\n",
      "Cannot check for SPDIF\n",
      "Cannot check for SPDIF\n",
      "Cannot check for SPDIF\n"
     ]
    },
    {
     "name": "stderr",
     "output_type": "stream",
     "text": [
      " 98%|█████████████████████████████████████████████████████████████████████▍ | 233706/239040 [14:30:05<04:29, 19.79it/s]"
     ]
    },
    {
     "name": "stdout",
     "output_type": "stream",
     "text": [
      "Cannot check for SPDIF\n",
      "Cannot check for SPDIF\n",
      "Cannot check for SPDIF\n",
      "Cannot check for SPDIF\n"
     ]
    },
    {
     "name": "stderr",
     "output_type": "stream",
     "text": [
      " 98%|█████████████████████████████████████████████████████████████████████▌ | 234359/239040 [14:31:09<07:10, 10.87it/s]"
     ]
    },
    {
     "name": "stdout",
     "output_type": "stream",
     "text": [
      "Cannot check for SPDIF\n",
      "Cannot check for SPDIF\n",
      "Cannot check for SPDIF\n",
      "Cannot check for SPDIF\n"
     ]
    },
    {
     "name": "stderr",
     "output_type": "stream",
     "text": [
      " 98%|█████████████████████████████████████████████████████████████████████▋ | 234430/239040 [14:31:14<03:06, 24.73it/s]"
     ]
    },
    {
     "name": "stdout",
     "output_type": "stream",
     "text": [
      "Cannot check for SPDIF\n",
      "Cannot check for SPDIF\n"
     ]
    },
    {
     "name": "stderr",
     "output_type": "stream",
     "text": [
      "\r",
      " 98%|█████████████████████████████████████████████████████████████████████▋ | 234433/239040 [14:31:16<18:00,  4.26it/s]"
     ]
    },
    {
     "name": "stdout",
     "output_type": "stream",
     "text": [
      "Cannot check for SPDIF\n",
      "Cannot check for SPDIF\n"
     ]
    },
    {
     "name": "stderr",
     "output_type": "stream",
     "text": [
      "\r",
      " 98%|█████████████████████████████████████████████████████████████████████▋ | 234437/239040 [14:31:16<12:48,  5.99it/s]"
     ]
    },
    {
     "name": "stdout",
     "output_type": "stream",
     "text": [
      "Cannot check for SPDIF\n",
      "Cannot check for SPDIF\n",
      "Cannot check for SPDIF\n",
      "Cannot check for SPDIF\n"
     ]
    },
    {
     "name": "stderr",
     "output_type": "stream",
     "text": [
      " 98%|█████████████████████████████████████████████████████████████████████▊ | 235014/239040 [14:32:11<03:42, 18.08it/s]"
     ]
    },
    {
     "name": "stdout",
     "output_type": "stream",
     "text": [
      "Cannot check for SPDIF\n",
      "Cannot check for SPDIF\n"
     ]
    },
    {
     "name": "stderr",
     "output_type": "stream",
     "text": [
      "\r",
      " 98%|█████████████████████████████████████████████████████████████████████▊ | 235017/239040 [14:32:11<03:30, 19.09it/s]"
     ]
    },
    {
     "name": "stdout",
     "output_type": "stream",
     "text": [
      "Cannot check for SPDIF\n",
      "Cannot check for SPDIF\n"
     ]
    },
    {
     "name": "stderr",
     "output_type": "stream",
     "text": [
      " 98%|█████████████████████████████████████████████████████████████████████▊ | 235135/239040 [14:32:23<05:36, 11.62it/s]"
     ]
    },
    {
     "name": "stdout",
     "output_type": "stream",
     "text": [
      "Cannot check for SPDIF\n",
      "Cannot check for SPDIF\n",
      "Cannot check for SPDIF\n",
      "Cannot check for SPDIF\n"
     ]
    },
    {
     "name": "stderr",
     "output_type": "stream",
     "text": [
      " 99%|██████████████████████████████████████████████████████████████████████ | 235722/239040 [14:33:18<06:02,  9.14it/s]"
     ]
    },
    {
     "name": "stdout",
     "output_type": "stream",
     "text": [
      "Cannot check for SPDIF\n",
      "Cannot check for SPDIF\n"
     ]
    },
    {
     "name": "stderr",
     "output_type": "stream",
     "text": [
      "\r",
      " 99%|██████████████████████████████████████████████████████████████████████ | 235725/239040 [14:33:19<05:43,  9.66it/s]"
     ]
    },
    {
     "name": "stdout",
     "output_type": "stream",
     "text": [
      "Cannot check for SPDIF\n",
      "Cannot check for SPDIF\n"
     ]
    },
    {
     "name": "stderr",
     "output_type": "stream",
     "text": [
      " 99%|██████████████████████████████████████████████████████████████████████▎| 236629/239040 [14:34:48<02:22, 16.86it/s]"
     ]
    },
    {
     "name": "stdout",
     "output_type": "stream",
     "text": [
      "Cannot check for SPDIF\n",
      "Cannot check for SPDIF\n",
      "Cannot check for SPDIF\n",
      "Cannot check for SPDIF\n"
     ]
    },
    {
     "name": "stderr",
     "output_type": "stream",
     "text": [
      " 99%|██████████████████████████████████████████████████████████████████████▎| 236714/239040 [14:34:57<02:35, 14.99it/s]"
     ]
    },
    {
     "name": "stdout",
     "output_type": "stream",
     "text": [
      "Cannot check for SPDIF\n",
      "Cannot check for SPDIF\n"
     ]
    },
    {
     "name": "stderr",
     "output_type": "stream",
     "text": [
      "\r",
      " 99%|██████████████████████████████████████████████████████████████████████▎| 236717/239040 [14:34:57<02:14, 17.31it/s]"
     ]
    },
    {
     "name": "stdout",
     "output_type": "stream",
     "text": [
      "Cannot check for SPDIF\n",
      "Cannot check for SPDIF\n"
     ]
    },
    {
     "name": "stderr",
     "output_type": "stream",
     "text": [
      " 99%|██████████████████████████████████████████████████████████████████████▋| 237787/239040 [14:36:44<00:46, 26.95it/s]"
     ]
    },
    {
     "name": "stdout",
     "output_type": "stream",
     "text": [
      "Cannot check for SPDIF\n",
      "Cannot check for SPDIF\n"
     ]
    },
    {
     "name": "stderr",
     "output_type": "stream",
     "text": [
      "\r",
      " 99%|██████████████████████████████████████████████████████████████████████▋| 237791/239040 [14:36:47<04:50,  4.31it/s]"
     ]
    },
    {
     "name": "stdout",
     "output_type": "stream",
     "text": [
      "Cannot check for SPDIF\n",
      "Cannot check for SPDIF\n"
     ]
    },
    {
     "name": "stderr",
     "output_type": "stream",
     "text": [
      "\r",
      " 99%|██████████████████████████████████████████████████████████████████████▋| 237794/239040 [14:36:47<03:49,  5.43it/s]"
     ]
    },
    {
     "name": "stdout",
     "output_type": "stream",
     "text": [
      "Cannot check for SPDIF\n",
      "Cannot check for SPDIF\n",
      "Cannot check for SPDIF\n",
      "Cannot check for SPDIF\n"
     ]
    },
    {
     "name": "stderr",
     "output_type": "stream",
     "text": [
      "100%|██████████████████████████████████████████████████████████████████████▋| 238134/239040 [14:37:45<08:15,  1.83it/s]"
     ]
    },
    {
     "name": "stdout",
     "output_type": "stream",
     "text": [
      "Cannot check for SPDIF\n",
      "Cannot check for SPDIF\n",
      "Cannot check for SPDIF\n",
      "Cannot check for SPDIF\n"
     ]
    },
    {
     "name": "stderr",
     "output_type": "stream",
     "text": [
      "100%|██████████████████████████████████████████████████████████████████████▋| 238184/239040 [14:37:52<02:48,  5.08it/s]"
     ]
    },
    {
     "name": "stdout",
     "output_type": "stream",
     "text": [
      "Cannot check for SPDIF\n",
      "Cannot check for SPDIF\n",
      "Cannot check for SPDIF\n",
      "Cannot check for SPDIF\n"
     ]
    },
    {
     "name": "stderr",
     "output_type": "stream",
     "text": [
      "100%|██████████████████████████████████████████████████████████████████████▊| 238239/239040 [14:38:00<01:27,  9.15it/s]"
     ]
    },
    {
     "name": "stdout",
     "output_type": "stream",
     "text": [
      "Cannot check for SPDIF\n",
      "Cannot check for SPDIF\n",
      "Cannot check for SPDIF\n",
      "Cannot check for SPDIF\n"
     ]
    },
    {
     "name": "stderr",
     "output_type": "stream",
     "text": [
      "100%|██████████████████████████████████████████████████████████████████████▊| 238274/239040 [14:38:07<02:11,  5.81it/s]"
     ]
    },
    {
     "name": "stdout",
     "output_type": "stream",
     "text": [
      "Cannot check for SPDIF\n",
      "Cannot check for SPDIF\n"
     ]
    },
    {
     "name": "stderr",
     "output_type": "stream",
     "text": [
      "\r",
      "100%|██████████████████████████████████████████████████████████████████████▊| 238277/239040 [14:38:07<01:41,  7.54it/s]"
     ]
    },
    {
     "name": "stdout",
     "output_type": "stream",
     "text": [
      "Cannot check for SPDIF\n",
      "Cannot check for SPDIF\n"
     ]
    },
    {
     "name": "stderr",
     "output_type": "stream",
     "text": [
      "100%|██████████████████████████████████████████████████████████████████████▊| 238431/239040 [14:38:35<05:47,  1.75it/s]"
     ]
    },
    {
     "name": "stdout",
     "output_type": "stream",
     "text": [
      "Cannot check for SPDIF\n",
      "Cannot check for SPDIF\n",
      "Cannot check for SPDIF\n",
      "Cannot check for SPDIF\n"
     ]
    },
    {
     "name": "stderr",
     "output_type": "stream",
     "text": [
      "100%|██████████████████████████████████████████████████████████████████████▊| 238551/239040 [14:38:48<00:27, 18.05it/s]"
     ]
    },
    {
     "name": "stdout",
     "output_type": "stream",
     "text": [
      "Cannot check for SPDIF\n",
      "Cannot check for SPDIF\n",
      "Cannot check for SPDIF\n",
      "Cannot check for SPDIF\n"
     ]
    },
    {
     "name": "stderr",
     "output_type": "stream",
     "text": [
      "100%|██████████████████████████████████████████████████████████████████████▉| 238854/239040 [14:39:30<00:10, 18.21it/s]"
     ]
    },
    {
     "name": "stdout",
     "output_type": "stream",
     "text": [
      "Cannot check for SPDIF\n",
      "Cannot check for SPDIF\n",
      "Cannot check for SPDIF\n",
      "Cannot check for SPDIF\n"
     ]
    },
    {
     "name": "stderr",
     "output_type": "stream",
     "text": [
      "100%|██████████████████████████████████████████████████████████████████████▉| 238903/239040 [14:39:36<00:05, 26.80it/s]"
     ]
    },
    {
     "name": "stdout",
     "output_type": "stream",
     "text": [
      "Cannot check for SPDIF\n",
      "Cannot check for SPDIF\n",
      "Cannot check for SPDIF\n",
      "Cannot check for SPDIF\n"
     ]
    },
    {
     "name": "stderr",
     "output_type": "stream",
     "text": [
      "100%|███████████████████████████████████████████████████████████████████████| 239040/239040 [14:39:58<00:00,  4.53it/s]\n"
     ]
    }
   ],
   "source": [
    "import time\n",
    "with ds:\n",
    "#     for i in tqdm(range(5)):\n",
    "    for i in tqdm(range(len(filenames))):\n",
    "        \n",
    "        ds.audio.append(hub.read(filenames[i]))"
   ]
  },
  {
   "cell_type": "code",
   "execution_count": 7,
   "id": "60124493",
   "metadata": {},
   "outputs": [
    {
     "data": {
      "text/plain": [
       "Sample(is_lazy=True, path=wav_16khz/f/ffffa20c63fb782ebb6b68180e430c8b.3.20.wav)"
      ]
     },
     "execution_count": 7,
     "metadata": {},
     "output_type": "execute_result"
    }
   ],
   "source": [
    "y= hub.read(filenames[i])\n",
    "y"
   ]
  },
  {
   "cell_type": "code",
   "execution_count": null,
   "id": "7b706b3e",
   "metadata": {},
   "outputs": [],
   "source": [
    "# import numpy as np\n",
    "# with ds:\n",
    "#     for i in range(10):  # 1000 random images\n",
    "#         random_image = np.random.randint(0, 256, (100, 100, 3))  # 100x100 image with 3 channels\n",
    "#         ds.images.append(random_image.astype(np.uint8))\n",
    "#         ds.audio.append(hub.read(filenames[i]))"
   ]
  },
  {
   "cell_type": "code",
   "execution_count": 2,
   "id": "812ddb68",
   "metadata": {},
   "outputs": [
    {
     "name": "stdout",
     "output_type": "stream",
     "text": [
      "hub://lucashueda/lmd_processed loaded successfully.\n",
      "This dataset can be visualized in Jupyter Notebook by ds.visualize() or at https://app.activeloop.ai/lucashueda/lmd_processed\n"
     ]
    }
   ],
   "source": [
    "ds_ = hub.load('hub://lucashueda/lmd_processed')\n",
    "\n",
    "# ds_.visualize()"
   ]
  },
  {
   "cell_type": "code",
   "execution_count": 10,
   "id": "c95a58ce",
   "metadata": {},
   "outputs": [
    {
     "ename": "InvalidKeyTypeError",
     "evalue": "Item 'wav_16khz/f/ffffa20c63fb782ebb6b68180e430c8b.3.20.wav' of type 'str' is not a valid key.",
     "output_type": "error",
     "traceback": [
      "\u001b[1;31m---------------------------------------------------------------------------\u001b[0m",
      "\u001b[1;31mInvalidKeyTypeError\u001b[0m                       Traceback (most recent call last)",
      "Input \u001b[1;32mIn [10]\u001b[0m, in \u001b[0;36m<cell line: 1>\u001b[1;34m()\u001b[0m\n\u001b[1;32m----> 1\u001b[0m \u001b[43mds_\u001b[49m\u001b[38;5;241;43m.\u001b[39;49m\u001b[43maudio\u001b[49m\u001b[43m[\u001b[49m\u001b[38;5;124;43m'\u001b[39;49m\u001b[38;5;124;43mwav_16khz/f/ffffa20c63fb782ebb6b68180e430c8b.3.20.wav\u001b[39;49m\u001b[38;5;124;43m'\u001b[39;49m\u001b[43m]\u001b[49m\n",
      "File \u001b[1;32m~\\Anaconda3\\envs\\project\\lib\\site-packages\\hub\\core\\tensor.py:553\u001b[0m, in \u001b[0;36mTensor.__getitem__\u001b[1;34m(self, item, is_iteration)\u001b[0m\n\u001b[0;32m    547\u001b[0m \u001b[38;5;28;01mdef\u001b[39;00m \u001b[38;5;21m__getitem__\u001b[39m(\n\u001b[0;32m    548\u001b[0m     \u001b[38;5;28mself\u001b[39m,\n\u001b[0;32m    549\u001b[0m     item: Union[\u001b[38;5;28mint\u001b[39m, \u001b[38;5;28mslice\u001b[39m, List[\u001b[38;5;28mint\u001b[39m], Tuple[Union[\u001b[38;5;28mint\u001b[39m, \u001b[38;5;28mslice\u001b[39m, Tuple[\u001b[38;5;28mint\u001b[39m]]], Index],\n\u001b[0;32m    550\u001b[0m     is_iteration: \u001b[38;5;28mbool\u001b[39m \u001b[38;5;241m=\u001b[39m \u001b[38;5;28;01mFalse\u001b[39;00m,\n\u001b[0;32m    551\u001b[0m ):\n\u001b[0;32m    552\u001b[0m     \u001b[38;5;28;01mif\u001b[39;00m \u001b[38;5;129;01mnot\u001b[39;00m \u001b[38;5;28misinstance\u001b[39m(item, (\u001b[38;5;28mint\u001b[39m, \u001b[38;5;28mslice\u001b[39m, \u001b[38;5;28mlist\u001b[39m, \u001b[38;5;28mtuple\u001b[39m, Index)):\n\u001b[1;32m--> 553\u001b[0m         \u001b[38;5;28;01mraise\u001b[39;00m InvalidKeyTypeError(item)\n\u001b[0;32m    554\u001b[0m     \u001b[38;5;28;01mreturn\u001b[39;00m Tensor(\n\u001b[0;32m    555\u001b[0m         \u001b[38;5;28mself\u001b[39m\u001b[38;5;241m.\u001b[39mkey,\n\u001b[0;32m    556\u001b[0m         \u001b[38;5;28mself\u001b[39m\u001b[38;5;241m.\u001b[39mdataset,\n\u001b[1;32m   (...)\u001b[0m\n\u001b[0;32m    559\u001b[0m         chunk_engine\u001b[38;5;241m=\u001b[39m\u001b[38;5;28mself\u001b[39m\u001b[38;5;241m.\u001b[39mchunk_engine,\n\u001b[0;32m    560\u001b[0m     )\n",
      "\u001b[1;31mInvalidKeyTypeError\u001b[0m: Item 'wav_16khz/f/ffffa20c63fb782ebb6b68180e430c8b.3.20.wav' of type 'str' is not a valid key."
     ]
    }
   ],
   "source": [
    "ds_.audio['wav_16khz/f/ffffa20c63fb782ebb6b68180e430c8b.3.20.wav']"
   ]
  },
  {
   "cell_type": "code",
   "execution_count": null,
   "id": "d462b5e4",
   "metadata": {},
   "outputs": [],
   "source": []
  }
 ],
 "metadata": {
  "kernelspec": {
   "display_name": "project",
   "language": "python",
   "name": "project"
  },
  "language_info": {
   "codemirror_mode": {
    "name": "ipython",
    "version": 3
   },
   "file_extension": ".py",
   "mimetype": "text/x-python",
   "name": "python",
   "nbconvert_exporter": "python",
   "pygments_lexer": "ipython3",
   "version": "3.10.4"
  }
 },
 "nbformat": 4,
 "nbformat_minor": 5
}
