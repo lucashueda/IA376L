{
 "cells": [
  {
   "cell_type": "markdown",
   "metadata": {},
   "source": [
    "# Artificial test set preparation\n",
    "\n",
    "This notebook prepares the synthetic test set based on the Lakh MIDI Dataset (LMD). Run `../note_seq/prepare.ipynb` and `../audio_train/prepare.ipynb` first.\n",
    "\n",
    "Copyright 2020 InterDigital R&D and Télécom Paris.  \n",
    "Author: Ondřej Cífka"
   ]
  },
  {
   "cell_type": "code",
   "execution_count": 1,
   "metadata": {},
   "outputs": [],
   "source": [
    "import collections\n",
    "import concurrent.futures as cf\n",
    "import copy\n",
    "import glob\n",
    "import hashlib\n",
    "import itertools\n",
    "import json\n",
    "import os\n",
    "import pickle\n",
    "import random\n",
    "import re\n",
    "import shutil\n",
    "import sys\n",
    "\n",
    "import IPython.display as ipd\n",
    "import librosa\n",
    "from natsort import natsorted, ns\n",
    "import note_seq\n",
    "import numpy as np\n",
    "import matplotlib.pyplot as plt\n",
    "import pretty_midi\n",
    "import pysndfx\n",
    "import soundfile as sf\n",
    "from sklearn.model_selection import train_test_split\n",
    "from tqdm.auto import tqdm"
   ]
  },
  {
   "cell_type": "code",
   "execution_count": 2,
   "metadata": {},
   "outputs": [],
   "source": [
    "INPUT_DIR = '../note_seq/data/'\n",
    "INPUT_SECTION = 'test'  # 'val'\n",
    "OUTPUT_SUFFIX = ''  # '_val'\n",
    "OUTPUT_DIR = 'wav_16kHz' + OUTPUT_SUFFIX\n",
    "TOTAL_FILES = 169556\n",
    "SR = 16000\n",
    "SF_PATH = '/data/ocifka/id_bkp/data/soundfonts/TimbresOfHeaven/Timbres Of Heaven (XGM) 3.94.sf2'"
   ]
  },
  {
   "cell_type": "code",
   "execution_count": 3,
   "metadata": {},
   "outputs": [],
   "source": [
    "def filter_sequence(sequence, instrument_re=None, instrument_ids=None, programs=None, drums=None,\n",
    "                    copy=False):\n",
    "    if copy:\n",
    "        sequence, original_sequence = note_seq.NoteSequence(), sequence\n",
    "        sequence.CopyFrom(original_sequence)\n",
    "\n",
    "    if isinstance(instrument_re, str):\n",
    "        instrument_re = re.compile(instrument_re)\n",
    "\n",
    "    # Filter the instruments based on name and ID\n",
    "    deleted_ids = set()\n",
    "    if instrument_re is not None:\n",
    "        deleted_ids.update(i.instrument for i in sequence.instrument_infos\n",
    "                           if not instrument_re.search(i.name))\n",
    "    if instrument_ids is not None:\n",
    "        deleted_ids.update(i.instrument for i in sequence.instrument_infos\n",
    "                           if i.instrument not in instrument_ids)\n",
    "    new_infos = [i for i in sequence.instrument_infos if i.instrument not in deleted_ids]\n",
    "    del sequence.instrument_infos[:]\n",
    "    sequence.instrument_infos.extend(new_infos)\n",
    "\n",
    "    # Filter the event collections\n",
    "    for collection in [sequence.notes, sequence.pitch_bends, sequence.control_changes]:\n",
    "        collection_copy = list(collection)\n",
    "        del collection[:]\n",
    "\n",
    "        for event in collection_copy:\n",
    "            if event.instrument in deleted_ids:\n",
    "                continue\n",
    "            if instrument_ids is not None and event.instrument not in instrument_ids:\n",
    "                continue\n",
    "            if programs is not None and event.program not in programs:\n",
    "                continue\n",
    "            if drums is not None and event.is_drum != drums:\n",
    "                continue\n",
    "            collection.add().CopyFrom(event)\n",
    "\n",
    "    return sequence"
   ]
  },
  {
   "cell_type": "code",
   "execution_count": 4,
   "metadata": {},
   "outputs": [],
   "source": [
    "def compute_stats(pm):\n",
    "    piano_roll = ~np.isclose(pm.get_piano_roll(fs=100), 0)\n",
    "    num_voices = piano_roll.sum(axis=0)\n",
    "    pitches, _ = np.where(piano_roll)\n",
    "\n",
    "    return {\n",
    "        'voices': num_voices.sum() / ((num_voices > 0).sum() + 1e-9),\n",
    "        'pitch.mean': np.mean(pitches),\n",
    "        'pitch.low': np.percentile(pitches, 5),\n",
    "        'pitch.high': np.percentile(pitches, 95),\n",
    "        'program': instr.program\n",
    "    }"
   ]
  },
  {
   "cell_type": "code",
   "execution_count": 5,
   "metadata": {},
   "outputs": [],
   "source": [
    "with open('../audio_train/metadata.json') as f:\n",
    "    src_metadata = json.load(f)[INPUT_SECTION]\n",
    "    src_paths = [item['src_path'] for item in src_metadata.values()]"
   ]
  },
  {
   "cell_type": "code",
   "execution_count": 6,
   "metadata": {},
   "outputs": [
    {
     "data": {
      "application/vnd.jupyter.widget-view+json": {
       "model_id": "797a2ecf4dc146e3b4c3c445aa088264",
       "version_major": 2,
       "version_minor": 0
      },
      "text/plain": [
       "HBox(children=(FloatProgress(value=0.0, max=1201.0), HTML(value='')))"
      ]
     },
     "metadata": {},
     "output_type": "display_data"
    },
    {
     "name": "stdout",
     "output_type": "stream",
     "text": [
      "\n"
     ]
    }
   ],
   "source": [
    "all_stats = collections.defaultdict(list)\n",
    "for path in tqdm(src_paths):\n",
    "    with open(os.path.join(INPUT_DIR, path), 'rb') as f:\n",
    "        ns = pickle.load(f)\n",
    "    pm = note_seq.midi_io.note_sequence_to_pretty_midi(ns)\n",
    "\n",
    "    for instr in pm.instruments:\n",
    "        if instr.is_drum:\n",
    "            continue\n",
    "        for k, v in compute_stats(instr).items():\n",
    "            all_stats[k].append(v)"
   ]
  },
  {
   "cell_type": "code",
   "execution_count": 7,
   "metadata": {},
   "outputs": [
    {
     "data": {
      "image/png": "[encoded data removed]",
      "text/plain": [
       "<Figure size 432x288 with 1 Axes>"
      ]
     },
     "metadata": {
      "needs_background": "light"
     },
     "output_type": "display_data"
    }
   ],
   "source": [
    "plt.hist(all_stats['voices'], bins=np.linspace(0.5, 10.5, 101))\n",
    "plt.xticks(np.linspace(0, 10, 11))\n",
    "plt.show()"
   ]
  },
  {
   "cell_type": "code",
   "execution_count": 8,
   "metadata": {},
   "outputs": [
    {
     "data": {
      "text/plain": [
       "(1.1633061824006992, 62.81107256432495)"
      ]
     },
     "execution_count": 8,
     "metadata": {},
     "output_type": "execute_result"
    }
   ],
   "source": [
    "np.median(all_stats['voices']), np.median(all_stats['pitch.mean'])"
   ]
  },
  {
   "cell_type": "code",
   "execution_count": 9,
   "metadata": {},
   "outputs": [
    {
     "data": {
      "image/png": "[encoded data removed]",
      "text/plain": [
       "<Figure size 432x288 with 1 Axes>"
      ]
     },
     "metadata": {
      "needs_background": "light"
     },
     "output_type": "display_data"
    }
   ],
   "source": [
    "plt.hist(all_stats['pitch.mean'], bins=np.linspace(0, 128, 129))\n",
    "plt.show()"
   ]
  },
  {
   "cell_type": "code",
   "execution_count": 10,
   "metadata": {},
   "outputs": [
    {
     "data": {
      "image/png": "[encoded data removed]",
      "text/plain": [
       "<Figure size 432x288 with 2 Axes>"
      ]
     },
     "metadata": {
      "needs_background": "light"
     },
     "output_type": "display_data"
    },
    {
     "data": {
      "text/plain": [
       "array([[   6,    4,    1,   85,  685,  456,  541,  913, 1552,  724,  171,\n",
       "          42,    7,    2,    0,    0],\n",
       "       [   0,    0,    0,    0,   23,   87,  261,  560,  573,  243,   68,\n",
       "           7,    0,    1,    0,    0],\n",
       "       [   0,    0,    0,    1,    1,   11,  165,  589,  334,   99,   20,\n",
       "           8,    1,    0,    0,    0],\n",
       "       [   0,    0,    0,    1,    4,    2,   70,  225,   75,   31,    2,\n",
       "           0,    0,    0,    0,    0],\n",
       "       [   0,    0,    0,    0,    0,    1,   25,   64,   19,    5,    0,\n",
       "           0,    0,    0,    0,    1]])"
      ]
     },
     "execution_count": 10,
     "metadata": {},
     "output_type": "execute_result"
    }
   ],
   "source": [
    "hist, _, _, _ = plt.hist2d(all_stats['voices'], all_stats['pitch.mean'], bins=[np.linspace(0.5, 5.5, 6), np.linspace(0, 128, 17)])\n",
    "plt.colorbar()\n",
    "plt.show()\n",
    "hist.round().astype('int')"
   ]
  },
  {
   "cell_type": "code",
   "execution_count": 11,
   "metadata": {},
   "outputs": [
    {
     "data": {
      "image/png": "[encoded data removed]",
      "text/plain": [
       "<Figure size 432x288 with 2 Axes>"
      ]
     },
     "metadata": {
      "needs_background": "light"
     },
     "output_type": "display_data"
    }
   ],
   "source": [
    "hist, _, _, _ = plt.hist2d(all_stats['program'], all_stats['pitch.mean'], bins=[np.linspace(0, 128, 129), np.linspace(0, 128, 17)])\n",
    "plt.colorbar()\n",
    "plt.show()"
   ]
  },
  {
   "cell_type": "code",
   "execution_count": 12,
   "metadata": {},
   "outputs": [
    {
     "data": {
      "image/png": "[encoded data removed]",
      "text/plain": [
       "<Figure size 432x288 with 2 Axes>"
      ]
     },
     "metadata": {
      "needs_background": "light"
     },
     "output_type": "display_data"
    },
    {
     "data": {
      "text/plain": [
       "array([[2191, 2227],\n",
       "       [2227, 2192]])"
      ]
     },
     "execution_count": 12,
     "metadata": {},
     "output_type": "execute_result"
    }
   ],
   "source": [
    "hist, _, _, _ = plt.hist2d(all_stats['voices'], all_stats['pitch.mean'],\n",
    "                           bins=[np.quantile(all_stats['voices'], [0., 0.5, 1.]),\n",
    "                                 np.quantile(all_stats['pitch.mean'], [0., 0.5, 1.])],\n",
    "                           vmin=0)\n",
    "plt.colorbar()\n",
    "plt.show()\n",
    "hist.round().astype('int')"
   ]
  },
  {
   "cell_type": "code",
   "execution_count": 13,
   "metadata": {},
   "outputs": [
    {
     "data": {
      "application/vnd.jupyter.widget-view+json": {
       "model_id": "a6d1d8b5f909479ba1a5184e8fd4b53c",
       "version_major": 2,
       "version_minor": 0
      },
      "text/plain": [
       "HBox(children=(FloatProgress(value=0.0, max=1201.0), HTML(value='')))"
      ]
     },
     "metadata": {},
     "output_type": "display_data"
    },
    {
     "name": "stdout",
     "output_type": "stream",
     "text": [
      "\n"
     ]
    }
   ],
   "source": [
    "voices_bins = np.quantile(all_stats['voices'], [0., 0.5, 1.])\n",
    "pitch_bins = np.quantile(all_stats['pitch.mean'], [0., 0.5, 1.])\n",
    "\n",
    "def assign_bin(a, bins):\n",
    "    n = np.digitize(a, bins)\n",
    "    return np.clip(n, a_min=1, a_max=len(bins) - 1)\n",
    "\n",
    "binned = collections.defaultdict(list)\n",
    "for path in tqdm(src_paths):\n",
    "    with open(os.path.join(INPUT_DIR, path), 'rb') as f:\n",
    "        ns_full = pickle.load(f)\n",
    "    ns_full.filename = path\n",
    "    if not ns_full.instrument_infos:\n",
    "        continue\n",
    "    max_instrument = max(ii.instrument for ii in ns_full.instrument_infos)\n",
    "\n",
    "    for instrument, program in sorted(set((n.instrument, n.program) for n in ns_full.notes if not n.is_drum)):\n",
    "        ns = filter_sequence(ns_full, instrument_ids={instrument}, copy=True)\n",
    "        meta = {\n",
    "            'src_path': path,\n",
    "            'instrument': instrument,\n",
    "            'src_program': program\n",
    "        }\n",
    "\n",
    "        stats = compute_stats(note_seq.midi_io.note_sequence_to_pretty_midi(ns))\n",
    "        bin_key = 'voices{}_pitch{}'.format(assign_bin(stats['voices'], voices_bins),\n",
    "                                            assign_bin(stats['pitch.mean'], pitch_bins))\n",
    "        binned[bin_key].append((ns, meta))\n",
    "binned = dict(binned)"
   ]
  },
  {
   "cell_type": "code",
   "execution_count": 14,
   "metadata": {},
   "outputs": [],
   "source": [
    "def synth_ns(ns, out_path):\n",
    "    audio = note_seq.midi_synth.fluidsynth(ns, sf2_path=SF_PATH, sample_rate=SR)\n",
    "    if len(audio) < 1 * SR:  # Skip if shorter than 1 second\n",
    "        return False\n",
    "    os.makedirs(os.path.dirname(out_path), exist_ok=True)\n",
    "    sf.write(out_path, audio, SR, subtype='PCM_24')\n",
    "    return True"
   ]
  },
  {
   "cell_type": "code",
   "execution_count": 15,
   "metadata": {
    "scrolled": false
   },
   "outputs": [
    {
     "data": {
      "application/vnd.jupyter.widget-view+json": {
       "model_id": "78e8c64cd28f4e4d88298857ea38c894",
       "version_major": 2,
       "version_minor": 0
      },
      "text/plain": [
       "HBox(children=(FloatProgress(value=0.0, max=4.0), HTML(value='')))"
      ]
     },
     "metadata": {},
     "output_type": "display_data"
    },
    {
     "data": {
      "application/vnd.jupyter.widget-view+json": {
       "model_id": "60dee5d20d9a411089960ce5f7b3690f",
       "version_major": 2,
       "version_minor": 0
      },
      "text/plain": [
       "HBox(children=(FloatProgress(value=0.0, description='voices1_pitch1', max=513.0, style=ProgressStyle(descripti…"
      ]
     },
     "metadata": {},
     "output_type": "display_data"
    },
    {
     "name": "stdout",
     "output_type": "stream",
     "text": [
      "\n"
     ]
    },
    {
     "data": {
      "application/vnd.jupyter.widget-view+json": {
       "model_id": "bd7ac35797714e4a9135301fd26f5145",
       "version_major": 2,
       "version_minor": 0
      },
      "text/plain": [
       "HBox(children=(FloatProgress(value=0.0, description='voices1_pitch2', max=609.0, style=ProgressStyle(descripti…"
      ]
     },
     "metadata": {},
     "output_type": "display_data"
    },
    {
     "name": "stdout",
     "output_type": "stream",
     "text": [
      "\n"
     ]
    },
    {
     "data": {
      "application/vnd.jupyter.widget-view+json": {
       "model_id": "0bdc5c49cced4e68ae6a03b52b5b31be",
       "version_major": 2,
       "version_minor": 0
      },
      "text/plain": [
       "HBox(children=(FloatProgress(value=0.0, description='voices2_pitch1', max=498.0, style=ProgressStyle(descripti…"
      ]
     },
     "metadata": {},
     "output_type": "display_data"
    },
    {
     "name": "stdout",
     "output_type": "stream",
     "text": [
      "\n"
     ]
    },
    {
     "data": {
      "application/vnd.jupyter.widget-view+json": {
       "model_id": "47a3db5eee0544848c56c4fdb3b057e6",
       "version_major": 2,
       "version_minor": 0
      },
      "text/plain": [
       "HBox(children=(FloatProgress(value=0.0, description='voices2_pitch2', max=558.0, style=ProgressStyle(descripti…"
      ]
     },
     "metadata": {},
     "output_type": "display_data"
    },
    {
     "name": "stdout",
     "output_type": "stream",
     "text": [
      "\n",
      "\n",
      "Saved 721 triplets\n"
     ]
    }
   ],
   "source": [
    "MAX_PER_PROGRAM = 4\n",
    "\n",
    "metadata = {}\n",
    "for bin_key in tqdm(sorted(binned.keys())):\n",
    "    shuffled = np.random.default_rng(seed=0).choice(binned[bin_key], len(binned[bin_key]), replace=False)\n",
    "    \n",
    "    # Generate segments\n",
    "    segments_by_program = collections.defaultdict(list)\n",
    "    for ns, meta in shuffled:\n",
    "        if len(segments_by_program[meta['src_program']]) >= MAX_PER_PROGRAM:\n",
    "            continue\n",
    "\n",
    "        # Use filename as seed\n",
    "        seed = meta['src_path'].encode()\n",
    "        seed = int.from_bytes(hashlib.sha512(seed).digest(), 'big')\n",
    "        rng = np.random.default_rng(seed=seed)\n",
    "\n",
    "        # Pick a non-silent segment\n",
    "        boundaries = np.arange(0., ns.total_time, 1.)  # 1-second chunks\n",
    "        onset_counts, _ = np.histogram([n.start_time for n in ns.notes], bins=boundaries)\n",
    "        cumsum = np.cumsum(onset_counts > 0)\n",
    "        [candidates] = np.nonzero(\n",
    "            (onset_counts[:-7] > 0)  # The first second needs to have an onset\n",
    "            & (cumsum[7:] - np.pad(cumsum[:-8], (1, 0)) >= 4))  # & at least 4 of 8 seconds need to have an onset\n",
    "        if len(candidates) == 0:\n",
    "            continue\n",
    "        index = rng.choice(candidates)\n",
    "\n",
    "        segment = note_seq.sequences_lib.extract_subsequence(ns, index, index + 8)\n",
    "        segment_meta = {\n",
    "            'src_path': meta['src_path'],\n",
    "            'program': meta['src_program'],\n",
    "            'instrument': meta['instrument'],\n",
    "            'index': index\n",
    "        }\n",
    "        segments_by_program[meta['src_program']].append((segment, segment_meta))\n",
    "\n",
    "    # Pair up segments so that we have two different programs in each pair. Synthesize audio.\n",
    "    rng = np.random.default_rng(seed=0)\n",
    "    with cf.ProcessPoolExecutor(16) as pool:\n",
    "        futures = {}\n",
    "        num_pairs = sum(len(x) for x in segments_by_program.values()) // 2\n",
    "        for _ in range(num_pairs):\n",
    "            avail_programs = [p for p, v in segments_by_program.items() if len(v) > 0]\n",
    "            if len(avail_programs) < 2:\n",
    "                break\n",
    "            p1, p2 = rng.choice(avail_programs, 2, replace=False)\n",
    "            (ns1, meta1), (ns2, meta2) = segments_by_program[p1].pop(), segments_by_program[p2].pop()\n",
    "\n",
    "            # Create style transfer target (ground truth)\n",
    "            ns3 = copy.deepcopy(ns1)\n",
    "            for note in ns3.notes:\n",
    "                note.program = meta2['program']\n",
    "\n",
    "            meta = {\n",
    "                'content': meta1,\n",
    "                'style': meta2,\n",
    "                'target': {\n",
    "                    'src_path': meta1['src_path'],\n",
    "                    'index': meta1['index'],\n",
    "                    'program': meta2['program']\n",
    "                }\n",
    "            }\n",
    "            digest = hashlib.md5(repr(meta).encode()).hexdigest()\n",
    "            meta['content']['path'] = f'{bin_key}/{digest}.content.wav'\n",
    "            meta['style']['path'] = f'{bin_key}/{digest}.style.wav'\n",
    "            meta['target']['path'] = f'{bin_key}/{digest}.target.wav'\n",
    "            assert digest not in metadata\n",
    "            metadata[digest] = meta\n",
    "\n",
    "            for ns, name in [(ns1, 'content'), (ns2, 'style'), (ns3, 'target')]:\n",
    "                out_path = os.path.join(OUTPUT_DIR, meta[name]['path'])\n",
    "                futures[pool.submit(synth_ns, ns, out_path)] = digest\n",
    "        \n",
    "        for future in tqdm(cf.as_completed(futures), total=len(futures), desc=bin_key):\n",
    "            if not future.result():\n",
    "                digest = futures[future]\n",
    "                for name in metadata[digest]:\n",
    "                    path = metadata[digest][name]['path']\n",
    "                    if os.path.exists(path):\n",
    "                        os.remove(path)\n",
    "                del metadata[digest]\n",
    "\n",
    "print(f'Saved {len(metadata)} triplets')"
   ]
  },
  {
   "cell_type": "code",
   "execution_count": 16,
   "metadata": {},
   "outputs": [],
   "source": [
    "class NumPyJSONEncoder(json.JSONEncoder):\n",
    "    def default(self, x):\n",
    "        if isinstance(x, (np.ndarray, np.generic)):\n",
    "            return x.tolist()\n",
    "        else:\n",
    "            return super().default(x)"
   ]
  },
  {
   "cell_type": "code",
   "execution_count": 17,
   "metadata": {},
   "outputs": [],
   "source": [
    "with open(f'metadata{OUTPUT_SUFFIX}.json', 'w') as f:\n",
    "    json.dump(metadata, f, cls=NumPyJSONEncoder)"
   ]
  },
  {
   "cell_type": "code",
   "execution_count": 18,
   "metadata": {},
   "outputs": [],
   "source": [
    "with open(f'triplets{OUTPUT_SUFFIX}', 'w') as f:\n",
    "    for _, meta in sorted(metadata.items()):\n",
    "        print(os.path.join(OUTPUT_DIR, meta['content']['path']),\n",
    "              os.path.join(OUTPUT_DIR, meta['style']['path']),\n",
    "              os.path.join(OUTPUT_DIR, meta['target']['path']),\n",
    "              sep='\\t', file=f)"
   ]
  },
  {
   "cell_type": "code",
   "execution_count": 19,
   "metadata": {},
   "outputs": [],
   "source": [
    "!cut -f 1,2 <triplets{OUTPUT_SUFFIX} >pairs{OUTPUT_SUFFIX}"
   ]
  },
  {
   "cell_type": "code",
   "execution_count": 20,
   "metadata": {},
   "outputs": [
    {
     "name": "stdout",
     "output_type": "stream",
     "text": [
      "   721 triplets\r\n",
      "   721 pairs\r\n",
      "  1442 total\r\n"
     ]
    }
   ],
   "source": [
    "!wc -l triplets* pairs*"
   ]
  }
 ],
 "metadata": {
  "kernelspec": {
   "display_name": "Python 3 (ipykernel)",
   "language": "python",
   "name": "python3"
  },
  "language_info": {
   "codemirror_mode": {
    "name": "ipython",
    "version": 3
   },
   "file_extension": ".py",
   "mimetype": "text/x-python",
   "name": "python",
   "nbconvert_exporter": "python",
   "pygments_lexer": "ipython3",
   "version": "3.10.4"
  }
 },
 "nbformat": 4,
 "nbformat_minor": 4
}
